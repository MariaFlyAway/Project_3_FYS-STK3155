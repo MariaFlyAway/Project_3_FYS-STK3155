{
 "cells": [
  {
   "cell_type": "code",
   "execution_count": 12,
   "metadata": {},
   "outputs": [],
   "source": [
    "import numpy as np\n",
    "import torch\n",
    "import torch.nn as nn\n",
    "from torch.utils.data import Dataset, DataLoader\n",
    "from torch.distributions.categorical import Categorical\n",
    "\n",
    "from textdataset import TextDataset\n",
    "from rnn import RNN"
   ]
  },
  {
   "cell_type": "code",
   "execution_count": 2,
   "metadata": {},
   "outputs": [
    {
     "name": "stdout",
     "output_type": "stream",
     "text": [
      "Total Length: 437417\n",
      "Unique Characters: 91\n"
     ]
    }
   ],
   "source": [
    "with open('../Texts/shelley.txt', 'r', encoding=\"utf8\") as fp:\n",
    "    text=fp.read()\n",
    "\n",
    "start_idx = text.find('_To Mrs. Saville')\n",
    "end_idx = text.find('End of the Project Gutenberg')\n",
    "\n",
    "text = text[start_idx:end_idx]\n",
    "char_set = set(text)\n",
    "print('Total Length:', len(text))\n",
    "print('Unique Characters:', len(char_set))"
   ]
  },
  {
   "cell_type": "code",
   "execution_count": 3,
   "metadata": {},
   "outputs": [
    {
     "name": "stdout",
     "output_type": "stream",
     "text": [
      "Text encoded shape: (437417,)\n",
      "_To Mrs. Savill == Encoding ==> [52 44 67  1 37 70 71 10  1 43 53 74 61 64 64]\n",
      "[57  8  1 29 66 59] == Reverse ==> e, Eng\n",
      "52 -> _\n",
      "44 -> T\n",
      "67 -> o\n",
      "1 ->  \n",
      "37 -> M\n"
     ]
    }
   ],
   "source": [
    "chars_sorted = sorted(char_set)\n",
    "char2int = {ch:i for i,ch in enumerate(chars_sorted)}\n",
    "char_array = np.array(chars_sorted)\n",
    "\n",
    "text_encoded = np.array(\n",
    "    [char2int[ch] for ch in text],\n",
    "    dtype=np.int32)\n",
    "\n",
    "print('Text encoded shape:', text_encoded.shape)\n",
    "\n",
    "print(text[:15], '== Encoding ==>', text_encoded[:15])\n",
    "print(text_encoded[15:21], '== Reverse ==>',\n",
    "      ''.join(char_array[text_encoded[15:21]]))\n",
    "\n",
    "for ex in text_encoded[:5]:\n",
    "    print('{} -> {}'.format(ex, char_array[ex]))"
   ]
  },
  {
   "cell_type": "code",
   "execution_count": 4,
   "metadata": {},
   "outputs": [
    {
     "name": "stdout",
     "output_type": "stream",
     "text": [
      "[52 44 67  1 37 70 71 10  1 43 53 74 61 64 64 57  8  1 29 66 59 64 53 66\n",
      " 56 10 52  0  0  0 43 72 10  1 40 57 72 57 70 71]  ->  54\n",
      "'_To Mrs. Saville, England._\\n\\n\\nSt. Peters'  ->  'b'\n",
      " Input (x):  '_To Mrs. Saville, England._\\n\\n\\nSt. Peters'\n",
      "Target (y):  'To Mrs. Saville, England._\\n\\n\\nSt. Petersb'\n",
      "\n",
      " Input (x):  'To Mrs. Saville, England._\\n\\n\\nSt. Petersb'\n",
      "Target (y):  'o Mrs. Saville, England._\\n\\n\\nSt. Petersbu'\n",
      "\n"
     ]
    }
   ],
   "source": [
    "seq_length = 40         # sequence length\n",
    "chunk_size = seq_length + 1\n",
    "text_chunks = [text_encoded[i:i+chunk_size]\n",
    "               for i in range(len(text_encoded)-chunk_size+1)]\n",
    "\n",
    "## inspection:\n",
    "for seq in text_chunks[:1]:\n",
    "    input_seq = seq[:seq_length]\n",
    "    target = seq[seq_length] \n",
    "    print(input_seq, ' -> ', target)\n",
    "    print(repr(''.join(char_array[input_seq])), \n",
    "          ' -> ', repr(''.join(char_array[target])))\n",
    "\n",
    "seq_dataset = TextDataset(torch.tensor(np.array(text_chunks)))\n",
    "\n",
    "for i, (seq, target) in enumerate(seq_dataset):\n",
    "    print(' Input (x): ',\n",
    "          repr(''.join(char_array[seq])))\n",
    "    print('Target (y): ',\n",
    "          repr(''.join(char_array[target])))\n",
    "    print()\n",
    "    if i == 1:\n",
    "        break"
   ]
  },
  {
   "cell_type": "code",
   "execution_count": 5,
   "metadata": {},
   "outputs": [],
   "source": [
    "device = 'cpu'"
   ]
  },
  {
   "cell_type": "code",
   "execution_count": 6,
   "metadata": {},
   "outputs": [],
   "source": [
    "batch_size = 64\n",
    "torch.manual_seed(1)\n",
    "seq_dl = DataLoader(seq_dataset, batch_size=batch_size, \n",
    "                    shuffle=True, drop_last=True)"
   ]
  },
  {
   "cell_type": "markdown",
   "metadata": {},
   "source": [
    "### Creating the model"
   ]
  },
  {
   "cell_type": "code",
   "execution_count": 7,
   "metadata": {},
   "outputs": [],
   "source": [
    "vocab_size = len(char_array)\n",
    "embed_dim = 256\n",
    "rnn_hidden_size = 512\n",
    "torch.manual_seed(1)\n",
    "model = RNN(vocab_size, embed_dim, rnn_hidden_size)\n",
    "\n",
    "# optimizer and loss\n",
    "loss_fn = nn.CrossEntropyLoss()\n",
    "optimizer = torch.optim.Adam(model.parameters(), lr=0.001)"
   ]
  },
  {
   "cell_type": "markdown",
   "metadata": {},
   "source": [
    "Training the model"
   ]
  },
  {
   "cell_type": "code",
   "execution_count": 8,
   "metadata": {},
   "outputs": [
    {
     "name": "stdout",
     "output_type": "stream",
     "text": [
      "Epoch 0 loss: 4.5124\n",
      "Epoch 500 loss: 1.6026\n",
      "Epoch 1000 loss: 1.4095\n",
      "Epoch 1500 loss: 1.3036\n",
      "Epoch 2000 loss: 1.2517\n",
      "Epoch 2500 loss: 1.2674\n",
      "Epoch 3000 loss: 1.1549\n",
      "Epoch 3500 loss: 1.1479\n",
      "Epoch 4000 loss: 1.0934\n",
      "Epoch 4500 loss: 1.0594\n",
      "Epoch 5000 loss: 1.0699\n",
      "Epoch 5500 loss: 0.9967\n",
      "Epoch 6000 loss: 0.9868\n",
      "Epoch 6500 loss: 0.9610\n",
      "Epoch 7000 loss: 0.9275\n",
      "Epoch 7500 loss: 0.9387\n",
      "Epoch 8000 loss: 0.8852\n",
      "Epoch 8500 loss: 0.8915\n",
      "Epoch 9000 loss: 0.8911\n",
      "Epoch 9500 loss: 0.8253\n"
     ]
    }
   ],
   "source": [
    "num_epochs = 10_000\n",
    "torch.manual_seed(1)\n",
    "\n",
    "for epoch in range(num_epochs):\n",
    "    hidden, cell = model.init_hidden(batch_size)\n",
    "    seq_batch, target_batch = next(iter(seq_dl))            # ?\n",
    "    seq_batch = seq_batch.to(device)\n",
    "    target_batch = target_batch.to(device)\n",
    "    optimizer.zero_grad()\n",
    "    \n",
    "    loss = 0\n",
    "    for c in range(seq_length):\n",
    "        pred, hidden, cell = model(seq_batch[:, c], hidden, cell)\n",
    "        loss += loss_fn(pred, target_batch[:, c])\n",
    "    loss.backward()\n",
    "    optimizer.step()\n",
    "    loss = loss.item() / seq_length\n",
    "    if epoch % 500 == 0:\n",
    "        print(f'Epoch {epoch} loss: {loss:.4f}')"
   ]
  },
  {
   "cell_type": "markdown",
   "metadata": {},
   "source": [
    "### Saving the model for later use"
   ]
  },
  {
   "cell_type": "code",
   "execution_count": 9,
   "metadata": {},
   "outputs": [],
   "source": [
    "path = 'shelley_generator.pt'\n",
    "torch.save(model, path)"
   ]
  },
  {
   "cell_type": "markdown",
   "metadata": {},
   "source": [
    "### Generating new text"
   ]
  },
  {
   "cell_type": "code",
   "execution_count": 18,
   "metadata": {},
   "outputs": [
    {
     "name": "stdout",
     "output_type": "stream",
     "text": [
      "Victor,\n",
      "but when I conjectured that the sun was of a calmer and let me for ever on the stars or the view of the black earth. Yet he threw human beings. Alas! I returned hopeless and the sea roared in a part of the\n",
      "ice had been accustomed, but you may have power to return to my labours. I took the instrument of my conversation,\n",
      "which by the greatest places of man. These every hand only one wandered in the world with a subject for me. Yet he had passed three entirely occapions of the neighbourhood of th\n"
     ]
    }
   ],
   "source": [
    "def sample(model, starting_str, \n",
    "           len_generated_text=500, \n",
    "           scale_factor=2.0):\n",
    "\n",
    "    encoded_input = torch.tensor([char2int[s] for s in starting_str])\n",
    "    encoded_input = torch.reshape(encoded_input, (1, -1))\n",
    "\n",
    "    generated_str = starting_str\n",
    "\n",
    "    model.eval()\n",
    "    hidden, cell = model.init_hidden(1)\n",
    "    hidden = hidden.to('cpu')\n",
    "    cell = cell.to('cpu')\n",
    "    for c in range(len(starting_str)-1):\n",
    "        _, hidden, cell = model(encoded_input[:, c].view(1), hidden, cell) \n",
    "    \n",
    "    last_char = encoded_input[:, -1]\n",
    "    for i in range(len_generated_text):\n",
    "        logits, hidden, cell = model(last_char.view(1), hidden, cell) \n",
    "        logits = torch.squeeze(logits, 0)\n",
    "        scaled_logits = logits * scale_factor\n",
    "        m = Categorical(logits=scaled_logits)\n",
    "        last_char = m.sample()\n",
    "        generated_str += str(char_array[last_char])\n",
    "        \n",
    "    return generated_str\n",
    "\n",
    "torch.manual_seed(1)\n",
    "model.to('cpu')\n",
    "print(sample(model, starting_str='Victor'))"
   ]
  }
 ],
 "metadata": {
  "kernelspec": {
   "display_name": "FYS-STK3155",
   "language": "python",
   "name": "python3"
  },
  "language_info": {
   "codemirror_mode": {
    "name": "ipython",
    "version": 3
   },
   "file_extension": ".py",
   "mimetype": "text/x-python",
   "name": "python",
   "nbconvert_exporter": "python",
   "pygments_lexer": "ipython3",
   "version": "3.12.3"
  }
 },
 "nbformat": 4,
 "nbformat_minor": 2
}
