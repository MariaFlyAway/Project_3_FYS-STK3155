{
 "cells": [
  {
   "cell_type": "code",
   "execution_count": 13,
   "metadata": {},
   "outputs": [],
   "source": [
    "import numpy as np\n",
    "import torch\n",
    "from torch.utils.data import Dataset, DataLoader\n",
    "from textdataset import TextDataset"
   ]
  },
  {
   "cell_type": "code",
   "execution_count": 2,
   "metadata": {},
   "outputs": [],
   "source": [
    "with open('../Texts/shelley.txt', 'r', encoding=\"utf-8\") as fp:\n",
    "    text=fp.read()\n",
    "\n",
    "start_idx = text.find('Letter 1\\n\\n')\n",
    "end_idx = text.find('End of the Project Gutenberg')\n",
    "text = text[start_idx:end_idx]\n",
    "char_set = set(text)"
   ]
  },
  {
   "cell_type": "code",
   "execution_count": 3,
   "metadata": {},
   "outputs": [
    {
     "name": "stdout",
     "output_type": "stream",
     "text": [
      "Text encoded shape: (437427,)\n",
      "Letter 1\n",
      "\n",
      "_To M == Encoding ==> [36 57 72 72 57 70  1 13  0  0 52 44 67  1 37]\n",
      "[70 71 10  1 43 53] == Reverse ==> rs. Sa\n",
      "36 -> L\n",
      "57 -> e\n",
      "72 -> t\n",
      "72 -> t\n",
      "57 -> e\n"
     ]
    }
   ],
   "source": [
    "chars_sorted = sorted(char_set)\n",
    "char2int = {ch:i for i,ch in enumerate(chars_sorted)}\n",
    "char_array = np.array(chars_sorted)\n",
    "text_encoded = np.array(\n",
    "    [char2int[ch] for ch in text],\n",
    "    dtype=np.int32\n",
    ")\n",
    "print('Text encoded shape:', text_encoded.shape)\n",
    "print(text[:15], '== Encoding ==>', text_encoded[:15])\n",
    "print(text_encoded[15:21], '== Reverse ==>',\n",
    "      ''.join(char_array[text_encoded[15:21]]))\n",
    "\n",
    "for ex in text_encoded[:5]:\n",
    "    print('{} -> {}'.format(ex, char_array[ex]))"
   ]
  },
  {
   "cell_type": "code",
   "execution_count": 5,
   "metadata": {},
   "outputs": [],
   "source": [
    "seq_length = 40         # sequence length\n",
    "chunk_size = seq_length + 1\n",
    "text_chunks = [text_encoded[i:i+chunk_size]\n",
    "               for i in range(len(text_encoded)-chunk_size)]"
   ]
  },
  {
   "cell_type": "code",
   "execution_count": 11,
   "metadata": {},
   "outputs": [
    {
     "name": "stdout",
     "output_type": "stream",
     "text": [
      " Input (x):  'Letter 1\\n\\n_To Mrs. Saville, England._\\n\\n\\n'\n",
      "Traget (y):  'etter 1\\n\\n_To Mrs. Saville, England._\\n\\n\\nS'\n",
      "\n",
      " Input (x):  'etter 1\\n\\n_To Mrs. Saville, England._\\n\\n\\nS'\n",
      "Traget (y):  'tter 1\\n\\n_To Mrs. Saville, England._\\n\\n\\nSt'\n",
      "\n"
     ]
    }
   ],
   "source": [
    "seq_dataset = TextDataset(torch.tensor(np.array(text_chunks)))\n",
    "\n",
    "for i, (seq, target) in enumerate(seq_dataset):\n",
    "    print(' Input (x): ',\n",
    "          repr(''.join(char_array[seq])))\n",
    "    print('Traget (y): ',\n",
    "          repr(''.join(char_array[target])))\n",
    "    print()\n",
    "    if i == 1:\n",
    "        break"
   ]
  },
  {
   "cell_type": "code",
   "execution_count": 14,
   "metadata": {},
   "outputs": [],
   "source": [
    "batch_size = 64\n",
    "torch.manual_seed(1)\n",
    "seq_dl = DataLoader(seq_dataset, batch_size=batch_size, \n",
    "                    shuffle=True, drop_last=True)"
   ]
  }
 ],
 "metadata": {
  "kernelspec": {
   "display_name": "fysstk3155",
   "language": "python",
   "name": "python3"
  },
  "language_info": {
   "codemirror_mode": {
    "name": "ipython",
    "version": 3
   },
   "file_extension": ".py",
   "mimetype": "text/x-python",
   "name": "python",
   "nbconvert_exporter": "python",
   "pygments_lexer": "ipython3",
   "version": "3.12.7"
  }
 },
 "nbformat": 4,
 "nbformat_minor": 2
}
