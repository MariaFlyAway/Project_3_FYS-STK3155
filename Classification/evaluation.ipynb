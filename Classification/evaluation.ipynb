{
 "cells": [
  {
   "cell_type": "code",
   "execution_count": 7,
   "metadata": {},
   "outputs": [],
   "source": [
    "import numpy as np\n",
    "import matplotlib.pyplot as plt\n",
    "import torch\n",
    "import os\n",
    "\n",
    "from torch.distributions.categorical import Categorical\n",
    "\n",
    "# Importing the transformer\n",
    "from sentence_transformers import SentenceTransformer\n",
    "model_name = \"mixedbread-ai/mxbai-embed-large-v1\" \n",
    "\"\"\"\n",
    "Change the default model here. To save the model locally, replace the path with your path and run this module.\n",
    "At the end of your path, add the name of the folder you want create for the model, eg. \".../local_model\"\n",
    "When you have downloaded the model, uncomment model_name = path to use the stored model.\n",
    "\"\"\"\n",
    "# path = \"C:/Users/jonas/OneDrive/Dokumenter/Python Scripts/embed/local_model_sentence_transformers\" # (example path / for my convenience)\n",
    "# model_name = path # Uncomment this line once you have downloaded the model.\n",
    "model = SentenceTransformer(model_name)"
   ]
  },
  {
   "cell_type": "code",
   "execution_count": 9,
   "metadata": {},
   "outputs": [],
   "source": [
    "# Helpers\n",
    "def preprocessing(filepath, text, end=False):\n",
    "    if 'austen' in filepath:\n",
    "        start = text.find(\"Chapter I.]\")\n",
    "        # potential other preprocessing\n",
    "\n",
    "    elif 'dostoyevsky' in filepath:\n",
    "        start = text.find(\"CHAPTER I\")\n",
    "\n",
    "    elif 'god' in filepath:\n",
    "        start = text.find(\"1:1\")\n",
    "        end = text.find(\"in the sight of all Israel.\") # Only old testament\n",
    "\n",
    "    elif 'kafka' in filepath:\n",
    "        start = text.find(\"Chapter One\")\n",
    "\n",
    "    elif 'shelley' in filepath:\n",
    "        start = text.find(\"_To\")\n",
    "\n",
    "    elif 'tolstoy' in filepath:\n",
    "        start = text.find(\"Chapter 1\")\n",
    "\n",
    "    elif 'sturluson' in filepath:\n",
    "        start = text.find(\"PREFACE OF SNORRE STURLASON.\")\n",
    "        end = text.find(\"SAGA OF HARALD HARDRADE.\") # Only Heimskringla\n",
    "        \n",
    "    elif 'cervantes' in filepath:\n",
    "        start = text.find(\"Idle reader:\")\n",
    "        end = text.find(\"Forse altro cantera con miglior plettro.\") # Only Volume I\n",
    "\n",
    "    elif 'brother_karamazov' in filepath:\n",
    "        start = text.find(\"Fyodor Pavlovitch Karamazov\")\n",
    "\n",
    "    elif 'sense_and_sensibility' in filepath:\n",
    "        start = text.find(\"CHAPTER I.\")\n",
    "\n",
    "    elif 'wells' in filepath:\n",
    "        start = text.find(\"Introduction\")\n",
    "\n",
    "    else:\n",
    "        raise Exception(\"This book is not in our library!\")\n",
    "    \n",
    "    if not end:\n",
    "        end = text.find(\"*** END\")\n",
    "    \n",
    "    return text[start:end]\n"
   ]
  },
  {
   "cell_type": "code",
   "execution_count": 26,
   "metadata": {},
   "outputs": [],
   "source": [
    "# importing the generators\n",
    "folder = \"..\"\n",
    "subfolder = \"Texts\"\n",
    "subfolder_generator = \"../Generation/Models_and_Data\"\n",
    "filenames = ['austen', 'dostoyevsky', 'god', 'cervantes', 'sturluson']\n",
    "paths = [os.path.join(subfolder_generator, author + '_generator.pt') for author in filenames]\n",
    "generators = [torch.load(path) for path in paths]\n",
    "\n",
    "# retrieving the 100 most used english words\n",
    "with open(\"common-words.txt\", encoding='utf-8') as infile:\n",
    "    words = infile.read().split()"
   ]
  },
  {
   "cell_type": "code",
   "execution_count": 11,
   "metadata": {},
   "outputs": [],
   "source": [
    "filepaths = [os.path.join(folder, subfolder, filename)+'.txt' for filename in filenames]\n",
    "\n",
    "char2int = []\n",
    "char_array = []\n",
    "for i, filepath in  enumerate(filepaths):\n",
    "    with open(filepath, encoding='utf-8') as infile:\n",
    "        text = preprocessing( filepath, infile.read() ) # list of words, preprocessed\n",
    "\n",
    "        char_set = set(text)\n",
    "        chars_sorted = sorted(char_set)\n",
    "        char2int.append({ch:j for j,ch in enumerate(chars_sorted)})\n",
    "        char_array.append(np.array(chars_sorted))\n",
    "\n",
    "\n",
    "def sample(model, starting_str, author,\n",
    "           len_generated_text=500,\n",
    "           scale_factor=2.0):\n",
    "\n",
    "    encoded_input = torch.tensor([char2int[author][s] for s in starting_str])\n",
    "    encoded_input = torch.reshape(encoded_input, (1, -1))\n",
    "\n",
    "    generated_str = starting_str\n",
    "\n",
    "    model.eval()\n",
    "    hidden, cell = model.init_hidden(1)\n",
    "    hidden = hidden.to('cpu')\n",
    "    cell = cell.to('cpu')\n",
    "    for c in range(len(starting_str)-1):\n",
    "        _, hidden, cell = model(encoded_input[:, c].view(1), hidden, cell) \n",
    "    \n",
    "    last_char = encoded_input[:, -1]\n",
    "    for i in range(len_generated_text):\n",
    "        logits, hidden, cell = model(last_char.view(1), hidden, cell) \n",
    "        logits = torch.squeeze(logits, 0)\n",
    "        scaled_logits = logits * scale_factor\n",
    "        m = Categorical(logits=scaled_logits)\n",
    "        last_char = m.sample()\n",
    "        generated_str += str(char_array[author][last_char])\n",
    "        \n",
    "    return generated_str"
   ]
  },
  {
   "cell_type": "code",
   "execution_count": 27,
   "metadata": {},
   "outputs": [
    {
     "name": "stdout",
     "output_type": "stream",
     "text": [
      "['the', 'be', 'to', 'of', 'and', 'a', 'in', 'that', 'have', 'I', 'it', 'for', 'not', 'on', 'with', 'he', 'as', 'you', 'do', 'at', 'this', 'but', 'his', 'by', 'from', 'they', 'we', 'say', 'her', 'she', 'or', 'an', 'will', 'my', 'one', 'all', 'would', 'there', 'their', 'what', 'so', 'up', 'out', 'if', 'about', 'who', 'get', 'which', 'go', 'me', 'when', 'make', 'can', 'like', 'time', 'no', 'just', 'him', 'know', 'take', 'people', 'into', 'year', 'your', 'good', 'some', 'could', 'them', 'see', 'other', 'than', 'then', 'now', 'look', 'only', 'come', 'its', 'over', 'think', 'also', 'back', 'after', 'use', 'two', 'how', 'our', 'work', 'first', 'well', 'way', 'even', 'new', 'want', 'because', 'any', 'these', 'give', 'day', 'most', 'us']\n"
     ]
    }
   ],
   "source": [
    "print(words)"
   ]
  },
  {
   "cell_type": "code",
   "execution_count": 30,
   "metadata": {},
   "outputs": [
    {
     "name": "stdout",
     "output_type": "stream",
     "text": [
      "100\n"
     ]
    }
   ],
   "source": [
    "print(len(words))"
   ]
  },
  {
   "cell_type": "code",
   "execution_count": 29,
   "metadata": {},
   "outputs": [],
   "source": [
    "# generating 100 chunks for each author, a sentence (80 characters) and a 150 word chunk for every word for evert\n",
    "torch.manual_seed(1)\n",
    "\n",
    "sentences_embedded = np.empty((5,100), object)\n",
    "chunks_embedded = np.empty((5,100), object)\n",
    "for author, generator in enumerate(generators):\n",
    "    generator.to('cpu')\n",
    "    for line, word in enumerate(words):\n",
    "        # sentence\n",
    "        sentences_embedded[author][line] = model.encode(sample(generator, word, author, len_generated_text=90))\n",
    "        # 150-words\n",
    "        new_words = sample(generator, word, author, len_generated_text=1000).split() # generating more than 150 words\n",
    "        chunk = ' '.join(new_words[1:151] )\n",
    "        chunks_embedded[author][line] = model.encode(chunk)"
   ]
  },
  {
   "cell_type": "code",
   "execution_count": 44,
   "metadata": {},
   "outputs": [],
   "source": [
    "np.save('../Generation/Models_and_Data/embedded_chunks_generated_text', chunks_embedded)"
   ]
  },
  {
   "cell_type": "code",
   "execution_count": 2,
   "metadata": {},
   "outputs": [],
   "source": [
    "def test_loop(dataloader, model, loss_fn):\n",
    "    # Set the model to evaluation mode \n",
    "    model.eval()\n",
    "    size = len(dataloader.dataset)\n",
    "    num_batches = len(dataloader)\n",
    "    test_loss, correct = 0, 0\n",
    "\n",
    "    all_preds = []\n",
    "    all_labels = []\n",
    "\n",
    "    with torch.no_grad():           # gradient computation excluded, unnecessary\n",
    "        for X, y in dataloader:\n",
    "            pred = model(X)\n",
    "\n",
    "            all_preds.extend(pred.argmax(1).tolist())\n",
    "            all_labels.extend(y.tolist())\n",
    "\n",
    "            test_loss += loss_fn(pred, y).item()\n",
    "            correct += (pred.argmax(1) == y).type(torch.float).sum().item()\n",
    "\n",
    "        test_loss /= num_batches\n",
    "        correct /= size\n",
    "        print(f\"Test Error: \\n Accuracy: {(100*correct):>0.1f}%, Avg loss: {test_loss:>8f} \\n\")\n",
    "\n",
    "    return all_preds, all_labels, correct"
   ]
  },
  {
   "cell_type": "code",
   "execution_count": 3,
   "metadata": {},
   "outputs": [
    {
     "name": "stderr",
     "output_type": "stream",
     "text": [
      "C:\\Users\\jonas\\AppData\\Local\\Temp\\ipykernel_30960\\314391589.py:28: FutureWarning: You are using `torch.load` with `weights_only=False` (the current default value), which uses the default pickle module implicitly. It is possible to construct malicious pickle data which will execute arbitrary code during unpickling (See https://github.com/pytorch/pytorch/blob/main/SECURITY.md#untrusted-models for more details). In a future release, the default value for `weights_only` will be flipped to `True`. This limits the functions that could be executed during unpickling. Arbitrary objects will no longer be allowed to be loaded via this mode unless they are explicitly allowlisted by the user via `torch.serialization.add_safe_globals`. We recommend you start setting `weights_only=True` for any use case where you don't have full control of the loaded file. Please open an issue on GitHub for any issues related to this experimental feature.\n",
      "  sentence_model = torch.load(os.path.join(folder, sentence_name))\n"
     ]
    },
    {
     "name": "stdout",
     "output_type": "stream",
     "text": [
      "Test Error: \n",
      " Accuracy: 99.2%, Avg loss: 0.913381 \n",
      "\n",
      "Confusion Matrix:\n",
      "[[100   0   0   0   0]\n",
      " [  2  97   0   1   0]\n",
      " [  0   0 100   0   0]\n",
      " [  0   0   1  99   0]\n",
      " [  0   0   0   0 100]]\n"
     ]
    },
    {
     "ename": "NameError",
     "evalue": "name 'chunks_embedded' is not defined",
     "output_type": "error",
     "traceback": [
      "\u001b[1;31m---------------------------------------------------------------------------\u001b[0m",
      "\u001b[1;31mNameError\u001b[0m                                 Traceback (most recent call last)",
      "Cell \u001b[1;32mIn[3], line 39\u001b[0m\n\u001b[0;32m     36\u001b[0m exit()\n\u001b[0;32m     38\u001b[0m \u001b[38;5;66;03m# Classifying (150 chunks)\u001b[39;00m\n\u001b[1;32m---> 39\u001b[0m X2\u001b[38;5;241m=\u001b[39m np\u001b[38;5;241m.\u001b[39marray(chunks_embedded\u001b[38;5;241m.\u001b[39mflat)\n\u001b[0;32m     40\u001b[0m y2 \u001b[38;5;241m=\u001b[39m np\u001b[38;5;241m.\u001b[39mrepeat(np\u001b[38;5;241m.\u001b[39marange(\u001b[38;5;241m5\u001b[39m), \u001b[38;5;241m100\u001b[39m)\n\u001b[0;32m     42\u001b[0m \u001b[38;5;66;03m# import trained classifier - chunks\u001b[39;00m\n",
      "\u001b[1;31mNameError\u001b[0m: name 'chunks_embedded' is not defined"
     ]
    },
    {
     "ename": "",
     "evalue": "",
     "output_type": "error",
     "traceback": [
      "\u001b[1;31mThe Kernel crashed while executing code in the current cell or a previous cell. \n",
      "\u001b[1;31mPlease review the code in the cell(s) to identify a possible cause of the failure. \n",
      "\u001b[1;31mClick <a href='https://aka.ms/vscodeJupyterKernelCrash'>here</a> for more info. \n",
      "\u001b[1;31mView Jupyter <a href='command:jupyter.viewOutput'>log</a> for further details."
     ]
    }
   ],
   "source": [
    "import numpy as np\n",
    "import torch\n",
    "import os\n",
    "\n",
    "import torch.nn as nn\n",
    "from torch.utils.data import DataLoader\n",
    "from sklearn.metrics import confusion_matrix\n",
    "\n",
    "from textdataset import TextDataset\n",
    "from neural_net import NeuralNet\n",
    "\n",
    "# Classifying (sentences)\n",
    "folder = \"../Generation/Models_and_Data\"\n",
    "sentence_name = \"sentences_model.pt\"\n",
    "chunk_name = \"150_chunksize_model.pt\"\n",
    "\n",
    "sentences_embedded = np.load('../Generation/Models_and_Data/embedded_sentences_generated_text.npy', allow_pickle=True)\n",
    "sentences_embedded = np.array([sentence for sentence in sentences_embedded.flat])\n",
    "\n",
    "X1 = torch.tensor(sentences_embedded)\n",
    "y1 = torch.from_numpy(np.repeat(np.arange(5), 100)).long()\n",
    "dataset_sentence = TextDataset(X1, y1)\n",
    "\n",
    "# import best classification model - sentences\n",
    "dl = DataLoader(dataset_sentence)\n",
    "loss_fn = nn.CrossEntropyLoss()\n",
    "sentence_model = torch.load(os.path.join(folder, sentence_name))\n",
    "predictions, labels, correct = test_loop(dl, sentence_model, loss_fn)\n",
    "\n",
    "# Compute and print confusion matrix\n",
    "cm = confusion_matrix(labels, predictions)\n",
    "print(\"Confusion Matrix:\")\n",
    "print(cm)\n",
    "\n",
    "\n",
    "# Classifying (150 chunks)\n",
    "chunks_embedded = np.load('../Generation/Models_and_Data/embedded_chunks_generated_text.npy', allow_pickle=True)\n",
    "chunks_embedded = np.array([chunk for chunk in chunks_embedded.flat])\n",
    "\n",
    "X1 = torch.tensor(chunks_embedded)\n",
    "y1 = torch.from_numpy(np.repeat(np.arange(5), 100)).long()\n",
    "dataset_chunks = TextDataset(X1, y1)\n",
    "\n",
    "# import best classification model - sentences\n",
    "dl = DataLoader(dataset_chunks)\n",
    "loss_fn = nn.CrossEntropyLoss()\n",
    "sentence_model = torch.load(os.path.join(folder, sentence_name))\n",
    "predictions, labels, correct = test_loop(dl, sentence_model, loss_fn)\n",
    "\n",
    "# Compute and print confusion matrix\n",
    "cm = confusion_matrix(labels, predictions)\n",
    "print(\"Confusion Matrix:\")\n",
    "print(cm)\n",
    "\n"
   ]
  }
 ],
 "metadata": {
  "kernelspec": {
   "display_name": "fysstk3155",
   "language": "python",
   "name": "python3"
  },
  "language_info": {
   "codemirror_mode": {
    "name": "ipython",
    "version": 3
   },
   "file_extension": ".py",
   "mimetype": "text/x-python",
   "name": "python",
   "nbconvert_exporter": "python",
   "pygments_lexer": "ipython3",
   "version": "3.12.4"
  }
 },
 "nbformat": 4,
 "nbformat_minor": 2
}
