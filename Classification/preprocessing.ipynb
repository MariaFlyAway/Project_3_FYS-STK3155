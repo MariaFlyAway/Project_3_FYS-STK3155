{
 "cells": [
  {
   "cell_type": "markdown",
   "metadata": {},
   "source": [
    "# Preprocessing and embedding\n",
    "This file includes code which classifies text chunks as (Austen, Kafka, Sturluson, God and Dostoyevsky).\n",
    "The training data is text chunks from their respective works 'Pride and predjudice', 'King James Bible', 'The trial', 'Heimskringla' and 'Crime and punishment'. We obtain the texts from the Gutenberg Project."
   ]
  },
  {
   "cell_type": "markdown",
   "metadata": {},
   "source": [
    "## Importing the data"
   ]
  },
  {
   "cell_type": "code",
   "execution_count": 1,
   "metadata": {},
   "outputs": [],
   "source": [
    "# Imports\n",
    "import numpy as np\n",
    "import pandas as pd\n",
    "import matplotlib.pyplot as plt\n",
    "import os"
   ]
  },
  {
   "cell_type": "code",
   "execution_count": 2,
   "metadata": {},
   "outputs": [
    {
     "name": "stderr",
     "output_type": "stream",
     "text": [
      "c:\\Users\\maria\\anaconda3\\envs\\fysstk-textembedding\\Lib\\site-packages\\sentence_transformers\\cross_encoder\\CrossEncoder.py:13: TqdmWarning: IProgress not found. Please update jupyter and ipywidgets. See https://ipywidgets.readthedocs.io/en/stable/user_install.html\n",
      "  from tqdm.autonotebook import tqdm, trange\n"
     ]
    }
   ],
   "source": [
    "# Importing the transformer\n",
    "from sentence_transformers import SentenceTransformer\n",
    "model_name = \"mixedbread-ai/mxbai-embed-large-v1\" \n",
    "\"\"\"\n",
    "Change the default model here. To save the model locally, replace the path with your path and run this module.\n",
    "At the end of your path, add the name of the folder you want create for the model, eg. \".../local_model\"\n",
    "When you have downloaded the model, uncomment model_name = path to use the stored model.\n",
    "\"\"\"\n",
    "# path = \"C:/Users/jonas/OneDrive/Dokumenter/Python Scripts/embed/local_model_sentence_transformers\" # (example path / for my convenience)\n",
    "# model_name = path # Uncomment this line once you have downloaded the model.\n",
    "model = SentenceTransformer(model_name)"
   ]
  },
  {
   "cell_type": "code",
   "execution_count": 24,
   "metadata": {},
   "outputs": [],
   "source": [
    "# Helpers\n",
    "def preprocessing(filepath, text, end=False):\n",
    "    if 'austen' in filepath:\n",
    "        start = text.find(\"Chapter I.]\")\n",
    "        # potential other preprocessing\n",
    "\n",
    "    elif 'dostoyevsky' in filepath:\n",
    "        start = text.find(\"CHAPTER I\")\n",
    "\n",
    "    elif 'god' in filepath:\n",
    "        start = text.find(\"1:1\")\n",
    "        end = text.find(\"in the sight of all Israel.\") # Only old testament\n",
    "\n",
    "    elif 'kafka' in filepath:\n",
    "        start = text.find(\"Chapter One\")\n",
    "\n",
    "    elif 'shelley' in filepath:\n",
    "        start = text.find(\"_To\")\n",
    "\n",
    "    elif 'tolstoy' in filepath:\n",
    "        start = text.find(\"Chapter 1\")\n",
    "\n",
    "    elif 'sturluson' in filepath:\n",
    "        start = text.find(\"PREFACE OF SNORRE STURLASON.\")\n",
    "        end = text.find(\"SAGA OF HARALD HARDRADE.\") # Only Heimskringla\n",
    "        \n",
    "    elif 'cervantes' in filepath:\n",
    "        start = text.find(\"Idle reader:\")\n",
    "        end = text.find(\"Forse altro cantera con miglior plettro.\") # Only Volume I\n",
    "\n",
    "    else:\n",
    "        raise Exception(\"This book is not in our library!\")\n",
    "    \n",
    "    if not end:\n",
    "        end = text.find(\"*** END\")\n",
    "    \n",
    "    return text[start:end].split()\n"
   ]
  },
  {
   "cell_type": "code",
   "execution_count": 10,
   "metadata": {},
   "outputs": [],
   "source": [
    "def read_chunks(filepath, chunksize=50, max_len=0, Feedback=True):\n",
    "    \"\"\"\n",
    "    Reads text into a list of strings with the specified number of words (discards final chunk to ensure similar length).\n",
    "    \"\"\"\n",
    "    with open(filepath, encoding='utf-8') as infile:\n",
    "        words = preprocessing( filepath, infile.read() ) # list of words, preprocessed\n",
    "        if max_len:\n",
    "            assert max_len > chunksize\n",
    "            words = words[:max_len]\n",
    "\n",
    "        length_words = len(words)\n",
    "        n_chunks = int(length_words / chunksize)\n",
    "        chunks = np.empty(n_chunks, dtype=object)\n",
    "        for i, start in enumerate(range(0, length_words, chunksize)):\n",
    "            if start+chunksize < length_words: # we discard the final chunk if it is shorter than 50 words\n",
    "                chunks[i] = ' '.join(words[start:start+chunksize])\n",
    "\n",
    "        if Feedback:\n",
    "            print(f\"Length: {length_words:,} words, on {n_chunks:,} chunks of length {chunksize}.\")\n",
    "        \n",
    "        return chunks\n"
   ]
  },
  {
   "cell_type": "code",
   "execution_count": 25,
   "metadata": {},
   "outputs": [
    {
     "name": "stdout",
     "output_type": "stream",
     "text": [
      "Length: 201,265 words, on 1,341 chunks of length 150.\n"
     ]
    },
    {
     "data": {
      "text/plain": [
       "array(['PREFACE OF SNORRE STURLASON. In this book I have had old stories written down, as I have heard them told by intelligent people, concerning chiefs who have have held dominion in the northern countries, and who spoke the Danish tongue; and also concerning some of their family branches, according to what has been told me. Some of this is found in ancient family registers, in which the pedigrees of kings and other personages of high birth are reckoned up, and part is written down after old songs and ballads which our forefathers had for their amusement. Now, although we cannot just say what truth there may be in these, yet we have the certainty that old and wise men held them to be true. Thjodolf of Hvin was the skald of Harald Harfager, and he composed a poem for King Rognvald the Mountain-high, which is called \"Ynglingatal.\" This Rognvald was',\n",
       "       'a son of Olaf Geirstadalf, the brother of King Halfdan the Black. In this poem thirty of his forefathers are reckoned up, and the death and burial-place of each are given. He begins with Fjolner, a son of Yngvefrey, whom the Swedes, long after his time, worshipped and sacrificed to, and from whom the race or family of the Ynglings take their name. Eyvind Skaldaspiller also reckoned up the ancestors of Earl Hakon the Great in a poem called \"Haleygjatal\", composed about Hakon; and therein he mentions Saeming, a son of Yngvefrey, and he likewise tells of the death and funeral rites of each. The lives and times of the Yngling race were written from Thjodolf\\'s relation enlarged afterwards by the accounts of intelligent people. As to funeral rites, the earliest age is called the Age of Burning; because all the dead were consumed by fire, and over their ashes',\n",
       "       \"were raised standing stones. But after Frey was buried under a cairn at Upsala, many chiefs raised cairns, as commonly as stones, to the memory of their relatives. The Age of Cairns began properly in Denmark after Dan Milkillate had raised for himself a burial cairn, and ordered that he should be buried in it on his death, with his royal ornaments and armour, his horse and saddle-furniture, and other valuable goods; and many of his descendants followed his example. But the burning of the dead continued, long after that time, to be the custom of the Swedes and Northmen. Iceland was occupied in the time that Harald Harfager was the King of Norway. There were skalds in Harald's court whose poems the people know by heart even at the present day, together with all the songs about the kings who have ruled in Norway since his time; and we\",\n",
       "       ...,\n",
       "       'the tide, Brought aid to Earl Thorfin\\'s side, Fin\\'s son-in-law, and people say Thy aid made Bruse\\'s son give way. Kalf, thou art fond of warlike toil, Gay in the strife and bloody broil; But here \\'twas hate made thee contend Against Earl Ragnvald, the king\\'s friend.\" 38. OF KING MAGNUS\\'S LETTER TO ENGLAND. King Magnus ruled then both over Denmark and Norway; and when he had got possession of the Danish dominions he sent ambassadors over to England to King Edward, who brought to him King Magnus\\'s letter and seal. And in this letter there stood, along with a salutation from King Magnus, these words:--\"Ye must have heard of the agreement which I and Hardaknut made,--that he of us two who survived the other should have all the land and people which the deceased had possessed. Now it has so turned out, as ye have no doubt heard, that',\n",
       "       'I have taken the Danish dominions as my heritage after Hardaknut. But before he departed this life he had England as well as Denmark; therefore I consider myself now, in consequence of my rights by this agreement, to own England also. Now I will therefore that thou deliver to me the kingdom; otherwise I will seek to take it by arms, both from Denmark and Norway; and let him rule the land to whom fate gives the victory.\" 39. KING EDWARD\\'S ANSWER TO KING MAGNUS\\'S LETTER. Now when King Edward had read this letter, he replied thus: \"It is known to all men in this country that King Ethelred, my father, was udal-born to this kingdom, both after the old and new law of inheritance. We were four sons after him; and when he by death left the throne my brother Edmund took the government and kingdom; for he was',\n",
       "       'the oldest of us brothers, and I was well satisfied that it was so. And after him my stepfather, Canute the Great, took the kingdom, and as long as he lived there was no access to it. After him my brother Harald was king as long as he lived; and after him my brother Hardaknut took the kingdoms both of Denmark and England; for he thought that a just brotherly division that he should have both England and Denmark, and that I should have no kingdom at all. Now he died, and then it was the resolution of all the people of the country to take me for king here in England. So long as I had no kingly title I served only superiors in all respects, like those who had no claims by birth to land or kingdom. Now, however, I have received the kingly title, and am consecrated'],\n",
       "      dtype=object)"
      ]
     },
     "execution_count": 25,
     "metadata": {},
     "output_type": "execute_result"
    }
   ],
   "source": [
    "read_chunks('../Texts/sturluson.txt', chunksize=150)"
   ]
  },
  {
   "cell_type": "code",
   "execution_count": 5,
   "metadata": {},
   "outputs": [],
   "source": [
    "def embed(chunks):\n",
    "    embeddings = []\n",
    "    for chunk in chunks:\n",
    "        embeddings.append( model.encode(chunk) )\n",
    "    return np.asarray(embeddings)"
   ]
  },
  {
   "cell_type": "code",
   "execution_count": 32,
   "metadata": {},
   "outputs": [],
   "source": [
    "# Change max_len and run on clusters - this might take days on the full dataset (but then will never have to be done again:)\n",
    "folder = \"..\"\n",
    "subfolder = \"Texts\"\n",
    "filenames = ['austen', 'dostoyevsky', 'god', 'cervantes', 'sturluson']\n",
    "filepaths = [os.path.join(folder, subfolder, filename) for filename in filenames]\n",
    "\n",
    "# Uncomment to embed\n",
    "# for filepath in filepaths:\n",
    "#     print(filepath)\n",
    "#     chunks = read_chunks(filepath+'.txt', chunksize=150) # remove max_len to run on entire text\n",
    "#     embeddings = embed(chunks)\n",
    "#     np.save(filepath, embeddings)"
   ]
  },
  {
   "cell_type": "code",
   "execution_count": 33,
   "metadata": {},
   "outputs": [],
   "source": [
    "# Class encoding (0 through 4, alphabetically)\n",
    "data = [np.load(filepath+'.npy') for filepath in filepaths]\n",
    "lengths = [len(author) for author in data]\n",
    "\n",
    "X = np.vstack( data )\n",
    "y = np.repeat(np.arange(5), lengths) # improved target vector\n",
    "\n",
    "np.save('text_data', X)\n",
    "np.save('labels', y)"
   ]
  },
  {
   "cell_type": "code",
   "execution_count": 34,
   "metadata": {},
   "outputs": [
    {
     "data": {
      "text/plain": [
       "[816, 1351, 1084, 1326, 1341]"
      ]
     },
     "execution_count": 34,
     "metadata": {},
     "output_type": "execute_result"
    }
   ],
   "source": [
    "lengths"
   ]
  }
 ],
 "metadata": {
  "kernelspec": {
   "display_name": "fysstk-textembedding",
   "language": "python",
   "name": "python3"
  },
  "language_info": {
   "codemirror_mode": {
    "name": "ipython",
    "version": 3
   },
   "file_extension": ".py",
   "mimetype": "text/x-python",
   "name": "python",
   "nbconvert_exporter": "python",
   "pygments_lexer": "ipython3",
   "version": "3.12.7"
  }
 },
 "nbformat": 4,
 "nbformat_minor": 2
}
