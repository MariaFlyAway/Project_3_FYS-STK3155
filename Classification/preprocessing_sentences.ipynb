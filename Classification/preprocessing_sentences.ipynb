{
 "cells": [
  {
   "cell_type": "markdown",
   "metadata": {},
   "source": [
    "# Preprocessing and embedding\n",
    "This file includes code which classifies text chunks as (Austen, Kafka, Sturluson, God and Dostoyevsky).\n",
    "The training data is text chunks from their respective works 'Pride and predjudice', 'King James Bible', 'The trial', 'Heimskringla' and 'Crime and punishment'. We obtain the texts from the Gutenberg Project."
   ]
  },
  {
   "cell_type": "markdown",
   "metadata": {},
   "source": [
    "## Importing the data"
   ]
  },
  {
   "cell_type": "code",
   "execution_count": 3,
   "metadata": {},
   "outputs": [],
   "source": [
    "# Imports\n",
    "import numpy as np\n",
    "import pandas as pd\n",
    "import matplotlib.pyplot as plt\n",
    "import os\n",
    "from nltk import tokenize\n",
    "import nltk"
   ]
  },
  {
   "cell_type": "code",
   "execution_count": 4,
   "metadata": {},
   "outputs": [
    {
     "name": "stderr",
     "output_type": "stream",
     "text": [
      "[nltk_data] Downloading package punkt_tab to\n",
      "[nltk_data]     C:\\Users\\maria\\AppData\\Roaming\\nltk_data...\n",
      "[nltk_data]   Unzipping tokenizers\\punkt_tab.zip.\n",
      "[nltk_data] Downloading package punkt to\n",
      "[nltk_data]     C:\\Users\\maria\\AppData\\Roaming\\nltk_data...\n",
      "[nltk_data]   Unzipping tokenizers\\punkt.zip.\n",
      "[nltk_data] Downloading package wordnet to\n",
      "[nltk_data]     C:\\Users\\maria\\AppData\\Roaming\\nltk_data...\n",
      "[nltk_data] Downloading package omw-1.4 to\n",
      "[nltk_data]     C:\\Users\\maria\\AppData\\Roaming\\nltk_data...\n"
     ]
    },
    {
     "data": {
      "text/plain": [
       "True"
      ]
     },
     "execution_count": 4,
     "metadata": {},
     "output_type": "execute_result"
    }
   ],
   "source": [
    "nltk.download('punkt_tab')\n",
    "nltk.download('punkt')\n",
    "nltk.download('wordnet')\n",
    "nltk.download('omw-1.4')"
   ]
  },
  {
   "cell_type": "code",
   "execution_count": null,
   "metadata": {},
   "outputs": [],
   "source": [
    "from nltk import tokenize\n",
    ">>> p = \"Good morning Dr. Adams. The patient is waiting for you in room number 3.\"\n",
    "\n",
    ">>> tokenize.sent_tokenize(p)"
   ]
  },
  {
   "cell_type": "code",
   "execution_count": 5,
   "metadata": {},
   "outputs": [
    {
     "name": "stderr",
     "output_type": "stream",
     "text": [
      "c:\\Users\\maria\\anaconda3\\envs\\fysstk-textembedding\\Lib\\site-packages\\sentence_transformers\\cross_encoder\\CrossEncoder.py:13: TqdmWarning: IProgress not found. Please update jupyter and ipywidgets. See https://ipywidgets.readthedocs.io/en/stable/user_install.html\n",
      "  from tqdm.autonotebook import tqdm, trange\n"
     ]
    }
   ],
   "source": [
    "# Importing the transformer\n",
    "from sentence_transformers import SentenceTransformer\n",
    "model_name = \"mixedbread-ai/mxbai-embed-large-v1\" \n",
    "\"\"\"\n",
    "Change the default model here. To save the model locally, replace the path with your path and run this module.\n",
    "At the end of your path, add the name of the folder you want create for the model, eg. \".../local_model\"\n",
    "When you have downloaded the model, uncomment model_name = path to use the stored model.\n",
    "\"\"\"\n",
    "# path = \"C:/Users/jonas/OneDrive/Dokumenter/Python Scripts/embed/local_model_sentence_transformers\" # (example path / for my convenience)\n",
    "# model_name = path # Uncomment this line once you have downloaded the model.\n",
    "model = SentenceTransformer(model_name)"
   ]
  },
  {
   "cell_type": "code",
   "execution_count": 6,
   "metadata": {},
   "outputs": [],
   "source": [
    "# Helpers\n",
    "def preprocessing(filepath, text, end=False):\n",
    "    if 'austen' in filepath:\n",
    "        start = text.find(\"Chapter I.]\")\n",
    "        # potential other preprocessing\n",
    "\n",
    "    elif 'dostoyevsky' in filepath:\n",
    "        start = text.find(\"CHAPTER I\")\n",
    "\n",
    "    elif 'god' in filepath:\n",
    "        start = text.find(\"1:1\")\n",
    "        end = text.find(\"in the sight of all Israel.\") # Only old testament\n",
    "\n",
    "    elif 'kafka' in filepath:\n",
    "        start = text.find(\"Chapter One\")\n",
    "\n",
    "    elif 'shelley' in filepath:\n",
    "        start = text.find(\"_To\")\n",
    "\n",
    "    elif 'tolstoy' in filepath:\n",
    "        start = text.find(\"Chapter 1\")\n",
    "\n",
    "    elif 'sturluson' in filepath:\n",
    "        start = text.find(\"PREFACE OF SNORRE STURLASON.\")\n",
    "        end = text.find(\"SAGA OF HARALD HARDRADE.\") # Only Heimskringla\n",
    "        \n",
    "    elif 'cervantes' in filepath:\n",
    "        start = text.find(\"Idle reader:\")\n",
    "        end = text.find(\"Forse altro cantera con miglior plettro.\") # Only Volume I\n",
    "\n",
    "    elif 'brother_karamazov' in filepath:\n",
    "        start = text.find(\"Fyodor Pavlovitch Karamazov\")\n",
    "\n",
    "    elif 'sense_and_sensibility' in filepath:\n",
    "        start = text.find(\"CHAPTER I.\")\n",
    "\n",
    "    elif 'wells' in filepath:\n",
    "        start = text.find(\"Introduction\")\n",
    "\n",
    "    else:\n",
    "        raise Exception(\"This book is not in our library!\")\n",
    "    \n",
    "    if not end:\n",
    "        end = text.find(\"*** END\")\n",
    "    \n",
    "    return text[start:end].split()\n"
   ]
  },
  {
   "cell_type": "code",
   "execution_count": null,
   "metadata": {},
   "outputs": [],
   "source": [
    "def split_sentences(filepath, Feedback=True):\n",
    "    with open(filepath, encoding='utf-8') as infile:\n",
    "        words = preprocessing(filepath, infile.readlines())\n",
    "\n",
    "        print(words)\n",
    "\n",
    "\n",
    "        sentences = 4\n",
    "\n",
    "        #sentences = tokenize.sent_tokenize(words[0])\n",
    "\n",
    "    if Feedback:\n",
    "        print(f\"Length: {len(sentences):,} sentences.\")\n",
    "\n",
    "    return sentences"
   ]
  },
  {
   "cell_type": "code",
   "execution_count": 12,
   "metadata": {},
   "outputs": [
    {
     "name": "stdout",
     "output_type": "stream",
     "text": [
      "..\\Texts\\austen\n"
     ]
    },
    {
     "ename": "AttributeError",
     "evalue": "'list' object has no attribute 'find'",
     "output_type": "error",
     "traceback": [
      "\u001b[1;31m---------------------------------------------------------------------------\u001b[0m",
      "\u001b[1;31mAttributeError\u001b[0m                            Traceback (most recent call last)",
      "Cell \u001b[1;32mIn[12], line 9\u001b[0m\n\u001b[0;32m      7\u001b[0m \u001b[38;5;28;01mfor\u001b[39;00m filepath \u001b[38;5;129;01min\u001b[39;00m filepaths:\n\u001b[0;32m      8\u001b[0m     \u001b[38;5;28mprint\u001b[39m(filepath)\n\u001b[1;32m----> 9\u001b[0m     chunks \u001b[38;5;241m=\u001b[39m \u001b[43msplit_sentences\u001b[49m\u001b[43m(\u001b[49m\u001b[43mfilepath\u001b[49m\u001b[38;5;241;43m+\u001b[39;49m\u001b[38;5;124;43m'\u001b[39;49m\u001b[38;5;124;43m.txt\u001b[39;49m\u001b[38;5;124;43m'\u001b[39;49m\u001b[43m)\u001b[49m \u001b[38;5;66;03m# remove max_len to run on entire text\u001b[39;00m\n\u001b[0;32m     10\u001b[0m     \u001b[38;5;66;03m#embeddings = embed(chunks)\u001b[39;00m\n\u001b[0;32m     11\u001b[0m     \u001b[38;5;66;03m#np.save(filepath+'100', embeddings)\u001b[39;00m\n",
      "Cell \u001b[1;32mIn[11], line 3\u001b[0m, in \u001b[0;36msplit_sentences\u001b[1;34m(filepath, Feedback)\u001b[0m\n\u001b[0;32m      1\u001b[0m \u001b[38;5;28;01mdef\u001b[39;00m \u001b[38;5;21msplit_sentences\u001b[39m(filepath, Feedback\u001b[38;5;241m=\u001b[39m\u001b[38;5;28;01mTrue\u001b[39;00m):\n\u001b[0;32m      2\u001b[0m     \u001b[38;5;28;01mwith\u001b[39;00m \u001b[38;5;28mopen\u001b[39m(filepath, encoding\u001b[38;5;241m=\u001b[39m\u001b[38;5;124m'\u001b[39m\u001b[38;5;124mutf-8\u001b[39m\u001b[38;5;124m'\u001b[39m) \u001b[38;5;28;01mas\u001b[39;00m infile:\n\u001b[1;32m----> 3\u001b[0m         words \u001b[38;5;241m=\u001b[39m \u001b[43mpreprocessing\u001b[49m\u001b[43m(\u001b[49m\u001b[43mfilepath\u001b[49m\u001b[43m,\u001b[49m\u001b[43m \u001b[49m\u001b[43minfile\u001b[49m\u001b[38;5;241;43m.\u001b[39;49m\u001b[43mreadlines\u001b[49m\u001b[43m(\u001b[49m\u001b[43m)\u001b[49m\u001b[43m)\u001b[49m\n\u001b[0;32m      5\u001b[0m         \u001b[38;5;28mprint\u001b[39m(words)\n\u001b[0;32m      7\u001b[0m         sentences \u001b[38;5;241m=\u001b[39m tokenize\u001b[38;5;241m.\u001b[39msent_tokenize(words[\u001b[38;5;241m0\u001b[39m])\n",
      "Cell \u001b[1;32mIn[6], line 4\u001b[0m, in \u001b[0;36mpreprocessing\u001b[1;34m(filepath, text, end)\u001b[0m\n\u001b[0;32m      2\u001b[0m \u001b[38;5;28;01mdef\u001b[39;00m \u001b[38;5;21mpreprocessing\u001b[39m(filepath, text, end\u001b[38;5;241m=\u001b[39m\u001b[38;5;28;01mFalse\u001b[39;00m):\n\u001b[0;32m      3\u001b[0m     \u001b[38;5;28;01mif\u001b[39;00m \u001b[38;5;124m'\u001b[39m\u001b[38;5;124mausten\u001b[39m\u001b[38;5;124m'\u001b[39m \u001b[38;5;129;01min\u001b[39;00m filepath:\n\u001b[1;32m----> 4\u001b[0m         start \u001b[38;5;241m=\u001b[39m \u001b[43mtext\u001b[49m\u001b[38;5;241;43m.\u001b[39;49m\u001b[43mfind\u001b[49m(\u001b[38;5;124m\"\u001b[39m\u001b[38;5;124mChapter I.]\u001b[39m\u001b[38;5;124m\"\u001b[39m)\n\u001b[0;32m      5\u001b[0m         \u001b[38;5;66;03m# potential other preprocessing\u001b[39;00m\n\u001b[0;32m      7\u001b[0m     \u001b[38;5;28;01melif\u001b[39;00m \u001b[38;5;124m'\u001b[39m\u001b[38;5;124mdostoyevsky\u001b[39m\u001b[38;5;124m'\u001b[39m \u001b[38;5;129;01min\u001b[39;00m filepath:\n",
      "\u001b[1;31mAttributeError\u001b[0m: 'list' object has no attribute 'find'"
     ]
    }
   ],
   "source": [
    "folder = \"..\"\n",
    "subfolder = \"Texts\"\n",
    "filenames = ['austen', 'dostoyevsky', 'god', 'cervantes', 'sturluson']\n",
    "filepaths = [os.path.join(folder, subfolder, filename) for filename in filenames]\n",
    "\n",
    "# Uncomment to embed\n",
    "for filepath in filepaths:\n",
    "    print(filepath)\n",
    "    chunks = split_sentences(filepath+'.txt') # remove max_len to run on entire text\n",
    "    #embeddings = embed(chunks)\n",
    "    #np.save(filepath+'100', embeddings)"
   ]
  },
  {
   "cell_type": "code",
   "execution_count": 4,
   "metadata": {},
   "outputs": [],
   "source": [
    "def read_chunks(filepath, chunksize=50, max_len=0, Feedback=True):\n",
    "    \"\"\"\n",
    "    Reads text into a list of strings with the specified number of words (discards final chunk to ensure similar length).\n",
    "    \"\"\"\n",
    "    with open(filepath, encoding='utf-8') as infile:\n",
    "        words = preprocessing( filepath, infile.read() ) # list of words, preprocessed\n",
    "        if max_len:\n",
    "            assert max_len > chunksize\n",
    "            words = words[:max_len]\n",
    "\n",
    "        length_words = len(words)\n",
    "        n_chunks = int(length_words / chunksize)\n",
    "        chunks = np.empty(n_chunks, dtype=object)\n",
    "        for i, start in enumerate(range(0, length_words, chunksize)):\n",
    "            if start+chunksize < length_words: # we discard the final chunk if it is shorter than 50 words\n",
    "                chunks[i] = ' '.join(words[start:start+chunksize])\n",
    "\n",
    "        if Feedback:\n",
    "            print(f\"Length: {length_words:,} words, on {n_chunks:,} chunks of length {chunksize}.\")\n",
    "        \n",
    "        return chunks\n"
   ]
  },
  {
   "cell_type": "code",
   "execution_count": 5,
   "metadata": {},
   "outputs": [],
   "source": [
    "def embed(chunks):\n",
    "    embeddings = []\n",
    "    for chunk in chunks:\n",
    "        embeddings.append( model.encode(chunk) )\n",
    "    return np.asarray(embeddings)"
   ]
  },
  {
   "cell_type": "code",
   "execution_count": null,
   "metadata": {},
   "outputs": [
    {
     "name": "stdout",
     "output_type": "stream",
     "text": [
      "..\\Texts\\wells\n",
      "Length: 32,442 words, on 216 chunks of length 150.\n"
     ]
    }
   ],
   "source": [
    "# Change max_len and run on clusters - this might take days on the full dataset (but then will never have to be done again:)\n",
    "folder = \"..\"\n",
    "subfolder = \"Texts\"\n",
    "filenames = ['austen', 'dostoyevsky', 'god', 'cervantes', 'sturluson']\n",
    "filepaths = [os.path.join(folder, subfolder, filename) for filename in filenames]\n",
    "\n",
    "# Uncomment to embed\n",
    "for filepath in filepaths:\n",
    "    print(filepath)\n",
    "    chunks = read_chunks(filepath+'.txt', chunksize=100) # remove max_len to run on entire text\n",
    "    embeddings = embed(chunks)\n",
    "    np.save(filepath+'100', embeddings)"
   ]
  },
  {
   "cell_type": "code",
   "execution_count": 33,
   "metadata": {},
   "outputs": [],
   "source": [
    "# Class encoding (0 through 4, alphabetically)\n",
    "data = [np.load(filepath+'.npy') for filepath in filepaths]\n",
    "lengths = [len(author) for author in data]\n",
    "\n",
    "X = np.vstack( data )\n",
    "y = np.repeat(np.arange(5), lengths) # improved target vector\n",
    "\n",
    "np.save('text_data', X)\n",
    "np.save('labels', y)"
   ]
  },
  {
   "cell_type": "code",
   "execution_count": 34,
   "metadata": {},
   "outputs": [
    {
     "data": {
      "text/plain": [
       "[816, 1351, 1084, 1326, 1341]"
      ]
     },
     "execution_count": 34,
     "metadata": {},
     "output_type": "execute_result"
    }
   ],
   "source": [
    "lengths"
   ]
  }
 ],
 "metadata": {
  "kernelspec": {
   "display_name": "fysstk-textembedding",
   "language": "python",
   "name": "python3"
  },
  "language_info": {
   "codemirror_mode": {
    "name": "ipython",
    "version": 3
   },
   "file_extension": ".py",
   "mimetype": "text/x-python",
   "name": "python",
   "nbconvert_exporter": "python",
   "pygments_lexer": "ipython3",
   "version": "3.12.7"
  }
 },
 "nbformat": 4,
 "nbformat_minor": 2
}
