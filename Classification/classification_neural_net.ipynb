{
 "cells": [
  {
   "cell_type": "markdown",
   "metadata": {},
   "source": [
    "# Classification\n",
    "This file includes code which classifies text chunks as (Austen, Shelly, Kafka, Tolstoy or Dostoyevsky).\n",
    "The training data is text chunks from their respective works _Pride and predjudice_, _Frankenstein_, _The trial_, _Anna Karenina_ and _Crime and punishment_. We obtain the texts from the Gutenberg Project."
   ]
  },
  {
   "cell_type": "code",
   "execution_count": null,
   "metadata": {},
   "outputs": [],
   "source": [
    "# Imports\n",
    "import numpy as np\n",
    "import matplotlib.pyplot as plt\n",
    "import seaborn as sns\n",
    "\n",
    "import skorch\n",
    "from sklearn.metrics import confusion_matrix\n",
    "from sklearn.model_selection import train_test_split, cross_val_score\n",
    "\n",
    "import torch\n",
    "import torch.nn as nn\n",
    "from torch.utils.data import DataLoader\n",
    "\n",
    "from Classification.textdataset_classification import TextDataset\n",
    "from Classification.neural_net_classification import NeuralNet"
   ]
  },
  {
   "cell_type": "markdown",
   "metadata": {},
   "source": [
    "Reading in the data"
   ]
  },
  {
   "cell_type": "code",
   "execution_count": 10,
   "metadata": {},
   "outputs": [],
   "source": [
    "X = np.load('Data/text_data_sentences.npy')\n",
    "y = np.load('Data/labels_sentences.npy')"
   ]
  },
  {
   "cell_type": "code",
   "execution_count": 11,
   "metadata": {},
   "outputs": [],
   "source": [
    "# splitting into train and test\n",
    "X_train, X_test, y_train, y_test = train_test_split(X, y, test_size=0.2, stratify=y, random_state=3)\n",
    "\n",
    "y_train = torch.from_numpy(y_train).long()\n",
    "y_test = torch.from_numpy(y_test).long()\n",
    "\n",
    "dataset_train = TextDataset(torch.tensor(X_train), y_train)\n",
    "dataset_test = TextDataset(torch.tensor(X_test), y_test)\n",
    "\n",
    "# splitting the data into batches\n",
    "batch_size = 64\n",
    "torch.manual_seed(1)\n",
    "dl_train = DataLoader(dataset_train, batch_size=batch_size, shuffle=True, drop_last=True)\n",
    "dl_test = DataLoader(dataset_test, batch_size=batch_size, shuffle=True, drop_last=True)\n",
    "\n",
    "# defining the model, optimizer and loss function\n",
    "model = NeuralNet()\n",
    "\n",
    "learning_rate = 0.01\n",
    "loss_fn = nn.CrossEntropyLoss()\n",
    "optimizer = torch.optim.Adam(model.parameters(), lr=learning_rate)"
   ]
  },
  {
   "cell_type": "markdown",
   "metadata": {},
   "source": [
    "Training the model"
   ]
  },
  {
   "cell_type": "code",
   "execution_count": 12,
   "metadata": {},
   "outputs": [],
   "source": [
    "def training_model(dataloader, model, loss_fn, optimizer, num_epochs=100):\n",
    "    for epoch in range(num_epochs):\n",
    "        # setting the model to train mode\n",
    "        model.train()\n",
    "        \n",
    "        for (X, y) in dataloader:\n",
    "            pred = model(X)\n",
    "            loss = loss_fn(pred, y)\n",
    "\n",
    "            # Backpropagation\n",
    "            loss.backward()\n",
    "            optimizer.step()\n",
    "            optimizer.zero_grad()           # resets the gradients\n",
    "\n",
    "        if epoch % 1 == 0:\n",
    "            loss = loss.item()\n",
    "            print(f\"Epoch {epoch+1:>4f}      loss: {loss:>7f}\")"
   ]
  },
  {
   "cell_type": "code",
   "execution_count": 15,
   "metadata": {},
   "outputs": [
    {
     "name": "stdout",
     "output_type": "stream",
     "text": [
      "Epoch 1.000000      loss: 0.905349\n",
      "Epoch 2.000000      loss: 0.926160\n",
      "Epoch 3.000000      loss: 0.921020\n",
      "Epoch 4.000000      loss: 0.911065\n",
      "Epoch 5.000000      loss: 0.921956\n",
      "Epoch 6.000000      loss: 0.905896\n",
      "Epoch 7.000000      loss: 0.937746\n",
      "Epoch 8.000000      loss: 0.936398\n",
      "Epoch 9.000000      loss: 0.905123\n",
      "Epoch 10.000000      loss: 0.950240\n",
      "Epoch 11.000000      loss: 0.920366\n",
      "Epoch 12.000000      loss: 0.945466\n",
      "Epoch 13.000000      loss: 0.944873\n",
      "Epoch 14.000000      loss: 0.933274\n",
      "Epoch 15.000000      loss: 0.953140\n",
      "Epoch 16.000000      loss: 0.951889\n",
      "Epoch 17.000000      loss: 0.920602\n",
      "Epoch 18.000000      loss: 0.923312\n",
      "Epoch 19.000000      loss: 0.966233\n",
      "Epoch 20.000000      loss: 0.971357\n",
      "Epoch 21.000000      loss: 0.921159\n",
      "Epoch 22.000000      loss: 0.920764\n",
      "Epoch 23.000000      loss: 0.905172\n",
      "Epoch 24.000000      loss: 0.938579\n",
      "Epoch 25.000000      loss: 0.933168\n",
      "Epoch 26.000000      loss: 0.922037\n",
      "Epoch 27.000000      loss: 0.970687\n",
      "Epoch 28.000000      loss: 0.927575\n",
      "Epoch 29.000000      loss: 0.918751\n",
      "Epoch 30.000000      loss: 0.962026\n",
      "Epoch 31.000000      loss: 0.934076\n",
      "Epoch 32.000000      loss: 0.904835\n",
      "Epoch 33.000000      loss: 0.986322\n",
      "Epoch 34.000000      loss: 0.938164\n",
      "Epoch 35.000000      loss: 0.951792\n",
      "Epoch 36.000000      loss: 0.936900\n",
      "Epoch 37.000000      loss: 0.954762\n",
      "Epoch 38.000000      loss: 0.906379\n",
      "Epoch 39.000000      loss: 0.935674\n",
      "Epoch 40.000000      loss: 0.926180\n",
      "Epoch 41.000000      loss: 0.905389\n",
      "Epoch 42.000000      loss: 0.920229\n",
      "Epoch 43.000000      loss: 0.920055\n",
      "Epoch 44.000000      loss: 0.909871\n",
      "Epoch 45.000000      loss: 0.951299\n",
      "Epoch 46.000000      loss: 0.954984\n",
      "Epoch 47.000000      loss: 0.905254\n",
      "Epoch 48.000000      loss: 0.919916\n",
      "Epoch 49.000000      loss: 0.943005\n",
      "Epoch 50.000000      loss: 0.932146\n"
     ]
    }
   ],
   "source": [
    "training_model(dl_train, model, loss_fn, optimizer, num_epochs=50)"
   ]
  },
  {
   "cell_type": "code",
   "execution_count": 16,
   "metadata": {},
   "outputs": [],
   "source": [
    "path = '../Generation/sentences_model.pt'\n",
    "torch.save(model, path)"
   ]
  },
  {
   "cell_type": "markdown",
   "metadata": {},
   "source": [
    "### Measuring performance on test dataset and creating confusion matrix"
   ]
  },
  {
   "cell_type": "code",
   "execution_count": 20,
   "metadata": {},
   "outputs": [],
   "source": [
    "def test_loop(dataloader, model, loss_fn):\n",
    "    # Set the model to evaluation mode \n",
    "    model.eval()\n",
    "    size = len(dataloader.dataset)\n",
    "    num_batches = len(dataloader)\n",
    "    test_loss, correct = 0, 0\n",
    "\n",
    "    all_preds = []\n",
    "    all_labels = []\n",
    "\n",
    "    with torch.no_grad():           # gradient computation excluded, unnecessary\n",
    "        for X, y in dataloader:\n",
    "            pred = model(X)\n",
    "\n",
    "            all_preds.extend(pred.argmax(1).tolist())\n",
    "            all_labels.extend(y.tolist())\n",
    "\n",
    "            test_loss += loss_fn(pred, y).item()\n",
    "            correct += (pred.argmax(1) == y).type(torch.float).sum().item()\n",
    "\n",
    "        test_loss /= num_batches\n",
    "        correct /= size\n",
    "        print(f\"Test Error: \\n Accuracy: {(100*correct):>0.1f}%, Avg loss: {test_loss:>8f} \\n\")\n",
    "\n",
    "    return all_preds, all_labels, correct"
   ]
  },
  {
   "cell_type": "code",
   "execution_count": 21,
   "metadata": {},
   "outputs": [
    {
     "name": "stdout",
     "output_type": "stream",
     "text": [
      "Test Error: \n",
      " Accuracy: 96.5%, Avg loss: 0.912660 \n",
      "\n",
      "Confusion Matrix:\n",
      "[[155   3   0   0   0]\n",
      " [  0 261   0   2   0]\n",
      " [  0   0 213   0   0]\n",
      " [  0   1   0 259   0]\n",
      " [  0   0   0   3 255]]\n"
     ]
    }
   ],
   "source": [
    "predictions, labels, acc = test_loop(dl_test, model, loss_fn)\n",
    "\n",
    "# Compute and print confusion matrix\n",
    "cm = confusion_matrix(labels, predictions)\n",
    "print(\"Confusion Matrix:\")\n",
    "print(cm)"
   ]
  },
  {
   "cell_type": "code",
   "execution_count": 22,
   "metadata": {},
   "outputs": [
    {
     "data": {
      "image/png": "[encoded data removed]",
      "text/plain": [
       "<Figure size 640x480 with 2 Axes>"
      ]
     },
     "metadata": {},
     "output_type": "display_data"
    }
   ],
   "source": [
    "# Plotting the confusion matrix\n",
    "ax = sns.heatmap(cm, \n",
    "            annot=True,\n",
    "            annot_kws={\"fontsize\":12},\n",
    "            fmt=\".0f\",\n",
    "            xticklabels=['austen', 'dostoyevsky', 'god', 'cervantes', 'sturluson'],\n",
    "            yticklabels=['austen', 'dostoyevsky', 'god', 'cervantes', 'sturluson'],\n",
    "            cmap='crest')\n",
    "plt.ylabel('True label', fontsize=13)\n",
    "plt.title('Confusion Matrix', fontsize=17, pad=20, loc='center')\n",
    "ax.set(xlabel=\"\", ylabel=\"True label\")\n",
    "ax.xaxis.tick_top()\n",
    "\n",
    "plt.gca().figure.text(0.45, 0.05, 'Predicted label', ha='center', fontsize=13)\n",
    "plt.show()"
   ]
  },
  {
   "cell_type": "markdown",
   "metadata": {},
   "source": [
    "### Chunk size 50"
   ]
  },
  {
   "cell_type": "markdown",
   "metadata": {},
   "source": [
    "Reading in the data"
   ]
  },
  {
   "cell_type": "code",
   "execution_count": 9,
   "metadata": {},
   "outputs": [],
   "source": [
    "X = np.load('text_data50.npy')\n",
    "y = np.load('labels50.npy')"
   ]
  },
  {
   "cell_type": "code",
   "execution_count": 10,
   "metadata": {},
   "outputs": [],
   "source": [
    "# splitting into train and test\n",
    "X_train, X_test, y_train, y_test = train_test_split(X, y, test_size=0.2, stratify=y, random_state=3)\n",
    "\n",
    "y_train = torch.from_numpy(y_train).long()\n",
    "y_test = torch.from_numpy(y_test).long()\n",
    "\n",
    "dataset_train = TextDataset(torch.tensor(X_train), y_train)\n",
    "dataset_test = TextDataset(torch.tensor(X_test), y_test)\n",
    "\n",
    "# splitting the data into batches\n",
    "batch_size = 64\n",
    "torch.manual_seed(1)\n",
    "dl_train = DataLoader(dataset_train, batch_size=batch_size, shuffle=True, drop_last=True)\n",
    "dl_test = DataLoader(dataset_test, batch_size=batch_size, shuffle=True, drop_last=True)\n",
    "\n",
    "# defining the model, optimizer and loss function\n",
    "model = NeuralNet()\n",
    "\n",
    "learning_rate = 0.001\n",
    "loss_fn = nn.CrossEntropyLoss()\n",
    "optimizer = torch.optim.Adam(model.parameters(), lr=learning_rate)"
   ]
  },
  {
   "cell_type": "markdown",
   "metadata": {},
   "source": [
    "Training the model"
   ]
  },
  {
   "cell_type": "code",
   "execution_count": 11,
   "metadata": {},
   "outputs": [
    {
     "name": "stderr",
     "output_type": "stream",
     "text": [
      "c:\\Users\\maria\\anaconda3\\envs\\fysstk3155\\Lib\\site-packages\\torch\\nn\\modules\\module.py:1736: UserWarning: Implicit dimension choice for softmax has been deprecated. Change the call to include dim=X as an argument.\n",
      "  return self._call_impl(*args, **kwargs)\n"
     ]
    },
    {
     "name": "stdout",
     "output_type": "stream",
     "text": [
      "Epoch 1.000000      loss: 0.920740\n"
     ]
    }
   ],
   "source": [
    "training_model(dl_train, model, loss_fn, optimizer, num_epochs=1)"
   ]
  },
  {
   "cell_type": "code",
   "execution_count": 12,
   "metadata": {},
   "outputs": [
    {
     "name": "stdout",
     "output_type": "stream",
     "text": [
      "Test Error: \n",
      " Accuracy: 94.6%, Avg loss: 0.954073 \n",
      "\n",
      "Confusion Matrix:\n",
      "[[464   6   0  12   0]\n",
      " [ 50 720   2  33   2]\n",
      " [  0   0 639   3   1]\n",
      " [ 15  10   0 758   9]\n",
      " [  1   2   1  12 780]]\n"
     ]
    }
   ],
   "source": [
    "predictions, labels = test_loop(dl_test, model, loss_fn)\n",
    "\n",
    "# Compute and print confusion matrix\n",
    "cm = confusion_matrix(labels, predictions)\n",
    "print(\"Confusion Matrix:\")\n",
    "print(cm)"
   ]
  },
  {
   "cell_type": "code",
   "execution_count": 13,
   "metadata": {},
   "outputs": [
    {
     "data": {
      "image/png": "[encoded data removed]",
      "text/plain": [
       "<Figure size 640x480 with 2 Axes>"
      ]
     },
     "metadata": {},
     "output_type": "display_data"
    }
   ],
   "source": [
    "# plotting parameters\n",
    "sns.set_style('whitegrid')\n",
    "sns.set_palette('muted')\n",
    "plt.rc('xtick', labelsize=12)  # Set x-tick label size\n",
    "plt.rc('ytick', labelsize=12)  # Set y-tick label size\n",
    "\n",
    "# Plotting the confusion matrix\n",
    "ax = sns.heatmap(cm, \n",
    "            annot=True,\n",
    "            annot_kws={\"fontsize\":16},\n",
    "            fmt=\".0f\",\n",
    "            xticklabels=['Austen', 'Dostoyevsky', 'God', 'Cervantes', 'Sturluson'],\n",
    "            yticklabels=['Austen', 'Dostoyevsky', 'God', 'Cervantes', 'Sturluson'],\n",
    "            cmap='crest')\n",
    "plt.ylabel('True label', fontsize=15)\n",
    "ax.set(xlabel=\" \", ylabel=\"True label\")\n",
    "ax.xaxis.tick_top()\n",
    "ax.yaxis.tick_left()\n",
    "\n",
    "plt.gca().figure.text(0.45, 0.95, 'Predicted label', ha='center', fontsize=15)\n",
    "plt.show()"
   ]
  },
  {
   "cell_type": "markdown",
   "metadata": {},
   "source": [
    "### Scikit-learn wrapping using `skorch`"
   ]
  },
  {
   "cell_type": "code",
   "execution_count": 15,
   "metadata": {},
   "outputs": [
    {
     "name": "stdout",
     "output_type": "stream",
     "text": [
      "  epoch    train_loss    valid_acc    valid_loss     dur\n",
      "-------  ------------  -----------  ------------  ------\n",
      "      1        \u001b[36m1.3867\u001b[0m       \u001b[32m0.8427\u001b[0m        \u001b[35m1.1679\u001b[0m  0.1288\n",
      "      2        \u001b[36m0.9805\u001b[0m       \u001b[32m0.9535\u001b[0m        \u001b[35m0.7775\u001b[0m  0.1337\n",
      "      3        \u001b[36m0.6425\u001b[0m       \u001b[32m0.9873\u001b[0m        \u001b[35m0.5055\u001b[0m  0.1625\n",
      "      4        \u001b[36m0.4288\u001b[0m       \u001b[32m0.9905\u001b[0m        \u001b[35m0.3483\u001b[0m  0.1328\n",
      "      5        \u001b[36m0.3062\u001b[0m       \u001b[32m0.9916\u001b[0m        \u001b[35m0.2578\u001b[0m  0.1072\n",
      "      6        \u001b[36m0.2328\u001b[0m       0.9894        \u001b[35m0.2030\u001b[0m  0.1487\n",
      "      7        \u001b[36m0.1863\u001b[0m       0.9905        \u001b[35m0.1665\u001b[0m  0.1358\n",
      "      8        \u001b[36m0.1551\u001b[0m       0.9916        \u001b[35m0.1417\u001b[0m  0.1105\n",
      "      9        \u001b[36m0.1329\u001b[0m       0.9894        \u001b[35m0.1242\u001b[0m  0.0935\n",
      "     10        \u001b[36m0.1165\u001b[0m       0.9916        \u001b[35m0.1105\u001b[0m  0.1186\n"
     ]
    }
   ],
   "source": [
    "net = skorch.NeuralNetClassifier(\n",
    "    NeuralNet,\n",
    "    max_epochs=10,\n",
    "    lr=0.01,\n",
    "    # Shuffle training data on each epoch\n",
    "    iterator_train__shuffle=True,\n",
    ")\n",
    "\n",
    "net.fit(X_train, y_train)\n",
    "y_proba = net.predict_proba(X_train)"
   ]
  },
  {
   "cell_type": "code",
   "execution_count": 36,
   "metadata": {},
   "outputs": [],
   "source": [
    "indices = [int(X_train.shape[0]*(i/10)) for i in range(1, 11, 1)]"
   ]
  },
  {
   "cell_type": "code",
   "execution_count": 37,
   "metadata": {},
   "outputs": [
    {
     "name": "stdout",
     "output_type": "stream",
     "text": [
      "  epoch    train_loss    valid_acc    valid_loss     dur\n",
      "-------  ------------  -----------  ------------  ------\n",
      "      1        \u001b[36m1.6134\u001b[0m       \u001b[32m0.3059\u001b[0m        \u001b[35m1.5728\u001b[0m  0.0250\n",
      "      2        \u001b[36m1.5699\u001b[0m       \u001b[32m0.4941\u001b[0m        \u001b[35m1.5340\u001b[0m  0.0231\n",
      "      3        \u001b[36m1.5292\u001b[0m       \u001b[32m0.6706\u001b[0m        \u001b[35m1.4961\u001b[0m  0.0101\n",
      "      4        \u001b[36m1.4888\u001b[0m       \u001b[32m0.7765\u001b[0m        \u001b[35m1.4587\u001b[0m  0.0125\n",
      "      5        \u001b[36m1.4494\u001b[0m       \u001b[32m0.8000\u001b[0m        \u001b[35m1.4217\u001b[0m  0.0146\n",
      "      6        \u001b[36m1.4092\u001b[0m       \u001b[32m0.8118\u001b[0m        \u001b[35m1.3835\u001b[0m  0.0154\n",
      "      7        \u001b[36m1.3693\u001b[0m       0.8118        \u001b[35m1.3448\u001b[0m  0.0136\n",
      "      8        \u001b[36m1.3282\u001b[0m       0.8118        \u001b[35m1.3053\u001b[0m  0.0100\n",
      "      9        \u001b[36m1.2867\u001b[0m       0.8118        \u001b[35m1.2650\u001b[0m  0.0090\n",
      "     10        \u001b[36m1.2439\u001b[0m       \u001b[32m0.8353\u001b[0m        \u001b[35m1.2244\u001b[0m  0.0000\n",
      "  epoch    train_loss    valid_acc    valid_loss     dur\n",
      "-------  ------------  -----------  ------------  ------\n",
      "      1        \u001b[36m1.5979\u001b[0m       \u001b[32m0.4471\u001b[0m        \u001b[35m1.5431\u001b[0m  0.0118\n",
      "      2        \u001b[36m1.5475\u001b[0m       \u001b[32m0.6941\u001b[0m        \u001b[35m1.4939\u001b[0m  0.0125\n",
      "      3        \u001b[36m1.4987\u001b[0m       \u001b[32m0.8000\u001b[0m        \u001b[35m1.4469\u001b[0m  0.0097\n",
      "      4        \u001b[36m1.4522\u001b[0m       \u001b[32m0.8471\u001b[0m        \u001b[35m1.3999\u001b[0m  0.0071\n",
      "      5        \u001b[36m1.4063\u001b[0m       \u001b[32m0.8588\u001b[0m        \u001b[35m1.3545\u001b[0m  0.0221\n",
      "      6        \u001b[36m1.3614\u001b[0m       0.8588        \u001b[35m1.3113\u001b[0m  0.0053\n",
      "      7        \u001b[36m1.3179\u001b[0m       \u001b[32m0.8706\u001b[0m        \u001b[35m1.2678\u001b[0m  0.0220\n",
      "      8        \u001b[36m1.2752\u001b[0m       0.8706        \u001b[35m1.2243\u001b[0m  0.0140\n",
      "      9        \u001b[36m1.2316\u001b[0m       \u001b[32m0.8941\u001b[0m        \u001b[35m1.1811\u001b[0m  0.0138\n",
      "     10        \u001b[36m1.1888\u001b[0m       0.8941        \u001b[35m1.1372\u001b[0m  0.0146\n",
      "  epoch    train_loss    valid_acc    valid_loss     dur\n",
      "-------  ------------  -----------  ------------  ------\n",
      "      1        \u001b[36m1.6259\u001b[0m       \u001b[32m0.2588\u001b[0m        \u001b[35m1.5915\u001b[0m  0.0148\n",
      "      2        \u001b[36m1.5769\u001b[0m       \u001b[32m0.3882\u001b[0m        \u001b[35m1.5477\u001b[0m  0.0052\n",
      "      3        \u001b[36m1.5302\u001b[0m       \u001b[32m0.4588\u001b[0m        \u001b[35m1.5043\u001b[0m  0.0249\n",
      "      4        \u001b[36m1.4847\u001b[0m       \u001b[32m0.5294\u001b[0m        \u001b[35m1.4614\u001b[0m  0.0063\n",
      "      5        \u001b[36m1.4385\u001b[0m       \u001b[32m0.6353\u001b[0m        \u001b[35m1.4195\u001b[0m  0.0253\n",
      "      6        \u001b[36m1.3936\u001b[0m       \u001b[32m0.7059\u001b[0m        \u001b[35m1.3784\u001b[0m  0.0135\n",
      "      7        \u001b[36m1.3493\u001b[0m       \u001b[32m0.7176\u001b[0m        \u001b[35m1.3375\u001b[0m  0.0141\n",
      "      8        \u001b[36m1.3061\u001b[0m       \u001b[32m0.7412\u001b[0m        \u001b[35m1.2973\u001b[0m  0.0085\n",
      "      9        \u001b[36m1.2634\u001b[0m       \u001b[32m0.8000\u001b[0m        \u001b[35m1.2567\u001b[0m  0.0249\n",
      "     10        \u001b[36m1.2199\u001b[0m       \u001b[32m0.8353\u001b[0m        \u001b[35m1.2163\u001b[0m  0.0151\n",
      "  epoch    train_loss    valid_acc    valid_loss     dur\n",
      "-------  ------------  -----------  ------------  ------\n",
      "      1        \u001b[36m1.6117\u001b[0m       \u001b[32m0.2558\u001b[0m        \u001b[35m1.5737\u001b[0m  0.0198\n",
      "      2        \u001b[36m1.5617\u001b[0m       \u001b[32m0.5814\u001b[0m        \u001b[35m1.5311\u001b[0m  0.0149\n",
      "      3        \u001b[36m1.5156\u001b[0m       \u001b[32m0.6628\u001b[0m        \u001b[35m1.4904\u001b[0m  0.0147\n",
      "      4        \u001b[36m1.4705\u001b[0m       \u001b[32m0.7209\u001b[0m        \u001b[35m1.4517\u001b[0m  0.0155\n",
      "      5        \u001b[36m1.4285\u001b[0m       \u001b[32m0.7442\u001b[0m        \u001b[35m1.4130\u001b[0m  0.0168\n",
      "      6        \u001b[36m1.3864\u001b[0m       \u001b[32m0.7907\u001b[0m        \u001b[35m1.3750\u001b[0m  0.0182\n",
      "      7        \u001b[36m1.3430\u001b[0m       \u001b[32m0.8372\u001b[0m        \u001b[35m1.3364\u001b[0m  0.0135\n",
      "      8        \u001b[36m1.3009\u001b[0m       \u001b[32m0.8605\u001b[0m        \u001b[35m1.2972\u001b[0m  0.0147\n",
      "      9        \u001b[36m1.2579\u001b[0m       \u001b[32m0.8721\u001b[0m        \u001b[35m1.2574\u001b[0m  0.0160\n",
      "     10        \u001b[36m1.2142\u001b[0m       \u001b[32m0.9186\u001b[0m        \u001b[35m1.2171\u001b[0m  0.0130\n",
      "  epoch    train_loss    valid_acc    valid_loss     dur\n",
      "-------  ------------  -----------  ------------  ------\n",
      "      1        \u001b[36m1.6316\u001b[0m       \u001b[32m0.2209\u001b[0m        \u001b[35m1.5832\u001b[0m  0.0000\n",
      "      2        \u001b[36m1.5819\u001b[0m       \u001b[32m0.4535\u001b[0m        \u001b[35m1.5407\u001b[0m  0.0118\n",
      "      3        \u001b[36m1.5351\u001b[0m       \u001b[32m0.5465\u001b[0m        \u001b[35m1.4997\u001b[0m  0.0104\n",
      "      4        \u001b[36m1.4891\u001b[0m       \u001b[32m0.6512\u001b[0m        \u001b[35m1.4597\u001b[0m  0.0171\n",
      "      5        \u001b[36m1.4446\u001b[0m       \u001b[32m0.7093\u001b[0m        \u001b[35m1.4194\u001b[0m  0.0117\n",
      "      6        \u001b[36m1.4002\u001b[0m       \u001b[32m0.7791\u001b[0m        \u001b[35m1.3798\u001b[0m  0.0119\n",
      "      7        \u001b[36m1.3560\u001b[0m       \u001b[32m0.8023\u001b[0m        \u001b[35m1.3405\u001b[0m  0.0110\n",
      "      8        \u001b[36m1.3129\u001b[0m       0.7907        \u001b[35m1.3013\u001b[0m  0.0027\n",
      "      9        \u001b[36m1.2694\u001b[0m       \u001b[32m0.8256\u001b[0m        \u001b[35m1.2611\u001b[0m  0.0267\n",
      "     10        \u001b[36m1.2255\u001b[0m       \u001b[32m0.8605\u001b[0m        \u001b[35m1.2210\u001b[0m  0.0131\n",
      "  epoch    train_loss    valid_acc    valid_loss     dur\n",
      "-------  ------------  -----------  ------------  ------\n",
      "      1        \u001b[36m1.5745\u001b[0m       \u001b[32m0.3256\u001b[0m        \u001b[35m1.5443\u001b[0m  0.0100\n",
      "      2        \u001b[36m1.5230\u001b[0m       \u001b[32m0.4884\u001b[0m        \u001b[35m1.4985\u001b[0m  0.0067\n",
      "      3        \u001b[36m1.4730\u001b[0m       \u001b[32m0.5465\u001b[0m        \u001b[35m1.4537\u001b[0m  0.0228\n",
      "      4        \u001b[36m1.4236\u001b[0m       \u001b[32m0.5814\u001b[0m        \u001b[35m1.4092\u001b[0m  0.0045\n",
      "      5        \u001b[36m1.3752\u001b[0m       \u001b[32m0.6395\u001b[0m        \u001b[35m1.3648\u001b[0m  0.0254\n",
      "      6        \u001b[36m1.3274\u001b[0m       \u001b[32m0.6860\u001b[0m        \u001b[35m1.3201\u001b[0m  0.0114\n",
      "      7        \u001b[36m1.2789\u001b[0m       \u001b[32m0.7674\u001b[0m        \u001b[35m1.2755\u001b[0m  0.0205\n",
      "      8        \u001b[36m1.2306\u001b[0m       \u001b[32m0.8023\u001b[0m        \u001b[35m1.2307\u001b[0m  0.0107\n",
      "      9        \u001b[36m1.1823\u001b[0m       \u001b[32m0.8256\u001b[0m        \u001b[35m1.1858\u001b[0m  0.0212\n",
      "     10        \u001b[36m1.1347\u001b[0m       \u001b[32m0.8488\u001b[0m        \u001b[35m1.1418\u001b[0m  0.0125\n",
      "  epoch    train_loss    valid_acc    valid_loss     dur\n",
      "-------  ------------  -----------  ------------  ------\n",
      "      1        \u001b[36m1.6210\u001b[0m       \u001b[32m0.2442\u001b[0m        \u001b[35m1.5686\u001b[0m  0.0111\n",
      "      2        \u001b[36m1.5637\u001b[0m       \u001b[32m0.3837\u001b[0m        \u001b[35m1.5202\u001b[0m  0.0100\n",
      "      3        \u001b[36m1.5118\u001b[0m       \u001b[32m0.5000\u001b[0m        \u001b[35m1.4754\u001b[0m  0.0245\n",
      "      4        \u001b[36m1.4627\u001b[0m       \u001b[32m0.6744\u001b[0m        \u001b[35m1.4317\u001b[0m  0.0057\n",
      "      5        \u001b[36m1.4158\u001b[0m       \u001b[32m0.7209\u001b[0m        \u001b[35m1.3889\u001b[0m  0.0110\n",
      "      6        \u001b[36m1.3688\u001b[0m       \u001b[32m0.7674\u001b[0m        \u001b[35m1.3460\u001b[0m  0.0124\n",
      "      7        \u001b[36m1.3220\u001b[0m       \u001b[32m0.8372\u001b[0m        \u001b[35m1.3031\u001b[0m  0.0180\n",
      "      8        \u001b[36m1.2759\u001b[0m       \u001b[32m0.8488\u001b[0m        \u001b[35m1.2598\u001b[0m  0.0126\n",
      "      9        \u001b[36m1.2292\u001b[0m       \u001b[32m0.8953\u001b[0m        \u001b[35m1.2163\u001b[0m  0.0140\n",
      "     10        \u001b[36m1.1823\u001b[0m       \u001b[32m0.9070\u001b[0m        \u001b[35m1.1728\u001b[0m  0.0133\n",
      "  epoch    train_loss    valid_acc    valid_loss     dur\n",
      "-------  ------------  -----------  ------------  ------\n",
      "      1        \u001b[36m1.5903\u001b[0m       \u001b[32m0.4070\u001b[0m        \u001b[35m1.5298\u001b[0m  0.0237\n",
      "      2        \u001b[36m1.5391\u001b[0m       \u001b[32m0.5349\u001b[0m        \u001b[35m1.4849\u001b[0m  0.0146\n",
      "      3        \u001b[36m1.4914\u001b[0m       \u001b[32m0.6163\u001b[0m        \u001b[35m1.4413\u001b[0m  0.0106\n",
      "      4        \u001b[36m1.4420\u001b[0m       \u001b[32m0.7791\u001b[0m        \u001b[35m1.3993\u001b[0m  0.0119\n",
      "      5        \u001b[36m1.3952\u001b[0m       0.7791        \u001b[35m1.3579\u001b[0m  0.0000\n",
      "      6        \u001b[36m1.3495\u001b[0m       \u001b[32m0.8372\u001b[0m        \u001b[35m1.3170\u001b[0m  0.0264\n",
      "      7        \u001b[36m1.3045\u001b[0m       \u001b[32m0.8721\u001b[0m        \u001b[35m1.2766\u001b[0m  0.0127\n",
      "      8        \u001b[36m1.2600\u001b[0m       \u001b[32m0.8953\u001b[0m        \u001b[35m1.2354\u001b[0m  0.0130\n",
      "      9        \u001b[36m1.2152\u001b[0m       \u001b[32m0.9070\u001b[0m        \u001b[35m1.1944\u001b[0m  0.0098\n",
      "     10        \u001b[36m1.1713\u001b[0m       \u001b[32m0.9186\u001b[0m        \u001b[35m1.1534\u001b[0m  0.0060\n",
      "  epoch    train_loss    valid_acc    valid_loss     dur\n",
      "-------  ------------  -----------  ------------  ------\n",
      "      1        \u001b[36m1.5891\u001b[0m       \u001b[32m0.3023\u001b[0m        \u001b[35m1.5569\u001b[0m  0.0083\n",
      "      2        \u001b[36m1.5380\u001b[0m       \u001b[32m0.4651\u001b[0m        \u001b[35m1.5114\u001b[0m  0.0045\n",
      "      3        \u001b[36m1.4892\u001b[0m       \u001b[32m0.5116\u001b[0m        \u001b[35m1.4680\u001b[0m  0.0195\n",
      "      4        \u001b[36m1.4418\u001b[0m       \u001b[32m0.5349\u001b[0m        \u001b[35m1.4258\u001b[0m  0.0120\n",
      "      5        \u001b[36m1.3961\u001b[0m       \u001b[32m0.5814\u001b[0m        \u001b[35m1.3841\u001b[0m  0.0113\n",
      "      6        \u001b[36m1.3507\u001b[0m       \u001b[32m0.6047\u001b[0m        \u001b[35m1.3430\u001b[0m  0.0100\n",
      "      7        \u001b[36m1.3061\u001b[0m       \u001b[32m0.6395\u001b[0m        \u001b[35m1.3023\u001b[0m  0.0116\n",
      "      8        \u001b[36m1.2619\u001b[0m       \u001b[32m0.6628\u001b[0m        \u001b[35m1.2616\u001b[0m  0.0110\n",
      "      9        \u001b[36m1.2181\u001b[0m       \u001b[32m0.6977\u001b[0m        \u001b[35m1.2213\u001b[0m  0.0080\n",
      "     10        \u001b[36m1.1743\u001b[0m       \u001b[32m0.7558\u001b[0m        \u001b[35m1.1813\u001b[0m  0.0014\n",
      "  epoch    train_loss    valid_acc    valid_loss     dur\n",
      "-------  ------------  -----------  ------------  ------\n",
      "      1        \u001b[36m1.6035\u001b[0m       \u001b[32m0.2674\u001b[0m        \u001b[35m1.5717\u001b[0m  0.0090\n",
      "      2        \u001b[36m1.5564\u001b[0m       \u001b[32m0.4767\u001b[0m        \u001b[35m1.5299\u001b[0m  0.0137\n",
      "      3        \u001b[36m1.5129\u001b[0m       \u001b[32m0.6163\u001b[0m        \u001b[35m1.4901\u001b[0m  0.0111\n",
      "      4        \u001b[36m1.4706\u001b[0m       \u001b[32m0.7442\u001b[0m        \u001b[35m1.4517\u001b[0m  0.0091\n",
      "      5        \u001b[36m1.4289\u001b[0m       \u001b[32m0.8023\u001b[0m        \u001b[35m1.4132\u001b[0m  0.0060\n",
      "      6        \u001b[36m1.3883\u001b[0m       \u001b[32m0.8140\u001b[0m        \u001b[35m1.3744\u001b[0m  0.0177\n",
      "      7        \u001b[36m1.3460\u001b[0m       \u001b[32m0.8605\u001b[0m        \u001b[35m1.3349\u001b[0m  0.0091\n",
      "      8        \u001b[36m1.3031\u001b[0m       0.8605        \u001b[35m1.2945\u001b[0m  0.0000\n",
      "      9        \u001b[36m1.2596\u001b[0m       \u001b[32m0.8721\u001b[0m        \u001b[35m1.2544\u001b[0m  0.0261\n",
      "     10        \u001b[36m1.2160\u001b[0m       \u001b[32m0.8953\u001b[0m        \u001b[35m1.2135\u001b[0m  0.0135\n",
      "  epoch    train_loss    valid_acc    valid_loss     dur\n",
      "-------  ------------  -----------  ------------  ------\n",
      "      1        \u001b[36m1.6241\u001b[0m       \u001b[32m0.3392\u001b[0m        \u001b[35m1.5680\u001b[0m  0.0180\n",
      "      2        \u001b[36m1.5370\u001b[0m       \u001b[32m0.6608\u001b[0m        \u001b[35m1.4858\u001b[0m  0.0226\n",
      "      3        \u001b[36m1.4542\u001b[0m       \u001b[32m0.7778\u001b[0m        \u001b[35m1.4053\u001b[0m  0.0249\n",
      "      4        \u001b[36m1.3719\u001b[0m       \u001b[32m0.7953\u001b[0m        \u001b[35m1.3237\u001b[0m  0.0288\n",
      "      5        \u001b[36m1.2884\u001b[0m       \u001b[32m0.8129\u001b[0m        \u001b[35m1.2409\u001b[0m  0.0210\n",
      "      6        \u001b[36m1.2036\u001b[0m       \u001b[32m0.8187\u001b[0m        \u001b[35m1.1566\u001b[0m  0.0236\n",
      "      7        \u001b[36m1.1191\u001b[0m       \u001b[32m0.8246\u001b[0m        \u001b[35m1.0719\u001b[0m  0.0231\n",
      "      8        \u001b[36m1.0333\u001b[0m       \u001b[32m0.8538\u001b[0m        \u001b[35m0.9895\u001b[0m  0.0247\n",
      "      9        \u001b[36m0.9515\u001b[0m       \u001b[32m0.8830\u001b[0m        \u001b[35m0.9120\u001b[0m  0.0277\n",
      "     10        \u001b[36m0.8745\u001b[0m       \u001b[32m0.8947\u001b[0m        \u001b[35m0.8378\u001b[0m  0.0208\n",
      "  epoch    train_loss    valid_acc    valid_loss     dur\n",
      "-------  ------------  -----------  ------------  ------\n",
      "      1        \u001b[36m1.5866\u001b[0m       \u001b[32m0.5673\u001b[0m        \u001b[35m1.5333\u001b[0m  0.0272\n",
      "      2        \u001b[36m1.5019\u001b[0m       \u001b[32m0.7778\u001b[0m        \u001b[35m1.4510\u001b[0m  0.0266\n",
      "      3        \u001b[36m1.4187\u001b[0m       \u001b[32m0.8480\u001b[0m        \u001b[35m1.3705\u001b[0m  0.0196\n",
      "      4        \u001b[36m1.3364\u001b[0m       \u001b[32m0.8830\u001b[0m        \u001b[35m1.2895\u001b[0m  0.0251\n",
      "      5        \u001b[36m1.2539\u001b[0m       \u001b[32m0.9181\u001b[0m        \u001b[35m1.2078\u001b[0m  0.0104\n",
      "      6        \u001b[36m1.1695\u001b[0m       \u001b[32m0.9298\u001b[0m        \u001b[35m1.1250\u001b[0m  0.0334\n",
      "      7        \u001b[36m1.0859\u001b[0m       \u001b[32m0.9357\u001b[0m        \u001b[35m1.0425\u001b[0m  0.0293\n",
      "      8        \u001b[36m1.0020\u001b[0m       \u001b[32m0.9649\u001b[0m        \u001b[35m0.9633\u001b[0m  0.0250\n",
      "      9        \u001b[36m0.9226\u001b[0m       0.9649        \u001b[35m0.8876\u001b[0m  0.0292\n",
      "     10        \u001b[36m0.8472\u001b[0m       0.9649        \u001b[35m0.8161\u001b[0m  0.0263\n",
      "  epoch    train_loss    valid_acc    valid_loss     dur\n",
      "-------  ------------  -----------  ------------  ------\n",
      "      1        \u001b[36m1.5626\u001b[0m       \u001b[32m0.4444\u001b[0m        \u001b[35m1.5159\u001b[0m  0.0218\n",
      "      2        \u001b[36m1.4739\u001b[0m       \u001b[32m0.6023\u001b[0m        \u001b[35m1.4312\u001b[0m  0.0167\n",
      "      3        \u001b[36m1.3865\u001b[0m       \u001b[32m0.7135\u001b[0m        \u001b[35m1.3471\u001b[0m  0.0277\n",
      "      4        \u001b[36m1.2995\u001b[0m       \u001b[32m0.8070\u001b[0m        \u001b[35m1.2626\u001b[0m  0.0389\n",
      "      5        \u001b[36m1.2120\u001b[0m       \u001b[32m0.8772\u001b[0m        \u001b[35m1.1776\u001b[0m  0.0342\n",
      "      6        \u001b[36m1.1243\u001b[0m       \u001b[32m0.9064\u001b[0m        \u001b[35m1.0916\u001b[0m  0.0240\n",
      "      7        \u001b[36m1.0375\u001b[0m       \u001b[32m0.9123\u001b[0m        \u001b[35m1.0092\u001b[0m  0.0204\n",
      "      8        \u001b[36m0.9546\u001b[0m       \u001b[32m0.9181\u001b[0m        \u001b[35m0.9294\u001b[0m  0.0275\n",
      "      9        \u001b[36m0.8748\u001b[0m       \u001b[32m0.9357\u001b[0m        \u001b[35m0.8547\u001b[0m  0.0274\n",
      "     10        \u001b[36m0.8012\u001b[0m       \u001b[32m0.9649\u001b[0m        \u001b[35m0.7840\u001b[0m  0.0294\n",
      "  epoch    train_loss    valid_acc    valid_loss     dur\n",
      "-------  ------------  -----------  ------------  ------\n",
      "      1        \u001b[36m1.5621\u001b[0m       \u001b[32m0.3684\u001b[0m        \u001b[35m1.5147\u001b[0m  0.0254\n",
      "      2        \u001b[36m1.4699\u001b[0m       \u001b[32m0.5731\u001b[0m        \u001b[35m1.4273\u001b[0m  0.0264\n",
      "      3        \u001b[36m1.3794\u001b[0m       \u001b[32m0.7018\u001b[0m        \u001b[35m1.3403\u001b[0m  0.0292\n",
      "      4        \u001b[36m1.2896\u001b[0m       \u001b[32m0.8363\u001b[0m        \u001b[35m1.2532\u001b[0m  0.0313\n",
      "      5        \u001b[36m1.1994\u001b[0m       0.8363        \u001b[35m1.1667\u001b[0m  0.0320\n",
      "      6        \u001b[36m1.1107\u001b[0m       \u001b[32m0.8421\u001b[0m        \u001b[35m1.0820\u001b[0m  0.0252\n",
      "      7        \u001b[36m1.0243\u001b[0m       \u001b[32m0.9006\u001b[0m        \u001b[35m0.9980\u001b[0m  0.0328\n",
      "      8        \u001b[36m0.9396\u001b[0m       \u001b[32m0.9415\u001b[0m        \u001b[35m0.9177\u001b[0m  0.0290\n",
      "      9        \u001b[36m0.8595\u001b[0m       0.9415        \u001b[35m0.8411\u001b[0m  0.0275\n",
      "     10        \u001b[36m0.7849\u001b[0m       \u001b[32m0.9474\u001b[0m        \u001b[35m0.7708\u001b[0m  0.0198\n",
      "  epoch    train_loss    valid_acc    valid_loss     dur\n",
      "-------  ------------  -----------  ------------  ------\n",
      "      1        \u001b[36m1.5361\u001b[0m       \u001b[32m0.6316\u001b[0m        \u001b[35m1.4754\u001b[0m  0.0326\n",
      "      2        \u001b[36m1.4472\u001b[0m       \u001b[32m0.7778\u001b[0m        \u001b[35m1.3917\u001b[0m  0.0325\n",
      "      3        \u001b[36m1.3598\u001b[0m       \u001b[32m0.8363\u001b[0m        \u001b[35m1.3083\u001b[0m  0.0279\n",
      "      4        \u001b[36m1.2725\u001b[0m       0.8363        \u001b[35m1.2234\u001b[0m  0.0291\n",
      "      5        \u001b[36m1.1850\u001b[0m       \u001b[32m0.8480\u001b[0m        \u001b[35m1.1381\u001b[0m  0.0294\n",
      "      6        \u001b[36m1.0985\u001b[0m       \u001b[32m0.8713\u001b[0m        \u001b[35m1.0544\u001b[0m  0.0306\n",
      "      7        \u001b[36m1.0142\u001b[0m       \u001b[32m0.9064\u001b[0m        \u001b[35m0.9735\u001b[0m  0.0222\n",
      "      8        \u001b[36m0.9328\u001b[0m       \u001b[32m0.9298\u001b[0m        \u001b[35m0.8955\u001b[0m  0.0271\n",
      "      9        \u001b[36m0.8554\u001b[0m       \u001b[32m0.9532\u001b[0m        \u001b[35m0.8222\u001b[0m  0.0320\n",
      "     10        \u001b[36m0.7836\u001b[0m       \u001b[32m0.9649\u001b[0m        \u001b[35m0.7540\u001b[0m  0.0387\n",
      "  epoch    train_loss    valid_acc    valid_loss     dur\n",
      "-------  ------------  -----------  ------------  ------\n",
      "      1        \u001b[36m1.5932\u001b[0m       \u001b[32m0.4971\u001b[0m        \u001b[35m1.5182\u001b[0m  0.0281\n",
      "      2        \u001b[36m1.4846\u001b[0m       \u001b[32m0.7427\u001b[0m        \u001b[35m1.4232\u001b[0m  0.0270\n",
      "      3        \u001b[36m1.3883\u001b[0m       \u001b[32m0.8070\u001b[0m        \u001b[35m1.3336\u001b[0m  0.0201\n",
      "      4        \u001b[36m1.2949\u001b[0m       \u001b[32m0.8480\u001b[0m        \u001b[35m1.2439\u001b[0m  0.0067\n",
      "      5        \u001b[36m1.2026\u001b[0m       0.8421        \u001b[35m1.1559\u001b[0m  0.0334\n",
      "      6        \u001b[36m1.1113\u001b[0m       \u001b[32m0.8772\u001b[0m        \u001b[35m1.0689\u001b[0m  0.0256\n",
      "      7        \u001b[36m1.0228\u001b[0m       \u001b[32m0.9064\u001b[0m        \u001b[35m0.9843\u001b[0m  0.0222\n",
      "      8        \u001b[36m0.9373\u001b[0m       \u001b[32m0.9240\u001b[0m        \u001b[35m0.9036\u001b[0m  0.0168\n",
      "      9        \u001b[36m0.8567\u001b[0m       \u001b[32m0.9298\u001b[0m        \u001b[35m0.8288\u001b[0m  0.0341\n",
      "     10        \u001b[36m0.7826\u001b[0m       \u001b[32m0.9474\u001b[0m        \u001b[35m0.7589\u001b[0m  0.0216\n",
      "  epoch    train_loss    valid_acc    valid_loss     dur\n",
      "-------  ------------  -----------  ------------  ------\n",
      "      1        \u001b[36m1.5924\u001b[0m       \u001b[32m0.4912\u001b[0m        \u001b[35m1.5281\u001b[0m  0.0182\n",
      "      2        \u001b[36m1.4957\u001b[0m       \u001b[32m0.6725\u001b[0m        \u001b[35m1.4403\u001b[0m  0.0357\n",
      "      3        \u001b[36m1.4054\u001b[0m       \u001b[32m0.7544\u001b[0m        \u001b[35m1.3554\u001b[0m  0.0460\n",
      "      4        \u001b[36m1.3172\u001b[0m       \u001b[32m0.7953\u001b[0m        \u001b[35m1.2713\u001b[0m  0.0312\n",
      "      5        \u001b[36m1.2303\u001b[0m       \u001b[32m0.8655\u001b[0m        \u001b[35m1.1870\u001b[0m  0.0239\n",
      "      6        \u001b[36m1.1425\u001b[0m       \u001b[32m0.9298\u001b[0m        \u001b[35m1.1035\u001b[0m  0.0296\n",
      "      7        \u001b[36m1.0565\u001b[0m       \u001b[32m0.9357\u001b[0m        \u001b[35m1.0199\u001b[0m  0.0309\n",
      "      8        \u001b[36m0.9715\u001b[0m       \u001b[32m0.9532\u001b[0m        \u001b[35m0.9388\u001b[0m  0.0222\n",
      "      9        \u001b[36m0.8905\u001b[0m       \u001b[32m0.9591\u001b[0m        \u001b[35m0.8625\u001b[0m  0.0185\n",
      "     10        \u001b[36m0.8149\u001b[0m       0.9591        \u001b[35m0.7913\u001b[0m  0.0201\n",
      "  epoch    train_loss    valid_acc    valid_loss     dur\n",
      "-------  ------------  -----------  ------------  ------\n",
      "      1        \u001b[36m1.6181\u001b[0m       \u001b[32m0.3275\u001b[0m        \u001b[35m1.5591\u001b[0m  0.0218\n",
      "      2        \u001b[36m1.5280\u001b[0m       \u001b[32m0.7427\u001b[0m        \u001b[35m1.4795\u001b[0m  0.0242\n",
      "      3        \u001b[36m1.4468\u001b[0m       \u001b[32m0.9064\u001b[0m        \u001b[35m1.4032\u001b[0m  0.0191\n",
      "      4        \u001b[36m1.3670\u001b[0m       \u001b[32m0.9357\u001b[0m        \u001b[35m1.3276\u001b[0m  0.0205\n",
      "      5        \u001b[36m1.2876\u001b[0m       \u001b[32m0.9532\u001b[0m        \u001b[35m1.2510\u001b[0m  0.0194\n",
      "      6        \u001b[36m1.2073\u001b[0m       \u001b[32m0.9591\u001b[0m        \u001b[35m1.1719\u001b[0m  0.0199\n",
      "      7        \u001b[36m1.1238\u001b[0m       0.9591        \u001b[35m1.0917\u001b[0m  0.0206\n",
      "      8        \u001b[36m1.0417\u001b[0m       \u001b[32m0.9766\u001b[0m        \u001b[35m1.0126\u001b[0m  0.0191\n",
      "      9        \u001b[36m0.9605\u001b[0m       \u001b[32m0.9825\u001b[0m        \u001b[35m0.9350\u001b[0m  0.0157\n",
      "     10        \u001b[36m0.8819\u001b[0m       0.9825        \u001b[35m0.8609\u001b[0m  0.0246\n",
      "  epoch    train_loss    valid_acc    valid_loss     dur\n",
      "-------  ------------  -----------  ------------  ------\n",
      "      1        \u001b[36m1.5644\u001b[0m       \u001b[32m0.5146\u001b[0m        \u001b[35m1.5174\u001b[0m  0.0191\n",
      "      2        \u001b[36m1.4776\u001b[0m       \u001b[32m0.7895\u001b[0m        \u001b[35m1.4390\u001b[0m  0.0190\n",
      "      3        \u001b[36m1.3958\u001b[0m       \u001b[32m0.8772\u001b[0m        \u001b[35m1.3607\u001b[0m  0.0180\n",
      "      4        \u001b[36m1.3134\u001b[0m       \u001b[32m0.8830\u001b[0m        \u001b[35m1.2816\u001b[0m  0.0231\n",
      "      5        \u001b[36m1.2310\u001b[0m       \u001b[32m0.9240\u001b[0m        \u001b[35m1.2003\u001b[0m  0.0179\n",
      "      6        \u001b[36m1.1469\u001b[0m       0.9064        \u001b[35m1.1184\u001b[0m  0.0335\n",
      "      7        \u001b[36m1.0622\u001b[0m       \u001b[32m0.9532\u001b[0m        \u001b[35m1.0369\u001b[0m  0.0192\n",
      "      8        \u001b[36m0.9796\u001b[0m       0.9532        \u001b[35m0.9587\u001b[0m  0.0212\n",
      "      9        \u001b[36m0.9002\u001b[0m       0.9532        \u001b[35m0.8843\u001b[0m  0.0270\n",
      "     10        \u001b[36m0.8264\u001b[0m       \u001b[32m0.9708\u001b[0m        \u001b[35m0.8139\u001b[0m  0.0230\n",
      "  epoch    train_loss    valid_acc    valid_loss     dur\n",
      "-------  ------------  -----------  ------------  ------\n",
      "      1        \u001b[36m1.5791\u001b[0m       \u001b[32m0.4678\u001b[0m        \u001b[35m1.5138\u001b[0m  0.0087\n",
      "      2        \u001b[36m1.4862\u001b[0m       \u001b[32m0.6374\u001b[0m        \u001b[35m1.4289\u001b[0m  0.0342\n",
      "      3        \u001b[36m1.3998\u001b[0m       \u001b[32m0.7836\u001b[0m        \u001b[35m1.3447\u001b[0m  0.0240\n",
      "      4        \u001b[36m1.3129\u001b[0m       \u001b[32m0.8889\u001b[0m        \u001b[35m1.2609\u001b[0m  0.0200\n",
      "      5        \u001b[36m1.2266\u001b[0m       \u001b[32m0.9006\u001b[0m        \u001b[35m1.1766\u001b[0m  0.0196\n",
      "      6        \u001b[36m1.1405\u001b[0m       \u001b[32m0.9532\u001b[0m        \u001b[35m1.0935\u001b[0m  0.0231\n",
      "      7        \u001b[36m1.0565\u001b[0m       \u001b[32m0.9708\u001b[0m        \u001b[35m1.0104\u001b[0m  0.0071\n",
      "      8        \u001b[36m0.9737\u001b[0m       0.9708        \u001b[35m0.9314\u001b[0m  0.0227\n",
      "      9        \u001b[36m0.8944\u001b[0m       0.9708        \u001b[35m0.8558\u001b[0m  0.0202\n",
      "     10        \u001b[36m0.8196\u001b[0m       \u001b[32m0.9825\u001b[0m        \u001b[35m0.7854\u001b[0m  0.0190\n",
      "  epoch    train_loss    valid_acc    valid_loss     dur\n",
      "-------  ------------  -----------  ------------  ------\n",
      "      1        \u001b[36m1.5864\u001b[0m       \u001b[32m0.4102\u001b[0m        \u001b[35m1.5242\u001b[0m  0.0263\n",
      "      2        \u001b[36m1.4826\u001b[0m       \u001b[32m0.6914\u001b[0m        \u001b[35m1.4254\u001b[0m  0.0267\n",
      "      3        \u001b[36m1.3821\u001b[0m       \u001b[32m0.7773\u001b[0m        \u001b[35m1.3250\u001b[0m  0.0191\n",
      "      4        \u001b[36m1.2786\u001b[0m       \u001b[32m0.8125\u001b[0m        \u001b[35m1.2201\u001b[0m  0.0609\n",
      "      5        \u001b[36m1.1706\u001b[0m       \u001b[32m0.8398\u001b[0m        \u001b[35m1.1119\u001b[0m  0.0358\n",
      "      6        \u001b[36m1.0605\u001b[0m       \u001b[32m0.8906\u001b[0m        \u001b[35m1.0036\u001b[0m  0.0312\n",
      "      7        \u001b[36m0.9525\u001b[0m       \u001b[32m0.9414\u001b[0m        \u001b[35m0.8999\u001b[0m  0.0288\n",
      "      8        \u001b[36m0.8507\u001b[0m       \u001b[32m0.9453\u001b[0m        \u001b[35m0.8036\u001b[0m  0.0284\n",
      "      9        \u001b[36m0.7578\u001b[0m       \u001b[32m0.9570\u001b[0m        \u001b[35m0.7167\u001b[0m  0.0277\n",
      "     10        \u001b[36m0.6740\u001b[0m       0.9570        \u001b[35m0.6398\u001b[0m  0.0315\n",
      "  epoch    train_loss    valid_acc    valid_loss     dur\n",
      "-------  ------------  -----------  ------------  ------\n",
      "      1        \u001b[36m1.5498\u001b[0m       \u001b[32m0.6719\u001b[0m        \u001b[35m1.4729\u001b[0m  0.0307\n",
      "      2        \u001b[36m1.4233\u001b[0m       \u001b[32m0.7852\u001b[0m        \u001b[35m1.3526\u001b[0m  0.0342\n",
      "      3        \u001b[36m1.3017\u001b[0m       \u001b[32m0.8086\u001b[0m        \u001b[35m1.2355\u001b[0m  0.0336\n",
      "      4        \u001b[36m1.1835\u001b[0m       \u001b[32m0.8359\u001b[0m        \u001b[35m1.1202\u001b[0m  0.0314\n",
      "      5        \u001b[36m1.0675\u001b[0m       \u001b[32m0.8555\u001b[0m        \u001b[35m1.0088\u001b[0m  0.0358\n",
      "      6        \u001b[36m0.9571\u001b[0m       \u001b[32m0.8594\u001b[0m        \u001b[35m0.9037\u001b[0m  0.0320\n",
      "      7        \u001b[36m0.8549\u001b[0m       \u001b[32m0.8867\u001b[0m        \u001b[35m0.8073\u001b[0m  0.0313\n",
      "      8        \u001b[36m0.7615\u001b[0m       \u001b[32m0.9141\u001b[0m        \u001b[35m0.7209\u001b[0m  0.0282\n",
      "      9        \u001b[36m0.6792\u001b[0m       \u001b[32m0.9531\u001b[0m        \u001b[35m0.6447\u001b[0m  0.0420\n",
      "     10        \u001b[36m0.6062\u001b[0m       \u001b[32m0.9766\u001b[0m        \u001b[35m0.5778\u001b[0m  0.0321\n",
      "  epoch    train_loss    valid_acc    valid_loss     dur\n",
      "-------  ------------  -----------  ------------  ------\n",
      "      1        \u001b[36m1.5669\u001b[0m       \u001b[32m0.4805\u001b[0m        \u001b[35m1.5116\u001b[0m  0.0283\n",
      "      2        \u001b[36m1.4619\u001b[0m       \u001b[32m0.6367\u001b[0m        \u001b[35m1.4076\u001b[0m  0.0470\n",
      "      3        \u001b[36m1.3555\u001b[0m       \u001b[32m0.7656\u001b[0m        \u001b[35m1.3000\u001b[0m  0.0518\n",
      "      4        \u001b[36m1.2452\u001b[0m       \u001b[32m0.8047\u001b[0m        \u001b[35m1.1890\u001b[0m  0.0291\n",
      "      5        \u001b[36m1.1330\u001b[0m       \u001b[32m0.8477\u001b[0m        \u001b[35m1.0780\u001b[0m  0.0143\n",
      "      6        \u001b[36m1.0223\u001b[0m       \u001b[32m0.8789\u001b[0m        \u001b[35m0.9701\u001b[0m  0.0339\n",
      "      7        \u001b[36m0.9160\u001b[0m       \u001b[32m0.9258\u001b[0m        \u001b[35m0.8676\u001b[0m  0.0335\n",
      "      8        \u001b[36m0.8171\u001b[0m       \u001b[32m0.9453\u001b[0m        \u001b[35m0.7735\u001b[0m  0.0442\n",
      "      9        \u001b[36m0.7277\u001b[0m       \u001b[32m0.9805\u001b[0m        \u001b[35m0.6891\u001b[0m  0.0314\n",
      "     10        \u001b[36m0.6474\u001b[0m       0.9805        \u001b[35m0.6151\u001b[0m  0.0173\n",
      "  epoch    train_loss    valid_acc    valid_loss     dur\n",
      "-------  ------------  -----------  ------------  ------\n",
      "      1        \u001b[36m1.5687\u001b[0m       \u001b[32m0.4922\u001b[0m        \u001b[35m1.5067\u001b[0m  0.0331\n",
      "      2        \u001b[36m1.4580\u001b[0m       \u001b[32m0.6094\u001b[0m        \u001b[35m1.4030\u001b[0m  0.0336\n",
      "      3        \u001b[36m1.3523\u001b[0m       \u001b[32m0.7422\u001b[0m        \u001b[35m1.3002\u001b[0m  0.0348\n",
      "      4        \u001b[36m1.2466\u001b[0m       \u001b[32m0.8125\u001b[0m        \u001b[35m1.1954\u001b[0m  0.0308\n",
      "      5        \u001b[36m1.1400\u001b[0m       \u001b[32m0.8516\u001b[0m        \u001b[35m1.0897\u001b[0m  0.0308\n",
      "      6        \u001b[36m1.0347\u001b[0m       \u001b[32m0.9023\u001b[0m        \u001b[35m0.9860\u001b[0m  0.0296\n",
      "      7        \u001b[36m0.9320\u001b[0m       \u001b[32m0.9258\u001b[0m        \u001b[35m0.8874\u001b[0m  0.0307\n",
      "      8        \u001b[36m0.8362\u001b[0m       \u001b[32m0.9648\u001b[0m        \u001b[35m0.7956\u001b[0m  0.0325\n",
      "      9        \u001b[36m0.7485\u001b[0m       \u001b[32m0.9805\u001b[0m        \u001b[35m0.7122\u001b[0m  0.0334\n",
      "     10        \u001b[36m0.6690\u001b[0m       0.9805        \u001b[35m0.6376\u001b[0m  0.0389\n",
      "  epoch    train_loss    valid_acc    valid_loss     dur\n",
      "-------  ------------  -----------  ------------  ------\n",
      "      1        \u001b[36m1.5592\u001b[0m       \u001b[32m0.6211\u001b[0m        \u001b[35m1.4898\u001b[0m  0.0528\n",
      "      2        \u001b[36m1.4459\u001b[0m       \u001b[32m0.7695\u001b[0m        \u001b[35m1.3803\u001b[0m  0.0336\n",
      "      3        \u001b[36m1.3335\u001b[0m       \u001b[32m0.8047\u001b[0m        \u001b[35m1.2680\u001b[0m  0.0357\n",
      "      4        \u001b[36m1.2180\u001b[0m       \u001b[32m0.8359\u001b[0m        \u001b[35m1.1527\u001b[0m  0.0325\n",
      "      5        \u001b[36m1.1022\u001b[0m       \u001b[32m0.8945\u001b[0m        \u001b[35m1.0389\u001b[0m  0.0302\n",
      "      6        \u001b[36m0.9897\u001b[0m       \u001b[32m0.9297\u001b[0m        \u001b[35m0.9300\u001b[0m  0.0292\n",
      "      7        \u001b[36m0.8837\u001b[0m       \u001b[32m0.9492\u001b[0m        \u001b[35m0.8292\u001b[0m  0.0283\n",
      "      8        \u001b[36m0.7868\u001b[0m       \u001b[32m0.9688\u001b[0m        \u001b[35m0.7379\u001b[0m  0.0246\n",
      "      9        \u001b[36m0.7008\u001b[0m       \u001b[32m0.9766\u001b[0m        \u001b[35m0.6570\u001b[0m  0.0306\n",
      "     10        \u001b[36m0.6236\u001b[0m       \u001b[32m0.9883\u001b[0m        \u001b[35m0.5859\u001b[0m  0.0279\n",
      "  epoch    train_loss    valid_acc    valid_loss     dur\n",
      "-------  ------------  -----------  ------------  ------\n",
      "      1        \u001b[36m1.5514\u001b[0m       \u001b[32m0.6914\u001b[0m        \u001b[35m1.4880\u001b[0m  0.0175\n",
      "      2        \u001b[36m1.4295\u001b[0m       \u001b[32m0.7773\u001b[0m        \u001b[35m1.3700\u001b[0m  0.0403\n",
      "      3        \u001b[36m1.3116\u001b[0m       \u001b[32m0.8477\u001b[0m        \u001b[35m1.2533\u001b[0m  0.0329\n",
      "      4        \u001b[36m1.1942\u001b[0m       \u001b[32m0.8867\u001b[0m        \u001b[35m1.1366\u001b[0m  0.0284\n",
      "      5        \u001b[36m1.0781\u001b[0m       \u001b[32m0.9141\u001b[0m        \u001b[35m1.0230\u001b[0m  0.0279\n",
      "      6        \u001b[36m0.9665\u001b[0m       \u001b[32m0.9492\u001b[0m        \u001b[35m0.9154\u001b[0m  0.0390\n",
      "      7        \u001b[36m0.8620\u001b[0m       \u001b[32m0.9609\u001b[0m        \u001b[35m0.8164\u001b[0m  0.0274\n",
      "      8        \u001b[36m0.7677\u001b[0m       \u001b[32m0.9805\u001b[0m        \u001b[35m0.7276\u001b[0m  0.0274\n",
      "      9        \u001b[36m0.6840\u001b[0m       0.9805        \u001b[35m0.6492\u001b[0m  0.0295\n",
      "     10        \u001b[36m0.6101\u001b[0m       0.9805        \u001b[35m0.5809\u001b[0m  0.0327\n",
      "  epoch    train_loss    valid_acc    valid_loss     dur\n",
      "-------  ------------  -----------  ------------  ------\n",
      "      1        \u001b[36m1.5733\u001b[0m       \u001b[32m0.6836\u001b[0m        \u001b[35m1.4993\u001b[0m  0.0331\n",
      "      2        \u001b[36m1.4562\u001b[0m       \u001b[32m0.8281\u001b[0m        \u001b[35m1.3891\u001b[0m  0.0381\n",
      "      3        \u001b[36m1.3461\u001b[0m       \u001b[32m0.8633\u001b[0m        \u001b[35m1.2806\u001b[0m  0.0258\n",
      "      4        \u001b[36m1.2365\u001b[0m       \u001b[32m0.8906\u001b[0m        \u001b[35m1.1713\u001b[0m  0.0342\n",
      "      5        \u001b[36m1.1263\u001b[0m       \u001b[32m0.9141\u001b[0m        \u001b[35m1.0618\u001b[0m  0.0384\n",
      "      6        \u001b[36m1.0164\u001b[0m       \u001b[32m0.9375\u001b[0m        \u001b[35m0.9540\u001b[0m  0.0278\n",
      "      7        \u001b[36m0.9103\u001b[0m       \u001b[32m0.9531\u001b[0m        \u001b[35m0.8516\u001b[0m  0.0329\n",
      "      8        \u001b[36m0.8113\u001b[0m       \u001b[32m0.9766\u001b[0m        \u001b[35m0.7578\u001b[0m  0.0409\n",
      "      9        \u001b[36m0.7212\u001b[0m       \u001b[32m0.9805\u001b[0m        \u001b[35m0.6742\u001b[0m  0.0322\n",
      "     10        \u001b[36m0.6416\u001b[0m       \u001b[32m0.9844\u001b[0m        \u001b[35m0.6009\u001b[0m  0.0244\n",
      "  epoch    train_loss    valid_acc    valid_loss     dur\n",
      "-------  ------------  -----------  ------------  ------\n",
      "      1        \u001b[36m1.5710\u001b[0m       \u001b[32m0.6445\u001b[0m        \u001b[35m1.4967\u001b[0m  0.0333\n",
      "      2        \u001b[36m1.4413\u001b[0m       \u001b[32m0.7070\u001b[0m        \u001b[35m1.3762\u001b[0m  0.0453\n",
      "      3        \u001b[36m1.3220\u001b[0m       \u001b[32m0.7891\u001b[0m        \u001b[35m1.2604\u001b[0m  0.0197\n",
      "      4        \u001b[36m1.2060\u001b[0m       \u001b[32m0.8633\u001b[0m        \u001b[35m1.1466\u001b[0m  0.0340\n",
      "      5        \u001b[36m1.0918\u001b[0m       \u001b[32m0.8945\u001b[0m        \u001b[35m1.0342\u001b[0m  0.0293\n",
      "      6        \u001b[36m0.9803\u001b[0m       \u001b[32m0.9297\u001b[0m        \u001b[35m0.9268\u001b[0m  0.0316\n",
      "      7        \u001b[36m0.8760\u001b[0m       \u001b[32m0.9648\u001b[0m        \u001b[35m0.8277\u001b[0m  0.0254\n",
      "      8        \u001b[36m0.7816\u001b[0m       \u001b[32m0.9727\u001b[0m        \u001b[35m0.7384\u001b[0m  0.0280\n",
      "      9        \u001b[36m0.6969\u001b[0m       \u001b[32m0.9844\u001b[0m        \u001b[35m0.6595\u001b[0m  0.0268\n",
      "     10        \u001b[36m0.6227\u001b[0m       \u001b[32m0.9883\u001b[0m        \u001b[35m0.5906\u001b[0m  0.0241\n",
      "  epoch    train_loss    valid_acc    valid_loss     dur\n",
      "-------  ------------  -----------  ------------  ------\n",
      "      1        \u001b[36m1.5900\u001b[0m       \u001b[32m0.5742\u001b[0m        \u001b[35m1.5333\u001b[0m  0.0303\n",
      "      2        \u001b[36m1.4843\u001b[0m       \u001b[32m0.7227\u001b[0m        \u001b[35m1.4342\u001b[0m  0.0127\n",
      "      3        \u001b[36m1.3841\u001b[0m       \u001b[32m0.7852\u001b[0m        \u001b[35m1.3350\u001b[0m  0.0277\n",
      "      4        \u001b[36m1.2815\u001b[0m       \u001b[32m0.8203\u001b[0m        \u001b[35m1.2314\u001b[0m  0.0197\n",
      "      5        \u001b[36m1.1747\u001b[0m       \u001b[32m0.8438\u001b[0m        \u001b[35m1.1237\u001b[0m  0.0412\n",
      "      6        \u001b[36m1.0659\u001b[0m       \u001b[32m0.8828\u001b[0m        \u001b[35m1.0161\u001b[0m  0.0242\n",
      "      7        \u001b[36m0.9584\u001b[0m       \u001b[32m0.9102\u001b[0m        \u001b[35m0.9126\u001b[0m  0.0337\n",
      "      8        \u001b[36m0.8571\u001b[0m       \u001b[32m0.9258\u001b[0m        \u001b[35m0.8153\u001b[0m  0.0526\n",
      "      9        \u001b[36m0.7637\u001b[0m       \u001b[32m0.9688\u001b[0m        \u001b[35m0.7272\u001b[0m  0.0381\n",
      "     10        \u001b[36m0.6807\u001b[0m       \u001b[32m0.9766\u001b[0m        \u001b[35m0.6489\u001b[0m  0.0601\n",
      "  epoch    train_loss    valid_acc    valid_loss     dur\n",
      "-------  ------------  -----------  ------------  ------\n",
      "      1        \u001b[36m1.5393\u001b[0m       \u001b[32m0.6914\u001b[0m        \u001b[35m1.4678\u001b[0m  0.0352\n",
      "      2        \u001b[36m1.4057\u001b[0m       \u001b[32m0.8125\u001b[0m        \u001b[35m1.3398\u001b[0m  0.0415\n",
      "      3        \u001b[36m1.2768\u001b[0m       \u001b[32m0.8242\u001b[0m        \u001b[35m1.2130\u001b[0m  0.0215\n",
      "      4        \u001b[36m1.1495\u001b[0m       \u001b[32m0.8867\u001b[0m        \u001b[35m1.0902\u001b[0m  0.0333\n",
      "      5        \u001b[36m1.0281\u001b[0m       \u001b[32m0.9219\u001b[0m        \u001b[35m0.9743\u001b[0m  0.0336\n",
      "      6        \u001b[36m0.9157\u001b[0m       \u001b[32m0.9414\u001b[0m        \u001b[35m0.8682\u001b[0m  0.0314\n",
      "      7        \u001b[36m0.8134\u001b[0m       \u001b[32m0.9688\u001b[0m        \u001b[35m0.7731\u001b[0m  0.0273\n",
      "      8        \u001b[36m0.7230\u001b[0m       \u001b[32m0.9766\u001b[0m        \u001b[35m0.6891\u001b[0m  0.0314\n",
      "      9        \u001b[36m0.6438\u001b[0m       \u001b[32m0.9844\u001b[0m        \u001b[35m0.6158\u001b[0m  0.0381\n",
      "     10        \u001b[36m0.5748\u001b[0m       0.9844        \u001b[35m0.5522\u001b[0m  0.0666\n",
      "  epoch    train_loss    valid_acc    valid_loss     dur\n",
      "-------  ------------  -----------  ------------  ------\n",
      "      1        \u001b[36m1.5405\u001b[0m       \u001b[32m0.6979\u001b[0m        \u001b[35m1.4544\u001b[0m  0.0503\n",
      "      2        \u001b[36m1.3825\u001b[0m       \u001b[32m0.7918\u001b[0m        \u001b[35m1.2996\u001b[0m  0.0365\n",
      "      3        \u001b[36m1.2254\u001b[0m       \u001b[32m0.8211\u001b[0m        \u001b[35m1.1411\u001b[0m  0.0561\n",
      "      4        \u001b[36m1.0665\u001b[0m       \u001b[32m0.8680\u001b[0m        \u001b[35m0.9858\u001b[0m  0.0430\n",
      "      5        \u001b[36m0.9161\u001b[0m       \u001b[32m0.9208\u001b[0m        \u001b[35m0.8440\u001b[0m  0.0363\n",
      "      6        \u001b[36m0.7819\u001b[0m       \u001b[32m0.9560\u001b[0m        \u001b[35m0.7208\u001b[0m  0.0244\n",
      "      7        \u001b[36m0.6673\u001b[0m       \u001b[32m0.9677\u001b[0m        \u001b[35m0.6177\u001b[0m  0.0437\n",
      "      8        \u001b[36m0.5725\u001b[0m       \u001b[32m0.9736\u001b[0m        \u001b[35m0.5332\u001b[0m  0.0400\n",
      "      9        \u001b[36m0.4943\u001b[0m       \u001b[32m0.9765\u001b[0m        \u001b[35m0.4647\u001b[0m  0.0291\n",
      "     10        \u001b[36m0.4301\u001b[0m       0.9765        \u001b[35m0.4081\u001b[0m  0.0494\n",
      "  epoch    train_loss    valid_acc    valid_loss     dur\n",
      "-------  ------------  -----------  ------------  ------\n",
      "      1        \u001b[36m1.5564\u001b[0m       \u001b[32m0.7126\u001b[0m        \u001b[35m1.4504\u001b[0m  0.0392\n",
      "      2        \u001b[36m1.3866\u001b[0m       \u001b[32m0.8006\u001b[0m        \u001b[35m1.2878\u001b[0m  0.0340\n",
      "      3        \u001b[36m1.2264\u001b[0m       \u001b[32m0.8504\u001b[0m        \u001b[35m1.1296\u001b[0m  0.0526\n",
      "      4        \u001b[36m1.0700\u001b[0m       \u001b[32m0.8651\u001b[0m        \u001b[35m0.9776\u001b[0m  0.0400\n",
      "      5        \u001b[36m0.9235\u001b[0m       \u001b[32m0.9032\u001b[0m        \u001b[35m0.8385\u001b[0m  0.0437\n",
      "      6        \u001b[36m0.7914\u001b[0m       \u001b[32m0.9501\u001b[0m        \u001b[35m0.7167\u001b[0m  0.0381\n",
      "      7        \u001b[36m0.6781\u001b[0m       \u001b[32m0.9707\u001b[0m        \u001b[35m0.6131\u001b[0m  0.0357\n",
      "      8        \u001b[36m0.5824\u001b[0m       \u001b[32m0.9883\u001b[0m        \u001b[35m0.5265\u001b[0m  0.0434\n",
      "      9        \u001b[36m0.5034\u001b[0m       \u001b[32m0.9912\u001b[0m        \u001b[35m0.4553\u001b[0m  0.0357\n",
      "     10        \u001b[36m0.4376\u001b[0m       \u001b[32m0.9941\u001b[0m        \u001b[35m0.3967\u001b[0m  0.0374\n",
      "  epoch    train_loss    valid_acc    valid_loss     dur\n",
      "-------  ------------  -----------  ------------  ------\n",
      "      1        \u001b[36m1.5267\u001b[0m       \u001b[32m0.7097\u001b[0m        \u001b[35m1.4357\u001b[0m  0.0367\n",
      "      2        \u001b[36m1.3699\u001b[0m       \u001b[32m0.8446\u001b[0m        \u001b[35m1.2854\u001b[0m  0.0334\n",
      "      3        \u001b[36m1.2184\u001b[0m       \u001b[32m0.8592\u001b[0m        \u001b[35m1.1337\u001b[0m  0.0365\n",
      "      4        \u001b[36m1.0670\u001b[0m       \u001b[32m0.8739\u001b[0m        \u001b[35m0.9858\u001b[0m  0.0373\n",
      "      5        \u001b[36m0.9234\u001b[0m       \u001b[32m0.9208\u001b[0m        \u001b[35m0.8500\u001b[0m  0.0379\n",
      "      6        \u001b[36m0.7950\u001b[0m       \u001b[32m0.9355\u001b[0m        \u001b[35m0.7317\u001b[0m  0.0293\n",
      "      7        \u001b[36m0.6842\u001b[0m       \u001b[32m0.9677\u001b[0m        \u001b[35m0.6312\u001b[0m  0.0365\n",
      "      8        \u001b[36m0.5913\u001b[0m       \u001b[32m0.9707\u001b[0m        \u001b[35m0.5473\u001b[0m  0.0425\n",
      "      9        \u001b[36m0.5132\u001b[0m       \u001b[32m0.9736\u001b[0m        \u001b[35m0.4778\u001b[0m  0.0367\n",
      "     10        \u001b[36m0.4485\u001b[0m       0.9707        \u001b[35m0.4201\u001b[0m  0.0294\n",
      "  epoch    train_loss    valid_acc    valid_loss     dur\n",
      "-------  ------------  -----------  ------------  ------\n",
      "      1        \u001b[36m1.5014\u001b[0m       \u001b[32m0.8006\u001b[0m        \u001b[35m1.4111\u001b[0m  0.0464\n",
      "      2        \u001b[36m1.3352\u001b[0m       \u001b[32m0.8387\u001b[0m        \u001b[35m1.2456\u001b[0m  0.0563\n",
      "      3        \u001b[36m1.1692\u001b[0m       \u001b[32m0.8651\u001b[0m        \u001b[35m1.0806\u001b[0m  0.0409\n",
      "      4        \u001b[36m1.0069\u001b[0m       \u001b[32m0.9267\u001b[0m        \u001b[35m0.9242\u001b[0m  0.0336\n",
      "      5        \u001b[36m0.8575\u001b[0m       \u001b[32m0.9560\u001b[0m        \u001b[35m0.7858\u001b[0m  0.0387\n",
      "      6        \u001b[36m0.7283\u001b[0m       \u001b[32m0.9736\u001b[0m        \u001b[35m0.6686\u001b[0m  0.0377\n",
      "      7        \u001b[36m0.6205\u001b[0m       \u001b[32m0.9765\u001b[0m        \u001b[35m0.5721\u001b[0m  0.0372\n",
      "      8        \u001b[36m0.5318\u001b[0m       \u001b[32m0.9795\u001b[0m        \u001b[35m0.4934\u001b[0m  0.0325\n",
      "      9        \u001b[36m0.4596\u001b[0m       0.9795        \u001b[35m0.4299\u001b[0m  0.0311\n",
      "     10        \u001b[36m0.4011\u001b[0m       0.9795        \u001b[35m0.3785\u001b[0m  0.0372\n",
      "  epoch    train_loss    valid_acc    valid_loss     dur\n",
      "-------  ------------  -----------  ------------  ------\n",
      "      1        \u001b[36m1.5594\u001b[0m       \u001b[32m0.4164\u001b[0m        \u001b[35m1.4722\u001b[0m  0.0363\n",
      "      2        \u001b[36m1.4101\u001b[0m       \u001b[32m0.7214\u001b[0m        \u001b[35m1.3268\u001b[0m  0.0338\n",
      "      3        \u001b[36m1.2618\u001b[0m       \u001b[32m0.8358\u001b[0m        \u001b[35m1.1772\u001b[0m  0.0331\n",
      "      4        \u001b[36m1.1096\u001b[0m       \u001b[32m0.9091\u001b[0m        \u001b[35m1.0263\u001b[0m  0.0596\n",
      "      5        \u001b[36m0.9601\u001b[0m       \u001b[32m0.9355\u001b[0m        \u001b[35m0.8828\u001b[0m  0.0390\n",
      "      6        \u001b[36m0.8222\u001b[0m       \u001b[32m0.9501\u001b[0m        \u001b[35m0.7552\u001b[0m  0.0515\n",
      "      7        \u001b[36m0.7026\u001b[0m       \u001b[32m0.9707\u001b[0m        \u001b[35m0.6462\u001b[0m  0.0346\n",
      "      8        \u001b[36m0.6011\u001b[0m       \u001b[32m0.9765\u001b[0m        \u001b[35m0.5559\u001b[0m  0.0399\n",
      "      9        \u001b[36m0.5178\u001b[0m       0.9736        \u001b[35m0.4821\u001b[0m  0.0363\n",
      "     10        \u001b[36m0.4495\u001b[0m       0.9765        \u001b[35m0.4216\u001b[0m  0.0403\n",
      "  epoch    train_loss    valid_acc    valid_loss     dur\n",
      "-------  ------------  -----------  ------------  ------\n",
      "      1        \u001b[36m1.5152\u001b[0m       \u001b[32m0.7742\u001b[0m        \u001b[35m1.4213\u001b[0m  0.0391\n",
      "      2        \u001b[36m1.3495\u001b[0m       \u001b[32m0.8270\u001b[0m        \u001b[35m1.2604\u001b[0m  0.0428\n",
      "      3        \u001b[36m1.1901\u001b[0m       \u001b[32m0.8416\u001b[0m        \u001b[35m1.1028\u001b[0m  0.0255\n",
      "      4        \u001b[36m1.0341\u001b[0m       0.8416        \u001b[35m0.9542\u001b[0m  0.0345\n",
      "      5        \u001b[36m0.8915\u001b[0m       \u001b[32m0.9003\u001b[0m        \u001b[35m0.8209\u001b[0m  0.0595\n",
      "      6        \u001b[36m0.7660\u001b[0m       \u001b[32m0.9355\u001b[0m        \u001b[35m0.7064\u001b[0m  0.0444\n",
      "      7        \u001b[36m0.6587\u001b[0m       \u001b[32m0.9648\u001b[0m        \u001b[35m0.6088\u001b[0m  0.0421\n",
      "      8        \u001b[36m0.5690\u001b[0m       \u001b[32m0.9795\u001b[0m        \u001b[35m0.5277\u001b[0m  0.0335\n",
      "      9        \u001b[36m0.4938\u001b[0m       0.9795        \u001b[35m0.4605\u001b[0m  0.0397\n",
      "     10        \u001b[36m0.4314\u001b[0m       0.9765        \u001b[35m0.4049\u001b[0m  0.0454\n",
      "  epoch    train_loss    valid_acc    valid_loss     dur\n",
      "-------  ------------  -----------  ------------  ------\n",
      "      1        \u001b[36m1.5359\u001b[0m       \u001b[32m0.6422\u001b[0m        \u001b[35m1.4407\u001b[0m  0.0370\n",
      "      2        \u001b[36m1.3672\u001b[0m       \u001b[32m0.8094\u001b[0m        \u001b[35m1.2795\u001b[0m  0.0395\n",
      "      3        \u001b[36m1.2050\u001b[0m       \u001b[32m0.8299\u001b[0m        \u001b[35m1.1213\u001b[0m  0.0392\n",
      "      4        \u001b[36m1.0470\u001b[0m       \u001b[32m0.8475\u001b[0m        \u001b[35m0.9702\u001b[0m  0.0394\n",
      "      5        \u001b[36m0.9007\u001b[0m       \u001b[32m0.8886\u001b[0m        \u001b[35m0.8333\u001b[0m  0.0377\n",
      "      6        \u001b[36m0.7708\u001b[0m       \u001b[32m0.9355\u001b[0m        \u001b[35m0.7145\u001b[0m  0.0395\n",
      "      7        \u001b[36m0.6604\u001b[0m       \u001b[32m0.9677\u001b[0m        \u001b[35m0.6143\u001b[0m  0.0405\n",
      "      8        \u001b[36m0.5679\u001b[0m       \u001b[32m0.9765\u001b[0m        \u001b[35m0.5315\u001b[0m  0.0442\n",
      "      9        \u001b[36m0.4917\u001b[0m       0.9765        \u001b[35m0.4631\u001b[0m  0.0441\n",
      "     10        \u001b[36m0.4288\u001b[0m       \u001b[32m0.9795\u001b[0m        \u001b[35m0.4067\u001b[0m  0.0420\n",
      "  epoch    train_loss    valid_acc    valid_loss     dur\n",
      "-------  ------------  -----------  ------------  ------\n",
      "      1        \u001b[36m1.5570\u001b[0m       \u001b[32m0.6276\u001b[0m        \u001b[35m1.4757\u001b[0m  0.0366\n",
      "      2        \u001b[36m1.4097\u001b[0m       \u001b[32m0.8240\u001b[0m        \u001b[35m1.3320\u001b[0m  0.0432\n",
      "      3        \u001b[36m1.2621\u001b[0m       \u001b[32m0.8534\u001b[0m        \u001b[35m1.1828\u001b[0m  0.0317\n",
      "      4        \u001b[36m1.1113\u001b[0m       \u001b[32m0.8974\u001b[0m        \u001b[35m1.0330\u001b[0m  0.0392\n",
      "      5        \u001b[36m0.9632\u001b[0m       \u001b[32m0.9531\u001b[0m        \u001b[35m0.8891\u001b[0m  0.0364\n",
      "      6        \u001b[36m0.8243\u001b[0m       \u001b[32m0.9560\u001b[0m        \u001b[35m0.7589\u001b[0m  0.0371\n",
      "      7        \u001b[36m0.7028\u001b[0m       \u001b[32m0.9765\u001b[0m        \u001b[35m0.6476\u001b[0m  0.0356\n",
      "      8        \u001b[36m0.6000\u001b[0m       \u001b[32m0.9795\u001b[0m        \u001b[35m0.5554\u001b[0m  0.0312\n",
      "      9        \u001b[36m0.5156\u001b[0m       0.9795        \u001b[35m0.4802\u001b[0m  0.0621\n",
      "     10        \u001b[36m0.4463\u001b[0m       \u001b[32m0.9824\u001b[0m        \u001b[35m0.4190\u001b[0m  0.0355\n",
      "  epoch    train_loss    valid_acc    valid_loss     dur\n",
      "-------  ------------  -----------  ------------  ------\n",
      "      1        \u001b[36m1.5425\u001b[0m       \u001b[32m0.7009\u001b[0m        \u001b[35m1.4563\u001b[0m  0.0446\n",
      "      2        \u001b[36m1.3870\u001b[0m       \u001b[32m0.8358\u001b[0m        \u001b[35m1.3022\u001b[0m  0.0315\n",
      "      3        \u001b[36m1.2289\u001b[0m       \u001b[32m0.8504\u001b[0m        \u001b[35m1.1419\u001b[0m  0.0487\n",
      "      4        \u001b[36m1.0688\u001b[0m       \u001b[32m0.8856\u001b[0m        \u001b[35m0.9856\u001b[0m  0.0390\n",
      "      5        \u001b[36m0.9173\u001b[0m       \u001b[32m0.9501\u001b[0m        \u001b[35m0.8426\u001b[0m  0.0435\n",
      "      6        \u001b[36m0.7820\u001b[0m       \u001b[32m0.9648\u001b[0m        \u001b[35m0.7182\u001b[0m  0.0437\n",
      "      7        \u001b[36m0.6663\u001b[0m       \u001b[32m0.9736\u001b[0m        \u001b[35m0.6132\u001b[0m  0.0380\n",
      "      8        \u001b[36m0.5696\u001b[0m       \u001b[32m0.9795\u001b[0m        \u001b[35m0.5272\u001b[0m  0.0405\n",
      "      9        \u001b[36m0.4908\u001b[0m       \u001b[32m0.9824\u001b[0m        \u001b[35m0.4570\u001b[0m  0.0331\n",
      "     10        \u001b[36m0.4261\u001b[0m       0.9795        \u001b[35m0.4003\u001b[0m  0.0563\n",
      "  epoch    train_loss    valid_acc    valid_loss     dur\n",
      "-------  ------------  -----------  ------------  ------\n",
      "      1        \u001b[36m1.5630\u001b[0m       \u001b[32m0.6217\u001b[0m        \u001b[35m1.4710\u001b[0m  0.0343\n",
      "      2        \u001b[36m1.4026\u001b[0m       \u001b[32m0.7478\u001b[0m        \u001b[35m1.3145\u001b[0m  0.0338\n",
      "      3        \u001b[36m1.2435\u001b[0m       \u001b[32m0.8446\u001b[0m        \u001b[35m1.1551\u001b[0m  0.0505\n",
      "      4        \u001b[36m1.0842\u001b[0m       \u001b[32m0.8974\u001b[0m        \u001b[35m1.0000\u001b[0m  0.0376\n",
      "      5        \u001b[36m0.9334\u001b[0m       \u001b[32m0.9326\u001b[0m        \u001b[35m0.8578\u001b[0m  0.0367\n",
      "      6        \u001b[36m0.7986\u001b[0m       \u001b[32m0.9619\u001b[0m        \u001b[35m0.7345\u001b[0m  0.0357\n",
      "      7        \u001b[36m0.6834\u001b[0m       \u001b[32m0.9795\u001b[0m        \u001b[35m0.6308\u001b[0m  0.0455\n",
      "      8        \u001b[36m0.5875\u001b[0m       \u001b[32m0.9853\u001b[0m        \u001b[35m0.5445\u001b[0m  0.0356\n",
      "      9        \u001b[36m0.5081\u001b[0m       0.9853        \u001b[35m0.4735\u001b[0m  0.0370\n",
      "     10        \u001b[36m0.4426\u001b[0m       0.9824        \u001b[35m0.4152\u001b[0m  0.0393\n",
      "  epoch    train_loss    valid_acc    valid_loss     dur\n",
      "-------  ------------  -----------  ------------  ------\n",
      "      1        \u001b[36m1.5296\u001b[0m       \u001b[32m0.7793\u001b[0m        \u001b[35m1.4136\u001b[0m  0.0594\n",
      "      2        \u001b[36m1.3291\u001b[0m       \u001b[32m0.8568\u001b[0m        \u001b[35m1.2175\u001b[0m  0.0458\n",
      "      3        \u001b[36m1.1325\u001b[0m       \u001b[32m0.8803\u001b[0m        \u001b[35m1.0216\u001b[0m  0.0452\n",
      "      4        \u001b[36m0.9418\u001b[0m       \u001b[32m0.9319\u001b[0m        \u001b[35m0.8386\u001b[0m  0.0450\n",
      "      5        \u001b[36m0.7712\u001b[0m       \u001b[32m0.9695\u001b[0m        \u001b[35m0.6849\u001b[0m  0.0477\n",
      "      6        \u001b[36m0.6323\u001b[0m       \u001b[32m0.9812\u001b[0m        \u001b[35m0.5633\u001b[0m  0.0426\n",
      "      7        \u001b[36m0.5230\u001b[0m       \u001b[32m0.9836\u001b[0m        \u001b[35m0.4693\u001b[0m  0.0551\n",
      "      8        \u001b[36m0.4385\u001b[0m       0.9836        \u001b[35m0.3971\u001b[0m  0.0437\n",
      "      9        \u001b[36m0.3732\u001b[0m       \u001b[32m0.9906\u001b[0m        \u001b[35m0.3403\u001b[0m  0.0474\n",
      "     10        \u001b[36m0.3219\u001b[0m       0.9859        \u001b[35m0.2961\u001b[0m  0.0449\n",
      "  epoch    train_loss    valid_acc    valid_loss     dur\n",
      "-------  ------------  -----------  ------------  ------\n",
      "      1        \u001b[36m1.5160\u001b[0m       \u001b[32m0.7183\u001b[0m        \u001b[35m1.4050\u001b[0m  0.0540\n",
      "      2        \u001b[36m1.3189\u001b[0m       \u001b[32m0.8498\u001b[0m        \u001b[35m1.2111\u001b[0m  0.0443\n",
      "      3        \u001b[36m1.1236\u001b[0m       \u001b[32m0.8850\u001b[0m        \u001b[35m1.0152\u001b[0m  0.0560\n",
      "      4        \u001b[36m0.9342\u001b[0m       \u001b[32m0.9413\u001b[0m        \u001b[35m0.8376\u001b[0m  0.0667\n",
      "      5        \u001b[36m0.7688\u001b[0m       \u001b[32m0.9507\u001b[0m        \u001b[35m0.6886\u001b[0m  0.0670\n",
      "      6        \u001b[36m0.6331\u001b[0m       \u001b[32m0.9859\u001b[0m        \u001b[35m0.5672\u001b[0m  0.0660\n",
      "      7        \u001b[36m0.5259\u001b[0m       0.9859        \u001b[35m0.4731\u001b[0m  0.0560\n",
      "      8        \u001b[36m0.4415\u001b[0m       \u001b[32m0.9906\u001b[0m        \u001b[35m0.4001\u001b[0m  0.0456\n",
      "      9        \u001b[36m0.3756\u001b[0m       0.9906        \u001b[35m0.3411\u001b[0m  0.0504\n",
      "     10        \u001b[36m0.3236\u001b[0m       \u001b[32m0.9930\u001b[0m        \u001b[35m0.2960\u001b[0m  0.0615\n",
      "  epoch    train_loss    valid_acc    valid_loss     dur\n",
      "-------  ------------  -----------  ------------  ------\n",
      "      1        \u001b[36m1.5231\u001b[0m       \u001b[32m0.6761\u001b[0m        \u001b[35m1.4206\u001b[0m  0.0558\n",
      "      2        \u001b[36m1.3402\u001b[0m       \u001b[32m0.9085\u001b[0m        \u001b[35m1.2381\u001b[0m  0.0592\n",
      "      3        \u001b[36m1.1562\u001b[0m       \u001b[32m0.9624\u001b[0m        \u001b[35m1.0522\u001b[0m  0.0721\n",
      "      4        \u001b[36m0.9729\u001b[0m       \u001b[32m0.9789\u001b[0m        \u001b[35m0.8741\u001b[0m  0.0684\n",
      "      5        \u001b[36m0.8045\u001b[0m       \u001b[32m0.9812\u001b[0m        \u001b[35m0.7172\u001b[0m  0.0968\n",
      "      6        \u001b[36m0.6604\u001b[0m       0.9812        \u001b[35m0.5887\u001b[0m  0.0601\n",
      "      7        \u001b[36m0.5454\u001b[0m       0.9812        \u001b[35m0.4875\u001b[0m  0.0636\n",
      "      8        \u001b[36m0.4556\u001b[0m       0.9812        \u001b[35m0.4100\u001b[0m  0.0427\n",
      "      9        \u001b[36m0.3866\u001b[0m       0.9812        \u001b[35m0.3504\u001b[0m  0.0753\n",
      "     10        \u001b[36m0.3330\u001b[0m       0.9812        \u001b[35m0.3040\u001b[0m  0.0573\n",
      "  epoch    train_loss    valid_acc    valid_loss     dur\n",
      "-------  ------------  -----------  ------------  ------\n",
      "      1        \u001b[36m1.5210\u001b[0m       \u001b[32m0.8028\u001b[0m        \u001b[35m1.4068\u001b[0m  0.0493\n",
      "      2        \u001b[36m1.3141\u001b[0m       \u001b[32m0.8286\u001b[0m        \u001b[35m1.2002\u001b[0m  0.0597\n",
      "      3        \u001b[36m1.1087\u001b[0m       \u001b[32m0.8521\u001b[0m        \u001b[35m0.9968\u001b[0m  0.0635\n",
      "      4        \u001b[36m0.9143\u001b[0m       \u001b[32m0.9202\u001b[0m        \u001b[35m0.8154\u001b[0m  0.0562\n",
      "      5        \u001b[36m0.7473\u001b[0m       \u001b[32m0.9648\u001b[0m        \u001b[35m0.6654\u001b[0m  0.0469\n",
      "      6        \u001b[36m0.6131\u001b[0m       \u001b[32m0.9718\u001b[0m        \u001b[35m0.5482\u001b[0m  0.0522\n",
      "      7        \u001b[36m0.5090\u001b[0m       0.9718        \u001b[35m0.4585\u001b[0m  0.0458\n",
      "      8        \u001b[36m0.4290\u001b[0m       \u001b[32m0.9789\u001b[0m        \u001b[35m0.3887\u001b[0m  0.0587\n",
      "      9        \u001b[36m0.3664\u001b[0m       0.9789        \u001b[35m0.3343\u001b[0m  0.0393\n",
      "     10        \u001b[36m0.3175\u001b[0m       0.9789        \u001b[35m0.2920\u001b[0m  0.0550\n",
      "  epoch    train_loss    valid_acc    valid_loss     dur\n",
      "-------  ------------  -----------  ------------  ------\n",
      "      1        \u001b[36m1.4988\u001b[0m       \u001b[32m0.7746\u001b[0m        \u001b[35m1.3728\u001b[0m  0.0519\n",
      "      2        \u001b[36m1.2878\u001b[0m       \u001b[32m0.8380\u001b[0m        \u001b[35m1.1714\u001b[0m  0.0529\n",
      "      3        \u001b[36m1.0882\u001b[0m       \u001b[32m0.8685\u001b[0m        \u001b[35m0.9772\u001b[0m  0.0432\n",
      "      4        \u001b[36m0.9035\u001b[0m       \u001b[32m0.9413\u001b[0m        \u001b[35m0.8042\u001b[0m  0.0578\n",
      "      5        \u001b[36m0.7440\u001b[0m       \u001b[32m0.9624\u001b[0m        \u001b[35m0.6624\u001b[0m  0.0465\n",
      "      6        \u001b[36m0.6156\u001b[0m       \u001b[32m0.9695\u001b[0m        \u001b[35m0.5498\u001b[0m  0.0453\n",
      "      7        \u001b[36m0.5141\u001b[0m       \u001b[32m0.9742\u001b[0m        \u001b[35m0.4618\u001b[0m  0.0449\n",
      "      8        \u001b[36m0.4348\u001b[0m       \u001b[32m0.9812\u001b[0m        \u001b[35m0.3922\u001b[0m  0.0454\n",
      "      9        \u001b[36m0.3725\u001b[0m       0.9812        \u001b[35m0.3375\u001b[0m  0.0515\n",
      "     10        \u001b[36m0.3221\u001b[0m       \u001b[32m0.9859\u001b[0m        \u001b[35m0.2943\u001b[0m  0.0465\n",
      "  epoch    train_loss    valid_acc    valid_loss     dur\n",
      "-------  ------------  -----------  ------------  ------\n",
      "      1        \u001b[36m1.5130\u001b[0m       \u001b[32m0.6784\u001b[0m        \u001b[35m1.4156\u001b[0m  0.0482\n",
      "      2        \u001b[36m1.3347\u001b[0m       \u001b[32m0.8286\u001b[0m        \u001b[35m1.2366\u001b[0m  0.0464\n",
      "      3        \u001b[36m1.1507\u001b[0m       \u001b[32m0.8615\u001b[0m        \u001b[35m1.0507\u001b[0m  0.0476\n",
      "      4        \u001b[36m0.9652\u001b[0m       \u001b[32m0.9343\u001b[0m        \u001b[35m0.8695\u001b[0m  0.0455\n",
      "      5        \u001b[36m0.7948\u001b[0m       \u001b[32m0.9742\u001b[0m        \u001b[35m0.7118\u001b[0m  0.0459\n",
      "      6        \u001b[36m0.6514\u001b[0m       \u001b[32m0.9765\u001b[0m        \u001b[35m0.5841\u001b[0m  0.0480\n",
      "      7        \u001b[36m0.5378\u001b[0m       \u001b[32m0.9789\u001b[0m        \u001b[35m0.4865\u001b[0m  0.0423\n",
      "      8        \u001b[36m0.4504\u001b[0m       \u001b[32m0.9812\u001b[0m        \u001b[35m0.4093\u001b[0m  0.0415\n",
      "      9        \u001b[36m0.3824\u001b[0m       \u001b[32m0.9859\u001b[0m        \u001b[35m0.3499\u001b[0m  0.0550\n",
      "     10        \u001b[36m0.3295\u001b[0m       \u001b[32m0.9883\u001b[0m        \u001b[35m0.3038\u001b[0m  0.0396\n",
      "  epoch    train_loss    valid_acc    valid_loss     dur\n",
      "-------  ------------  -----------  ------------  ------\n",
      "      1        \u001b[36m1.5214\u001b[0m       \u001b[32m0.6385\u001b[0m        \u001b[35m1.4239\u001b[0m  0.0443\n",
      "      2        \u001b[36m1.3407\u001b[0m       \u001b[32m0.8216\u001b[0m        \u001b[35m1.2413\u001b[0m  0.0354\n",
      "      3        \u001b[36m1.1554\u001b[0m       \u001b[32m0.9038\u001b[0m        \u001b[35m1.0534\u001b[0m  0.0556\n",
      "      4        \u001b[36m0.9709\u001b[0m       \u001b[32m0.9507\u001b[0m        \u001b[35m0.8740\u001b[0m  0.0434\n",
      "      5        \u001b[36m0.8020\u001b[0m       \u001b[32m0.9648\u001b[0m        \u001b[35m0.7189\u001b[0m  0.0525\n",
      "      6        \u001b[36m0.6601\u001b[0m       \u001b[32m0.9742\u001b[0m        \u001b[35m0.5923\u001b[0m  0.0433\n",
      "      7        \u001b[36m0.5460\u001b[0m       \u001b[32m0.9765\u001b[0m        \u001b[35m0.4932\u001b[0m  0.0329\n",
      "      8        \u001b[36m0.4570\u001b[0m       \u001b[32m0.9836\u001b[0m        \u001b[35m0.4157\u001b[0m  0.0613\n",
      "      9        \u001b[36m0.3872\u001b[0m       0.9836        \u001b[35m0.3558\u001b[0m  0.0370\n",
      "     10        \u001b[36m0.3325\u001b[0m       0.9836        \u001b[35m0.3082\u001b[0m  0.0535\n",
      "  epoch    train_loss    valid_acc    valid_loss     dur\n",
      "-------  ------------  -----------  ------------  ------\n",
      "      1        \u001b[36m1.5310\u001b[0m       \u001b[32m0.7564\u001b[0m        \u001b[35m1.4212\u001b[0m  0.0512\n",
      "      2        \u001b[36m1.3384\u001b[0m       \u001b[32m0.8337\u001b[0m        \u001b[35m1.2286\u001b[0m  0.0448\n",
      "      3        \u001b[36m1.1436\u001b[0m       \u001b[32m0.8665\u001b[0m        \u001b[35m1.0341\u001b[0m  0.0514\n",
      "      4        \u001b[36m0.9544\u001b[0m       \u001b[32m0.9133\u001b[0m        \u001b[35m0.8545\u001b[0m  0.0430\n",
      "      5        \u001b[36m0.7866\u001b[0m       \u001b[32m0.9696\u001b[0m        \u001b[35m0.7028\u001b[0m  0.0444\n",
      "      6        \u001b[36m0.6484\u001b[0m       \u001b[32m0.9813\u001b[0m        \u001b[35m0.5805\u001b[0m  0.0460\n",
      "      7        \u001b[36m0.5383\u001b[0m       0.9813        \u001b[35m0.4855\u001b[0m  0.0407\n",
      "      8        \u001b[36m0.4525\u001b[0m       \u001b[32m0.9859\u001b[0m        \u001b[35m0.4100\u001b[0m  0.0542\n",
      "      9        \u001b[36m0.3852\u001b[0m       0.9836        \u001b[35m0.3516\u001b[0m  0.0432\n",
      "     10        \u001b[36m0.3324\u001b[0m       0.9836        \u001b[35m0.3063\u001b[0m  0.0544\n",
      "  epoch    train_loss    valid_acc    valid_loss     dur\n",
      "-------  ------------  -----------  ------------  ------\n",
      "      1        \u001b[36m1.5280\u001b[0m       \u001b[32m0.8056\u001b[0m        \u001b[35m1.4251\u001b[0m  0.0613\n",
      "      2        \u001b[36m1.3470\u001b[0m       \u001b[32m0.8595\u001b[0m        \u001b[35m1.2388\u001b[0m  0.0405\n",
      "      3        \u001b[36m1.1560\u001b[0m       \u001b[32m0.8782\u001b[0m        \u001b[35m1.0439\u001b[0m  0.0620\n",
      "      4        \u001b[36m0.9636\u001b[0m       \u001b[32m0.9063\u001b[0m        \u001b[35m0.8577\u001b[0m  0.0370\n",
      "      5        \u001b[36m0.7897\u001b[0m       \u001b[32m0.9485\u001b[0m        \u001b[35m0.7000\u001b[0m  0.0612\n",
      "      6        \u001b[36m0.6467\u001b[0m       \u001b[32m0.9789\u001b[0m        \u001b[35m0.5730\u001b[0m  0.0877\n",
      "      7        \u001b[36m0.5336\u001b[0m       0.9789        \u001b[35m0.4751\u001b[0m  0.0479\n",
      "      8        \u001b[36m0.4458\u001b[0m       \u001b[32m0.9836\u001b[0m        \u001b[35m0.4003\u001b[0m  0.0652\n",
      "      9        \u001b[36m0.3783\u001b[0m       0.9789        \u001b[35m0.3417\u001b[0m  0.0338\n",
      "     10        \u001b[36m0.3250\u001b[0m       0.9813        \u001b[35m0.2960\u001b[0m  0.0485\n",
      "  epoch    train_loss    valid_acc    valid_loss     dur\n",
      "-------  ------------  -----------  ------------  ------\n",
      "      1        \u001b[36m1.5423\u001b[0m       \u001b[32m0.5410\u001b[0m        \u001b[35m1.4482\u001b[0m  0.0524\n",
      "      2        \u001b[36m1.3662\u001b[0m       \u001b[32m0.8595\u001b[0m        \u001b[35m1.2669\u001b[0m  0.0586\n",
      "      3        \u001b[36m1.1791\u001b[0m       \u001b[32m0.9297\u001b[0m        \u001b[35m1.0749\u001b[0m  0.0470\n",
      "      4        \u001b[36m0.9894\u001b[0m       \u001b[32m0.9649\u001b[0m        \u001b[35m0.8889\u001b[0m  0.0481\n",
      "      5        \u001b[36m0.8153\u001b[0m       \u001b[32m0.9789\u001b[0m        \u001b[35m0.7289\u001b[0m  0.0449\n",
      "      6        \u001b[36m0.6697\u001b[0m       \u001b[32m0.9836\u001b[0m        \u001b[35m0.5989\u001b[0m  0.0681\n",
      "      7        \u001b[36m0.5535\u001b[0m       0.9836        \u001b[35m0.4968\u001b[0m  0.0617\n",
      "      8        \u001b[36m0.4625\u001b[0m       0.9836        \u001b[35m0.4175\u001b[0m  0.0592\n",
      "      9        \u001b[36m0.3914\u001b[0m       0.9836        \u001b[35m0.3560\u001b[0m  0.0528\n",
      "     10        \u001b[36m0.3362\u001b[0m       \u001b[32m0.9859\u001b[0m        \u001b[35m0.3077\u001b[0m  0.0494\n",
      "  epoch    train_loss    valid_acc    valid_loss     dur\n",
      "-------  ------------  -----------  ------------  ------\n",
      "      1        \u001b[36m1.5457\u001b[0m       \u001b[32m0.6914\u001b[0m        \u001b[35m1.4403\u001b[0m  0.0650\n",
      "      2        \u001b[36m1.3504\u001b[0m       \u001b[32m0.8301\u001b[0m        \u001b[35m1.2355\u001b[0m  0.0530\n",
      "      3        \u001b[36m1.1425\u001b[0m       \u001b[32m0.8809\u001b[0m        \u001b[35m1.0236\u001b[0m  0.0456\n",
      "      4        \u001b[36m0.9375\u001b[0m       \u001b[32m0.9512\u001b[0m        \u001b[35m0.8268\u001b[0m  0.0713\n",
      "      5        \u001b[36m0.7559\u001b[0m       \u001b[32m0.9805\u001b[0m        \u001b[35m0.6618\u001b[0m  0.0544\n",
      "      6        \u001b[36m0.6093\u001b[0m       \u001b[32m0.9863\u001b[0m        \u001b[35m0.5329\u001b[0m  0.0627\n",
      "      7        \u001b[36m0.4959\u001b[0m       \u001b[32m0.9902\u001b[0m        \u001b[35m0.4349\u001b[0m  0.0722\n",
      "      8        \u001b[36m0.4097\u001b[0m       0.9902        \u001b[35m0.3607\u001b[0m  0.0644\n",
      "      9        \u001b[36m0.3442\u001b[0m       \u001b[32m0.9922\u001b[0m        \u001b[35m0.3045\u001b[0m  0.0709\n",
      "     10        \u001b[36m0.2940\u001b[0m       0.9922        \u001b[35m0.2614\u001b[0m  0.0530\n",
      "  epoch    train_loss    valid_acc    valid_loss     dur\n",
      "-------  ------------  -----------  ------------  ------\n",
      "      1        \u001b[36m1.5377\u001b[0m       \u001b[32m0.6777\u001b[0m        \u001b[35m1.4204\u001b[0m  0.0589\n",
      "      2        \u001b[36m1.3227\u001b[0m       \u001b[32m0.8418\u001b[0m        \u001b[35m1.2034\u001b[0m  0.0654\n",
      "      3        \u001b[36m1.1069\u001b[0m       \u001b[32m0.9023\u001b[0m        \u001b[35m0.9900\u001b[0m  0.0573\n",
      "      4        \u001b[36m0.9028\u001b[0m       \u001b[32m0.9492\u001b[0m        \u001b[35m0.7966\u001b[0m  0.0649\n",
      "      5        \u001b[36m0.7268\u001b[0m       \u001b[32m0.9844\u001b[0m        \u001b[35m0.6378\u001b[0m  0.0577\n",
      "      6        \u001b[36m0.5858\u001b[0m       \u001b[32m0.9883\u001b[0m        \u001b[35m0.5139\u001b[0m  0.0473\n",
      "      7        \u001b[36m0.4770\u001b[0m       \u001b[32m0.9902\u001b[0m        \u001b[35m0.4194\u001b[0m  0.0599\n",
      "      8        \u001b[36m0.3945\u001b[0m       0.9902        \u001b[35m0.3484\u001b[0m  0.0600\n",
      "      9        \u001b[36m0.3319\u001b[0m       0.9902        \u001b[35m0.2949\u001b[0m  0.0440\n",
      "     10        \u001b[36m0.2843\u001b[0m       0.9883        \u001b[35m0.2538\u001b[0m  0.0619\n",
      "  epoch    train_loss    valid_acc    valid_loss     dur\n",
      "-------  ------------  -----------  ------------  ------\n",
      "      1        \u001b[36m1.5309\u001b[0m       \u001b[32m0.7656\u001b[0m        \u001b[35m1.3908\u001b[0m  0.0548\n",
      "      2        \u001b[36m1.2936\u001b[0m       \u001b[32m0.8516\u001b[0m        \u001b[35m1.1623\u001b[0m  0.0532\n",
      "      3        \u001b[36m1.0676\u001b[0m       \u001b[32m0.9297\u001b[0m        \u001b[35m0.9429\u001b[0m  0.0599\n",
      "      4        \u001b[36m0.8593\u001b[0m       \u001b[32m0.9668\u001b[0m        \u001b[35m0.7516\u001b[0m  0.0516\n",
      "      5        \u001b[36m0.6855\u001b[0m       \u001b[32m0.9746\u001b[0m        \u001b[35m0.5992\u001b[0m  0.0534\n",
      "      6        \u001b[36m0.5499\u001b[0m       \u001b[32m0.9863\u001b[0m        \u001b[35m0.4842\u001b[0m  0.0555\n",
      "      7        \u001b[36m0.4480\u001b[0m       0.9844        \u001b[35m0.3982\u001b[0m  0.0610\n",
      "      8        \u001b[36m0.3713\u001b[0m       0.9844        \u001b[35m0.3347\u001b[0m  0.0546\n",
      "      9        \u001b[36m0.3135\u001b[0m       0.9824        \u001b[35m0.2852\u001b[0m  0.0930\n",
      "     10        \u001b[36m0.2690\u001b[0m       0.9863        \u001b[35m0.2489\u001b[0m  0.0655\n",
      "  epoch    train_loss    valid_acc    valid_loss     dur\n",
      "-------  ------------  -----------  ------------  ------\n",
      "      1        \u001b[36m1.5020\u001b[0m       \u001b[32m0.8281\u001b[0m        \u001b[35m1.3810\u001b[0m  0.0623\n",
      "      2        \u001b[36m1.2719\u001b[0m       \u001b[32m0.9336\u001b[0m        \u001b[35m1.1554\u001b[0m  0.0509\n",
      "      3        \u001b[36m1.0481\u001b[0m       \u001b[32m0.9668\u001b[0m        \u001b[35m0.9355\u001b[0m  0.0494\n",
      "      4        \u001b[36m0.8392\u001b[0m       \u001b[32m0.9746\u001b[0m        \u001b[35m0.7425\u001b[0m  0.0566\n",
      "      5        \u001b[36m0.6660\u001b[0m       \u001b[32m0.9805\u001b[0m        \u001b[35m0.5901\u001b[0m  0.0615\n",
      "      6        \u001b[36m0.5329\u001b[0m       \u001b[32m0.9902\u001b[0m        \u001b[35m0.4754\u001b[0m  0.0452\n",
      "      7        \u001b[36m0.4332\u001b[0m       0.9863        \u001b[35m0.3906\u001b[0m  0.0499\n",
      "      8        \u001b[36m0.3595\u001b[0m       0.9883        \u001b[35m0.3274\u001b[0m  0.0629\n",
      "      9        \u001b[36m0.3039\u001b[0m       0.9883        \u001b[35m0.2801\u001b[0m  0.0639\n",
      "     10        \u001b[36m0.2617\u001b[0m       0.9883        \u001b[35m0.2437\u001b[0m  0.0595\n",
      "  epoch    train_loss    valid_acc    valid_loss     dur\n",
      "-------  ------------  -----------  ------------  ------\n",
      "      1        \u001b[36m1.5349\u001b[0m       \u001b[32m0.7246\u001b[0m        \u001b[35m1.4104\u001b[0m  0.0512\n",
      "      2        \u001b[36m1.3027\u001b[0m       \u001b[32m0.8809\u001b[0m        \u001b[35m1.1861\u001b[0m  0.0482\n",
      "      3        \u001b[36m1.0785\u001b[0m       \u001b[32m0.9395\u001b[0m        \u001b[35m0.9664\u001b[0m  0.0623\n",
      "      4        \u001b[36m0.8694\u001b[0m       \u001b[32m0.9648\u001b[0m        \u001b[35m0.7728\u001b[0m  0.0699\n",
      "      5        \u001b[36m0.6951\u001b[0m       \u001b[32m0.9727\u001b[0m        \u001b[35m0.6194\u001b[0m  0.0674\n",
      "      6        \u001b[36m0.5596\u001b[0m       \u001b[32m0.9844\u001b[0m        \u001b[35m0.5019\u001b[0m  0.0620\n",
      "      7        \u001b[36m0.4574\u001b[0m       0.9844        \u001b[35m0.4141\u001b[0m  0.0589\n",
      "      8        \u001b[36m0.3803\u001b[0m       \u001b[32m0.9883\u001b[0m        \u001b[35m0.3481\u001b[0m  0.0513\n",
      "      9        \u001b[36m0.3218\u001b[0m       0.9863        \u001b[35m0.2975\u001b[0m  0.0526\n",
      "     10        \u001b[36m0.2769\u001b[0m       0.9883        \u001b[35m0.2585\u001b[0m  0.0571\n",
      "  epoch    train_loss    valid_acc    valid_loss     dur\n",
      "-------  ------------  -----------  ------------  ------\n",
      "      1        \u001b[36m1.4940\u001b[0m       \u001b[32m0.7207\u001b[0m        \u001b[35m1.3679\u001b[0m  0.0861\n",
      "      2        \u001b[36m1.2550\u001b[0m       \u001b[32m0.8477\u001b[0m        \u001b[35m1.1324\u001b[0m  0.0613\n",
      "      3        \u001b[36m1.0246\u001b[0m       \u001b[32m0.9062\u001b[0m        \u001b[35m0.9124\u001b[0m  0.0526\n",
      "      4        \u001b[36m0.8185\u001b[0m       \u001b[32m0.9570\u001b[0m        \u001b[35m0.7255\u001b[0m  0.0616\n",
      "      5        \u001b[36m0.6507\u001b[0m       \u001b[32m0.9727\u001b[0m        \u001b[35m0.5794\u001b[0m  0.0623\n",
      "      6        \u001b[36m0.5227\u001b[0m       \u001b[32m0.9766\u001b[0m        \u001b[35m0.4704\u001b[0m  0.0532\n",
      "      7        \u001b[36m0.4272\u001b[0m       \u001b[32m0.9785\u001b[0m        \u001b[35m0.3900\u001b[0m  0.0532\n",
      "      8        \u001b[36m0.3561\u001b[0m       \u001b[32m0.9805\u001b[0m        \u001b[35m0.3292\u001b[0m  0.0445\n",
      "      9        \u001b[36m0.3023\u001b[0m       \u001b[32m0.9824\u001b[0m        \u001b[35m0.2827\u001b[0m  0.0592\n",
      "     10        \u001b[36m0.2607\u001b[0m       0.9824        \u001b[35m0.2476\u001b[0m  0.0569\n",
      "  epoch    train_loss    valid_acc    valid_loss     dur\n",
      "-------  ------------  -----------  ------------  ------\n",
      "      1        \u001b[36m1.5015\u001b[0m       \u001b[32m0.8359\u001b[0m        \u001b[35m1.3717\u001b[0m  0.0649\n",
      "      2        \u001b[36m1.2603\u001b[0m       \u001b[32m0.8633\u001b[0m        \u001b[35m1.1396\u001b[0m  0.0554\n",
      "      3        \u001b[36m1.0322\u001b[0m       \u001b[32m0.9414\u001b[0m        \u001b[35m0.9205\u001b[0m  0.0502\n",
      "      4        \u001b[36m0.8276\u001b[0m       \u001b[32m0.9648\u001b[0m        \u001b[35m0.7343\u001b[0m  0.0702\n",
      "      5        \u001b[36m0.6609\u001b[0m       \u001b[32m0.9766\u001b[0m        \u001b[35m0.5888\u001b[0m  0.0561\n",
      "      6        \u001b[36m0.5333\u001b[0m       \u001b[32m0.9805\u001b[0m        \u001b[35m0.4791\u001b[0m  0.0671\n",
      "      7        \u001b[36m0.4371\u001b[0m       0.9785        \u001b[35m0.3970\u001b[0m  0.0697\n",
      "      8        \u001b[36m0.3650\u001b[0m       \u001b[32m0.9824\u001b[0m        \u001b[35m0.3349\u001b[0m  0.0594\n",
      "      9        \u001b[36m0.3102\u001b[0m       \u001b[32m0.9844\u001b[0m        \u001b[35m0.2879\u001b[0m  0.0535\n",
      "     10        \u001b[36m0.2678\u001b[0m       0.9844        \u001b[35m0.2508\u001b[0m  0.0537\n",
      "  epoch    train_loss    valid_acc    valid_loss     dur\n",
      "-------  ------------  -----------  ------------  ------\n",
      "      1        \u001b[36m1.4707\u001b[0m       \u001b[32m0.8730\u001b[0m        \u001b[35m1.3394\u001b[0m  0.0589\n",
      "      2        \u001b[36m1.2257\u001b[0m       \u001b[32m0.9297\u001b[0m        \u001b[35m1.0966\u001b[0m  0.0487\n",
      "      3        \u001b[36m0.9872\u001b[0m       \u001b[32m0.9746\u001b[0m        \u001b[35m0.8704\u001b[0m  0.0632\n",
      "      4        \u001b[36m0.7772\u001b[0m       \u001b[32m0.9824\u001b[0m        \u001b[35m0.6827\u001b[0m  0.0612\n",
      "      5        \u001b[36m0.6106\u001b[0m       \u001b[32m0.9863\u001b[0m        \u001b[35m0.5403\u001b[0m  0.0741\n",
      "      6        \u001b[36m0.4862\u001b[0m       0.9863        \u001b[35m0.4364\u001b[0m  0.0645\n",
      "      7        \u001b[36m0.3955\u001b[0m       \u001b[32m0.9883\u001b[0m        \u001b[35m0.3590\u001b[0m  0.0825\n",
      "      8        \u001b[36m0.3287\u001b[0m       \u001b[32m0.9922\u001b[0m        \u001b[35m0.3028\u001b[0m  0.0479\n",
      "      9        \u001b[36m0.2788\u001b[0m       0.9922        \u001b[35m0.2603\u001b[0m  0.0710\n",
      "     10        \u001b[36m0.2411\u001b[0m       0.9902        \u001b[35m0.2277\u001b[0m  0.0643\n",
      "  epoch    train_loss    valid_acc    valid_loss     dur\n",
      "-------  ------------  -----------  ------------  ------\n",
      "      1        \u001b[36m1.5011\u001b[0m       \u001b[32m0.8555\u001b[0m        \u001b[35m1.3778\u001b[0m  0.0628\n",
      "      2        \u001b[36m1.2801\u001b[0m       \u001b[32m0.9258\u001b[0m        \u001b[35m1.1560\u001b[0m  0.0706\n",
      "      3        \u001b[36m1.0573\u001b[0m       \u001b[32m0.9648\u001b[0m        \u001b[35m0.9364\u001b[0m  0.0670\n",
      "      4        \u001b[36m0.8482\u001b[0m       \u001b[32m0.9766\u001b[0m        \u001b[35m0.7433\u001b[0m  0.0680\n",
      "      5        \u001b[36m0.6723\u001b[0m       \u001b[32m0.9785\u001b[0m        \u001b[35m0.5899\u001b[0m  0.0883\n",
      "      6        \u001b[36m0.5372\u001b[0m       \u001b[32m0.9844\u001b[0m        \u001b[35m0.4743\u001b[0m  0.0651\n",
      "      7        \u001b[36m0.4355\u001b[0m       \u001b[32m0.9863\u001b[0m        \u001b[35m0.3887\u001b[0m  0.0590\n",
      "      8        \u001b[36m0.3601\u001b[0m       \u001b[32m0.9883\u001b[0m        \u001b[35m0.3251\u001b[0m  0.0461\n",
      "      9        \u001b[36m0.3035\u001b[0m       0.9863        \u001b[35m0.2776\u001b[0m  0.0736\n",
      "     10        \u001b[36m0.2606\u001b[0m       0.9883        \u001b[35m0.2410\u001b[0m  0.0581\n",
      "  epoch    train_loss    valid_acc    valid_loss     dur\n",
      "-------  ------------  -----------  ------------  ------\n",
      "      1        \u001b[36m1.5263\u001b[0m       \u001b[32m0.6328\u001b[0m        \u001b[35m1.4143\u001b[0m  0.0752\n",
      "      2        \u001b[36m1.3011\u001b[0m       \u001b[32m0.8027\u001b[0m        \u001b[35m1.1883\u001b[0m  0.0519\n",
      "      3        \u001b[36m1.0739\u001b[0m       \u001b[32m0.9062\u001b[0m        \u001b[35m0.9645\u001b[0m  0.0602\n",
      "      4        \u001b[36m0.8614\u001b[0m       \u001b[32m0.9648\u001b[0m        \u001b[35m0.7674\u001b[0m  0.0729\n",
      "      5        \u001b[36m0.6836\u001b[0m       \u001b[32m0.9805\u001b[0m        \u001b[35m0.6100\u001b[0m  0.0639\n",
      "      6        \u001b[36m0.5457\u001b[0m       0.9785        \u001b[35m0.4915\u001b[0m  0.0667\n",
      "      7        \u001b[36m0.4422\u001b[0m       \u001b[32m0.9863\u001b[0m        \u001b[35m0.4036\u001b[0m  0.0628\n",
      "      8        \u001b[36m0.3654\u001b[0m       0.9844        \u001b[35m0.3380\u001b[0m  0.0576\n",
      "      9        \u001b[36m0.3078\u001b[0m       0.9844        \u001b[35m0.2891\u001b[0m  0.0616\n",
      "     10        \u001b[36m0.2642\u001b[0m       0.9863        \u001b[35m0.2513\u001b[0m  0.0540\n",
      "  epoch    train_loss    valid_acc    valid_loss     dur\n",
      "-------  ------------  -----------  ------------  ------\n",
      "      1        \u001b[36m1.4700\u001b[0m       \u001b[32m0.7990\u001b[0m        \u001b[35m1.3214\u001b[0m  0.0780\n",
      "      2        \u001b[36m1.2026\u001b[0m       \u001b[32m0.8476\u001b[0m        \u001b[35m1.0540\u001b[0m  0.0632\n",
      "      3        \u001b[36m0.9440\u001b[0m       \u001b[32m0.9213\u001b[0m        \u001b[35m0.8100\u001b[0m  0.0660\n",
      "      4        \u001b[36m0.7242\u001b[0m       \u001b[32m0.9816\u001b[0m        \u001b[35m0.6177\u001b[0m  0.0764\n",
      "      5        \u001b[36m0.5577\u001b[0m       \u001b[32m0.9916\u001b[0m        \u001b[35m0.4777\u001b[0m  0.0747\n",
      "      6        \u001b[36m0.4373\u001b[0m       \u001b[32m0.9933\u001b[0m        \u001b[35m0.3776\u001b[0m  0.0747\n",
      "      7        \u001b[36m0.3509\u001b[0m       0.9933        \u001b[35m0.3061\u001b[0m  0.0689\n",
      "      8        \u001b[36m0.2889\u001b[0m       \u001b[32m0.9950\u001b[0m        \u001b[35m0.2545\u001b[0m  0.0705\n",
      "      9        \u001b[36m0.2432\u001b[0m       0.9933        \u001b[35m0.2164\u001b[0m  0.0810\n",
      "     10        \u001b[36m0.2091\u001b[0m       0.9950        \u001b[35m0.1877\u001b[0m  0.0678\n",
      "  epoch    train_loss    valid_acc    valid_loss     dur\n",
      "-------  ------------  -----------  ------------  ------\n",
      "      1        \u001b[36m1.4819\u001b[0m       \u001b[32m0.7219\u001b[0m        \u001b[35m1.3608\u001b[0m  0.0685\n",
      "      2        \u001b[36m1.2508\u001b[0m       \u001b[32m0.8744\u001b[0m        \u001b[35m1.1221\u001b[0m  0.0591\n",
      "      3        \u001b[36m1.0104\u001b[0m       \u001b[32m0.9179\u001b[0m        \u001b[35m0.8824\u001b[0m  0.0668\n",
      "      4        \u001b[36m0.7863\u001b[0m       \u001b[32m0.9564\u001b[0m        \u001b[35m0.6790\u001b[0m  0.0664\n",
      "      5        \u001b[36m0.6064\u001b[0m       \u001b[32m0.9799\u001b[0m        \u001b[35m0.5253\u001b[0m  0.0665\n",
      "      6        \u001b[36m0.4727\u001b[0m       \u001b[32m0.9849\u001b[0m        \u001b[35m0.4130\u001b[0m  0.0646\n",
      "      7        \u001b[36m0.3766\u001b[0m       \u001b[32m0.9866\u001b[0m        \u001b[35m0.3337\u001b[0m  0.0580\n",
      "      8        \u001b[36m0.3077\u001b[0m       0.9866        \u001b[35m0.2769\u001b[0m  0.0634\n",
      "      9        \u001b[36m0.2578\u001b[0m       \u001b[32m0.9883\u001b[0m        \u001b[35m0.2355\u001b[0m  0.0615\n",
      "     10        \u001b[36m0.2207\u001b[0m       \u001b[32m0.9899\u001b[0m        \u001b[35m0.2046\u001b[0m  0.0623\n",
      "  epoch    train_loss    valid_acc    valid_loss     dur\n",
      "-------  ------------  -----------  ------------  ------\n",
      "      1        \u001b[36m1.4841\u001b[0m       \u001b[32m0.8074\u001b[0m        \u001b[35m1.3446\u001b[0m  0.0771\n",
      "      2        \u001b[36m1.2243\u001b[0m       \u001b[32m0.8375\u001b[0m        \u001b[35m1.0842\u001b[0m  0.0606\n",
      "      3        \u001b[36m0.9694\u001b[0m       \u001b[32m0.9263\u001b[0m        \u001b[35m0.8408\u001b[0m  0.0598\n",
      "      4        \u001b[36m0.7467\u001b[0m       \u001b[32m0.9648\u001b[0m        \u001b[35m0.6416\u001b[0m  0.0674\n",
      "      5        \u001b[36m0.5733\u001b[0m       \u001b[32m0.9782\u001b[0m        \u001b[35m0.4941\u001b[0m  0.0663\n",
      "      6        \u001b[36m0.4469\u001b[0m       \u001b[32m0.9866\u001b[0m        \u001b[35m0.3892\u001b[0m  0.0586\n",
      "      7        \u001b[36m0.3569\u001b[0m       \u001b[32m0.9883\u001b[0m        \u001b[35m0.3154\u001b[0m  0.0746\n",
      "      8        \u001b[36m0.2927\u001b[0m       \u001b[32m0.9899\u001b[0m        \u001b[35m0.2621\u001b[0m  0.0786\n",
      "      9        \u001b[36m0.2461\u001b[0m       0.9883        \u001b[35m0.2233\u001b[0m  0.0671\n",
      "     10        \u001b[36m0.2113\u001b[0m       0.9899        \u001b[35m0.1945\u001b[0m  0.0663\n",
      "  epoch    train_loss    valid_acc    valid_loss     dur\n",
      "-------  ------------  -----------  ------------  ------\n",
      "      1        \u001b[36m1.4966\u001b[0m       \u001b[32m0.7621\u001b[0m        \u001b[35m1.3507\u001b[0m  0.0629\n",
      "      2        \u001b[36m1.2320\u001b[0m       \u001b[32m0.8409\u001b[0m        \u001b[35m1.0869\u001b[0m  0.0670\n",
      "      3        \u001b[36m0.9725\u001b[0m       \u001b[32m0.8626\u001b[0m        \u001b[35m0.8407\u001b[0m  0.0727\n",
      "      4        \u001b[36m0.7494\u001b[0m       \u001b[32m0.9514\u001b[0m        \u001b[35m0.6458\u001b[0m  0.0638\n",
      "      5        \u001b[36m0.5797\u001b[0m       \u001b[32m0.9749\u001b[0m        \u001b[35m0.5023\u001b[0m  0.0807\n",
      "      6        \u001b[36m0.4568\u001b[0m       \u001b[32m0.9816\u001b[0m        \u001b[35m0.3993\u001b[0m  0.0761\n",
      "      7        \u001b[36m0.3678\u001b[0m       \u001b[32m0.9832\u001b[0m        \u001b[35m0.3253\u001b[0m  0.0690\n",
      "      8        \u001b[36m0.3033\u001b[0m       \u001b[32m0.9866\u001b[0m        \u001b[35m0.2715\u001b[0m  0.0627\n",
      "      9        \u001b[36m0.2561\u001b[0m       0.9849        \u001b[35m0.2316\u001b[0m  0.0668\n",
      "     10        \u001b[36m0.2201\u001b[0m       0.9866        \u001b[35m0.2014\u001b[0m  0.0679\n",
      "  epoch    train_loss    valid_acc    valid_loss     dur\n",
      "-------  ------------  -----------  ------------  ------\n",
      "      1        \u001b[36m1.5065\u001b[0m       \u001b[32m0.7789\u001b[0m        \u001b[35m1.3790\u001b[0m  0.0732\n",
      "      2        \u001b[36m1.2561\u001b[0m       \u001b[32m0.8760\u001b[0m        \u001b[35m1.1208\u001b[0m  0.0656\n",
      "      3        \u001b[36m0.9978\u001b[0m       \u001b[32m0.9548\u001b[0m        \u001b[35m0.8669\u001b[0m  0.0612\n",
      "      4        \u001b[36m0.7636\u001b[0m       \u001b[32m0.9765\u001b[0m        \u001b[35m0.6575\u001b[0m  0.0646\n",
      "      5        \u001b[36m0.5815\u001b[0m       \u001b[32m0.9799\u001b[0m        \u001b[35m0.5028\u001b[0m  0.0649\n",
      "      6        \u001b[36m0.4504\u001b[0m       \u001b[32m0.9832\u001b[0m        \u001b[35m0.3950\u001b[0m  0.0645\n",
      "      7        \u001b[36m0.3589\u001b[0m       0.9816        \u001b[35m0.3197\u001b[0m  0.0595\n",
      "      8        \u001b[36m0.2942\u001b[0m       0.9832        \u001b[35m0.2663\u001b[0m  0.0608\n",
      "      9        \u001b[36m0.2475\u001b[0m       \u001b[32m0.9849\u001b[0m        \u001b[35m0.2269\u001b[0m  0.0709\n",
      "     10        \u001b[36m0.2129\u001b[0m       \u001b[32m0.9883\u001b[0m        \u001b[35m0.1973\u001b[0m  0.0695\n",
      "  epoch    train_loss    valid_acc    valid_loss     dur\n",
      "-------  ------------  -----------  ------------  ------\n",
      "      1        \u001b[36m1.5064\u001b[0m       \u001b[32m0.7203\u001b[0m        \u001b[35m1.3791\u001b[0m  0.0709\n",
      "      2        \u001b[36m1.2688\u001b[0m       \u001b[32m0.8492\u001b[0m        \u001b[35m1.1361\u001b[0m  0.0678\n",
      "      3        \u001b[36m1.0221\u001b[0m       \u001b[32m0.9012\u001b[0m        \u001b[35m0.8906\u001b[0m  0.0631\n",
      "      4        \u001b[36m0.7926\u001b[0m       \u001b[32m0.9564\u001b[0m        \u001b[35m0.6826\u001b[0m  0.0622\n",
      "      5        \u001b[36m0.6096\u001b[0m       \u001b[32m0.9765\u001b[0m        \u001b[35m0.5259\u001b[0m  0.0645\n",
      "      6        \u001b[36m0.4751\u001b[0m       \u001b[32m0.9816\u001b[0m        \u001b[35m0.4136\u001b[0m  0.0638\n",
      "      7        \u001b[36m0.3784\u001b[0m       \u001b[32m0.9832\u001b[0m        \u001b[35m0.3333\u001b[0m  0.0715\n",
      "      8        \u001b[36m0.3091\u001b[0m       \u001b[32m0.9849\u001b[0m        \u001b[35m0.2758\u001b[0m  0.0892\n",
      "      9        \u001b[36m0.2585\u001b[0m       0.9849        \u001b[35m0.2342\u001b[0m  0.0711\n",
      "     10        \u001b[36m0.2210\u001b[0m       0.9832        \u001b[35m0.2026\u001b[0m  0.0623\n",
      "  epoch    train_loss    valid_acc    valid_loss     dur\n",
      "-------  ------------  -----------  ------------  ------\n",
      "      1        \u001b[36m1.5126\u001b[0m       \u001b[32m0.7856\u001b[0m        \u001b[35m1.3852\u001b[0m  0.0665\n",
      "      2        \u001b[36m1.2786\u001b[0m       \u001b[32m0.9146\u001b[0m        \u001b[35m1.1512\u001b[0m  0.0580\n",
      "      3        \u001b[36m1.0414\u001b[0m       \u001b[32m0.9564\u001b[0m        \u001b[35m0.9176\u001b[0m  0.0612\n",
      "      4        \u001b[36m0.8209\u001b[0m       \u001b[32m0.9782\u001b[0m        \u001b[35m0.7160\u001b[0m  0.0711\n",
      "      5        \u001b[36m0.6406\u001b[0m       \u001b[32m0.9816\u001b[0m        \u001b[35m0.5582\u001b[0m  0.0915\n",
      "      6        \u001b[36m0.5029\u001b[0m       \u001b[32m0.9832\u001b[0m        \u001b[35m0.4414\u001b[0m  0.0731\n",
      "      7        \u001b[36m0.4015\u001b[0m       0.9816        \u001b[35m0.3562\u001b[0m  0.0755\n",
      "      8        \u001b[36m0.3272\u001b[0m       0.9832        \u001b[35m0.2940\u001b[0m  0.0636\n",
      "      9        \u001b[36m0.2729\u001b[0m       \u001b[32m0.9866\u001b[0m        \u001b[35m0.2481\u001b[0m  0.0645\n",
      "     10        \u001b[36m0.2321\u001b[0m       0.9849        \u001b[35m0.2148\u001b[0m  0.0705\n",
      "  epoch    train_loss    valid_acc    valid_loss     dur\n",
      "-------  ------------  -----------  ------------  ------\n",
      "      1        \u001b[36m1.4799\u001b[0m       \u001b[32m0.7873\u001b[0m        \u001b[35m1.3424\u001b[0m  0.0717\n",
      "      2        \u001b[36m1.2250\u001b[0m       \u001b[32m0.8660\u001b[0m        \u001b[35m1.0846\u001b[0m  0.0511\n",
      "      3        \u001b[36m0.9721\u001b[0m       \u001b[32m0.9313\u001b[0m        \u001b[35m0.8434\u001b[0m  0.0677\n",
      "      4        \u001b[36m0.7515\u001b[0m       \u001b[32m0.9749\u001b[0m        \u001b[35m0.6473\u001b[0m  0.0715\n",
      "      5        \u001b[36m0.5796\u001b[0m       \u001b[32m0.9816\u001b[0m        \u001b[35m0.5016\u001b[0m  0.0678\n",
      "      6        \u001b[36m0.4545\u001b[0m       \u001b[32m0.9883\u001b[0m        \u001b[35m0.3969\u001b[0m  0.0628\n",
      "      7        \u001b[36m0.3642\u001b[0m       \u001b[32m0.9899\u001b[0m        \u001b[35m0.3220\u001b[0m  0.0689\n",
      "      8        \u001b[36m0.2990\u001b[0m       0.9899        \u001b[35m0.2677\u001b[0m  0.0671\n",
      "      9        \u001b[36m0.2511\u001b[0m       0.9883        \u001b[35m0.2279\u001b[0m  0.0666\n",
      "     10        \u001b[36m0.2156\u001b[0m       0.9883        \u001b[35m0.1978\u001b[0m  0.0623\n",
      "  epoch    train_loss    valid_acc    valid_loss     dur\n",
      "-------  ------------  -----------  ------------  ------\n",
      "      1        \u001b[36m1.5155\u001b[0m       \u001b[32m0.7906\u001b[0m        \u001b[35m1.3662\u001b[0m  0.0677\n",
      "      2        \u001b[36m1.2332\u001b[0m       \u001b[32m0.8375\u001b[0m        \u001b[35m1.0835\u001b[0m  0.0714\n",
      "      3        \u001b[36m0.9595\u001b[0m       \u001b[32m0.9146\u001b[0m        \u001b[35m0.8288\u001b[0m  0.0694\n",
      "      4        \u001b[36m0.7321\u001b[0m       \u001b[32m0.9615\u001b[0m        \u001b[35m0.6336\u001b[0m  0.0670\n",
      "      5        \u001b[36m0.5647\u001b[0m       \u001b[32m0.9816\u001b[0m        \u001b[35m0.4930\u001b[0m  0.0632\n",
      "      6        \u001b[36m0.4447\u001b[0m       \u001b[32m0.9866\u001b[0m        \u001b[35m0.3923\u001b[0m  0.0624\n",
      "      7        \u001b[36m0.3588\u001b[0m       \u001b[32m0.9883\u001b[0m        \u001b[35m0.3198\u001b[0m  0.0660\n",
      "      8        \u001b[36m0.2960\u001b[0m       0.9849        \u001b[35m0.2674\u001b[0m  0.0637\n",
      "      9        \u001b[36m0.2497\u001b[0m       0.9866        \u001b[35m0.2276\u001b[0m  0.0469\n",
      "     10        \u001b[36m0.2148\u001b[0m       0.9866        \u001b[35m0.1979\u001b[0m  0.0516\n",
      "  epoch    train_loss    valid_acc    valid_loss     dur\n",
      "-------  ------------  -----------  ------------  ------\n",
      "      1        \u001b[36m1.4761\u001b[0m       \u001b[32m0.8191\u001b[0m        \u001b[35m1.3222\u001b[0m  0.0685\n",
      "      2        \u001b[36m1.1916\u001b[0m       \u001b[32m0.8861\u001b[0m        \u001b[35m1.0506\u001b[0m  0.0636\n",
      "      3        \u001b[36m0.9308\u001b[0m       \u001b[32m0.9514\u001b[0m        \u001b[35m0.8079\u001b[0m  0.0660\n",
      "      4        \u001b[36m0.7121\u001b[0m       \u001b[32m0.9682\u001b[0m        \u001b[35m0.6167\u001b[0m  0.0666\n",
      "      5        \u001b[36m0.5467\u001b[0m       \u001b[32m0.9799\u001b[0m        \u001b[35m0.4784\u001b[0m  0.0654\n",
      "      6        \u001b[36m0.4287\u001b[0m       \u001b[32m0.9816\u001b[0m        \u001b[35m0.3801\u001b[0m  0.0614\n",
      "      7        \u001b[36m0.3448\u001b[0m       0.9816        \u001b[35m0.3114\u001b[0m  0.0652\n",
      "      8        \u001b[36m0.2849\u001b[0m       \u001b[32m0.9849\u001b[0m        \u001b[35m0.2600\u001b[0m  0.0637\n",
      "      9        \u001b[36m0.2410\u001b[0m       \u001b[32m0.9866\u001b[0m        \u001b[35m0.2232\u001b[0m  0.0618\n",
      "     10        \u001b[36m0.2079\u001b[0m       0.9866        \u001b[35m0.1955\u001b[0m  0.0432\n",
      "  epoch    train_loss    valid_acc    valid_loss     dur\n",
      "-------  ------------  -----------  ------------  ------\n",
      "      1        \u001b[36m1.4572\u001b[0m       \u001b[32m0.8211\u001b[0m        \u001b[35m1.2810\u001b[0m  0.0706\n",
      "      2        \u001b[36m1.1497\u001b[0m       \u001b[32m0.8636\u001b[0m        \u001b[35m0.9769\u001b[0m  0.0878\n",
      "      3        \u001b[36m0.8658\u001b[0m       \u001b[32m0.9399\u001b[0m        \u001b[35m0.7201\u001b[0m  0.0801\n",
      "      4        \u001b[36m0.6452\u001b[0m       \u001b[32m0.9736\u001b[0m        \u001b[35m0.5358\u001b[0m  0.0778\n",
      "      5        \u001b[36m0.4907\u001b[0m       \u001b[32m0.9883\u001b[0m        \u001b[35m0.4095\u001b[0m  0.0752\n",
      "      6        \u001b[36m0.3837\u001b[0m       \u001b[32m0.9941\u001b[0m        \u001b[35m0.3223\u001b[0m  0.0672\n",
      "      7        \u001b[36m0.3089\u001b[0m       \u001b[32m0.9956\u001b[0m        \u001b[35m0.2607\u001b[0m  0.0892\n",
      "      8        \u001b[36m0.2552\u001b[0m       0.9956        \u001b[35m0.2165\u001b[0m  0.0690\n",
      "      9        \u001b[36m0.2157\u001b[0m       0.9956        \u001b[35m0.1836\u001b[0m  0.0698\n",
      "     10        \u001b[36m0.1863\u001b[0m       0.9956        \u001b[35m0.1589\u001b[0m  0.0768\n",
      "  epoch    train_loss    valid_acc    valid_loss     dur\n",
      "-------  ------------  -----------  ------------  ------\n",
      "      1        \u001b[36m1.4716\u001b[0m       \u001b[32m0.8622\u001b[0m        \u001b[35m1.2894\u001b[0m  0.0709\n",
      "      2        \u001b[36m1.1524\u001b[0m       \u001b[32m0.8974\u001b[0m        \u001b[35m0.9770\u001b[0m  0.0676\n",
      "      3        \u001b[36m0.8621\u001b[0m       \u001b[32m0.9311\u001b[0m        \u001b[35m0.7194\u001b[0m  0.0664\n",
      "      4        \u001b[36m0.6394\u001b[0m       \u001b[32m0.9824\u001b[0m        \u001b[35m0.5332\u001b[0m  0.0880\n",
      "      5        \u001b[36m0.4829\u001b[0m       0.9824        \u001b[35m0.4065\u001b[0m  0.0777\n",
      "      6        \u001b[36m0.3754\u001b[0m       \u001b[32m0.9883\u001b[0m        \u001b[35m0.3196\u001b[0m  0.0784\n",
      "      7        \u001b[36m0.3004\u001b[0m       0.9883        \u001b[35m0.2598\u001b[0m  0.0722\n",
      "      8        \u001b[36m0.2479\u001b[0m       \u001b[32m0.9912\u001b[0m        \u001b[35m0.2168\u001b[0m  0.0707\n",
      "      9        \u001b[36m0.2095\u001b[0m       0.9912        \u001b[35m0.1858\u001b[0m  0.0736\n",
      "     10        \u001b[36m0.1810\u001b[0m       \u001b[32m0.9927\u001b[0m        \u001b[35m0.1627\u001b[0m  0.0779\n",
      "  epoch    train_loss    valid_acc    valid_loss     dur\n",
      "-------  ------------  -----------  ------------  ------\n",
      "      1        \u001b[36m1.4554\u001b[0m       \u001b[32m0.8446\u001b[0m        \u001b[35m1.2892\u001b[0m  0.0881\n",
      "      2        \u001b[36m1.1490\u001b[0m       \u001b[32m0.9326\u001b[0m        \u001b[35m0.9859\u001b[0m  0.0974\n",
      "      3        \u001b[36m0.8599\u001b[0m       \u001b[32m0.9721\u001b[0m        \u001b[35m0.7207\u001b[0m  0.0801\n",
      "      4        \u001b[36m0.6289\u001b[0m       \u001b[32m0.9839\u001b[0m        \u001b[35m0.5291\u001b[0m  0.1140\n",
      "      5        \u001b[36m0.4685\u001b[0m       0.9839        \u001b[35m0.4003\u001b[0m  0.0802\n",
      "      6        \u001b[36m0.3605\u001b[0m       0.9839        \u001b[35m0.3150\u001b[0m  0.0689\n",
      "      7        \u001b[36m0.2874\u001b[0m       0.9839        \u001b[35m0.2564\u001b[0m  0.0666\n",
      "      8        \u001b[36m0.2367\u001b[0m       \u001b[32m0.9853\u001b[0m        \u001b[35m0.2152\u001b[0m  0.0730\n",
      "      9        \u001b[36m0.2002\u001b[0m       0.9853        \u001b[35m0.1862\u001b[0m  0.0742\n",
      "     10        \u001b[36m0.1734\u001b[0m       0.9853        \u001b[35m0.1631\u001b[0m  0.0683\n",
      "  epoch    train_loss    valid_acc    valid_loss     dur\n",
      "-------  ------------  -----------  ------------  ------\n",
      "      1        \u001b[36m1.4944\u001b[0m       \u001b[32m0.7771\u001b[0m        \u001b[35m1.3374\u001b[0m  0.0793\n",
      "      2        \u001b[36m1.1993\u001b[0m       \u001b[32m0.8724\u001b[0m        \u001b[35m1.0381\u001b[0m  0.1001\n",
      "      3        \u001b[36m0.9131\u001b[0m       \u001b[32m0.9531\u001b[0m        \u001b[35m0.7770\u001b[0m  0.0993\n",
      "      4        \u001b[36m0.6843\u001b[0m       \u001b[32m0.9824\u001b[0m        \u001b[35m0.5830\u001b[0m  0.0748\n",
      "      5        \u001b[36m0.5189\u001b[0m       \u001b[32m0.9853\u001b[0m        \u001b[35m0.4474\u001b[0m  0.0797\n",
      "      6        \u001b[36m0.4039\u001b[0m       \u001b[32m0.9883\u001b[0m        \u001b[35m0.3509\u001b[0m  0.0777\n",
      "      7        \u001b[36m0.3221\u001b[0m       \u001b[32m0.9897\u001b[0m        \u001b[35m0.2835\u001b[0m  0.0632\n",
      "      8        \u001b[36m0.2638\u001b[0m       \u001b[32m0.9912\u001b[0m        \u001b[35m0.2355\u001b[0m  0.0847\n",
      "      9        \u001b[36m0.2218\u001b[0m       \u001b[32m0.9927\u001b[0m        \u001b[35m0.2006\u001b[0m  0.0687\n",
      "     10        \u001b[36m0.1906\u001b[0m       0.9897        \u001b[35m0.1745\u001b[0m  0.0763\n",
      "  epoch    train_loss    valid_acc    valid_loss     dur\n",
      "-------  ------------  -----------  ------------  ------\n",
      "      1        \u001b[36m1.4966\u001b[0m       \u001b[32m0.8138\u001b[0m        \u001b[35m1.3360\u001b[0m  0.0726\n",
      "      2        \u001b[36m1.2042\u001b[0m       \u001b[32m0.9062\u001b[0m        \u001b[35m1.0426\u001b[0m  0.0733\n",
      "      3        \u001b[36m0.9132\u001b[0m       \u001b[32m0.9501\u001b[0m        \u001b[35m0.7676\u001b[0m  0.0685\n",
      "      4        \u001b[36m0.6699\u001b[0m       \u001b[32m0.9853\u001b[0m        \u001b[35m0.5649\u001b[0m  0.0853\n",
      "      5        \u001b[36m0.4989\u001b[0m       0.9853        \u001b[35m0.4263\u001b[0m  0.0672\n",
      "      6        \u001b[36m0.3824\u001b[0m       \u001b[32m0.9868\u001b[0m        \u001b[35m0.3337\u001b[0m  0.0733\n",
      "      7        \u001b[36m0.3038\u001b[0m       \u001b[32m0.9883\u001b[0m        \u001b[35m0.2698\u001b[0m  0.0714\n",
      "      8        \u001b[36m0.2488\u001b[0m       \u001b[32m0.9912\u001b[0m        \u001b[35m0.2252\u001b[0m  0.0622\n",
      "      9        \u001b[36m0.2094\u001b[0m       0.9897        \u001b[35m0.1931\u001b[0m  0.0816\n",
      "     10        \u001b[36m0.1800\u001b[0m       0.9912        \u001b[35m0.1685\u001b[0m  0.0668\n",
      "  epoch    train_loss    valid_acc    valid_loss     dur\n",
      "-------  ------------  -----------  ------------  ------\n",
      "      1        \u001b[36m1.4620\u001b[0m       \u001b[32m0.7918\u001b[0m        \u001b[35m1.2822\u001b[0m  0.0753\n",
      "      2        \u001b[36m1.1379\u001b[0m       \u001b[32m0.8988\u001b[0m        \u001b[35m0.9711\u001b[0m  0.0789\n",
      "      3        \u001b[36m0.8459\u001b[0m       \u001b[32m0.9736\u001b[0m        \u001b[35m0.7094\u001b[0m  0.0674\n",
      "      4        \u001b[36m0.6195\u001b[0m       \u001b[32m0.9795\u001b[0m        \u001b[35m0.5231\u001b[0m  0.0688\n",
      "      5        \u001b[36m0.4638\u001b[0m       \u001b[32m0.9853\u001b[0m        \u001b[35m0.3984\u001b[0m  0.0718\n",
      "      6        \u001b[36m0.3595\u001b[0m       \u001b[32m0.9868\u001b[0m        \u001b[35m0.3150\u001b[0m  0.0674\n",
      "      7        \u001b[36m0.2883\u001b[0m       \u001b[32m0.9883\u001b[0m        \u001b[35m0.2571\u001b[0m  0.0609\n",
      "      8        \u001b[36m0.2386\u001b[0m       \u001b[32m0.9897\u001b[0m        \u001b[35m0.2160\u001b[0m  0.0719\n",
      "      9        \u001b[36m0.2018\u001b[0m       0.9897        \u001b[35m0.1865\u001b[0m  0.0734\n",
      "     10        \u001b[36m0.1751\u001b[0m       0.9897        \u001b[35m0.1633\u001b[0m  0.0865\n",
      "  epoch    train_loss    valid_acc    valid_loss     dur\n",
      "-------  ------------  -----------  ------------  ------\n",
      "      1        \u001b[36m1.4794\u001b[0m       \u001b[32m0.7317\u001b[0m        \u001b[35m1.3154\u001b[0m  0.0797\n",
      "      2        \u001b[36m1.1759\u001b[0m       \u001b[32m0.9032\u001b[0m        \u001b[35m1.0105\u001b[0m  0.0737\n",
      "      3        \u001b[36m0.8816\u001b[0m       \u001b[32m0.9663\u001b[0m        \u001b[35m0.7377\u001b[0m  0.0711\n",
      "      4        \u001b[36m0.6418\u001b[0m       \u001b[32m0.9853\u001b[0m        \u001b[35m0.5369\u001b[0m  0.0897\n",
      "      5        \u001b[36m0.4749\u001b[0m       \u001b[32m0.9897\u001b[0m        \u001b[35m0.4038\u001b[0m  0.0752\n",
      "      6        \u001b[36m0.3643\u001b[0m       0.9897        \u001b[35m0.3156\u001b[0m  0.0868\n",
      "      7        \u001b[36m0.2897\u001b[0m       0.9883        \u001b[35m0.2575\u001b[0m  0.0742\n",
      "      8        \u001b[36m0.2388\u001b[0m       \u001b[32m0.9912\u001b[0m        \u001b[35m0.2146\u001b[0m  0.0743\n",
      "      9        \u001b[36m0.2019\u001b[0m       0.9912        \u001b[35m0.1844\u001b[0m  0.0660\n",
      "     10        \u001b[36m0.1746\u001b[0m       0.9912        \u001b[35m0.1619\u001b[0m  0.1064\n",
      "  epoch    train_loss    valid_acc    valid_loss     dur\n",
      "-------  ------------  -----------  ------------  ------\n",
      "      1        \u001b[36m1.4512\u001b[0m       \u001b[32m0.8240\u001b[0m        \u001b[35m1.2949\u001b[0m  0.0721\n",
      "      2        \u001b[36m1.1568\u001b[0m       \u001b[32m0.8548\u001b[0m        \u001b[35m0.9972\u001b[0m  0.0770\n",
      "      3        \u001b[36m0.8728\u001b[0m       \u001b[32m0.8974\u001b[0m        \u001b[35m0.7387\u001b[0m  0.0760\n",
      "      4        \u001b[36m0.6482\u001b[0m       \u001b[32m0.9795\u001b[0m        \u001b[35m0.5497\u001b[0m  0.0694\n",
      "      5        \u001b[36m0.4894\u001b[0m       \u001b[32m0.9809\u001b[0m        \u001b[35m0.4208\u001b[0m  0.0700\n",
      "      6        \u001b[36m0.3805\u001b[0m       \u001b[32m0.9839\u001b[0m        \u001b[35m0.3322\u001b[0m  0.0712\n",
      "      7        \u001b[36m0.3051\u001b[0m       \u001b[32m0.9868\u001b[0m        \u001b[35m0.2709\u001b[0m  0.0621\n",
      "      8        \u001b[36m0.2516\u001b[0m       \u001b[32m0.9883\u001b[0m        \u001b[35m0.2265\u001b[0m  0.0921\n",
      "      9        \u001b[36m0.2123\u001b[0m       0.9883        \u001b[35m0.1937\u001b[0m  0.0712\n",
      "     10        \u001b[36m0.1827\u001b[0m       0.9868        \u001b[35m0.1701\u001b[0m  0.0670\n",
      "  epoch    train_loss    valid_acc    valid_loss     dur\n",
      "-------  ------------  -----------  ------------  ------\n",
      "      1        \u001b[36m1.4861\u001b[0m       \u001b[32m0.8314\u001b[0m        \u001b[35m1.3270\u001b[0m  0.1036\n",
      "      2        \u001b[36m1.1905\u001b[0m       \u001b[32m0.9531\u001b[0m        \u001b[35m1.0262\u001b[0m  0.0860\n",
      "      3        \u001b[36m0.9005\u001b[0m       \u001b[32m0.9824\u001b[0m        \u001b[35m0.7551\u001b[0m  0.0842\n",
      "      4        \u001b[36m0.6608\u001b[0m       \u001b[32m0.9839\u001b[0m        \u001b[35m0.5538\u001b[0m  0.0860\n",
      "      5        \u001b[36m0.4911\u001b[0m       \u001b[32m0.9868\u001b[0m        \u001b[35m0.4171\u001b[0m  0.0802\n",
      "      6        \u001b[36m0.3764\u001b[0m       0.9868        \u001b[35m0.3249\u001b[0m  0.0908\n",
      "      7        \u001b[36m0.2987\u001b[0m       0.9868        \u001b[35m0.2628\u001b[0m  0.0739\n",
      "      8        \u001b[36m0.2449\u001b[0m       \u001b[32m0.9883\u001b[0m        \u001b[35m0.2189\u001b[0m  0.1002\n",
      "      9        \u001b[36m0.2062\u001b[0m       0.9868        \u001b[35m0.1872\u001b[0m  0.0892\n",
      "     10        \u001b[36m0.1776\u001b[0m       0.9883        \u001b[35m0.1637\u001b[0m  0.0907\n",
      "  epoch    train_loss    valid_acc    valid_loss     dur\n",
      "-------  ------------  -----------  ------------  ------\n",
      "      1        \u001b[36m1.4798\u001b[0m       \u001b[32m0.7111\u001b[0m        \u001b[35m1.3210\u001b[0m  0.0802\n",
      "      2        \u001b[36m1.1785\u001b[0m       \u001b[32m0.8299\u001b[0m        \u001b[35m1.0179\u001b[0m  0.0695\n",
      "      3        \u001b[36m0.8899\u001b[0m       \u001b[32m0.9179\u001b[0m        \u001b[35m0.7571\u001b[0m  0.0730\n",
      "      4        \u001b[36m0.6596\u001b[0m       \u001b[32m0.9663\u001b[0m        \u001b[35m0.5606\u001b[0m  0.0714\n",
      "      5        \u001b[36m0.4949\u001b[0m       \u001b[32m0.9824\u001b[0m        \u001b[35m0.4265\u001b[0m  0.0820\n",
      "      6        \u001b[36m0.3821\u001b[0m       \u001b[32m0.9868\u001b[0m        \u001b[35m0.3349\u001b[0m  0.0719\n",
      "      7        \u001b[36m0.3046\u001b[0m       \u001b[32m0.9883\u001b[0m        \u001b[35m0.2719\u001b[0m  0.0723\n",
      "      8        \u001b[36m0.2502\u001b[0m       0.9883        \u001b[35m0.2271\u001b[0m  0.0685\n",
      "      9        \u001b[36m0.2108\u001b[0m       0.9883        \u001b[35m0.1946\u001b[0m  0.0846\n",
      "     10        \u001b[36m0.1817\u001b[0m       0.9883        \u001b[35m0.1702\u001b[0m  0.0702\n",
      "  epoch    train_loss    valid_acc    valid_loss     dur\n",
      "-------  ------------  -----------  ------------  ------\n",
      "      1        \u001b[36m1.4846\u001b[0m       \u001b[32m0.8136\u001b[0m        \u001b[35m1.3298\u001b[0m  0.0807\n",
      "      2        \u001b[36m1.1902\u001b[0m       \u001b[32m0.9309\u001b[0m        \u001b[35m1.0218\u001b[0m  0.0755\n",
      "      3        \u001b[36m0.8872\u001b[0m       \u001b[32m0.9765\u001b[0m        \u001b[35m0.7338\u001b[0m  0.0916\n",
      "      4        \u001b[36m0.6347\u001b[0m       \u001b[32m0.9857\u001b[0m        \u001b[35m0.5230\u001b[0m  0.0763\n",
      "      5        \u001b[36m0.4613\u001b[0m       \u001b[32m0.9896\u001b[0m        \u001b[35m0.3863\u001b[0m  0.0828\n",
      "      6        \u001b[36m0.3490\u001b[0m       0.9883        \u001b[35m0.2981\u001b[0m  0.0855\n",
      "      7        \u001b[36m0.2756\u001b[0m       \u001b[32m0.9948\u001b[0m        \u001b[35m0.2389\u001b[0m  0.0818\n",
      "      8        \u001b[36m0.2256\u001b[0m       0.9948        \u001b[35m0.1981\u001b[0m  0.0788\n",
      "      9        \u001b[36m0.1903\u001b[0m       0.9948        \u001b[35m0.1690\u001b[0m  0.0853\n",
      "     10        \u001b[36m0.1645\u001b[0m       0.9948        \u001b[35m0.1472\u001b[0m  0.1057\n",
      "  epoch    train_loss    valid_acc    valid_loss     dur\n",
      "-------  ------------  -----------  ------------  ------\n",
      "      1        \u001b[36m1.4794\u001b[0m       \u001b[32m0.8136\u001b[0m        \u001b[35m1.3106\u001b[0m  0.0848\n",
      "      2        \u001b[36m1.1598\u001b[0m       \u001b[32m0.8827\u001b[0m        \u001b[35m0.9859\u001b[0m  0.0841\n",
      "      3        \u001b[36m0.8537\u001b[0m       \u001b[32m0.9635\u001b[0m        \u001b[35m0.7083\u001b[0m  0.0770\n",
      "      4        \u001b[36m0.6151\u001b[0m       \u001b[32m0.9791\u001b[0m        \u001b[35m0.5112\u001b[0m  0.0979\n",
      "      5        \u001b[36m0.4521\u001b[0m       \u001b[32m0.9844\u001b[0m        \u001b[35m0.3814\u001b[0m  0.0667\n",
      "      6        \u001b[36m0.3450\u001b[0m       \u001b[32m0.9870\u001b[0m        \u001b[35m0.2963\u001b[0m  0.0862\n",
      "      7        \u001b[36m0.2732\u001b[0m       0.9870        \u001b[35m0.2390\u001b[0m  0.0883\n",
      "      8        \u001b[36m0.2242\u001b[0m       \u001b[32m0.9883\u001b[0m        \u001b[35m0.1991\u001b[0m  0.1043\n",
      "      9        \u001b[36m0.1895\u001b[0m       \u001b[32m0.9909\u001b[0m        \u001b[35m0.1702\u001b[0m  0.0949\n",
      "     10        \u001b[36m0.1636\u001b[0m       \u001b[32m0.9922\u001b[0m        \u001b[35m0.1489\u001b[0m  0.0740\n",
      "  epoch    train_loss    valid_acc    valid_loss     dur\n",
      "-------  ------------  -----------  ------------  ------\n",
      "      1        \u001b[36m1.4351\u001b[0m       \u001b[32m0.8240\u001b[0m        \u001b[35m1.2725\u001b[0m  0.0948\n",
      "      2        \u001b[36m1.1166\u001b[0m       \u001b[32m0.9113\u001b[0m        \u001b[35m0.9500\u001b[0m  0.0788\n",
      "      3        \u001b[36m0.8178\u001b[0m       \u001b[32m0.9713\u001b[0m        \u001b[35m0.6798\u001b[0m  0.1220\n",
      "      4        \u001b[36m0.5897\u001b[0m       \u001b[32m0.9817\u001b[0m        \u001b[35m0.4932\u001b[0m  0.0762\n",
      "      5        \u001b[36m0.4371\u001b[0m       \u001b[32m0.9883\u001b[0m        \u001b[35m0.3705\u001b[0m  0.0847\n",
      "      6        \u001b[36m0.3363\u001b[0m       0.9870        \u001b[35m0.2901\u001b[0m  0.0781\n",
      "      7        \u001b[36m0.2689\u001b[0m       \u001b[32m0.9909\u001b[0m        \u001b[35m0.2352\u001b[0m  0.0808\n",
      "      8        \u001b[36m0.2218\u001b[0m       0.9909        \u001b[35m0.1964\u001b[0m  0.0760\n",
      "      9        \u001b[36m0.1881\u001b[0m       0.9909        \u001b[35m0.1685\u001b[0m  0.0738\n",
      "     10        \u001b[36m0.1631\u001b[0m       \u001b[32m0.9922\u001b[0m        \u001b[35m0.1477\u001b[0m  0.0830\n",
      "  epoch    train_loss    valid_acc    valid_loss     dur\n",
      "-------  ------------  -----------  ------------  ------\n",
      "      1        \u001b[36m1.4359\u001b[0m       \u001b[32m0.8253\u001b[0m        \u001b[35m1.2601\u001b[0m  0.0744\n",
      "      2        \u001b[36m1.1085\u001b[0m       \u001b[32m0.9309\u001b[0m        \u001b[35m0.9370\u001b[0m  0.0753\n",
      "      3        \u001b[36m0.8095\u001b[0m       \u001b[32m0.9765\u001b[0m        \u001b[35m0.6701\u001b[0m  0.0860\n",
      "      4        \u001b[36m0.5837\u001b[0m       \u001b[32m0.9844\u001b[0m        \u001b[35m0.4848\u001b[0m  0.0747\n",
      "      5        \u001b[36m0.4314\u001b[0m       \u001b[32m0.9883\u001b[0m        \u001b[35m0.3637\u001b[0m  0.0763\n",
      "      6        \u001b[36m0.3310\u001b[0m       \u001b[32m0.9896\u001b[0m        \u001b[35m0.2837\u001b[0m  0.0666\n",
      "      7        \u001b[36m0.2636\u001b[0m       \u001b[32m0.9909\u001b[0m        \u001b[35m0.2299\u001b[0m  0.0972\n",
      "      8        \u001b[36m0.2170\u001b[0m       0.9909        \u001b[35m0.1927\u001b[0m  0.0741\n",
      "      9        \u001b[36m0.1839\u001b[0m       0.9896        \u001b[35m0.1655\u001b[0m  0.0871\n",
      "     10        \u001b[36m0.1593\u001b[0m       0.9896        \u001b[35m0.1452\u001b[0m  0.0781\n",
      "  epoch    train_loss    valid_acc    valid_loss     dur\n",
      "-------  ------------  -----------  ------------  ------\n",
      "      1        \u001b[36m1.4812\u001b[0m       \u001b[32m0.8175\u001b[0m        \u001b[35m1.3132\u001b[0m  0.0813\n",
      "      2        \u001b[36m1.1601\u001b[0m       \u001b[32m0.8605\u001b[0m        \u001b[35m0.9858\u001b[0m  0.0857\n",
      "      3        \u001b[36m0.8465\u001b[0m       \u001b[32m0.9570\u001b[0m        \u001b[35m0.6988\u001b[0m  0.1084\n",
      "      4        \u001b[36m0.6030\u001b[0m       \u001b[32m0.9817\u001b[0m        \u001b[35m0.5017\u001b[0m  0.1215\n",
      "      5        \u001b[36m0.4424\u001b[0m       0.9817        \u001b[35m0.3749\u001b[0m  0.1036\n",
      "      6        \u001b[36m0.3386\u001b[0m       \u001b[32m0.9857\u001b[0m        \u001b[35m0.2926\u001b[0m  0.0901\n",
      "      7        \u001b[36m0.2696\u001b[0m       \u001b[32m0.9870\u001b[0m        \u001b[35m0.2372\u001b[0m  0.0750\n",
      "      8        \u001b[36m0.2219\u001b[0m       0.9870        \u001b[35m0.1984\u001b[0m  0.0788\n",
      "      9        \u001b[36m0.1879\u001b[0m       \u001b[32m0.9883\u001b[0m        \u001b[35m0.1703\u001b[0m  0.0761\n",
      "     10        \u001b[36m0.1626\u001b[0m       \u001b[32m0.9909\u001b[0m        \u001b[35m0.1495\u001b[0m  0.0880\n",
      "  epoch    train_loss    valid_acc    valid_loss     dur\n",
      "-------  ------------  -----------  ------------  ------\n",
      "      1        \u001b[36m1.4420\u001b[0m       \u001b[32m0.8188\u001b[0m        \u001b[35m1.2706\u001b[0m  0.1047\n",
      "      2        \u001b[36m1.1153\u001b[0m       \u001b[32m0.8996\u001b[0m        \u001b[35m0.9463\u001b[0m  0.0963\n",
      "      3        \u001b[36m0.8147\u001b[0m       \u001b[32m0.9765\u001b[0m        \u001b[35m0.6773\u001b[0m  0.0874\n",
      "      4        \u001b[36m0.5865\u001b[0m       \u001b[32m0.9791\u001b[0m        \u001b[35m0.4895\u001b[0m  0.0741\n",
      "      5        \u001b[36m0.4324\u001b[0m       \u001b[32m0.9870\u001b[0m        \u001b[35m0.3666\u001b[0m  0.0863\n",
      "      6        \u001b[36m0.3315\u001b[0m       \u001b[32m0.9883\u001b[0m        \u001b[35m0.2863\u001b[0m  0.0787\n",
      "      7        \u001b[36m0.2639\u001b[0m       0.9883        \u001b[35m0.2323\u001b[0m  0.0903\n",
      "      8        \u001b[36m0.2173\u001b[0m       \u001b[32m0.9896\u001b[0m        \u001b[35m0.1944\u001b[0m  0.0750\n",
      "      9        \u001b[36m0.1839\u001b[0m       0.9883        \u001b[35m0.1671\u001b[0m  0.0896\n",
      "     10        \u001b[36m0.1591\u001b[0m       0.9896        \u001b[35m0.1468\u001b[0m  0.0802\n",
      "  epoch    train_loss    valid_acc    valid_loss     dur\n",
      "-------  ------------  -----------  ------------  ------\n",
      "      1        \u001b[36m1.4820\u001b[0m       \u001b[32m0.8070\u001b[0m        \u001b[35m1.3147\u001b[0m  0.0812\n",
      "      2        \u001b[36m1.1685\u001b[0m       \u001b[32m0.9126\u001b[0m        \u001b[35m1.0016\u001b[0m  0.0795\n",
      "      3        \u001b[36m0.8704\u001b[0m       \u001b[32m0.9674\u001b[0m        \u001b[35m0.7256\u001b[0m  0.0778\n",
      "      4        \u001b[36m0.6316\u001b[0m       \u001b[32m0.9817\u001b[0m        \u001b[35m0.5243\u001b[0m  0.0862\n",
      "      5        \u001b[36m0.4651\u001b[0m       \u001b[32m0.9844\u001b[0m        \u001b[35m0.3898\u001b[0m  0.0723\n",
      "      6        \u001b[36m0.3545\u001b[0m       0.9844        \u001b[35m0.3009\u001b[0m  0.0716\n",
      "      7        \u001b[36m0.2804\u001b[0m       \u001b[32m0.9883\u001b[0m        \u001b[35m0.2416\u001b[0m  0.0893\n",
      "      8        \u001b[36m0.2295\u001b[0m       0.9870        \u001b[35m0.2002\u001b[0m  0.0838\n",
      "      9        \u001b[36m0.1933\u001b[0m       0.9870        \u001b[35m0.1708\u001b[0m  0.0784\n",
      "     10        \u001b[36m0.1667\u001b[0m       0.9870        \u001b[35m0.1491\u001b[0m  0.0706\n",
      "  epoch    train_loss    valid_acc    valid_loss     dur\n",
      "-------  ------------  -----------  ------------  ------\n",
      "      1        \u001b[36m1.4829\u001b[0m       \u001b[32m0.8279\u001b[0m        \u001b[35m1.3249\u001b[0m  0.0756\n",
      "      2        \u001b[36m1.1741\u001b[0m       \u001b[32m0.9244\u001b[0m        \u001b[35m1.0007\u001b[0m  0.0685\n",
      "      3        \u001b[36m0.8608\u001b[0m       \u001b[32m0.9817\u001b[0m        \u001b[35m0.7103\u001b[0m  0.0843\n",
      "      4        \u001b[36m0.6128\u001b[0m       \u001b[32m0.9844\u001b[0m        \u001b[35m0.5069\u001b[0m  0.0757\n",
      "      5        \u001b[36m0.4467\u001b[0m       0.9844        \u001b[35m0.3764\u001b[0m  0.0778\n",
      "      6        \u001b[36m0.3397\u001b[0m       \u001b[32m0.9883\u001b[0m        \u001b[35m0.2916\u001b[0m  0.0822\n",
      "      7        \u001b[36m0.2690\u001b[0m       0.9883        \u001b[35m0.2352\u001b[0m  0.0780\n",
      "      8        \u001b[36m0.2207\u001b[0m       0.9870        \u001b[35m0.1965\u001b[0m  0.0686\n",
      "      9        \u001b[36m0.1866\u001b[0m       \u001b[32m0.9896\u001b[0m        \u001b[35m0.1683\u001b[0m  0.0878\n",
      "     10        \u001b[36m0.1613\u001b[0m       0.9896        \u001b[35m0.1481\u001b[0m  0.0679\n",
      "  epoch    train_loss    valid_acc    valid_loss     dur\n",
      "-------  ------------  -----------  ------------  ------\n",
      "      1        \u001b[36m1.4621\u001b[0m       \u001b[32m0.6662\u001b[0m        \u001b[35m1.3036\u001b[0m  0.0897\n",
      "      2        \u001b[36m1.1554\u001b[0m       \u001b[32m0.8970\u001b[0m        \u001b[35m0.9900\u001b[0m  0.0786\n",
      "      3        \u001b[36m0.8502\u001b[0m       \u001b[32m0.9713\u001b[0m        \u001b[35m0.7046\u001b[0m  0.0813\n",
      "      4        \u001b[36m0.6036\u001b[0m       \u001b[32m0.9844\u001b[0m        \u001b[35m0.5010\u001b[0m  0.0803\n",
      "      5        \u001b[36m0.4375\u001b[0m       \u001b[32m0.9883\u001b[0m        \u001b[35m0.3706\u001b[0m  0.0839\n",
      "      6        \u001b[36m0.3315\u001b[0m       0.9870        \u001b[35m0.2877\u001b[0m  0.0815\n",
      "      7        \u001b[36m0.2627\u001b[0m       \u001b[32m0.9896\u001b[0m        \u001b[35m0.2331\u001b[0m  0.0814\n",
      "      8        \u001b[36m0.2161\u001b[0m       0.9883        \u001b[35m0.1953\u001b[0m  0.0831\n",
      "      9        \u001b[36m0.1828\u001b[0m       0.9896        \u001b[35m0.1681\u001b[0m  0.0818\n",
      "     10        \u001b[36m0.1583\u001b[0m       0.9896        \u001b[35m0.1478\u001b[0m  0.0756\n",
      "  epoch    train_loss    valid_acc    valid_loss     dur\n",
      "-------  ------------  -----------  ------------  ------\n",
      "      1        \u001b[36m1.4563\u001b[0m       \u001b[32m0.8435\u001b[0m        \u001b[35m1.2725\u001b[0m  0.1039\n",
      "      2        \u001b[36m1.1177\u001b[0m       \u001b[32m0.9009\u001b[0m        \u001b[35m0.9390\u001b[0m  0.0853\n",
      "      3        \u001b[36m0.8100\u001b[0m       \u001b[32m0.9804\u001b[0m        \u001b[35m0.6677\u001b[0m  0.0828\n",
      "      4        \u001b[36m0.5805\u001b[0m       \u001b[32m0.9896\u001b[0m        \u001b[35m0.4804\u001b[0m  0.0845\n",
      "      5        \u001b[36m0.4278\u001b[0m       0.9883        \u001b[35m0.3597\u001b[0m  0.0766\n",
      "      6        \u001b[36m0.3280\u001b[0m       0.9870        \u001b[35m0.2813\u001b[0m  0.0793\n",
      "      7        \u001b[36m0.2620\u001b[0m       0.9896        \u001b[35m0.2282\u001b[0m  0.0887\n",
      "      8        \u001b[36m0.2160\u001b[0m       0.9896        \u001b[35m0.1914\u001b[0m  0.0840\n",
      "      9        \u001b[36m0.1832\u001b[0m       0.9896        \u001b[35m0.1648\u001b[0m  0.0747\n",
      "     10        \u001b[36m0.1590\u001b[0m       0.9896        \u001b[35m0.1449\u001b[0m  0.0843\n",
      "  epoch    train_loss    valid_acc    valid_loss     dur\n",
      "-------  ------------  -----------  ------------  ------\n",
      "      1        \u001b[36m1.4584\u001b[0m       \u001b[32m0.8275\u001b[0m        \u001b[35m1.2601\u001b[0m  0.0899\n",
      "      2        \u001b[36m1.0793\u001b[0m       \u001b[32m0.9131\u001b[0m        \u001b[35m0.8883\u001b[0m  0.0897\n",
      "      3        \u001b[36m0.7429\u001b[0m       \u001b[32m0.9742\u001b[0m        \u001b[35m0.6069\u001b[0m  0.0924\n",
      "      4        \u001b[36m0.5121\u001b[0m       \u001b[32m0.9883\u001b[0m        \u001b[35m0.4261\u001b[0m  0.1066\n",
      "      5        \u001b[36m0.3682\u001b[0m       \u001b[32m0.9965\u001b[0m        \u001b[35m0.3151\u001b[0m  0.0921\n",
      "      6        \u001b[36m0.2793\u001b[0m       0.9965        \u001b[35m0.2451\u001b[0m  0.0836\n",
      "      7        \u001b[36m0.2218\u001b[0m       0.9953        \u001b[35m0.1991\u001b[0m  0.0981\n",
      "      8        \u001b[36m0.1833\u001b[0m       0.9965        \u001b[35m0.1672\u001b[0m  0.0961\n",
      "      9        \u001b[36m0.1558\u001b[0m       0.9965        \u001b[35m0.1441\u001b[0m  0.0905\n",
      "     10        \u001b[36m0.1356\u001b[0m       0.9965        \u001b[35m0.1262\u001b[0m  0.0936\n",
      "  epoch    train_loss    valid_acc    valid_loss     dur\n",
      "-------  ------------  -----------  ------------  ------\n",
      "      1        \u001b[36m1.4622\u001b[0m       \u001b[32m0.8357\u001b[0m        \u001b[35m1.2795\u001b[0m  0.1093\n",
      "      2        \u001b[36m1.1141\u001b[0m       \u001b[32m0.9378\u001b[0m        \u001b[35m0.9235\u001b[0m  0.0856\n",
      "      3        \u001b[36m0.7800\u001b[0m       \u001b[32m0.9812\u001b[0m        \u001b[35m0.6318\u001b[0m  0.0892\n",
      "      4        \u001b[36m0.5364\u001b[0m       \u001b[32m0.9859\u001b[0m        \u001b[35m0.4411\u001b[0m  0.0934\n",
      "      5        \u001b[36m0.3829\u001b[0m       \u001b[32m0.9883\u001b[0m        \u001b[35m0.3241\u001b[0m  0.0969\n",
      "      6        \u001b[36m0.2882\u001b[0m       0.9883        \u001b[35m0.2510\u001b[0m  0.0931\n",
      "      7        \u001b[36m0.2275\u001b[0m       0.9883        \u001b[35m0.2034\u001b[0m  0.0871\n",
      "      8        \u001b[36m0.1869\u001b[0m       \u001b[32m0.9894\u001b[0m        \u001b[35m0.1704\u001b[0m  0.1205\n",
      "      9        \u001b[36m0.1584\u001b[0m       0.9894        \u001b[35m0.1472\u001b[0m  0.1048\n",
      "     10        \u001b[36m0.1375\u001b[0m       \u001b[32m0.9918\u001b[0m        \u001b[35m0.1301\u001b[0m  0.0726\n",
      "  epoch    train_loss    valid_acc    valid_loss     dur\n",
      "-------  ------------  -----------  ------------  ------\n",
      "      1        \u001b[36m1.4046\u001b[0m       \u001b[32m0.8580\u001b[0m        \u001b[35m1.2044\u001b[0m  0.0872\n",
      "      2        \u001b[36m1.0277\u001b[0m       \u001b[32m0.9284\u001b[0m        \u001b[35m0.8395\u001b[0m  0.0956\n",
      "      3        \u001b[36m0.7040\u001b[0m       \u001b[32m0.9777\u001b[0m        \u001b[35m0.5699\u001b[0m  0.1026\n",
      "      4        \u001b[36m0.4866\u001b[0m       \u001b[32m0.9906\u001b[0m        \u001b[35m0.4011\u001b[0m  0.0918\n",
      "      5        \u001b[36m0.3522\u001b[0m       0.9906        \u001b[35m0.2982\u001b[0m  0.0806\n",
      "      6        \u001b[36m0.2686\u001b[0m       \u001b[32m0.9918\u001b[0m        \u001b[35m0.2337\u001b[0m  0.1055\n",
      "      7        \u001b[36m0.2148\u001b[0m       0.9906        \u001b[35m0.1911\u001b[0m  0.0868\n",
      "      8        \u001b[36m0.1780\u001b[0m       0.9918        \u001b[35m0.1614\u001b[0m  0.0937\n",
      "      9        \u001b[36m0.1518\u001b[0m       0.9906        \u001b[35m0.1402\u001b[0m  0.0760\n",
      "     10        \u001b[36m0.1326\u001b[0m       0.9906        \u001b[35m0.1244\u001b[0m  0.0976\n",
      "  epoch    train_loss    valid_acc    valid_loss     dur\n",
      "-------  ------------  -----------  ------------  ------\n",
      "      1        \u001b[36m1.4452\u001b[0m       \u001b[32m0.8192\u001b[0m        \u001b[35m1.2514\u001b[0m  0.0865\n",
      "      2        \u001b[36m1.0799\u001b[0m       \u001b[32m0.9390\u001b[0m        \u001b[35m0.8910\u001b[0m  0.0895\n",
      "      3        \u001b[36m0.7527\u001b[0m       \u001b[32m0.9742\u001b[0m        \u001b[35m0.6105\u001b[0m  0.0890\n",
      "      4        \u001b[36m0.5221\u001b[0m       \u001b[32m0.9894\u001b[0m        \u001b[35m0.4292\u001b[0m  0.0790\n",
      "      5        \u001b[36m0.3758\u001b[0m       0.9859        \u001b[35m0.3167\u001b[0m  0.0951\n",
      "      6        \u001b[36m0.2838\u001b[0m       0.9883        \u001b[35m0.2458\u001b[0m  0.0871\n",
      "      7        \u001b[36m0.2246\u001b[0m       \u001b[32m0.9906\u001b[0m        \u001b[35m0.1995\u001b[0m  0.0918\n",
      "      8        \u001b[36m0.1844\u001b[0m       \u001b[32m0.9918\u001b[0m        \u001b[35m0.1680\u001b[0m  0.0829\n",
      "      9        \u001b[36m0.1562\u001b[0m       0.9906        \u001b[35m0.1451\u001b[0m  0.0890\n",
      "     10        \u001b[36m0.1357\u001b[0m       0.9883        \u001b[35m0.1282\u001b[0m  0.0806\n",
      "  epoch    train_loss    valid_acc    valid_loss     dur\n",
      "-------  ------------  -----------  ------------  ------\n",
      "      1        \u001b[36m1.4788\u001b[0m       \u001b[32m0.8136\u001b[0m        \u001b[35m1.2938\u001b[0m  0.0728\n",
      "      2        \u001b[36m1.1168\u001b[0m       \u001b[32m0.9297\u001b[0m        \u001b[35m0.9291\u001b[0m  0.0829\n",
      "      3        \u001b[36m0.7793\u001b[0m       \u001b[32m0.9742\u001b[0m        \u001b[35m0.6337\u001b[0m  0.0972\n",
      "      4        \u001b[36m0.5355\u001b[0m       \u001b[32m0.9894\u001b[0m        \u001b[35m0.4417\u001b[0m  0.0869\n",
      "      5        \u001b[36m0.3820\u001b[0m       0.9894        \u001b[35m0.3239\u001b[0m  0.0825\n",
      "      6        \u001b[36m0.2871\u001b[0m       0.9894        \u001b[35m0.2504\u001b[0m  0.0968\n",
      "      7        \u001b[36m0.2263\u001b[0m       \u001b[32m0.9906\u001b[0m        \u001b[35m0.2024\u001b[0m  0.0886\n",
      "      8        \u001b[36m0.1857\u001b[0m       0.9894        \u001b[35m0.1701\u001b[0m  0.0939\n",
      "      9        \u001b[36m0.1572\u001b[0m       \u001b[32m0.9918\u001b[0m        \u001b[35m0.1465\u001b[0m  0.0887\n",
      "     10        \u001b[36m0.1363\u001b[0m       0.9894        \u001b[35m0.1292\u001b[0m  0.1099\n",
      "  epoch    train_loss    valid_acc    valid_loss     dur\n",
      "-------  ------------  -----------  ------------  ------\n",
      "      1        \u001b[36m1.4277\u001b[0m       \u001b[32m0.8394\u001b[0m        \u001b[35m1.2198\u001b[0m  0.0926\n",
      "      2        \u001b[36m1.0456\u001b[0m       \u001b[32m0.9414\u001b[0m        \u001b[35m0.8482\u001b[0m  0.0980\n",
      "      3        \u001b[36m0.7135\u001b[0m       \u001b[32m0.9801\u001b[0m        \u001b[35m0.5677\u001b[0m  0.0969\n",
      "      4        \u001b[36m0.4880\u001b[0m       \u001b[32m0.9871\u001b[0m        \u001b[35m0.3965\u001b[0m  0.0753\n",
      "      5        \u001b[36m0.3520\u001b[0m       \u001b[32m0.9906\u001b[0m        \u001b[35m0.2935\u001b[0m  0.1176\n",
      "      6        \u001b[36m0.2680\u001b[0m       0.9906        \u001b[35m0.2300\u001b[0m  0.1027\n",
      "      7        \u001b[36m0.2140\u001b[0m       0.9894        \u001b[35m0.1881\u001b[0m  0.0992\n",
      "      8        \u001b[36m0.1775\u001b[0m       0.9894        \u001b[35m0.1593\u001b[0m  0.0941\n",
      "      9        \u001b[36m0.1515\u001b[0m       0.9883        \u001b[35m0.1387\u001b[0m  0.0783\n",
      "     10        \u001b[36m0.1322\u001b[0m       0.9906        \u001b[35m0.1228\u001b[0m  0.0949\n",
      "  epoch    train_loss    valid_acc    valid_loss     dur\n",
      "-------  ------------  -----------  ------------  ------\n",
      "      1        \u001b[36m1.4505\u001b[0m       \u001b[32m0.8253\u001b[0m        \u001b[35m1.2499\u001b[0m  0.1181\n",
      "      2        \u001b[36m1.0705\u001b[0m       \u001b[32m0.9414\u001b[0m        \u001b[35m0.8816\u001b[0m  0.1152\n",
      "      3        \u001b[36m0.7394\u001b[0m       \u001b[32m0.9836\u001b[0m        \u001b[35m0.5991\u001b[0m  0.0995\n",
      "      4        \u001b[36m0.5100\u001b[0m       \u001b[32m0.9871\u001b[0m        \u001b[35m0.4204\u001b[0m  0.0990\n",
      "      5        \u001b[36m0.3678\u001b[0m       0.9859        \u001b[35m0.3123\u001b[0m  0.1035\n",
      "      6        \u001b[36m0.2798\u001b[0m       \u001b[32m0.9906\u001b[0m        \u001b[35m0.2433\u001b[0m  0.0999\n",
      "      7        \u001b[36m0.2231\u001b[0m       0.9894        \u001b[35m0.1987\u001b[0m  0.0853\n",
      "      8        \u001b[36m0.1845\u001b[0m       0.9894        \u001b[35m0.1674\u001b[0m  0.1212\n",
      "      9        \u001b[36m0.1570\u001b[0m       0.9894        \u001b[35m0.1453\u001b[0m  0.0969\n",
      "     10        \u001b[36m0.1367\u001b[0m       0.9894        \u001b[35m0.1285\u001b[0m  0.0786\n",
      "  epoch    train_loss    valid_acc    valid_loss     dur\n",
      "-------  ------------  -----------  ------------  ------\n",
      "      1        \u001b[36m1.4187\u001b[0m       \u001b[32m0.8535\u001b[0m        \u001b[35m1.2189\u001b[0m  0.0888\n",
      "      2        \u001b[36m1.0440\u001b[0m       \u001b[32m0.9449\u001b[0m        \u001b[35m0.8532\u001b[0m  0.0772\n",
      "      3        \u001b[36m0.7202\u001b[0m       \u001b[32m0.9754\u001b[0m        \u001b[35m0.5830\u001b[0m  0.0939\n",
      "      4        \u001b[36m0.4992\u001b[0m       \u001b[32m0.9836\u001b[0m        \u001b[35m0.4110\u001b[0m  0.0845\n",
      "      5        \u001b[36m0.3611\u001b[0m       \u001b[32m0.9906\u001b[0m        \u001b[35m0.3055\u001b[0m  0.0838\n",
      "      6        \u001b[36m0.2743\u001b[0m       0.9906        \u001b[35m0.2393\u001b[0m  0.0899\n",
      "      7        \u001b[36m0.2184\u001b[0m       \u001b[32m0.9918\u001b[0m        \u001b[35m0.1948\u001b[0m  0.0756\n",
      "      8        \u001b[36m0.1803\u001b[0m       0.9918        \u001b[35m0.1644\u001b[0m  0.0923\n",
      "      9        \u001b[36m0.1534\u001b[0m       0.9918        \u001b[35m0.1425\u001b[0m  0.2229\n",
      "     10        \u001b[36m0.1334\u001b[0m       0.9906        \u001b[35m0.1261\u001b[0m  0.0923\n",
      "  epoch    train_loss    valid_acc    valid_loss     dur\n",
      "-------  ------------  -----------  ------------  ------\n",
      "      1        \u001b[36m1.4104\u001b[0m       \u001b[32m0.8382\u001b[0m        \u001b[35m1.1983\u001b[0m  0.0929\n",
      "      2        \u001b[36m1.0203\u001b[0m       \u001b[32m0.9484\u001b[0m        \u001b[35m0.8290\u001b[0m  0.0842\n",
      "      3        \u001b[36m0.6966\u001b[0m       \u001b[32m0.9754\u001b[0m        \u001b[35m0.5619\u001b[0m  0.0842\n",
      "      4        \u001b[36m0.4819\u001b[0m       \u001b[32m0.9883\u001b[0m        \u001b[35m0.3963\u001b[0m  0.0918\n",
      "      5        \u001b[36m0.3498\u001b[0m       \u001b[32m0.9894\u001b[0m        \u001b[35m0.2952\u001b[0m  0.0780\n",
      "      6        \u001b[36m0.2672\u001b[0m       \u001b[32m0.9918\u001b[0m        \u001b[35m0.2319\u001b[0m  0.0914\n",
      "      7        \u001b[36m0.2138\u001b[0m       0.9894        \u001b[35m0.1896\u001b[0m  0.0739\n",
      "      8        \u001b[36m0.1776\u001b[0m       0.9918        \u001b[35m0.1603\u001b[0m  0.1032\n",
      "      9        \u001b[36m0.1516\u001b[0m       0.9918        \u001b[35m0.1393\u001b[0m  0.0857\n",
      "     10        \u001b[36m0.1324\u001b[0m       0.9906        \u001b[35m0.1235\u001b[0m  0.0847\n",
      "  epoch    train_loss    valid_acc    valid_loss     dur\n",
      "-------  ------------  -----------  ------------  ------\n",
      "      1        \u001b[36m1.4224\u001b[0m       \u001b[32m0.8324\u001b[0m        \u001b[35m1.2253\u001b[0m  0.0844\n",
      "      2        \u001b[36m1.0643\u001b[0m       \u001b[32m0.8898\u001b[0m        \u001b[35m0.8723\u001b[0m  0.0823\n",
      "      3        \u001b[36m0.7433\u001b[0m       \u001b[32m0.9766\u001b[0m        \u001b[35m0.5956\u001b[0m  0.0862\n",
      "      4        \u001b[36m0.5144\u001b[0m       \u001b[32m0.9836\u001b[0m        \u001b[35m0.4169\u001b[0m  0.0778\n",
      "      5        \u001b[36m0.3699\u001b[0m       \u001b[32m0.9883\u001b[0m        \u001b[35m0.3078\u001b[0m  0.0922\n",
      "      6        \u001b[36m0.2803\u001b[0m       0.9883        \u001b[35m0.2393\u001b[0m  0.0733\n",
      "      7        \u001b[36m0.2227\u001b[0m       0.9883        \u001b[35m0.1948\u001b[0m  0.1111\n",
      "      8        \u001b[36m0.1840\u001b[0m       0.9883        \u001b[35m0.1642\u001b[0m  0.0868\n",
      "      9        \u001b[36m0.1566\u001b[0m       \u001b[32m0.9894\u001b[0m        \u001b[35m0.1424\u001b[0m  0.1095\n",
      "     10        \u001b[36m0.1365\u001b[0m       0.9894        \u001b[35m0.1259\u001b[0m  0.0946\n"
     ]
    }
   ],
   "source": [
    "cvs = np.zeros(len(indices))\n",
    "\n",
    "for idx, per in enumerate(indices):\n",
    "    cvs[idx] = np.mean(cross_val_score(net, X_train[:per], y_train[:per], scoring='accuracy', cv=10))"
   ]
  },
  {
   "cell_type": "code",
   "execution_count": 38,
   "metadata": {},
   "outputs": [
    {
     "data": {
      "text/plain": [
       "array([0.86484929, 0.94720045, 0.98028169, 0.98468393, 0.98858614,\n",
       "       0.99084507, 0.98732028, 0.98573732, 0.98920188, 0.98986093])"
      ]
     },
     "execution_count": 38,
     "metadata": {},
     "output_type": "execute_result"
    }
   ],
   "source": [
    "cvs"
   ]
  },
  {
   "cell_type": "code",
   "execution_count": null,
   "metadata": {},
   "outputs": [],
   "source": [
    "def training_model(dataloader, model, loss_fn, optimizer, num_epochs=100):\n",
    "    for epoch in range(num_epochs):\n",
    "        # setting the model to train mode\n",
    "        model.train()\n",
    "        \n",
    "        for (X, y) in dataloader:\n",
    "            pred = model(X)\n",
    "            loss = loss_fn(pred, y)\n",
    "\n",
    "            # Backpropagation\n",
    "            loss.backward()\n",
    "            optimizer.step()\n",
    "            optimizer.zero_grad()           # resets the gradients\n",
    "\n",
    "        if epoch % 1 == 0:\n",
    "            loss = loss.item()\n",
    "            print(f\"Epoch {epoch+1:>4f}      loss: {loss:>7f}\")"
   ]
  },
  {
   "cell_type": "code",
   "execution_count": null,
   "metadata": {},
   "outputs": [
    {
     "name": "stderr",
     "output_type": "stream",
     "text": [
      "c:\\Users\\maria\\anaconda3\\envs\\FYS-STK3155\\Lib\\site-packages\\torch\\nn\\modules\\module.py:1532: UserWarning: Implicit dimension choice for softmax has been deprecated. Change the call to include dim=X as an argument.\n",
      "  return self._call_impl(*args, **kwargs)\n"
     ]
    },
    {
     "name": "stdout",
     "output_type": "stream",
     "text": [
      "Epoch 1.000000      loss: 0.904832\n"
     ]
    }
   ],
   "source": [
    "training_model(dataset_train, model, loss_fn, optimizer, num_epochs=1)"
   ]
  },
  {
   "cell_type": "markdown",
   "metadata": {},
   "source": [
    "### Testing on other books by the same authors"
   ]
  },
  {
   "cell_type": "code",
   "execution_count": null,
   "metadata": {},
   "outputs": [],
   "source": [
    "X_austen = np.load('../Texts/sense_and_sensibility.npy')\n",
    "X_dostoyevsky = np.load('../Texts/brother_karamazov.npy')\n",
    "X_nt = np.load('../Texts/nt_god.npy')\n",
    "y_austen = np.zeros(len(X_austen))\n",
    "y_dostoyevsky = np.ones(len(X_dostoyevsky))\n",
    "y_nt = np.full(len(X_nt), 2)                    # fills an array with that number\n",
    "\n",
    "X_ad = np.concatenate((X_austen, X_dostoyevsky, X_nt))\n",
    "y_ad = np.hstack((y_austen, y_dostoyevsky, y_nt))\n",
    "\n",
    "y_ad = torch.from_numpy(y_ad).long()\n",
    "\n",
    "dataset_ad = TextDataset(torch.tensor(X_ad), y_ad)\n",
    "\n",
    "# splitting the data into batches\n",
    "batch_size = 64\n",
    "torch.manual_seed(1)\n",
    "dl_ad = DataLoader(dataset_ad, batch_size=batch_size, shuffle=True, drop_last=True)"
   ]
  },
  {
   "cell_type": "code",
   "execution_count": null,
   "metadata": {},
   "outputs": [
    {
     "name": "stdout",
     "output_type": "stream",
     "text": [
      "Test Error: \n",
      " Accuracy: 97.1%, Avg loss: 0.931147 \n",
      "\n",
      "Confusion Matrix:\n",
      "[[ 772   14    0    2    2]\n",
      " [  12 2144   26  134   11]\n",
      " [   0    1 5435   18    5]\n",
      " [   0    0    0    0    0]\n",
      " [   0    0    0    0    0]]\n"
     ]
    },
    {
     "name": "stderr",
     "output_type": "stream",
     "text": [
      "c:\\Users\\maria\\anaconda3\\envs\\FYS-STK3155\\Lib\\site-packages\\torch\\nn\\modules\\module.py:1532: UserWarning: Implicit dimension choice for softmax has been deprecated. Change the call to include dim=X as an argument.\n",
      "  return self._call_impl(*args, **kwargs)\n"
     ]
    }
   ],
   "source": [
    "predictions, labels = test_loop(dl_ad, model, loss_fn)\n",
    "\n",
    "# Compute and print confusion matrix\n",
    "cm = confusion_matrix(labels, predictions)\n",
    "print(\"Confusion Matrix:\")\n",
    "print(cm)"
   ]
  },
  {
   "cell_type": "code",
   "execution_count": null,
   "metadata": {},
   "outputs": [
    {
     "data": {
      "image/png": "[encoded data removed]",
      "text/plain": [
       "<Figure size 640x480 with 2 Axes>"
      ]
     },
     "metadata": {},
     "output_type": "display_data"
    }
   ],
   "source": [
    "# plotting parameters\n",
    "sns.set_style('whitegrid')\n",
    "sns.set_palette('muted')\n",
    "plt.rc('xtick', labelsize=12)  # Set x-tick label size\n",
    "plt.rc('ytick', labelsize=12)  # Set y-tick label size\n",
    "\n",
    "# Plotting the confusion matrix\n",
    "ax = sns.heatmap(cm, \n",
    "            annot=True,\n",
    "            annot_kws={\"fontsize\":16},\n",
    "            fmt=\".0f\",\n",
    "            xticklabels=['Austen', 'Dostoyevsky', 'God', 'Cervantes', 'Sturluson'],\n",
    "            yticklabels=['Austen', 'Dostoyevsky', 'God', 'Cervantes', 'Sturluson'],\n",
    "            cmap='crest')\n",
    "plt.ylabel('True label', fontsize=15)\n",
    "ax.set(xlabel=\" \", ylabel=\"True label\")\n",
    "ax.xaxis.tick_top()\n",
    "ax.yaxis.tick_left()\n",
    "\n",
    "plt.gca().figure.text(0.45, 0.95, 'Predicted label', ha='center', fontsize=15)\n",
    "plt.show()"
   ]
  },
  {
   "cell_type": "markdown",
   "metadata": {},
   "source": [
    "### Different author fronm training material"
   ]
  },
  {
   "cell_type": "code",
   "execution_count": null,
   "metadata": {},
   "outputs": [
    {
     "name": "stdout",
     "output_type": "stream",
     "text": [
      "Test Error: \n",
      " Accuracy: 0.0%, Avg loss: 1.902482 \n",
      "\n",
      "Confusion Matrix:\n",
      "[[  0 185   5   2]\n",
      " [  0   0   0   0]\n",
      " [  0   0   0   0]\n",
      " [  0   0   0   0]]\n"
     ]
    },
    {
     "name": "stderr",
     "output_type": "stream",
     "text": [
      "c:\\Users\\maria\\anaconda3\\envs\\FYS-STK3155\\Lib\\site-packages\\torch\\nn\\modules\\module.py:1532: UserWarning: Implicit dimension choice for softmax has been deprecated. Change the call to include dim=X as an argument.\n",
      "  return self._call_impl(*args, **kwargs)\n"
     ]
    }
   ],
   "source": [
    "X_wells = np.load('../Texts/wells.npy')\n",
    "y_wells = np.zeros(len(X_wells))                # have to set the label to something\n",
    "\n",
    "y_wells = torch.from_numpy(y_wells).long()\n",
    "\n",
    "dataset_wells = TextDataset(torch.tensor(X_wells), y_wells)\n",
    "\n",
    "# splitting the data into batches\n",
    "batch_size = 64\n",
    "torch.manual_seed(1)\n",
    "dl_wells = DataLoader(dataset_wells, batch_size=batch_size, shuffle=True, drop_last=True)\n",
    "\n",
    "predictions, labels = test_loop(dl_wells, model, loss_fn)\n",
    "\n",
    "# Compute and print confusion matrix\n",
    "cm = confusion_matrix(labels, predictions)\n",
    "print(\"Confusion Matrix:\")\n",
    "print(cm)"
   ]
  },
  {
   "cell_type": "code",
   "execution_count": null,
   "metadata": {},
   "outputs": [
    {
     "data": {
      "image/png": "[encoded data removed]",
      "text/plain": [
       "<Figure size 640x480 with 2 Axes>"
      ]
     },
     "metadata": {},
     "output_type": "display_data"
    }
   ],
   "source": [
    "# plotting parameters\n",
    "sns.set_style('whitegrid')\n",
    "sns.set_palette('muted')\n",
    "plt.rc('xtick', labelsize=12)  # Set x-tick label size\n",
    "plt.rc('ytick', labelsize=12)  # Set y-tick label size\n",
    "\n",
    "# Plotting the confusion matrix\n",
    "ax = sns.heatmap(cm, \n",
    "            annot=True,\n",
    "            annot_kws={\"fontsize\":16},\n",
    "            fmt=\".0f\",\n",
    "            xticklabels=['Austen', 'Dostoyevsky', 'God', 'Cervantes', 'Sturluson'],\n",
    "            yticklabels=['Austen', 'Dostoyevsky', 'God', 'Cervantes', 'Sturluson'],\n",
    "            cmap='crest')\n",
    "plt.ylabel('True label', fontsize=15)\n",
    "ax.set(xlabel=\" \", ylabel=\"True label\")\n",
    "ax.xaxis.tick_top()\n",
    "ax.yaxis.tick_left()\n",
    "\n",
    "plt.gca().figure.text(0.45, 0.95, 'Predicted label', ha='center', fontsize=15)\n",
    "plt.show()"
   ]
  },
  {
   "cell_type": "markdown",
   "metadata": {},
   "source": [
    "### Dimensionality Reduction"
   ]
  },
  {
   "cell_type": "code",
   "execution_count": 5,
   "metadata": {},
   "outputs": [],
   "source": [
    "from sklearn.decomposition import PCA"
   ]
  },
  {
   "cell_type": "code",
   "execution_count": 28,
   "metadata": {},
   "outputs": [],
   "source": [
    "num_comp = np.arange(1, 515, 3)"
   ]
  },
  {
   "cell_type": "code",
   "execution_count": 29,
   "metadata": {},
   "outputs": [
    {
     "name": "stderr",
     "output_type": "stream",
     "text": [
      "c:\\Users\\maria\\anaconda3\\envs\\fysstk3155\\Lib\\site-packages\\torch\\nn\\modules\\module.py:1736: UserWarning: Implicit dimension choice for softmax has been deprecated. Change the call to include dim=X as an argument.\n",
      "  return self._call_impl(*args, **kwargs)\n"
     ]
    },
    {
     "name": "stdout",
     "output_type": "stream",
     "text": [
      "Epoch 1.000000      loss: 1.318808\n",
      "Test Error: \n",
      " Accuracy: 61.0%, Avg loss: 1.308682 \n",
      "\n"
     ]
    },
    {
     "name": "stderr",
     "output_type": "stream",
     "text": [
      "c:\\Users\\maria\\anaconda3\\envs\\fysstk3155\\Lib\\site-packages\\torch\\nn\\modules\\module.py:1736: UserWarning: Implicit dimension choice for softmax has been deprecated. Change the call to include dim=X as an argument.\n",
      "  return self._call_impl(*args, **kwargs)\n"
     ]
    },
    {
     "name": "stdout",
     "output_type": "stream",
     "text": [
      "Epoch 1.000000      loss: 0.941222\n",
      "Test Error: \n",
      " Accuracy: 96.7%, Avg loss: 0.947842 \n",
      "\n"
     ]
    },
    {
     "name": "stderr",
     "output_type": "stream",
     "text": [
      "c:\\Users\\maria\\anaconda3\\envs\\fysstk3155\\Lib\\site-packages\\torch\\nn\\modules\\module.py:1736: UserWarning: Implicit dimension choice for softmax has been deprecated. Change the call to include dim=X as an argument.\n",
      "  return self._call_impl(*args, **kwargs)\n"
     ]
    },
    {
     "name": "stdout",
     "output_type": "stream",
     "text": [
      "Epoch 1.000000      loss: 0.950853\n",
      "Test Error: \n",
      " Accuracy: 97.2%, Avg loss: 0.946163 \n",
      "\n"
     ]
    },
    {
     "name": "stderr",
     "output_type": "stream",
     "text": [
      "c:\\Users\\maria\\anaconda3\\envs\\fysstk3155\\Lib\\site-packages\\torch\\nn\\modules\\module.py:1736: UserWarning: Implicit dimension choice for softmax has been deprecated. Change the call to include dim=X as an argument.\n",
      "  return self._call_impl(*args, **kwargs)\n"
     ]
    },
    {
     "name": "stdout",
     "output_type": "stream",
     "text": [
      "Epoch 1.000000      loss: 0.951265\n",
      "Test Error: \n",
      " Accuracy: 97.3%, Avg loss: 0.947689 \n",
      "\n"
     ]
    },
    {
     "name": "stderr",
     "output_type": "stream",
     "text": [
      "c:\\Users\\maria\\anaconda3\\envs\\fysstk3155\\Lib\\site-packages\\torch\\nn\\modules\\module.py:1736: UserWarning: Implicit dimension choice for softmax has been deprecated. Change the call to include dim=X as an argument.\n",
      "  return self._call_impl(*args, **kwargs)\n"
     ]
    },
    {
     "name": "stdout",
     "output_type": "stream",
     "text": [
      "Epoch 1.000000      loss: 0.973511\n",
      "Test Error: \n",
      " Accuracy: 97.4%, Avg loss: 0.947616 \n",
      "\n"
     ]
    },
    {
     "name": "stderr",
     "output_type": "stream",
     "text": [
      "c:\\Users\\maria\\anaconda3\\envs\\fysstk3155\\Lib\\site-packages\\torch\\nn\\modules\\module.py:1736: UserWarning: Implicit dimension choice for softmax has been deprecated. Change the call to include dim=X as an argument.\n",
      "  return self._call_impl(*args, **kwargs)\n"
     ]
    },
    {
     "name": "stdout",
     "output_type": "stream",
     "text": [
      "Epoch 1.000000      loss: 0.958838\n",
      "Test Error: \n",
      " Accuracy: 97.6%, Avg loss: 0.952249 \n",
      "\n"
     ]
    },
    {
     "name": "stderr",
     "output_type": "stream",
     "text": [
      "c:\\Users\\maria\\anaconda3\\envs\\fysstk3155\\Lib\\site-packages\\torch\\nn\\modules\\module.py:1736: UserWarning: Implicit dimension choice for softmax has been deprecated. Change the call to include dim=X as an argument.\n",
      "  return self._call_impl(*args, **kwargs)\n"
     ]
    },
    {
     "name": "stdout",
     "output_type": "stream",
     "text": [
      "Epoch 1.000000      loss: 0.930914\n",
      "Test Error: \n",
      " Accuracy: 97.6%, Avg loss: 0.949569 \n",
      "\n"
     ]
    },
    {
     "name": "stderr",
     "output_type": "stream",
     "text": [
      "c:\\Users\\maria\\anaconda3\\envs\\fysstk3155\\Lib\\site-packages\\torch\\nn\\modules\\module.py:1736: UserWarning: Implicit dimension choice for softmax has been deprecated. Change the call to include dim=X as an argument.\n",
      "  return self._call_impl(*args, **kwargs)\n"
     ]
    },
    {
     "name": "stdout",
     "output_type": "stream",
     "text": [
      "Epoch 1.000000      loss: 0.953075\n",
      "Test Error: \n",
      " Accuracy: 97.8%, Avg loss: 0.949884 \n",
      "\n"
     ]
    },
    {
     "name": "stderr",
     "output_type": "stream",
     "text": [
      "c:\\Users\\maria\\anaconda3\\envs\\fysstk3155\\Lib\\site-packages\\torch\\nn\\modules\\module.py:1736: UserWarning: Implicit dimension choice for softmax has been deprecated. Change the call to include dim=X as an argument.\n",
      "  return self._call_impl(*args, **kwargs)\n"
     ]
    },
    {
     "name": "stdout",
     "output_type": "stream",
     "text": [
      "Epoch 1.000000      loss: 0.967154\n",
      "Test Error: \n",
      " Accuracy: 97.7%, Avg loss: 0.946938 \n",
      "\n"
     ]
    },
    {
     "name": "stderr",
     "output_type": "stream",
     "text": [
      "c:\\Users\\maria\\anaconda3\\envs\\fysstk3155\\Lib\\site-packages\\torch\\nn\\modules\\module.py:1736: UserWarning: Implicit dimension choice for softmax has been deprecated. Change the call to include dim=X as an argument.\n",
      "  return self._call_impl(*args, **kwargs)\n"
     ]
    },
    {
     "name": "stdout",
     "output_type": "stream",
     "text": [
      "Epoch 1.000000      loss: 0.958297\n",
      "Test Error: \n",
      " Accuracy: 97.8%, Avg loss: 0.950165 \n",
      "\n"
     ]
    },
    {
     "name": "stderr",
     "output_type": "stream",
     "text": [
      "c:\\Users\\maria\\anaconda3\\envs\\fysstk3155\\Lib\\site-packages\\torch\\nn\\modules\\module.py:1736: UserWarning: Implicit dimension choice for softmax has been deprecated. Change the call to include dim=X as an argument.\n",
      "  return self._call_impl(*args, **kwargs)\n"
     ]
    },
    {
     "name": "stdout",
     "output_type": "stream",
     "text": [
      "Epoch 1.000000      loss: 0.954820\n",
      "Test Error: \n",
      " Accuracy: 97.7%, Avg loss: 0.949808 \n",
      "\n"
     ]
    },
    {
     "name": "stderr",
     "output_type": "stream",
     "text": [
      "c:\\Users\\maria\\anaconda3\\envs\\fysstk3155\\Lib\\site-packages\\torch\\nn\\modules\\module.py:1736: UserWarning: Implicit dimension choice for softmax has been deprecated. Change the call to include dim=X as an argument.\n",
      "  return self._call_impl(*args, **kwargs)\n"
     ]
    },
    {
     "name": "stdout",
     "output_type": "stream",
     "text": [
      "Epoch 1.000000      loss: 0.973606\n",
      "Test Error: \n",
      " Accuracy: 97.6%, Avg loss: 0.953114 \n",
      "\n"
     ]
    },
    {
     "name": "stderr",
     "output_type": "stream",
     "text": [
      "c:\\Users\\maria\\anaconda3\\envs\\fysstk3155\\Lib\\site-packages\\torch\\nn\\modules\\module.py:1736: UserWarning: Implicit dimension choice for softmax has been deprecated. Change the call to include dim=X as an argument.\n",
      "  return self._call_impl(*args, **kwargs)\n"
     ]
    },
    {
     "name": "stdout",
     "output_type": "stream",
     "text": [
      "Epoch 1.000000      loss: 0.948335\n",
      "Test Error: \n",
      " Accuracy: 97.8%, Avg loss: 0.949878 \n",
      "\n"
     ]
    },
    {
     "name": "stderr",
     "output_type": "stream",
     "text": [
      "c:\\Users\\maria\\anaconda3\\envs\\fysstk3155\\Lib\\site-packages\\torch\\nn\\modules\\module.py:1736: UserWarning: Implicit dimension choice for softmax has been deprecated. Change the call to include dim=X as an argument.\n",
      "  return self._call_impl(*args, **kwargs)\n"
     ]
    },
    {
     "name": "stdout",
     "output_type": "stream",
     "text": [
      "Epoch 1.000000      loss: 0.933614\n",
      "Test Error: \n",
      " Accuracy: 97.9%, Avg loss: 0.950257 \n",
      "\n"
     ]
    },
    {
     "name": "stderr",
     "output_type": "stream",
     "text": [
      "c:\\Users\\maria\\anaconda3\\envs\\fysstk3155\\Lib\\site-packages\\torch\\nn\\modules\\module.py:1736: UserWarning: Implicit dimension choice for softmax has been deprecated. Change the call to include dim=X as an argument.\n",
      "  return self._call_impl(*args, **kwargs)\n"
     ]
    },
    {
     "name": "stdout",
     "output_type": "stream",
     "text": [
      "Epoch 1.000000      loss: 0.960209\n",
      "Test Error: \n",
      " Accuracy: 97.8%, Avg loss: 0.948206 \n",
      "\n"
     ]
    },
    {
     "name": "stderr",
     "output_type": "stream",
     "text": [
      "c:\\Users\\maria\\anaconda3\\envs\\fysstk3155\\Lib\\site-packages\\torch\\nn\\modules\\module.py:1736: UserWarning: Implicit dimension choice for softmax has been deprecated. Change the call to include dim=X as an argument.\n",
      "  return self._call_impl(*args, **kwargs)\n"
     ]
    },
    {
     "name": "stdout",
     "output_type": "stream",
     "text": [
      "Epoch 1.000000      loss: 0.967490\n",
      "Test Error: \n",
      " Accuracy: 97.9%, Avg loss: 0.950105 \n",
      "\n"
     ]
    },
    {
     "name": "stderr",
     "output_type": "stream",
     "text": [
      "c:\\Users\\maria\\anaconda3\\envs\\fysstk3155\\Lib\\site-packages\\torch\\nn\\modules\\module.py:1736: UserWarning: Implicit dimension choice for softmax has been deprecated. Change the call to include dim=X as an argument.\n",
      "  return self._call_impl(*args, **kwargs)\n"
     ]
    },
    {
     "name": "stdout",
     "output_type": "stream",
     "text": [
      "Epoch 1.000000      loss: 0.949310\n",
      "Test Error: \n",
      " Accuracy: 97.8%, Avg loss: 0.955625 \n",
      "\n"
     ]
    },
    {
     "name": "stderr",
     "output_type": "stream",
     "text": [
      "c:\\Users\\maria\\anaconda3\\envs\\fysstk3155\\Lib\\site-packages\\torch\\nn\\modules\\module.py:1736: UserWarning: Implicit dimension choice for softmax has been deprecated. Change the call to include dim=X as an argument.\n",
      "  return self._call_impl(*args, **kwargs)\n"
     ]
    },
    {
     "name": "stdout",
     "output_type": "stream",
     "text": [
      "Epoch 1.000000      loss: 0.967517\n",
      "Test Error: \n",
      " Accuracy: 97.8%, Avg loss: 0.950618 \n",
      "\n"
     ]
    },
    {
     "name": "stderr",
     "output_type": "stream",
     "text": [
      "c:\\Users\\maria\\anaconda3\\envs\\fysstk3155\\Lib\\site-packages\\torch\\nn\\modules\\module.py:1736: UserWarning: Implicit dimension choice for softmax has been deprecated. Change the call to include dim=X as an argument.\n",
      "  return self._call_impl(*args, **kwargs)\n"
     ]
    },
    {
     "name": "stdout",
     "output_type": "stream",
     "text": [
      "Epoch 1.000000      loss: 0.943847\n",
      "Test Error: \n",
      " Accuracy: 97.8%, Avg loss: 0.949321 \n",
      "\n"
     ]
    },
    {
     "name": "stderr",
     "output_type": "stream",
     "text": [
      "c:\\Users\\maria\\anaconda3\\envs\\fysstk3155\\Lib\\site-packages\\torch\\nn\\modules\\module.py:1736: UserWarning: Implicit dimension choice for softmax has been deprecated. Change the call to include dim=X as an argument.\n",
      "  return self._call_impl(*args, **kwargs)\n"
     ]
    },
    {
     "name": "stdout",
     "output_type": "stream",
     "text": [
      "Epoch 1.000000      loss: 0.959659\n",
      "Test Error: \n",
      " Accuracy: 97.8%, Avg loss: 0.951890 \n",
      "\n"
     ]
    },
    {
     "name": "stderr",
     "output_type": "stream",
     "text": [
      "c:\\Users\\maria\\anaconda3\\envs\\fysstk3155\\Lib\\site-packages\\torch\\nn\\modules\\module.py:1736: UserWarning: Implicit dimension choice for softmax has been deprecated. Change the call to include dim=X as an argument.\n",
      "  return self._call_impl(*args, **kwargs)\n"
     ]
    },
    {
     "name": "stdout",
     "output_type": "stream",
     "text": [
      "Epoch 1.000000      loss: 0.941838\n",
      "Test Error: \n",
      " Accuracy: 97.7%, Avg loss: 0.952249 \n",
      "\n"
     ]
    },
    {
     "name": "stderr",
     "output_type": "stream",
     "text": [
      "c:\\Users\\maria\\anaconda3\\envs\\fysstk3155\\Lib\\site-packages\\torch\\nn\\modules\\module.py:1736: UserWarning: Implicit dimension choice for softmax has been deprecated. Change the call to include dim=X as an argument.\n",
      "  return self._call_impl(*args, **kwargs)\n"
     ]
    },
    {
     "name": "stdout",
     "output_type": "stream",
     "text": [
      "Epoch 1.000000      loss: 0.945421\n",
      "Test Error: \n",
      " Accuracy: 97.7%, Avg loss: 0.951856 \n",
      "\n"
     ]
    },
    {
     "name": "stderr",
     "output_type": "stream",
     "text": [
      "c:\\Users\\maria\\anaconda3\\envs\\fysstk3155\\Lib\\site-packages\\torch\\nn\\modules\\module.py:1736: UserWarning: Implicit dimension choice for softmax has been deprecated. Change the call to include dim=X as an argument.\n",
      "  return self._call_impl(*args, **kwargs)\n"
     ]
    },
    {
     "name": "stdout",
     "output_type": "stream",
     "text": [
      "Epoch 1.000000      loss: 0.977415\n",
      "Test Error: \n",
      " Accuracy: 97.8%, Avg loss: 0.950581 \n",
      "\n"
     ]
    },
    {
     "name": "stderr",
     "output_type": "stream",
     "text": [
      "c:\\Users\\maria\\anaconda3\\envs\\fysstk3155\\Lib\\site-packages\\torch\\nn\\modules\\module.py:1736: UserWarning: Implicit dimension choice for softmax has been deprecated. Change the call to include dim=X as an argument.\n",
      "  return self._call_impl(*args, **kwargs)\n"
     ]
    },
    {
     "name": "stdout",
     "output_type": "stream",
     "text": [
      "Epoch 1.000000      loss: 0.952727\n",
      "Test Error: \n",
      " Accuracy: 97.9%, Avg loss: 0.952737 \n",
      "\n"
     ]
    },
    {
     "name": "stderr",
     "output_type": "stream",
     "text": [
      "c:\\Users\\maria\\anaconda3\\envs\\fysstk3155\\Lib\\site-packages\\torch\\nn\\modules\\module.py:1736: UserWarning: Implicit dimension choice for softmax has been deprecated. Change the call to include dim=X as an argument.\n",
      "  return self._call_impl(*args, **kwargs)\n"
     ]
    },
    {
     "name": "stdout",
     "output_type": "stream",
     "text": [
      "Epoch 1.000000      loss: 0.958564\n",
      "Test Error: \n",
      " Accuracy: 97.8%, Avg loss: 0.951732 \n",
      "\n"
     ]
    },
    {
     "name": "stderr",
     "output_type": "stream",
     "text": [
      "c:\\Users\\maria\\anaconda3\\envs\\fysstk3155\\Lib\\site-packages\\torch\\nn\\modules\\module.py:1736: UserWarning: Implicit dimension choice for softmax has been deprecated. Change the call to include dim=X as an argument.\n",
      "  return self._call_impl(*args, **kwargs)\n"
     ]
    },
    {
     "name": "stdout",
     "output_type": "stream",
     "text": [
      "Epoch 1.000000      loss: 0.945553\n",
      "Test Error: \n",
      " Accuracy: 98.1%, Avg loss: 0.949306 \n",
      "\n"
     ]
    },
    {
     "name": "stderr",
     "output_type": "stream",
     "text": [
      "c:\\Users\\maria\\anaconda3\\envs\\fysstk3155\\Lib\\site-packages\\torch\\nn\\modules\\module.py:1736: UserWarning: Implicit dimension choice for softmax has been deprecated. Change the call to include dim=X as an argument.\n",
      "  return self._call_impl(*args, **kwargs)\n"
     ]
    },
    {
     "name": "stdout",
     "output_type": "stream",
     "text": [
      "Epoch 1.000000      loss: 0.955597\n",
      "Test Error: \n",
      " Accuracy: 98.1%, Avg loss: 0.950983 \n",
      "\n"
     ]
    },
    {
     "name": "stderr",
     "output_type": "stream",
     "text": [
      "c:\\Users\\maria\\anaconda3\\envs\\fysstk3155\\Lib\\site-packages\\torch\\nn\\modules\\module.py:1736: UserWarning: Implicit dimension choice for softmax has been deprecated. Change the call to include dim=X as an argument.\n",
      "  return self._call_impl(*args, **kwargs)\n"
     ]
    },
    {
     "name": "stdout",
     "output_type": "stream",
     "text": [
      "Epoch 1.000000      loss: 0.954117\n",
      "Test Error: \n",
      " Accuracy: 98.0%, Avg loss: 0.950264 \n",
      "\n"
     ]
    },
    {
     "name": "stderr",
     "output_type": "stream",
     "text": [
      "c:\\Users\\maria\\anaconda3\\envs\\fysstk3155\\Lib\\site-packages\\torch\\nn\\modules\\module.py:1736: UserWarning: Implicit dimension choice for softmax has been deprecated. Change the call to include dim=X as an argument.\n",
      "  return self._call_impl(*args, **kwargs)\n"
     ]
    },
    {
     "name": "stdout",
     "output_type": "stream",
     "text": [
      "Epoch 1.000000      loss: 0.967424\n",
      "Test Error: \n",
      " Accuracy: 97.9%, Avg loss: 0.954593 \n",
      "\n"
     ]
    },
    {
     "name": "stderr",
     "output_type": "stream",
     "text": [
      "c:\\Users\\maria\\anaconda3\\envs\\fysstk3155\\Lib\\site-packages\\torch\\nn\\modules\\module.py:1736: UserWarning: Implicit dimension choice for softmax has been deprecated. Change the call to include dim=X as an argument.\n",
      "  return self._call_impl(*args, **kwargs)\n"
     ]
    },
    {
     "name": "stdout",
     "output_type": "stream",
     "text": [
      "Epoch 1.000000      loss: 0.970511\n",
      "Test Error: \n",
      " Accuracy: 97.8%, Avg loss: 0.950191 \n",
      "\n"
     ]
    },
    {
     "name": "stderr",
     "output_type": "stream",
     "text": [
      "c:\\Users\\maria\\anaconda3\\envs\\fysstk3155\\Lib\\site-packages\\torch\\nn\\modules\\module.py:1736: UserWarning: Implicit dimension choice for softmax has been deprecated. Change the call to include dim=X as an argument.\n",
      "  return self._call_impl(*args, **kwargs)\n"
     ]
    },
    {
     "name": "stdout",
     "output_type": "stream",
     "text": [
      "Epoch 1.000000      loss: 0.944896\n",
      "Test Error: \n",
      " Accuracy: 98.0%, Avg loss: 0.951131 \n",
      "\n"
     ]
    },
    {
     "name": "stderr",
     "output_type": "stream",
     "text": [
      "c:\\Users\\maria\\anaconda3\\envs\\fysstk3155\\Lib\\site-packages\\torch\\nn\\modules\\module.py:1736: UserWarning: Implicit dimension choice for softmax has been deprecated. Change the call to include dim=X as an argument.\n",
      "  return self._call_impl(*args, **kwargs)\n"
     ]
    },
    {
     "name": "stdout",
     "output_type": "stream",
     "text": [
      "Epoch 1.000000      loss: 0.961041\n",
      "Test Error: \n",
      " Accuracy: 98.1%, Avg loss: 0.952027 \n",
      "\n"
     ]
    },
    {
     "name": "stderr",
     "output_type": "stream",
     "text": [
      "c:\\Users\\maria\\anaconda3\\envs\\fysstk3155\\Lib\\site-packages\\torch\\nn\\modules\\module.py:1736: UserWarning: Implicit dimension choice for softmax has been deprecated. Change the call to include dim=X as an argument.\n",
      "  return self._call_impl(*args, **kwargs)\n"
     ]
    },
    {
     "name": "stdout",
     "output_type": "stream",
     "text": [
      "Epoch 1.000000      loss: 0.935708\n",
      "Test Error: \n",
      " Accuracy: 97.8%, Avg loss: 0.947229 \n",
      "\n"
     ]
    },
    {
     "name": "stderr",
     "output_type": "stream",
     "text": [
      "c:\\Users\\maria\\anaconda3\\envs\\fysstk3155\\Lib\\site-packages\\torch\\nn\\modules\\module.py:1736: UserWarning: Implicit dimension choice for softmax has been deprecated. Change the call to include dim=X as an argument.\n",
      "  return self._call_impl(*args, **kwargs)\n"
     ]
    },
    {
     "name": "stdout",
     "output_type": "stream",
     "text": [
      "Epoch 1.000000      loss: 0.962105\n",
      "Test Error: \n",
      " Accuracy: 98.0%, Avg loss: 0.952609 \n",
      "\n"
     ]
    },
    {
     "name": "stderr",
     "output_type": "stream",
     "text": [
      "c:\\Users\\maria\\anaconda3\\envs\\fysstk3155\\Lib\\site-packages\\torch\\nn\\modules\\module.py:1736: UserWarning: Implicit dimension choice for softmax has been deprecated. Change the call to include dim=X as an argument.\n",
      "  return self._call_impl(*args, **kwargs)\n"
     ]
    },
    {
     "name": "stdout",
     "output_type": "stream",
     "text": [
      "Epoch 1.000000      loss: 0.957930\n",
      "Test Error: \n",
      " Accuracy: 97.9%, Avg loss: 0.952186 \n",
      "\n"
     ]
    },
    {
     "name": "stderr",
     "output_type": "stream",
     "text": [
      "c:\\Users\\maria\\anaconda3\\envs\\fysstk3155\\Lib\\site-packages\\torch\\nn\\modules\\module.py:1736: UserWarning: Implicit dimension choice for softmax has been deprecated. Change the call to include dim=X as an argument.\n",
      "  return self._call_impl(*args, **kwargs)\n"
     ]
    },
    {
     "name": "stdout",
     "output_type": "stream",
     "text": [
      "Epoch 1.000000      loss: 0.955507\n",
      "Test Error: \n",
      " Accuracy: 98.0%, Avg loss: 0.951112 \n",
      "\n"
     ]
    },
    {
     "name": "stderr",
     "output_type": "stream",
     "text": [
      "c:\\Users\\maria\\anaconda3\\envs\\fysstk3155\\Lib\\site-packages\\torch\\nn\\modules\\module.py:1736: UserWarning: Implicit dimension choice for softmax has been deprecated. Change the call to include dim=X as an argument.\n",
      "  return self._call_impl(*args, **kwargs)\n"
     ]
    },
    {
     "name": "stdout",
     "output_type": "stream",
     "text": [
      "Epoch 1.000000      loss: 0.966239\n",
      "Test Error: \n",
      " Accuracy: 97.9%, Avg loss: 0.951300 \n",
      "\n"
     ]
    },
    {
     "name": "stderr",
     "output_type": "stream",
     "text": [
      "c:\\Users\\maria\\anaconda3\\envs\\fysstk3155\\Lib\\site-packages\\torch\\nn\\modules\\module.py:1736: UserWarning: Implicit dimension choice for softmax has been deprecated. Change the call to include dim=X as an argument.\n",
      "  return self._call_impl(*args, **kwargs)\n"
     ]
    },
    {
     "name": "stdout",
     "output_type": "stream",
     "text": [
      "Epoch 1.000000      loss: 0.962842\n",
      "Test Error: \n",
      " Accuracy: 97.9%, Avg loss: 0.952180 \n",
      "\n"
     ]
    },
    {
     "name": "stderr",
     "output_type": "stream",
     "text": [
      "c:\\Users\\maria\\anaconda3\\envs\\fysstk3155\\Lib\\site-packages\\torch\\nn\\modules\\module.py:1736: UserWarning: Implicit dimension choice for softmax has been deprecated. Change the call to include dim=X as an argument.\n",
      "  return self._call_impl(*args, **kwargs)\n"
     ]
    },
    {
     "name": "stdout",
     "output_type": "stream",
     "text": [
      "Epoch 1.000000      loss: 0.945704\n",
      "Test Error: \n",
      " Accuracy: 98.0%, Avg loss: 0.949970 \n",
      "\n"
     ]
    },
    {
     "name": "stderr",
     "output_type": "stream",
     "text": [
      "c:\\Users\\maria\\anaconda3\\envs\\fysstk3155\\Lib\\site-packages\\torch\\nn\\modules\\module.py:1736: UserWarning: Implicit dimension choice for softmax has been deprecated. Change the call to include dim=X as an argument.\n",
      "  return self._call_impl(*args, **kwargs)\n"
     ]
    },
    {
     "name": "stdout",
     "output_type": "stream",
     "text": [
      "Epoch 1.000000      loss: 0.948662\n",
      "Test Error: \n",
      " Accuracy: 97.9%, Avg loss: 0.954738 \n",
      "\n"
     ]
    },
    {
     "name": "stderr",
     "output_type": "stream",
     "text": [
      "c:\\Users\\maria\\anaconda3\\envs\\fysstk3155\\Lib\\site-packages\\torch\\nn\\modules\\module.py:1736: UserWarning: Implicit dimension choice for softmax has been deprecated. Change the call to include dim=X as an argument.\n",
      "  return self._call_impl(*args, **kwargs)\n"
     ]
    },
    {
     "name": "stdout",
     "output_type": "stream",
     "text": [
      "Epoch 1.000000      loss: 0.940167\n",
      "Test Error: \n",
      " Accuracy: 98.2%, Avg loss: 0.949673 \n",
      "\n"
     ]
    },
    {
     "name": "stderr",
     "output_type": "stream",
     "text": [
      "c:\\Users\\maria\\anaconda3\\envs\\fysstk3155\\Lib\\site-packages\\torch\\nn\\modules\\module.py:1736: UserWarning: Implicit dimension choice for softmax has been deprecated. Change the call to include dim=X as an argument.\n",
      "  return self._call_impl(*args, **kwargs)\n"
     ]
    },
    {
     "name": "stdout",
     "output_type": "stream",
     "text": [
      "Epoch 1.000000      loss: 0.964736\n",
      "Test Error: \n",
      " Accuracy: 98.1%, Avg loss: 0.952006 \n",
      "\n"
     ]
    },
    {
     "name": "stderr",
     "output_type": "stream",
     "text": [
      "c:\\Users\\maria\\anaconda3\\envs\\fysstk3155\\Lib\\site-packages\\torch\\nn\\modules\\module.py:1736: UserWarning: Implicit dimension choice for softmax has been deprecated. Change the call to include dim=X as an argument.\n",
      "  return self._call_impl(*args, **kwargs)\n"
     ]
    },
    {
     "name": "stdout",
     "output_type": "stream",
     "text": [
      "Epoch 1.000000      loss: 0.942389\n",
      "Test Error: \n",
      " Accuracy: 98.1%, Avg loss: 0.948483 \n",
      "\n"
     ]
    },
    {
     "name": "stderr",
     "output_type": "stream",
     "text": [
      "c:\\Users\\maria\\anaconda3\\envs\\fysstk3155\\Lib\\site-packages\\torch\\nn\\modules\\module.py:1736: UserWarning: Implicit dimension choice for softmax has been deprecated. Change the call to include dim=X as an argument.\n",
      "  return self._call_impl(*args, **kwargs)\n"
     ]
    },
    {
     "name": "stdout",
     "output_type": "stream",
     "text": [
      "Epoch 1.000000      loss: 0.973065\n",
      "Test Error: \n",
      " Accuracy: 98.0%, Avg loss: 0.951345 \n",
      "\n"
     ]
    },
    {
     "name": "stderr",
     "output_type": "stream",
     "text": [
      "c:\\Users\\maria\\anaconda3\\envs\\fysstk3155\\Lib\\site-packages\\torch\\nn\\modules\\module.py:1736: UserWarning: Implicit dimension choice for softmax has been deprecated. Change the call to include dim=X as an argument.\n",
      "  return self._call_impl(*args, **kwargs)\n"
     ]
    },
    {
     "name": "stdout",
     "output_type": "stream",
     "text": [
      "Epoch 1.000000      loss: 0.947240\n",
      "Test Error: \n",
      " Accuracy: 98.0%, Avg loss: 0.947786 \n",
      "\n"
     ]
    },
    {
     "name": "stderr",
     "output_type": "stream",
     "text": [
      "c:\\Users\\maria\\anaconda3\\envs\\fysstk3155\\Lib\\site-packages\\torch\\nn\\modules\\module.py:1736: UserWarning: Implicit dimension choice for softmax has been deprecated. Change the call to include dim=X as an argument.\n",
      "  return self._call_impl(*args, **kwargs)\n"
     ]
    },
    {
     "name": "stdout",
     "output_type": "stream",
     "text": [
      "Epoch 1.000000      loss: 0.940516\n",
      "Test Error: \n",
      " Accuracy: 97.8%, Avg loss: 0.952097 \n",
      "\n"
     ]
    },
    {
     "name": "stderr",
     "output_type": "stream",
     "text": [
      "c:\\Users\\maria\\anaconda3\\envs\\fysstk3155\\Lib\\site-packages\\torch\\nn\\modules\\module.py:1736: UserWarning: Implicit dimension choice for softmax has been deprecated. Change the call to include dim=X as an argument.\n",
      "  return self._call_impl(*args, **kwargs)\n"
     ]
    },
    {
     "name": "stdout",
     "output_type": "stream",
     "text": [
      "Epoch 1.000000      loss: 1.002972\n",
      "Test Error: \n",
      " Accuracy: 98.1%, Avg loss: 0.949764 \n",
      "\n"
     ]
    },
    {
     "name": "stderr",
     "output_type": "stream",
     "text": [
      "c:\\Users\\maria\\anaconda3\\envs\\fysstk3155\\Lib\\site-packages\\torch\\nn\\modules\\module.py:1736: UserWarning: Implicit dimension choice for softmax has been deprecated. Change the call to include dim=X as an argument.\n",
      "  return self._call_impl(*args, **kwargs)\n"
     ]
    },
    {
     "name": "stdout",
     "output_type": "stream",
     "text": [
      "Epoch 1.000000      loss: 0.942715\n",
      "Test Error: \n",
      " Accuracy: 98.0%, Avg loss: 0.952130 \n",
      "\n"
     ]
    },
    {
     "name": "stderr",
     "output_type": "stream",
     "text": [
      "c:\\Users\\maria\\anaconda3\\envs\\fysstk3155\\Lib\\site-packages\\torch\\nn\\modules\\module.py:1736: UserWarning: Implicit dimension choice for softmax has been deprecated. Change the call to include dim=X as an argument.\n",
      "  return self._call_impl(*args, **kwargs)\n"
     ]
    },
    {
     "name": "stdout",
     "output_type": "stream",
     "text": [
      "Epoch 1.000000      loss: 0.959720\n",
      "Test Error: \n",
      " Accuracy: 98.1%, Avg loss: 0.952436 \n",
      "\n"
     ]
    },
    {
     "name": "stderr",
     "output_type": "stream",
     "text": [
      "c:\\Users\\maria\\anaconda3\\envs\\fysstk3155\\Lib\\site-packages\\torch\\nn\\modules\\module.py:1736: UserWarning: Implicit dimension choice for softmax has been deprecated. Change the call to include dim=X as an argument.\n",
      "  return self._call_impl(*args, **kwargs)\n"
     ]
    },
    {
     "name": "stdout",
     "output_type": "stream",
     "text": [
      "Epoch 1.000000      loss: 0.945565\n",
      "Test Error: \n",
      " Accuracy: 98.0%, Avg loss: 0.950785 \n",
      "\n"
     ]
    },
    {
     "name": "stderr",
     "output_type": "stream",
     "text": [
      "c:\\Users\\maria\\anaconda3\\envs\\fysstk3155\\Lib\\site-packages\\torch\\nn\\modules\\module.py:1736: UserWarning: Implicit dimension choice for softmax has been deprecated. Change the call to include dim=X as an argument.\n",
      "  return self._call_impl(*args, **kwargs)\n"
     ]
    },
    {
     "name": "stdout",
     "output_type": "stream",
     "text": [
      "Epoch 1.000000      loss: 0.932287\n",
      "Test Error: \n",
      " Accuracy: 98.1%, Avg loss: 0.949612 \n",
      "\n"
     ]
    },
    {
     "name": "stderr",
     "output_type": "stream",
     "text": [
      "c:\\Users\\maria\\anaconda3\\envs\\fysstk3155\\Lib\\site-packages\\torch\\nn\\modules\\module.py:1736: UserWarning: Implicit dimension choice for softmax has been deprecated. Change the call to include dim=X as an argument.\n",
      "  return self._call_impl(*args, **kwargs)\n"
     ]
    },
    {
     "name": "stdout",
     "output_type": "stream",
     "text": [
      "Epoch 1.000000      loss: 0.956506\n",
      "Test Error: \n",
      " Accuracy: 98.1%, Avg loss: 0.951503 \n",
      "\n"
     ]
    },
    {
     "name": "stderr",
     "output_type": "stream",
     "text": [
      "c:\\Users\\maria\\anaconda3\\envs\\fysstk3155\\Lib\\site-packages\\torch\\nn\\modules\\module.py:1736: UserWarning: Implicit dimension choice for softmax has been deprecated. Change the call to include dim=X as an argument.\n",
      "  return self._call_impl(*args, **kwargs)\n"
     ]
    },
    {
     "name": "stdout",
     "output_type": "stream",
     "text": [
      "Epoch 1.000000      loss: 0.967835\n",
      "Test Error: \n",
      " Accuracy: 98.2%, Avg loss: 0.947892 \n",
      "\n"
     ]
    },
    {
     "name": "stderr",
     "output_type": "stream",
     "text": [
      "c:\\Users\\maria\\anaconda3\\envs\\fysstk3155\\Lib\\site-packages\\torch\\nn\\modules\\module.py:1736: UserWarning: Implicit dimension choice for softmax has been deprecated. Change the call to include dim=X as an argument.\n",
      "  return self._call_impl(*args, **kwargs)\n"
     ]
    },
    {
     "name": "stdout",
     "output_type": "stream",
     "text": [
      "Epoch 1.000000      loss: 0.946418\n",
      "Test Error: \n",
      " Accuracy: 98.2%, Avg loss: 0.948654 \n",
      "\n"
     ]
    },
    {
     "name": "stderr",
     "output_type": "stream",
     "text": [
      "c:\\Users\\maria\\anaconda3\\envs\\fysstk3155\\Lib\\site-packages\\torch\\nn\\modules\\module.py:1736: UserWarning: Implicit dimension choice for softmax has been deprecated. Change the call to include dim=X as an argument.\n",
      "  return self._call_impl(*args, **kwargs)\n"
     ]
    },
    {
     "name": "stdout",
     "output_type": "stream",
     "text": [
      "Epoch 1.000000      loss: 0.966717\n",
      "Test Error: \n",
      " Accuracy: 98.1%, Avg loss: 0.953017 \n",
      "\n"
     ]
    },
    {
     "name": "stderr",
     "output_type": "stream",
     "text": [
      "c:\\Users\\maria\\anaconda3\\envs\\fysstk3155\\Lib\\site-packages\\torch\\nn\\modules\\module.py:1736: UserWarning: Implicit dimension choice for softmax has been deprecated. Change the call to include dim=X as an argument.\n",
      "  return self._call_impl(*args, **kwargs)\n"
     ]
    },
    {
     "name": "stdout",
     "output_type": "stream",
     "text": [
      "Epoch 1.000000      loss: 0.960629\n",
      "Test Error: \n",
      " Accuracy: 97.9%, Avg loss: 0.955038 \n",
      "\n"
     ]
    },
    {
     "name": "stderr",
     "output_type": "stream",
     "text": [
      "c:\\Users\\maria\\anaconda3\\envs\\fysstk3155\\Lib\\site-packages\\torch\\nn\\modules\\module.py:1736: UserWarning: Implicit dimension choice for softmax has been deprecated. Change the call to include dim=X as an argument.\n",
      "  return self._call_impl(*args, **kwargs)\n"
     ]
    },
    {
     "name": "stdout",
     "output_type": "stream",
     "text": [
      "Epoch 1.000000      loss: 0.947191\n",
      "Test Error: \n",
      " Accuracy: 98.2%, Avg loss: 0.949496 \n",
      "\n"
     ]
    },
    {
     "name": "stderr",
     "output_type": "stream",
     "text": [
      "c:\\Users\\maria\\anaconda3\\envs\\fysstk3155\\Lib\\site-packages\\torch\\nn\\modules\\module.py:1736: UserWarning: Implicit dimension choice for softmax has been deprecated. Change the call to include dim=X as an argument.\n",
      "  return self._call_impl(*args, **kwargs)\n"
     ]
    },
    {
     "name": "stdout",
     "output_type": "stream",
     "text": [
      "Epoch 1.000000      loss: 0.956878\n",
      "Test Error: \n",
      " Accuracy: 98.1%, Avg loss: 0.951550 \n",
      "\n"
     ]
    },
    {
     "name": "stderr",
     "output_type": "stream",
     "text": [
      "c:\\Users\\maria\\anaconda3\\envs\\fysstk3155\\Lib\\site-packages\\torch\\nn\\modules\\module.py:1736: UserWarning: Implicit dimension choice for softmax has been deprecated. Change the call to include dim=X as an argument.\n",
      "  return self._call_impl(*args, **kwargs)\n"
     ]
    },
    {
     "name": "stdout",
     "output_type": "stream",
     "text": [
      "Epoch 1.000000      loss: 0.966943\n",
      "Test Error: \n",
      " Accuracy: 98.1%, Avg loss: 0.952626 \n",
      "\n"
     ]
    },
    {
     "name": "stderr",
     "output_type": "stream",
     "text": [
      "c:\\Users\\maria\\anaconda3\\envs\\fysstk3155\\Lib\\site-packages\\torch\\nn\\modules\\module.py:1736: UserWarning: Implicit dimension choice for softmax has been deprecated. Change the call to include dim=X as an argument.\n",
      "  return self._call_impl(*args, **kwargs)\n"
     ]
    },
    {
     "name": "stdout",
     "output_type": "stream",
     "text": [
      "Epoch 1.000000      loss: 0.958734\n",
      "Test Error: \n",
      " Accuracy: 98.2%, Avg loss: 0.950811 \n",
      "\n"
     ]
    },
    {
     "name": "stderr",
     "output_type": "stream",
     "text": [
      "c:\\Users\\maria\\anaconda3\\envs\\fysstk3155\\Lib\\site-packages\\torch\\nn\\modules\\module.py:1736: UserWarning: Implicit dimension choice for softmax has been deprecated. Change the call to include dim=X as an argument.\n",
      "  return self._call_impl(*args, **kwargs)\n"
     ]
    },
    {
     "name": "stdout",
     "output_type": "stream",
     "text": [
      "Epoch 1.000000      loss: 0.941797\n",
      "Test Error: \n",
      " Accuracy: 98.1%, Avg loss: 0.951649 \n",
      "\n"
     ]
    },
    {
     "name": "stderr",
     "output_type": "stream",
     "text": [
      "c:\\Users\\maria\\anaconda3\\envs\\fysstk3155\\Lib\\site-packages\\torch\\nn\\modules\\module.py:1736: UserWarning: Implicit dimension choice for softmax has been deprecated. Change the call to include dim=X as an argument.\n",
      "  return self._call_impl(*args, **kwargs)\n"
     ]
    },
    {
     "name": "stdout",
     "output_type": "stream",
     "text": [
      "Epoch 1.000000      loss: 0.967015\n",
      "Test Error: \n",
      " Accuracy: 98.1%, Avg loss: 0.949568 \n",
      "\n"
     ]
    },
    {
     "name": "stderr",
     "output_type": "stream",
     "text": [
      "c:\\Users\\maria\\anaconda3\\envs\\fysstk3155\\Lib\\site-packages\\torch\\nn\\modules\\module.py:1736: UserWarning: Implicit dimension choice for softmax has been deprecated. Change the call to include dim=X as an argument.\n",
      "  return self._call_impl(*args, **kwargs)\n"
     ]
    },
    {
     "name": "stdout",
     "output_type": "stream",
     "text": [
      "Epoch 1.000000      loss: 0.950735\n",
      "Test Error: \n",
      " Accuracy: 98.1%, Avg loss: 0.951786 \n",
      "\n"
     ]
    },
    {
     "name": "stderr",
     "output_type": "stream",
     "text": [
      "c:\\Users\\maria\\anaconda3\\envs\\fysstk3155\\Lib\\site-packages\\torch\\nn\\modules\\module.py:1736: UserWarning: Implicit dimension choice for softmax has been deprecated. Change the call to include dim=X as an argument.\n",
      "  return self._call_impl(*args, **kwargs)\n"
     ]
    },
    {
     "name": "stdout",
     "output_type": "stream",
     "text": [
      "Epoch 1.000000      loss: 0.949795\n",
      "Test Error: \n",
      " Accuracy: 98.1%, Avg loss: 0.950102 \n",
      "\n"
     ]
    },
    {
     "name": "stderr",
     "output_type": "stream",
     "text": [
      "c:\\Users\\maria\\anaconda3\\envs\\fysstk3155\\Lib\\site-packages\\torch\\nn\\modules\\module.py:1736: UserWarning: Implicit dimension choice for softmax has been deprecated. Change the call to include dim=X as an argument.\n",
      "  return self._call_impl(*args, **kwargs)\n"
     ]
    },
    {
     "name": "stdout",
     "output_type": "stream",
     "text": [
      "Epoch 1.000000      loss: 0.957130\n",
      "Test Error: \n",
      " Accuracy: 97.9%, Avg loss: 0.955982 \n",
      "\n"
     ]
    },
    {
     "name": "stderr",
     "output_type": "stream",
     "text": [
      "c:\\Users\\maria\\anaconda3\\envs\\fysstk3155\\Lib\\site-packages\\torch\\nn\\modules\\module.py:1736: UserWarning: Implicit dimension choice for softmax has been deprecated. Change the call to include dim=X as an argument.\n",
      "  return self._call_impl(*args, **kwargs)\n"
     ]
    },
    {
     "name": "stdout",
     "output_type": "stream",
     "text": [
      "Epoch 1.000000      loss: 0.958589\n",
      "Test Error: \n",
      " Accuracy: 98.1%, Avg loss: 0.948046 \n",
      "\n"
     ]
    },
    {
     "name": "stderr",
     "output_type": "stream",
     "text": [
      "c:\\Users\\maria\\anaconda3\\envs\\fysstk3155\\Lib\\site-packages\\torch\\nn\\modules\\module.py:1736: UserWarning: Implicit dimension choice for softmax has been deprecated. Change the call to include dim=X as an argument.\n",
      "  return self._call_impl(*args, **kwargs)\n"
     ]
    },
    {
     "name": "stdout",
     "output_type": "stream",
     "text": [
      "Epoch 1.000000      loss: 0.954701\n",
      "Test Error: \n",
      " Accuracy: 98.2%, Avg loss: 0.948992 \n",
      "\n"
     ]
    },
    {
     "name": "stderr",
     "output_type": "stream",
     "text": [
      "c:\\Users\\maria\\anaconda3\\envs\\fysstk3155\\Lib\\site-packages\\torch\\nn\\modules\\module.py:1736: UserWarning: Implicit dimension choice for softmax has been deprecated. Change the call to include dim=X as an argument.\n",
      "  return self._call_impl(*args, **kwargs)\n"
     ]
    },
    {
     "name": "stdout",
     "output_type": "stream",
     "text": [
      "Epoch 1.000000      loss: 0.962821\n",
      "Test Error: \n",
      " Accuracy: 98.1%, Avg loss: 0.947333 \n",
      "\n"
     ]
    },
    {
     "name": "stderr",
     "output_type": "stream",
     "text": [
      "c:\\Users\\maria\\anaconda3\\envs\\fysstk3155\\Lib\\site-packages\\torch\\nn\\modules\\module.py:1736: UserWarning: Implicit dimension choice for softmax has been deprecated. Change the call to include dim=X as an argument.\n",
      "  return self._call_impl(*args, **kwargs)\n"
     ]
    },
    {
     "name": "stdout",
     "output_type": "stream",
     "text": [
      "Epoch 1.000000      loss: 0.961741\n",
      "Test Error: \n",
      " Accuracy: 98.2%, Avg loss: 0.946529 \n",
      "\n"
     ]
    },
    {
     "name": "stderr",
     "output_type": "stream",
     "text": [
      "c:\\Users\\maria\\anaconda3\\envs\\fysstk3155\\Lib\\site-packages\\torch\\nn\\modules\\module.py:1736: UserWarning: Implicit dimension choice for softmax has been deprecated. Change the call to include dim=X as an argument.\n",
      "  return self._call_impl(*args, **kwargs)\n"
     ]
    },
    {
     "name": "stdout",
     "output_type": "stream",
     "text": [
      "Epoch 1.000000      loss: 0.969148\n",
      "Test Error: \n",
      " Accuracy: 98.1%, Avg loss: 0.949715 \n",
      "\n"
     ]
    },
    {
     "name": "stderr",
     "output_type": "stream",
     "text": [
      "c:\\Users\\maria\\anaconda3\\envs\\fysstk3155\\Lib\\site-packages\\torch\\nn\\modules\\module.py:1736: UserWarning: Implicit dimension choice for softmax has been deprecated. Change the call to include dim=X as an argument.\n",
      "  return self._call_impl(*args, **kwargs)\n"
     ]
    },
    {
     "name": "stdout",
     "output_type": "stream",
     "text": [
      "Epoch 1.000000      loss: 0.957452\n",
      "Test Error: \n",
      " Accuracy: 98.2%, Avg loss: 0.949729 \n",
      "\n"
     ]
    },
    {
     "name": "stderr",
     "output_type": "stream",
     "text": [
      "c:\\Users\\maria\\anaconda3\\envs\\fysstk3155\\Lib\\site-packages\\torch\\nn\\modules\\module.py:1736: UserWarning: Implicit dimension choice for softmax has been deprecated. Change the call to include dim=X as an argument.\n",
      "  return self._call_impl(*args, **kwargs)\n"
     ]
    },
    {
     "name": "stdout",
     "output_type": "stream",
     "text": [
      "Epoch 1.000000      loss: 0.946170\n",
      "Test Error: \n",
      " Accuracy: 98.2%, Avg loss: 0.945260 \n",
      "\n"
     ]
    },
    {
     "name": "stderr",
     "output_type": "stream",
     "text": [
      "c:\\Users\\maria\\anaconda3\\envs\\fysstk3155\\Lib\\site-packages\\torch\\nn\\modules\\module.py:1736: UserWarning: Implicit dimension choice for softmax has been deprecated. Change the call to include dim=X as an argument.\n",
      "  return self._call_impl(*args, **kwargs)\n"
     ]
    },
    {
     "name": "stdout",
     "output_type": "stream",
     "text": [
      "Epoch 1.000000      loss: 0.955468\n",
      "Test Error: \n",
      " Accuracy: 98.2%, Avg loss: 0.951107 \n",
      "\n"
     ]
    },
    {
     "name": "stderr",
     "output_type": "stream",
     "text": [
      "c:\\Users\\maria\\anaconda3\\envs\\fysstk3155\\Lib\\site-packages\\torch\\nn\\modules\\module.py:1736: UserWarning: Implicit dimension choice for softmax has been deprecated. Change the call to include dim=X as an argument.\n",
      "  return self._call_impl(*args, **kwargs)\n"
     ]
    },
    {
     "name": "stdout",
     "output_type": "stream",
     "text": [
      "Epoch 1.000000      loss: 0.933220\n",
      "Test Error: \n",
      " Accuracy: 98.1%, Avg loss: 0.946158 \n",
      "\n"
     ]
    },
    {
     "name": "stderr",
     "output_type": "stream",
     "text": [
      "c:\\Users\\maria\\anaconda3\\envs\\fysstk3155\\Lib\\site-packages\\torch\\nn\\modules\\module.py:1736: UserWarning: Implicit dimension choice for softmax has been deprecated. Change the call to include dim=X as an argument.\n",
      "  return self._call_impl(*args, **kwargs)\n"
     ]
    },
    {
     "name": "stdout",
     "output_type": "stream",
     "text": [
      "Epoch 1.000000      loss: 0.953239\n",
      "Test Error: \n",
      " Accuracy: 98.1%, Avg loss: 0.948953 \n",
      "\n"
     ]
    },
    {
     "name": "stderr",
     "output_type": "stream",
     "text": [
      "c:\\Users\\maria\\anaconda3\\envs\\fysstk3155\\Lib\\site-packages\\torch\\nn\\modules\\module.py:1736: UserWarning: Implicit dimension choice for softmax has been deprecated. Change the call to include dim=X as an argument.\n",
      "  return self._call_impl(*args, **kwargs)\n"
     ]
    },
    {
     "name": "stdout",
     "output_type": "stream",
     "text": [
      "Epoch 1.000000      loss: 0.954439\n",
      "Test Error: \n",
      " Accuracy: 98.1%, Avg loss: 0.947120 \n",
      "\n"
     ]
    },
    {
     "name": "stderr",
     "output_type": "stream",
     "text": [
      "c:\\Users\\maria\\anaconda3\\envs\\fysstk3155\\Lib\\site-packages\\torch\\nn\\modules\\module.py:1736: UserWarning: Implicit dimension choice for softmax has been deprecated. Change the call to include dim=X as an argument.\n",
      "  return self._call_impl(*args, **kwargs)\n"
     ]
    },
    {
     "name": "stdout",
     "output_type": "stream",
     "text": [
      "Epoch 1.000000      loss: 0.965367\n",
      "Test Error: \n",
      " Accuracy: 98.2%, Avg loss: 0.948703 \n",
      "\n"
     ]
    },
    {
     "name": "stderr",
     "output_type": "stream",
     "text": [
      "c:\\Users\\maria\\anaconda3\\envs\\fysstk3155\\Lib\\site-packages\\torch\\nn\\modules\\module.py:1736: UserWarning: Implicit dimension choice for softmax has been deprecated. Change the call to include dim=X as an argument.\n",
      "  return self._call_impl(*args, **kwargs)\n"
     ]
    },
    {
     "name": "stdout",
     "output_type": "stream",
     "text": [
      "Epoch 1.000000      loss: 0.951224\n",
      "Test Error: \n",
      " Accuracy: 98.0%, Avg loss: 0.952623 \n",
      "\n"
     ]
    },
    {
     "name": "stderr",
     "output_type": "stream",
     "text": [
      "c:\\Users\\maria\\anaconda3\\envs\\fysstk3155\\Lib\\site-packages\\torch\\nn\\modules\\module.py:1736: UserWarning: Implicit dimension choice for softmax has been deprecated. Change the call to include dim=X as an argument.\n",
      "  return self._call_impl(*args, **kwargs)\n"
     ]
    },
    {
     "name": "stdout",
     "output_type": "stream",
     "text": [
      "Epoch 1.000000      loss: 0.944899\n",
      "Test Error: \n",
      " Accuracy: 98.1%, Avg loss: 0.950364 \n",
      "\n"
     ]
    },
    {
     "name": "stderr",
     "output_type": "stream",
     "text": [
      "c:\\Users\\maria\\anaconda3\\envs\\fysstk3155\\Lib\\site-packages\\torch\\nn\\modules\\module.py:1736: UserWarning: Implicit dimension choice for softmax has been deprecated. Change the call to include dim=X as an argument.\n",
      "  return self._call_impl(*args, **kwargs)\n"
     ]
    },
    {
     "name": "stdout",
     "output_type": "stream",
     "text": [
      "Epoch 1.000000      loss: 0.950937\n",
      "Test Error: \n",
      " Accuracy: 98.2%, Avg loss: 0.948647 \n",
      "\n"
     ]
    },
    {
     "name": "stderr",
     "output_type": "stream",
     "text": [
      "c:\\Users\\maria\\anaconda3\\envs\\fysstk3155\\Lib\\site-packages\\torch\\nn\\modules\\module.py:1736: UserWarning: Implicit dimension choice for softmax has been deprecated. Change the call to include dim=X as an argument.\n",
      "  return self._call_impl(*args, **kwargs)\n"
     ]
    },
    {
     "name": "stdout",
     "output_type": "stream",
     "text": [
      "Epoch 1.000000      loss: 0.943519\n",
      "Test Error: \n",
      " Accuracy: 98.0%, Avg loss: 0.947063 \n",
      "\n"
     ]
    },
    {
     "name": "stderr",
     "output_type": "stream",
     "text": [
      "c:\\Users\\maria\\anaconda3\\envs\\fysstk3155\\Lib\\site-packages\\torch\\nn\\modules\\module.py:1736: UserWarning: Implicit dimension choice for softmax has been deprecated. Change the call to include dim=X as an argument.\n",
      "  return self._call_impl(*args, **kwargs)\n"
     ]
    },
    {
     "name": "stdout",
     "output_type": "stream",
     "text": [
      "Epoch 1.000000      loss: 0.941177\n",
      "Test Error: \n",
      " Accuracy: 98.3%, Avg loss: 0.949984 \n",
      "\n"
     ]
    },
    {
     "name": "stderr",
     "output_type": "stream",
     "text": [
      "c:\\Users\\maria\\anaconda3\\envs\\fysstk3155\\Lib\\site-packages\\torch\\nn\\modules\\module.py:1736: UserWarning: Implicit dimension choice for softmax has been deprecated. Change the call to include dim=X as an argument.\n",
      "  return self._call_impl(*args, **kwargs)\n"
     ]
    },
    {
     "name": "stdout",
     "output_type": "stream",
     "text": [
      "Epoch 1.000000      loss: 0.946893\n",
      "Test Error: \n",
      " Accuracy: 98.1%, Avg loss: 0.949443 \n",
      "\n"
     ]
    },
    {
     "name": "stderr",
     "output_type": "stream",
     "text": [
      "c:\\Users\\maria\\anaconda3\\envs\\fysstk3155\\Lib\\site-packages\\torch\\nn\\modules\\module.py:1736: UserWarning: Implicit dimension choice for softmax has been deprecated. Change the call to include dim=X as an argument.\n",
      "  return self._call_impl(*args, **kwargs)\n"
     ]
    },
    {
     "name": "stdout",
     "output_type": "stream",
     "text": [
      "Epoch 1.000000      loss: 0.943833\n",
      "Test Error: \n",
      " Accuracy: 98.1%, Avg loss: 0.947664 \n",
      "\n"
     ]
    },
    {
     "name": "stderr",
     "output_type": "stream",
     "text": [
      "c:\\Users\\maria\\anaconda3\\envs\\fysstk3155\\Lib\\site-packages\\torch\\nn\\modules\\module.py:1736: UserWarning: Implicit dimension choice for softmax has been deprecated. Change the call to include dim=X as an argument.\n",
      "  return self._call_impl(*args, **kwargs)\n"
     ]
    },
    {
     "name": "stdout",
     "output_type": "stream",
     "text": [
      "Epoch 1.000000      loss: 0.948437\n",
      "Test Error: \n",
      " Accuracy: 98.1%, Avg loss: 0.949424 \n",
      "\n"
     ]
    },
    {
     "name": "stderr",
     "output_type": "stream",
     "text": [
      "c:\\Users\\maria\\anaconda3\\envs\\fysstk3155\\Lib\\site-packages\\torch\\nn\\modules\\module.py:1736: UserWarning: Implicit dimension choice for softmax has been deprecated. Change the call to include dim=X as an argument.\n",
      "  return self._call_impl(*args, **kwargs)\n"
     ]
    },
    {
     "name": "stdout",
     "output_type": "stream",
     "text": [
      "Epoch 1.000000      loss: 0.940757\n",
      "Test Error: \n",
      " Accuracy: 98.3%, Avg loss: 0.949046 \n",
      "\n"
     ]
    },
    {
     "name": "stderr",
     "output_type": "stream",
     "text": [
      "c:\\Users\\maria\\anaconda3\\envs\\fysstk3155\\Lib\\site-packages\\torch\\nn\\modules\\module.py:1736: UserWarning: Implicit dimension choice for softmax has been deprecated. Change the call to include dim=X as an argument.\n",
      "  return self._call_impl(*args, **kwargs)\n"
     ]
    },
    {
     "name": "stdout",
     "output_type": "stream",
     "text": [
      "Epoch 1.000000      loss: 0.984723\n",
      "Test Error: \n",
      " Accuracy: 98.2%, Avg loss: 0.945174 \n",
      "\n"
     ]
    },
    {
     "name": "stderr",
     "output_type": "stream",
     "text": [
      "c:\\Users\\maria\\anaconda3\\envs\\fysstk3155\\Lib\\site-packages\\torch\\nn\\modules\\module.py:1736: UserWarning: Implicit dimension choice for softmax has been deprecated. Change the call to include dim=X as an argument.\n",
      "  return self._call_impl(*args, **kwargs)\n"
     ]
    },
    {
     "name": "stdout",
     "output_type": "stream",
     "text": [
      "Epoch 1.000000      loss: 0.942714\n",
      "Test Error: \n",
      " Accuracy: 98.0%, Avg loss: 0.945760 \n",
      "\n"
     ]
    },
    {
     "name": "stderr",
     "output_type": "stream",
     "text": [
      "c:\\Users\\maria\\anaconda3\\envs\\fysstk3155\\Lib\\site-packages\\torch\\nn\\modules\\module.py:1736: UserWarning: Implicit dimension choice for softmax has been deprecated. Change the call to include dim=X as an argument.\n",
      "  return self._call_impl(*args, **kwargs)\n"
     ]
    },
    {
     "name": "stdout",
     "output_type": "stream",
     "text": [
      "Epoch 1.000000      loss: 0.930359\n",
      "Test Error: \n",
      " Accuracy: 98.3%, Avg loss: 0.944963 \n",
      "\n"
     ]
    },
    {
     "name": "stderr",
     "output_type": "stream",
     "text": [
      "c:\\Users\\maria\\anaconda3\\envs\\fysstk3155\\Lib\\site-packages\\torch\\nn\\modules\\module.py:1736: UserWarning: Implicit dimension choice for softmax has been deprecated. Change the call to include dim=X as an argument.\n",
      "  return self._call_impl(*args, **kwargs)\n"
     ]
    },
    {
     "name": "stdout",
     "output_type": "stream",
     "text": [
      "Epoch 1.000000      loss: 0.948535\n",
      "Test Error: \n",
      " Accuracy: 98.1%, Avg loss: 0.947927 \n",
      "\n"
     ]
    },
    {
     "name": "stderr",
     "output_type": "stream",
     "text": [
      "c:\\Users\\maria\\anaconda3\\envs\\fysstk3155\\Lib\\site-packages\\torch\\nn\\modules\\module.py:1736: UserWarning: Implicit dimension choice for softmax has been deprecated. Change the call to include dim=X as an argument.\n",
      "  return self._call_impl(*args, **kwargs)\n"
     ]
    },
    {
     "name": "stdout",
     "output_type": "stream",
     "text": [
      "Epoch 1.000000      loss: 0.960939\n",
      "Test Error: \n",
      " Accuracy: 98.2%, Avg loss: 0.946538 \n",
      "\n"
     ]
    },
    {
     "name": "stderr",
     "output_type": "stream",
     "text": [
      "c:\\Users\\maria\\anaconda3\\envs\\fysstk3155\\Lib\\site-packages\\torch\\nn\\modules\\module.py:1736: UserWarning: Implicit dimension choice for softmax has been deprecated. Change the call to include dim=X as an argument.\n",
      "  return self._call_impl(*args, **kwargs)\n"
     ]
    },
    {
     "name": "stdout",
     "output_type": "stream",
     "text": [
      "Epoch 1.000000      loss: 0.962651\n",
      "Test Error: \n",
      " Accuracy: 98.1%, Avg loss: 0.947962 \n",
      "\n"
     ]
    },
    {
     "name": "stderr",
     "output_type": "stream",
     "text": [
      "c:\\Users\\maria\\anaconda3\\envs\\fysstk3155\\Lib\\site-packages\\torch\\nn\\modules\\module.py:1736: UserWarning: Implicit dimension choice for softmax has been deprecated. Change the call to include dim=X as an argument.\n",
      "  return self._call_impl(*args, **kwargs)\n"
     ]
    },
    {
     "name": "stdout",
     "output_type": "stream",
     "text": [
      "Epoch 1.000000      loss: 0.937565\n",
      "Test Error: \n",
      " Accuracy: 98.2%, Avg loss: 0.947503 \n",
      "\n"
     ]
    },
    {
     "name": "stderr",
     "output_type": "stream",
     "text": [
      "c:\\Users\\maria\\anaconda3\\envs\\fysstk3155\\Lib\\site-packages\\torch\\nn\\modules\\module.py:1736: UserWarning: Implicit dimension choice for softmax has been deprecated. Change the call to include dim=X as an argument.\n",
      "  return self._call_impl(*args, **kwargs)\n"
     ]
    },
    {
     "name": "stdout",
     "output_type": "stream",
     "text": [
      "Epoch 1.000000      loss: 0.949698\n",
      "Test Error: \n",
      " Accuracy: 98.2%, Avg loss: 0.952356 \n",
      "\n"
     ]
    },
    {
     "name": "stderr",
     "output_type": "stream",
     "text": [
      "c:\\Users\\maria\\anaconda3\\envs\\fysstk3155\\Lib\\site-packages\\torch\\nn\\modules\\module.py:1736: UserWarning: Implicit dimension choice for softmax has been deprecated. Change the call to include dim=X as an argument.\n",
      "  return self._call_impl(*args, **kwargs)\n"
     ]
    },
    {
     "name": "stdout",
     "output_type": "stream",
     "text": [
      "Epoch 1.000000      loss: 0.938196\n",
      "Test Error: \n",
      " Accuracy: 98.0%, Avg loss: 0.948207 \n",
      "\n"
     ]
    },
    {
     "name": "stderr",
     "output_type": "stream",
     "text": [
      "c:\\Users\\maria\\anaconda3\\envs\\fysstk3155\\Lib\\site-packages\\torch\\nn\\modules\\module.py:1736: UserWarning: Implicit dimension choice for softmax has been deprecated. Change the call to include dim=X as an argument.\n",
      "  return self._call_impl(*args, **kwargs)\n"
     ]
    },
    {
     "name": "stdout",
     "output_type": "stream",
     "text": [
      "Epoch 1.000000      loss: 0.952932\n",
      "Test Error: \n",
      " Accuracy: 98.2%, Avg loss: 0.947728 \n",
      "\n"
     ]
    },
    {
     "name": "stderr",
     "output_type": "stream",
     "text": [
      "c:\\Users\\maria\\anaconda3\\envs\\fysstk3155\\Lib\\site-packages\\torch\\nn\\modules\\module.py:1736: UserWarning: Implicit dimension choice for softmax has been deprecated. Change the call to include dim=X as an argument.\n",
      "  return self._call_impl(*args, **kwargs)\n"
     ]
    },
    {
     "name": "stdout",
     "output_type": "stream",
     "text": [
      "Epoch 1.000000      loss: 0.955288\n",
      "Test Error: \n",
      " Accuracy: 98.2%, Avg loss: 0.949991 \n",
      "\n"
     ]
    },
    {
     "name": "stderr",
     "output_type": "stream",
     "text": [
      "c:\\Users\\maria\\anaconda3\\envs\\fysstk3155\\Lib\\site-packages\\torch\\nn\\modules\\module.py:1736: UserWarning: Implicit dimension choice for softmax has been deprecated. Change the call to include dim=X as an argument.\n",
      "  return self._call_impl(*args, **kwargs)\n"
     ]
    },
    {
     "name": "stdout",
     "output_type": "stream",
     "text": [
      "Epoch 1.000000      loss: 0.931343\n",
      "Test Error: \n",
      " Accuracy: 98.2%, Avg loss: 0.943944 \n",
      "\n"
     ]
    },
    {
     "name": "stderr",
     "output_type": "stream",
     "text": [
      "c:\\Users\\maria\\anaconda3\\envs\\fysstk3155\\Lib\\site-packages\\torch\\nn\\modules\\module.py:1736: UserWarning: Implicit dimension choice for softmax has been deprecated. Change the call to include dim=X as an argument.\n",
      "  return self._call_impl(*args, **kwargs)\n"
     ]
    },
    {
     "name": "stdout",
     "output_type": "stream",
     "text": [
      "Epoch 1.000000      loss: 0.936687\n",
      "Test Error: \n",
      " Accuracy: 98.2%, Avg loss: 0.948461 \n",
      "\n"
     ]
    },
    {
     "name": "stderr",
     "output_type": "stream",
     "text": [
      "c:\\Users\\maria\\anaconda3\\envs\\fysstk3155\\Lib\\site-packages\\torch\\nn\\modules\\module.py:1736: UserWarning: Implicit dimension choice for softmax has been deprecated. Change the call to include dim=X as an argument.\n",
      "  return self._call_impl(*args, **kwargs)\n"
     ]
    },
    {
     "name": "stdout",
     "output_type": "stream",
     "text": [
      "Epoch 1.000000      loss: 0.954928\n",
      "Test Error: \n",
      " Accuracy: 98.2%, Avg loss: 0.947444 \n",
      "\n"
     ]
    },
    {
     "name": "stderr",
     "output_type": "stream",
     "text": [
      "c:\\Users\\maria\\anaconda3\\envs\\fysstk3155\\Lib\\site-packages\\torch\\nn\\modules\\module.py:1736: UserWarning: Implicit dimension choice for softmax has been deprecated. Change the call to include dim=X as an argument.\n",
      "  return self._call_impl(*args, **kwargs)\n"
     ]
    },
    {
     "name": "stdout",
     "output_type": "stream",
     "text": [
      "Epoch 1.000000      loss: 0.954023\n",
      "Test Error: \n",
      " Accuracy: 98.2%, Avg loss: 0.945691 \n",
      "\n"
     ]
    },
    {
     "name": "stderr",
     "output_type": "stream",
     "text": [
      "c:\\Users\\maria\\anaconda3\\envs\\fysstk3155\\Lib\\site-packages\\torch\\nn\\modules\\module.py:1736: UserWarning: Implicit dimension choice for softmax has been deprecated. Change the call to include dim=X as an argument.\n",
      "  return self._call_impl(*args, **kwargs)\n"
     ]
    },
    {
     "name": "stdout",
     "output_type": "stream",
     "text": [
      "Epoch 1.000000      loss: 0.965443\n",
      "Test Error: \n",
      " Accuracy: 98.1%, Avg loss: 0.948765 \n",
      "\n"
     ]
    },
    {
     "name": "stderr",
     "output_type": "stream",
     "text": [
      "c:\\Users\\maria\\anaconda3\\envs\\fysstk3155\\Lib\\site-packages\\torch\\nn\\modules\\module.py:1736: UserWarning: Implicit dimension choice for softmax has been deprecated. Change the call to include dim=X as an argument.\n",
      "  return self._call_impl(*args, **kwargs)\n"
     ]
    },
    {
     "name": "stdout",
     "output_type": "stream",
     "text": [
      "Epoch 1.000000      loss: 0.957828\n",
      "Test Error: \n",
      " Accuracy: 98.2%, Avg loss: 0.945589 \n",
      "\n"
     ]
    },
    {
     "name": "stderr",
     "output_type": "stream",
     "text": [
      "c:\\Users\\maria\\anaconda3\\envs\\fysstk3155\\Lib\\site-packages\\torch\\nn\\modules\\module.py:1736: UserWarning: Implicit dimension choice for softmax has been deprecated. Change the call to include dim=X as an argument.\n",
      "  return self._call_impl(*args, **kwargs)\n"
     ]
    },
    {
     "name": "stdout",
     "output_type": "stream",
     "text": [
      "Epoch 1.000000      loss: 0.947562\n",
      "Test Error: \n",
      " Accuracy: 98.2%, Avg loss: 0.946075 \n",
      "\n"
     ]
    },
    {
     "name": "stderr",
     "output_type": "stream",
     "text": [
      "c:\\Users\\maria\\anaconda3\\envs\\fysstk3155\\Lib\\site-packages\\torch\\nn\\modules\\module.py:1736: UserWarning: Implicit dimension choice for softmax has been deprecated. Change the call to include dim=X as an argument.\n",
      "  return self._call_impl(*args, **kwargs)\n"
     ]
    },
    {
     "name": "stdout",
     "output_type": "stream",
     "text": [
      "Epoch 1.000000      loss: 0.960955\n",
      "Test Error: \n",
      " Accuracy: 98.2%, Avg loss: 0.947661 \n",
      "\n"
     ]
    },
    {
     "name": "stderr",
     "output_type": "stream",
     "text": [
      "c:\\Users\\maria\\anaconda3\\envs\\fysstk3155\\Lib\\site-packages\\torch\\nn\\modules\\module.py:1736: UserWarning: Implicit dimension choice for softmax has been deprecated. Change the call to include dim=X as an argument.\n",
      "  return self._call_impl(*args, **kwargs)\n"
     ]
    },
    {
     "name": "stdout",
     "output_type": "stream",
     "text": [
      "Epoch 1.000000      loss: 0.956715\n",
      "Test Error: \n",
      " Accuracy: 98.1%, Avg loss: 0.948946 \n",
      "\n"
     ]
    },
    {
     "name": "stderr",
     "output_type": "stream",
     "text": [
      "c:\\Users\\maria\\anaconda3\\envs\\fysstk3155\\Lib\\site-packages\\torch\\nn\\modules\\module.py:1736: UserWarning: Implicit dimension choice for softmax has been deprecated. Change the call to include dim=X as an argument.\n",
      "  return self._call_impl(*args, **kwargs)\n"
     ]
    },
    {
     "name": "stdout",
     "output_type": "stream",
     "text": [
      "Epoch 1.000000      loss: 0.968447\n",
      "Test Error: \n",
      " Accuracy: 98.1%, Avg loss: 0.949725 \n",
      "\n"
     ]
    },
    {
     "name": "stderr",
     "output_type": "stream",
     "text": [
      "c:\\Users\\maria\\anaconda3\\envs\\fysstk3155\\Lib\\site-packages\\torch\\nn\\modules\\module.py:1736: UserWarning: Implicit dimension choice for softmax has been deprecated. Change the call to include dim=X as an argument.\n",
      "  return self._call_impl(*args, **kwargs)\n"
     ]
    },
    {
     "name": "stdout",
     "output_type": "stream",
     "text": [
      "Epoch 1.000000      loss: 0.950307\n",
      "Test Error: \n",
      " Accuracy: 98.2%, Avg loss: 0.943725 \n",
      "\n"
     ]
    },
    {
     "name": "stderr",
     "output_type": "stream",
     "text": [
      "c:\\Users\\maria\\anaconda3\\envs\\fysstk3155\\Lib\\site-packages\\torch\\nn\\modules\\module.py:1736: UserWarning: Implicit dimension choice for softmax has been deprecated. Change the call to include dim=X as an argument.\n",
      "  return self._call_impl(*args, **kwargs)\n"
     ]
    },
    {
     "name": "stdout",
     "output_type": "stream",
     "text": [
      "Epoch 1.000000      loss: 0.941669\n",
      "Test Error: \n",
      " Accuracy: 98.2%, Avg loss: 0.943030 \n",
      "\n"
     ]
    },
    {
     "name": "stderr",
     "output_type": "stream",
     "text": [
      "c:\\Users\\maria\\anaconda3\\envs\\fysstk3155\\Lib\\site-packages\\torch\\nn\\modules\\module.py:1736: UserWarning: Implicit dimension choice for softmax has been deprecated. Change the call to include dim=X as an argument.\n",
      "  return self._call_impl(*args, **kwargs)\n"
     ]
    },
    {
     "name": "stdout",
     "output_type": "stream",
     "text": [
      "Epoch 1.000000      loss: 0.945289\n",
      "Test Error: \n",
      " Accuracy: 98.2%, Avg loss: 0.944584 \n",
      "\n"
     ]
    },
    {
     "name": "stderr",
     "output_type": "stream",
     "text": [
      "c:\\Users\\maria\\anaconda3\\envs\\fysstk3155\\Lib\\site-packages\\torch\\nn\\modules\\module.py:1736: UserWarning: Implicit dimension choice for softmax has been deprecated. Change the call to include dim=X as an argument.\n",
      "  return self._call_impl(*args, **kwargs)\n"
     ]
    },
    {
     "name": "stdout",
     "output_type": "stream",
     "text": [
      "Epoch 1.000000      loss: 0.951080\n",
      "Test Error: \n",
      " Accuracy: 98.1%, Avg loss: 0.945827 \n",
      "\n"
     ]
    },
    {
     "name": "stderr",
     "output_type": "stream",
     "text": [
      "c:\\Users\\maria\\anaconda3\\envs\\fysstk3155\\Lib\\site-packages\\torch\\nn\\modules\\module.py:1736: UserWarning: Implicit dimension choice for softmax has been deprecated. Change the call to include dim=X as an argument.\n",
      "  return self._call_impl(*args, **kwargs)\n"
     ]
    },
    {
     "name": "stdout",
     "output_type": "stream",
     "text": [
      "Epoch 1.000000      loss: 0.971743\n",
      "Test Error: \n",
      " Accuracy: 98.1%, Avg loss: 0.952206 \n",
      "\n"
     ]
    },
    {
     "name": "stderr",
     "output_type": "stream",
     "text": [
      "c:\\Users\\maria\\anaconda3\\envs\\fysstk3155\\Lib\\site-packages\\torch\\nn\\modules\\module.py:1736: UserWarning: Implicit dimension choice for softmax has been deprecated. Change the call to include dim=X as an argument.\n",
      "  return self._call_impl(*args, **kwargs)\n"
     ]
    },
    {
     "name": "stdout",
     "output_type": "stream",
     "text": [
      "Epoch 1.000000      loss: 0.977016\n",
      "Test Error: \n",
      " Accuracy: 98.2%, Avg loss: 0.944989 \n",
      "\n"
     ]
    },
    {
     "name": "stderr",
     "output_type": "stream",
     "text": [
      "c:\\Users\\maria\\anaconda3\\envs\\fysstk3155\\Lib\\site-packages\\torch\\nn\\modules\\module.py:1736: UserWarning: Implicit dimension choice for softmax has been deprecated. Change the call to include dim=X as an argument.\n",
      "  return self._call_impl(*args, **kwargs)\n"
     ]
    },
    {
     "name": "stdout",
     "output_type": "stream",
     "text": [
      "Epoch 1.000000      loss: 0.971592\n",
      "Test Error: \n",
      " Accuracy: 98.0%, Avg loss: 0.947006 \n",
      "\n"
     ]
    },
    {
     "name": "stderr",
     "output_type": "stream",
     "text": [
      "c:\\Users\\maria\\anaconda3\\envs\\fysstk3155\\Lib\\site-packages\\torch\\nn\\modules\\module.py:1736: UserWarning: Implicit dimension choice for softmax has been deprecated. Change the call to include dim=X as an argument.\n",
      "  return self._call_impl(*args, **kwargs)\n"
     ]
    },
    {
     "name": "stdout",
     "output_type": "stream",
     "text": [
      "Epoch 1.000000      loss: 0.969787\n",
      "Test Error: \n",
      " Accuracy: 98.3%, Avg loss: 0.945316 \n",
      "\n"
     ]
    },
    {
     "name": "stderr",
     "output_type": "stream",
     "text": [
      "c:\\Users\\maria\\anaconda3\\envs\\fysstk3155\\Lib\\site-packages\\torch\\nn\\modules\\module.py:1736: UserWarning: Implicit dimension choice for softmax has been deprecated. Change the call to include dim=X as an argument.\n",
      "  return self._call_impl(*args, **kwargs)\n"
     ]
    },
    {
     "name": "stdout",
     "output_type": "stream",
     "text": [
      "Epoch 1.000000      loss: 0.963748\n",
      "Test Error: \n",
      " Accuracy: 98.3%, Avg loss: 0.946841 \n",
      "\n"
     ]
    },
    {
     "name": "stderr",
     "output_type": "stream",
     "text": [
      "c:\\Users\\maria\\anaconda3\\envs\\fysstk3155\\Lib\\site-packages\\torch\\nn\\modules\\module.py:1736: UserWarning: Implicit dimension choice for softmax has been deprecated. Change the call to include dim=X as an argument.\n",
      "  return self._call_impl(*args, **kwargs)\n"
     ]
    },
    {
     "name": "stdout",
     "output_type": "stream",
     "text": [
      "Epoch 1.000000      loss: 0.968777\n",
      "Test Error: \n",
      " Accuracy: 98.2%, Avg loss: 0.945360 \n",
      "\n"
     ]
    },
    {
     "name": "stderr",
     "output_type": "stream",
     "text": [
      "c:\\Users\\maria\\anaconda3\\envs\\fysstk3155\\Lib\\site-packages\\torch\\nn\\modules\\module.py:1736: UserWarning: Implicit dimension choice for softmax has been deprecated. Change the call to include dim=X as an argument.\n",
      "  return self._call_impl(*args, **kwargs)\n"
     ]
    },
    {
     "name": "stdout",
     "output_type": "stream",
     "text": [
      "Epoch 1.000000      loss: 0.947928\n",
      "Test Error: \n",
      " Accuracy: 98.1%, Avg loss: 0.946014 \n",
      "\n"
     ]
    },
    {
     "name": "stderr",
     "output_type": "stream",
     "text": [
      "c:\\Users\\maria\\anaconda3\\envs\\fysstk3155\\Lib\\site-packages\\torch\\nn\\modules\\module.py:1736: UserWarning: Implicit dimension choice for softmax has been deprecated. Change the call to include dim=X as an argument.\n",
      "  return self._call_impl(*args, **kwargs)\n"
     ]
    },
    {
     "name": "stdout",
     "output_type": "stream",
     "text": [
      "Epoch 1.000000      loss: 0.956748\n",
      "Test Error: \n",
      " Accuracy: 98.1%, Avg loss: 0.948831 \n",
      "\n"
     ]
    },
    {
     "name": "stderr",
     "output_type": "stream",
     "text": [
      "c:\\Users\\maria\\anaconda3\\envs\\fysstk3155\\Lib\\site-packages\\torch\\nn\\modules\\module.py:1736: UserWarning: Implicit dimension choice for softmax has been deprecated. Change the call to include dim=X as an argument.\n",
      "  return self._call_impl(*args, **kwargs)\n"
     ]
    },
    {
     "name": "stdout",
     "output_type": "stream",
     "text": [
      "Epoch 1.000000      loss: 0.946131\n",
      "Test Error: \n",
      " Accuracy: 98.3%, Avg loss: 0.943360 \n",
      "\n"
     ]
    },
    {
     "name": "stderr",
     "output_type": "stream",
     "text": [
      "c:\\Users\\maria\\anaconda3\\envs\\fysstk3155\\Lib\\site-packages\\torch\\nn\\modules\\module.py:1736: UserWarning: Implicit dimension choice for softmax has been deprecated. Change the call to include dim=X as an argument.\n",
      "  return self._call_impl(*args, **kwargs)\n"
     ]
    },
    {
     "name": "stdout",
     "output_type": "stream",
     "text": [
      "Epoch 1.000000      loss: 0.946349\n",
      "Test Error: \n",
      " Accuracy: 98.3%, Avg loss: 0.941712 \n",
      "\n"
     ]
    },
    {
     "name": "stderr",
     "output_type": "stream",
     "text": [
      "c:\\Users\\maria\\anaconda3\\envs\\fysstk3155\\Lib\\site-packages\\torch\\nn\\modules\\module.py:1736: UserWarning: Implicit dimension choice for softmax has been deprecated. Change the call to include dim=X as an argument.\n",
      "  return self._call_impl(*args, **kwargs)\n"
     ]
    },
    {
     "name": "stdout",
     "output_type": "stream",
     "text": [
      "Epoch 1.000000      loss: 0.937152\n",
      "Test Error: \n",
      " Accuracy: 98.1%, Avg loss: 0.945429 \n",
      "\n"
     ]
    },
    {
     "name": "stderr",
     "output_type": "stream",
     "text": [
      "c:\\Users\\maria\\anaconda3\\envs\\fysstk3155\\Lib\\site-packages\\torch\\nn\\modules\\module.py:1736: UserWarning: Implicit dimension choice for softmax has been deprecated. Change the call to include dim=X as an argument.\n",
      "  return self._call_impl(*args, **kwargs)\n"
     ]
    },
    {
     "name": "stdout",
     "output_type": "stream",
     "text": [
      "Epoch 1.000000      loss: 0.963443\n",
      "Test Error: \n",
      " Accuracy: 98.3%, Avg loss: 0.944055 \n",
      "\n"
     ]
    },
    {
     "name": "stderr",
     "output_type": "stream",
     "text": [
      "c:\\Users\\maria\\anaconda3\\envs\\fysstk3155\\Lib\\site-packages\\torch\\nn\\modules\\module.py:1736: UserWarning: Implicit dimension choice for softmax has been deprecated. Change the call to include dim=X as an argument.\n",
      "  return self._call_impl(*args, **kwargs)\n"
     ]
    },
    {
     "name": "stdout",
     "output_type": "stream",
     "text": [
      "Epoch 1.000000      loss: 0.960377\n",
      "Test Error: \n",
      " Accuracy: 98.2%, Avg loss: 0.944540 \n",
      "\n"
     ]
    },
    {
     "name": "stderr",
     "output_type": "stream",
     "text": [
      "c:\\Users\\maria\\anaconda3\\envs\\fysstk3155\\Lib\\site-packages\\torch\\nn\\modules\\module.py:1736: UserWarning: Implicit dimension choice for softmax has been deprecated. Change the call to include dim=X as an argument.\n",
      "  return self._call_impl(*args, **kwargs)\n"
     ]
    },
    {
     "name": "stdout",
     "output_type": "stream",
     "text": [
      "Epoch 1.000000      loss: 0.938672\n",
      "Test Error: \n",
      " Accuracy: 98.3%, Avg loss: 0.942233 \n",
      "\n"
     ]
    },
    {
     "name": "stderr",
     "output_type": "stream",
     "text": [
      "c:\\Users\\maria\\anaconda3\\envs\\fysstk3155\\Lib\\site-packages\\torch\\nn\\modules\\module.py:1736: UserWarning: Implicit dimension choice for softmax has been deprecated. Change the call to include dim=X as an argument.\n",
      "  return self._call_impl(*args, **kwargs)\n"
     ]
    },
    {
     "name": "stdout",
     "output_type": "stream",
     "text": [
      "Epoch 1.000000      loss: 0.944842\n",
      "Test Error: \n",
      " Accuracy: 98.3%, Avg loss: 0.941397 \n",
      "\n"
     ]
    },
    {
     "name": "stderr",
     "output_type": "stream",
     "text": [
      "c:\\Users\\maria\\anaconda3\\envs\\fysstk3155\\Lib\\site-packages\\torch\\nn\\modules\\module.py:1736: UserWarning: Implicit dimension choice for softmax has been deprecated. Change the call to include dim=X as an argument.\n",
      "  return self._call_impl(*args, **kwargs)\n"
     ]
    },
    {
     "name": "stdout",
     "output_type": "stream",
     "text": [
      "Epoch 1.000000      loss: 0.974926\n",
      "Test Error: \n",
      " Accuracy: 98.2%, Avg loss: 0.945084 \n",
      "\n"
     ]
    },
    {
     "name": "stderr",
     "output_type": "stream",
     "text": [
      "c:\\Users\\maria\\anaconda3\\envs\\fysstk3155\\Lib\\site-packages\\torch\\nn\\modules\\module.py:1736: UserWarning: Implicit dimension choice for softmax has been deprecated. Change the call to include dim=X as an argument.\n",
      "  return self._call_impl(*args, **kwargs)\n"
     ]
    },
    {
     "name": "stdout",
     "output_type": "stream",
     "text": [
      "Epoch 1.000000      loss: 0.964702\n",
      "Test Error: \n",
      " Accuracy: 98.3%, Avg loss: 0.945077 \n",
      "\n"
     ]
    },
    {
     "name": "stderr",
     "output_type": "stream",
     "text": [
      "c:\\Users\\maria\\anaconda3\\envs\\fysstk3155\\Lib\\site-packages\\torch\\nn\\modules\\module.py:1736: UserWarning: Implicit dimension choice for softmax has been deprecated. Change the call to include dim=X as an argument.\n",
      "  return self._call_impl(*args, **kwargs)\n"
     ]
    },
    {
     "name": "stdout",
     "output_type": "stream",
     "text": [
      "Epoch 1.000000      loss: 0.941501\n",
      "Test Error: \n",
      " Accuracy: 98.1%, Avg loss: 0.949170 \n",
      "\n"
     ]
    },
    {
     "name": "stderr",
     "output_type": "stream",
     "text": [
      "c:\\Users\\maria\\anaconda3\\envs\\fysstk3155\\Lib\\site-packages\\torch\\nn\\modules\\module.py:1736: UserWarning: Implicit dimension choice for softmax has been deprecated. Change the call to include dim=X as an argument.\n",
      "  return self._call_impl(*args, **kwargs)\n"
     ]
    },
    {
     "name": "stdout",
     "output_type": "stream",
     "text": [
      "Epoch 1.000000      loss: 0.956125\n",
      "Test Error: \n",
      " Accuracy: 98.3%, Avg loss: 0.944638 \n",
      "\n"
     ]
    },
    {
     "name": "stderr",
     "output_type": "stream",
     "text": [
      "c:\\Users\\maria\\anaconda3\\envs\\fysstk3155\\Lib\\site-packages\\torch\\nn\\modules\\module.py:1736: UserWarning: Implicit dimension choice for softmax has been deprecated. Change the call to include dim=X as an argument.\n",
      "  return self._call_impl(*args, **kwargs)\n"
     ]
    },
    {
     "name": "stdout",
     "output_type": "stream",
     "text": [
      "Epoch 1.000000      loss: 0.974987\n",
      "Test Error: \n",
      " Accuracy: 98.2%, Avg loss: 0.948431 \n",
      "\n"
     ]
    },
    {
     "name": "stderr",
     "output_type": "stream",
     "text": [
      "c:\\Users\\maria\\anaconda3\\envs\\fysstk3155\\Lib\\site-packages\\torch\\nn\\modules\\module.py:1736: UserWarning: Implicit dimension choice for softmax has been deprecated. Change the call to include dim=X as an argument.\n",
      "  return self._call_impl(*args, **kwargs)\n"
     ]
    },
    {
     "name": "stdout",
     "output_type": "stream",
     "text": [
      "Epoch 1.000000      loss: 0.936963\n",
      "Test Error: \n",
      " Accuracy: 98.1%, Avg loss: 0.945460 \n",
      "\n"
     ]
    },
    {
     "name": "stderr",
     "output_type": "stream",
     "text": [
      "c:\\Users\\maria\\anaconda3\\envs\\fysstk3155\\Lib\\site-packages\\torch\\nn\\modules\\module.py:1736: UserWarning: Implicit dimension choice for softmax has been deprecated. Change the call to include dim=X as an argument.\n",
      "  return self._call_impl(*args, **kwargs)\n"
     ]
    },
    {
     "name": "stdout",
     "output_type": "stream",
     "text": [
      "Epoch 1.000000      loss: 0.936160\n",
      "Test Error: \n",
      " Accuracy: 98.2%, Avg loss: 0.941151 \n",
      "\n"
     ]
    },
    {
     "name": "stderr",
     "output_type": "stream",
     "text": [
      "c:\\Users\\maria\\anaconda3\\envs\\fysstk3155\\Lib\\site-packages\\torch\\nn\\modules\\module.py:1736: UserWarning: Implicit dimension choice for softmax has been deprecated. Change the call to include dim=X as an argument.\n",
      "  return self._call_impl(*args, **kwargs)\n"
     ]
    },
    {
     "name": "stdout",
     "output_type": "stream",
     "text": [
      "Epoch 1.000000      loss: 0.976104\n",
      "Test Error: \n",
      " Accuracy: 98.2%, Avg loss: 0.944612 \n",
      "\n"
     ]
    },
    {
     "name": "stderr",
     "output_type": "stream",
     "text": [
      "c:\\Users\\maria\\anaconda3\\envs\\fysstk3155\\Lib\\site-packages\\torch\\nn\\modules\\module.py:1736: UserWarning: Implicit dimension choice for softmax has been deprecated. Change the call to include dim=X as an argument.\n",
      "  return self._call_impl(*args, **kwargs)\n"
     ]
    },
    {
     "name": "stdout",
     "output_type": "stream",
     "text": [
      "Epoch 1.000000      loss: 0.976831\n",
      "Test Error: \n",
      " Accuracy: 98.1%, Avg loss: 0.943891 \n",
      "\n"
     ]
    },
    {
     "name": "stderr",
     "output_type": "stream",
     "text": [
      "c:\\Users\\maria\\anaconda3\\envs\\fysstk3155\\Lib\\site-packages\\torch\\nn\\modules\\module.py:1736: UserWarning: Implicit dimension choice for softmax has been deprecated. Change the call to include dim=X as an argument.\n",
      "  return self._call_impl(*args, **kwargs)\n"
     ]
    },
    {
     "name": "stdout",
     "output_type": "stream",
     "text": [
      "Epoch 1.000000      loss: 0.974772\n",
      "Test Error: \n",
      " Accuracy: 98.2%, Avg loss: 0.943600 \n",
      "\n"
     ]
    },
    {
     "name": "stderr",
     "output_type": "stream",
     "text": [
      "c:\\Users\\maria\\anaconda3\\envs\\fysstk3155\\Lib\\site-packages\\torch\\nn\\modules\\module.py:1736: UserWarning: Implicit dimension choice for softmax has been deprecated. Change the call to include dim=X as an argument.\n",
      "  return self._call_impl(*args, **kwargs)\n"
     ]
    },
    {
     "name": "stdout",
     "output_type": "stream",
     "text": [
      "Epoch 1.000000      loss: 0.948786\n",
      "Test Error: \n",
      " Accuracy: 98.3%, Avg loss: 0.943321 \n",
      "\n"
     ]
    },
    {
     "name": "stderr",
     "output_type": "stream",
     "text": [
      "c:\\Users\\maria\\anaconda3\\envs\\fysstk3155\\Lib\\site-packages\\torch\\nn\\modules\\module.py:1736: UserWarning: Implicit dimension choice for softmax has been deprecated. Change the call to include dim=X as an argument.\n",
      "  return self._call_impl(*args, **kwargs)\n"
     ]
    },
    {
     "name": "stdout",
     "output_type": "stream",
     "text": [
      "Epoch 1.000000      loss: 0.961418\n",
      "Test Error: \n",
      " Accuracy: 98.2%, Avg loss: 0.943666 \n",
      "\n"
     ]
    },
    {
     "name": "stderr",
     "output_type": "stream",
     "text": [
      "c:\\Users\\maria\\anaconda3\\envs\\fysstk3155\\Lib\\site-packages\\torch\\nn\\modules\\module.py:1736: UserWarning: Implicit dimension choice for softmax has been deprecated. Change the call to include dim=X as an argument.\n",
      "  return self._call_impl(*args, **kwargs)\n"
     ]
    },
    {
     "name": "stdout",
     "output_type": "stream",
     "text": [
      "Epoch 1.000000      loss: 0.952872\n",
      "Test Error: \n",
      " Accuracy: 98.3%, Avg loss: 0.940248 \n",
      "\n"
     ]
    },
    {
     "name": "stderr",
     "output_type": "stream",
     "text": [
      "c:\\Users\\maria\\anaconda3\\envs\\fysstk3155\\Lib\\site-packages\\torch\\nn\\modules\\module.py:1736: UserWarning: Implicit dimension choice for softmax has been deprecated. Change the call to include dim=X as an argument.\n",
      "  return self._call_impl(*args, **kwargs)\n"
     ]
    },
    {
     "name": "stdout",
     "output_type": "stream",
     "text": [
      "Epoch 1.000000      loss: 0.979763\n",
      "Test Error: \n",
      " Accuracy: 98.2%, Avg loss: 0.945162 \n",
      "\n"
     ]
    },
    {
     "name": "stderr",
     "output_type": "stream",
     "text": [
      "c:\\Users\\maria\\anaconda3\\envs\\fysstk3155\\Lib\\site-packages\\torch\\nn\\modules\\module.py:1736: UserWarning: Implicit dimension choice for softmax has been deprecated. Change the call to include dim=X as an argument.\n",
      "  return self._call_impl(*args, **kwargs)\n"
     ]
    },
    {
     "name": "stdout",
     "output_type": "stream",
     "text": [
      "Epoch 1.000000      loss: 0.943177\n",
      "Test Error: \n",
      " Accuracy: 98.2%, Avg loss: 0.942882 \n",
      "\n"
     ]
    },
    {
     "name": "stderr",
     "output_type": "stream",
     "text": [
      "c:\\Users\\maria\\anaconda3\\envs\\fysstk3155\\Lib\\site-packages\\torch\\nn\\modules\\module.py:1736: UserWarning: Implicit dimension choice for softmax has been deprecated. Change the call to include dim=X as an argument.\n",
      "  return self._call_impl(*args, **kwargs)\n"
     ]
    },
    {
     "name": "stdout",
     "output_type": "stream",
     "text": [
      "Epoch 1.000000      loss: 0.948464\n",
      "Test Error: \n",
      " Accuracy: 98.2%, Avg loss: 0.943169 \n",
      "\n"
     ]
    },
    {
     "name": "stderr",
     "output_type": "stream",
     "text": [
      "c:\\Users\\maria\\anaconda3\\envs\\fysstk3155\\Lib\\site-packages\\torch\\nn\\modules\\module.py:1736: UserWarning: Implicit dimension choice for softmax has been deprecated. Change the call to include dim=X as an argument.\n",
      "  return self._call_impl(*args, **kwargs)\n"
     ]
    },
    {
     "name": "stdout",
     "output_type": "stream",
     "text": [
      "Epoch 1.000000      loss: 0.950819\n",
      "Test Error: \n",
      " Accuracy: 98.2%, Avg loss: 0.948623 \n",
      "\n"
     ]
    },
    {
     "name": "stderr",
     "output_type": "stream",
     "text": [
      "c:\\Users\\maria\\anaconda3\\envs\\fysstk3155\\Lib\\site-packages\\torch\\nn\\modules\\module.py:1736: UserWarning: Implicit dimension choice for softmax has been deprecated. Change the call to include dim=X as an argument.\n",
      "  return self._call_impl(*args, **kwargs)\n"
     ]
    },
    {
     "name": "stdout",
     "output_type": "stream",
     "text": [
      "Epoch 1.000000      loss: 0.932013\n",
      "Test Error: \n",
      " Accuracy: 98.2%, Avg loss: 0.943368 \n",
      "\n"
     ]
    },
    {
     "name": "stderr",
     "output_type": "stream",
     "text": [
      "c:\\Users\\maria\\anaconda3\\envs\\fysstk3155\\Lib\\site-packages\\torch\\nn\\modules\\module.py:1736: UserWarning: Implicit dimension choice for softmax has been deprecated. Change the call to include dim=X as an argument.\n",
      "  return self._call_impl(*args, **kwargs)\n"
     ]
    },
    {
     "name": "stdout",
     "output_type": "stream",
     "text": [
      "Epoch 1.000000      loss: 0.961261\n",
      "Test Error: \n",
      " Accuracy: 98.3%, Avg loss: 0.944046 \n",
      "\n"
     ]
    },
    {
     "name": "stderr",
     "output_type": "stream",
     "text": [
      "c:\\Users\\maria\\anaconda3\\envs\\fysstk3155\\Lib\\site-packages\\torch\\nn\\modules\\module.py:1736: UserWarning: Implicit dimension choice for softmax has been deprecated. Change the call to include dim=X as an argument.\n",
      "  return self._call_impl(*args, **kwargs)\n"
     ]
    },
    {
     "name": "stdout",
     "output_type": "stream",
     "text": [
      "Epoch 1.000000      loss: 0.967744\n",
      "Test Error: \n",
      " Accuracy: 98.3%, Avg loss: 0.942546 \n",
      "\n"
     ]
    },
    {
     "name": "stderr",
     "output_type": "stream",
     "text": [
      "c:\\Users\\maria\\anaconda3\\envs\\fysstk3155\\Lib\\site-packages\\torch\\nn\\modules\\module.py:1736: UserWarning: Implicit dimension choice for softmax has been deprecated. Change the call to include dim=X as an argument.\n",
      "  return self._call_impl(*args, **kwargs)\n"
     ]
    },
    {
     "name": "stdout",
     "output_type": "stream",
     "text": [
      "Epoch 1.000000      loss: 0.951707\n",
      "Test Error: \n",
      " Accuracy: 98.3%, Avg loss: 0.941258 \n",
      "\n"
     ]
    },
    {
     "name": "stderr",
     "output_type": "stream",
     "text": [
      "c:\\Users\\maria\\anaconda3\\envs\\fysstk3155\\Lib\\site-packages\\torch\\nn\\modules\\module.py:1736: UserWarning: Implicit dimension choice for softmax has been deprecated. Change the call to include dim=X as an argument.\n",
      "  return self._call_impl(*args, **kwargs)\n"
     ]
    },
    {
     "name": "stdout",
     "output_type": "stream",
     "text": [
      "Epoch 1.000000      loss: 0.953498\n",
      "Test Error: \n",
      " Accuracy: 98.3%, Avg loss: 0.941928 \n",
      "\n"
     ]
    },
    {
     "name": "stderr",
     "output_type": "stream",
     "text": [
      "c:\\Users\\maria\\anaconda3\\envs\\fysstk3155\\Lib\\site-packages\\torch\\nn\\modules\\module.py:1736: UserWarning: Implicit dimension choice for softmax has been deprecated. Change the call to include dim=X as an argument.\n",
      "  return self._call_impl(*args, **kwargs)\n"
     ]
    },
    {
     "name": "stdout",
     "output_type": "stream",
     "text": [
      "Epoch 1.000000      loss: 0.963896\n",
      "Test Error: \n",
      " Accuracy: 98.2%, Avg loss: 0.942691 \n",
      "\n"
     ]
    },
    {
     "name": "stderr",
     "output_type": "stream",
     "text": [
      "c:\\Users\\maria\\anaconda3\\envs\\fysstk3155\\Lib\\site-packages\\torch\\nn\\modules\\module.py:1736: UserWarning: Implicit dimension choice for softmax has been deprecated. Change the call to include dim=X as an argument.\n",
      "  return self._call_impl(*args, **kwargs)\n"
     ]
    },
    {
     "name": "stdout",
     "output_type": "stream",
     "text": [
      "Epoch 1.000000      loss: 0.947510\n",
      "Test Error: \n",
      " Accuracy: 98.2%, Avg loss: 0.944671 \n",
      "\n"
     ]
    },
    {
     "name": "stderr",
     "output_type": "stream",
     "text": [
      "c:\\Users\\maria\\anaconda3\\envs\\fysstk3155\\Lib\\site-packages\\torch\\nn\\modules\\module.py:1736: UserWarning: Implicit dimension choice for softmax has been deprecated. Change the call to include dim=X as an argument.\n",
      "  return self._call_impl(*args, **kwargs)\n"
     ]
    },
    {
     "name": "stdout",
     "output_type": "stream",
     "text": [
      "Epoch 1.000000      loss: 0.951016\n",
      "Test Error: \n",
      " Accuracy: 98.3%, Avg loss: 0.940687 \n",
      "\n"
     ]
    },
    {
     "name": "stderr",
     "output_type": "stream",
     "text": [
      "c:\\Users\\maria\\anaconda3\\envs\\fysstk3155\\Lib\\site-packages\\torch\\nn\\modules\\module.py:1736: UserWarning: Implicit dimension choice for softmax has been deprecated. Change the call to include dim=X as an argument.\n",
      "  return self._call_impl(*args, **kwargs)\n"
     ]
    },
    {
     "name": "stdout",
     "output_type": "stream",
     "text": [
      "Epoch 1.000000      loss: 0.942230\n",
      "Test Error: \n",
      " Accuracy: 98.3%, Avg loss: 0.943371 \n",
      "\n"
     ]
    },
    {
     "name": "stderr",
     "output_type": "stream",
     "text": [
      "c:\\Users\\maria\\anaconda3\\envs\\fysstk3155\\Lib\\site-packages\\torch\\nn\\modules\\module.py:1736: UserWarning: Implicit dimension choice for softmax has been deprecated. Change the call to include dim=X as an argument.\n",
      "  return self._call_impl(*args, **kwargs)\n"
     ]
    },
    {
     "name": "stdout",
     "output_type": "stream",
     "text": [
      "Epoch 1.000000      loss: 0.974457\n",
      "Test Error: \n",
      " Accuracy: 98.2%, Avg loss: 0.941397 \n",
      "\n"
     ]
    },
    {
     "name": "stderr",
     "output_type": "stream",
     "text": [
      "c:\\Users\\maria\\anaconda3\\envs\\fysstk3155\\Lib\\site-packages\\torch\\nn\\modules\\module.py:1736: UserWarning: Implicit dimension choice for softmax has been deprecated. Change the call to include dim=X as an argument.\n",
      "  return self._call_impl(*args, **kwargs)\n"
     ]
    },
    {
     "name": "stdout",
     "output_type": "stream",
     "text": [
      "Epoch 1.000000      loss: 0.951626\n",
      "Test Error: \n",
      " Accuracy: 98.3%, Avg loss: 0.942321 \n",
      "\n"
     ]
    },
    {
     "name": "stderr",
     "output_type": "stream",
     "text": [
      "c:\\Users\\maria\\anaconda3\\envs\\fysstk3155\\Lib\\site-packages\\torch\\nn\\modules\\module.py:1736: UserWarning: Implicit dimension choice for softmax has been deprecated. Change the call to include dim=X as an argument.\n",
      "  return self._call_impl(*args, **kwargs)\n"
     ]
    },
    {
     "name": "stdout",
     "output_type": "stream",
     "text": [
      "Epoch 1.000000      loss: 0.935833\n",
      "Test Error: \n",
      " Accuracy: 98.3%, Avg loss: 0.942544 \n",
      "\n"
     ]
    },
    {
     "name": "stderr",
     "output_type": "stream",
     "text": [
      "c:\\Users\\maria\\anaconda3\\envs\\fysstk3155\\Lib\\site-packages\\torch\\nn\\modules\\module.py:1736: UserWarning: Implicit dimension choice for softmax has been deprecated. Change the call to include dim=X as an argument.\n",
      "  return self._call_impl(*args, **kwargs)\n"
     ]
    },
    {
     "name": "stdout",
     "output_type": "stream",
     "text": [
      "Epoch 1.000000      loss: 0.945692\n",
      "Test Error: \n",
      " Accuracy: 98.4%, Avg loss: 0.944266 \n",
      "\n"
     ]
    },
    {
     "name": "stderr",
     "output_type": "stream",
     "text": [
      "c:\\Users\\maria\\anaconda3\\envs\\fysstk3155\\Lib\\site-packages\\torch\\nn\\modules\\module.py:1736: UserWarning: Implicit dimension choice for softmax has been deprecated. Change the call to include dim=X as an argument.\n",
      "  return self._call_impl(*args, **kwargs)\n"
     ]
    },
    {
     "name": "stdout",
     "output_type": "stream",
     "text": [
      "Epoch 1.000000      loss: 0.955295\n",
      "Test Error: \n",
      " Accuracy: 98.3%, Avg loss: 0.943629 \n",
      "\n"
     ]
    },
    {
     "name": "stderr",
     "output_type": "stream",
     "text": [
      "c:\\Users\\maria\\anaconda3\\envs\\fysstk3155\\Lib\\site-packages\\torch\\nn\\modules\\module.py:1736: UserWarning: Implicit dimension choice for softmax has been deprecated. Change the call to include dim=X as an argument.\n",
      "  return self._call_impl(*args, **kwargs)\n"
     ]
    },
    {
     "name": "stdout",
     "output_type": "stream",
     "text": [
      "Epoch 1.000000      loss: 0.971912\n",
      "Test Error: \n",
      " Accuracy: 98.3%, Avg loss: 0.942539 \n",
      "\n"
     ]
    },
    {
     "name": "stderr",
     "output_type": "stream",
     "text": [
      "c:\\Users\\maria\\anaconda3\\envs\\fysstk3155\\Lib\\site-packages\\torch\\nn\\modules\\module.py:1736: UserWarning: Implicit dimension choice for softmax has been deprecated. Change the call to include dim=X as an argument.\n",
      "  return self._call_impl(*args, **kwargs)\n"
     ]
    },
    {
     "name": "stdout",
     "output_type": "stream",
     "text": [
      "Epoch 1.000000      loss: 0.970051\n",
      "Test Error: \n",
      " Accuracy: 98.3%, Avg loss: 0.943837 \n",
      "\n"
     ]
    },
    {
     "name": "stderr",
     "output_type": "stream",
     "text": [
      "c:\\Users\\maria\\anaconda3\\envs\\fysstk3155\\Lib\\site-packages\\torch\\nn\\modules\\module.py:1736: UserWarning: Implicit dimension choice for softmax has been deprecated. Change the call to include dim=X as an argument.\n",
      "  return self._call_impl(*args, **kwargs)\n"
     ]
    },
    {
     "name": "stdout",
     "output_type": "stream",
     "text": [
      "Epoch 1.000000      loss: 0.947374\n",
      "Test Error: \n",
      " Accuracy: 98.3%, Avg loss: 0.943413 \n",
      "\n"
     ]
    },
    {
     "name": "stderr",
     "output_type": "stream",
     "text": [
      "c:\\Users\\maria\\anaconda3\\envs\\fysstk3155\\Lib\\site-packages\\torch\\nn\\modules\\module.py:1736: UserWarning: Implicit dimension choice for softmax has been deprecated. Change the call to include dim=X as an argument.\n",
      "  return self._call_impl(*args, **kwargs)\n"
     ]
    },
    {
     "name": "stdout",
     "output_type": "stream",
     "text": [
      "Epoch 1.000000      loss: 0.978364\n",
      "Test Error: \n",
      " Accuracy: 98.2%, Avg loss: 0.944129 \n",
      "\n"
     ]
    },
    {
     "name": "stderr",
     "output_type": "stream",
     "text": [
      "c:\\Users\\maria\\anaconda3\\envs\\fysstk3155\\Lib\\site-packages\\torch\\nn\\modules\\module.py:1736: UserWarning: Implicit dimension choice for softmax has been deprecated. Change the call to include dim=X as an argument.\n",
      "  return self._call_impl(*args, **kwargs)\n"
     ]
    },
    {
     "name": "stdout",
     "output_type": "stream",
     "text": [
      "Epoch 1.000000      loss: 0.955336\n",
      "Test Error: \n",
      " Accuracy: 98.3%, Avg loss: 0.949514 \n",
      "\n"
     ]
    },
    {
     "name": "stderr",
     "output_type": "stream",
     "text": [
      "c:\\Users\\maria\\anaconda3\\envs\\fysstk3155\\Lib\\site-packages\\torch\\nn\\modules\\module.py:1736: UserWarning: Implicit dimension choice for softmax has been deprecated. Change the call to include dim=X as an argument.\n",
      "  return self._call_impl(*args, **kwargs)\n"
     ]
    },
    {
     "name": "stdout",
     "output_type": "stream",
     "text": [
      "Epoch 1.000000      loss: 0.951769\n",
      "Test Error: \n",
      " Accuracy: 98.3%, Avg loss: 0.942235 \n",
      "\n"
     ]
    },
    {
     "name": "stderr",
     "output_type": "stream",
     "text": [
      "c:\\Users\\maria\\anaconda3\\envs\\fysstk3155\\Lib\\site-packages\\torch\\nn\\modules\\module.py:1736: UserWarning: Implicit dimension choice for softmax has been deprecated. Change the call to include dim=X as an argument.\n",
      "  return self._call_impl(*args, **kwargs)\n"
     ]
    },
    {
     "name": "stdout",
     "output_type": "stream",
     "text": [
      "Epoch 1.000000      loss: 0.957171\n",
      "Test Error: \n",
      " Accuracy: 98.3%, Avg loss: 0.942202 \n",
      "\n"
     ]
    },
    {
     "name": "stderr",
     "output_type": "stream",
     "text": [
      "c:\\Users\\maria\\anaconda3\\envs\\fysstk3155\\Lib\\site-packages\\torch\\nn\\modules\\module.py:1736: UserWarning: Implicit dimension choice for softmax has been deprecated. Change the call to include dim=X as an argument.\n",
      "  return self._call_impl(*args, **kwargs)\n"
     ]
    },
    {
     "name": "stdout",
     "output_type": "stream",
     "text": [
      "Epoch 1.000000      loss: 0.950840\n",
      "Test Error: \n",
      " Accuracy: 98.3%, Avg loss: 0.944269 \n",
      "\n"
     ]
    },
    {
     "name": "stderr",
     "output_type": "stream",
     "text": [
      "c:\\Users\\maria\\anaconda3\\envs\\fysstk3155\\Lib\\site-packages\\torch\\nn\\modules\\module.py:1736: UserWarning: Implicit dimension choice for softmax has been deprecated. Change the call to include dim=X as an argument.\n",
      "  return self._call_impl(*args, **kwargs)\n"
     ]
    },
    {
     "name": "stdout",
     "output_type": "stream",
     "text": [
      "Epoch 1.000000      loss: 0.938578\n",
      "Test Error: \n",
      " Accuracy: 98.2%, Avg loss: 0.942276 \n",
      "\n"
     ]
    },
    {
     "name": "stderr",
     "output_type": "stream",
     "text": [
      "c:\\Users\\maria\\anaconda3\\envs\\fysstk3155\\Lib\\site-packages\\torch\\nn\\modules\\module.py:1736: UserWarning: Implicit dimension choice for softmax has been deprecated. Change the call to include dim=X as an argument.\n",
      "  return self._call_impl(*args, **kwargs)\n"
     ]
    },
    {
     "name": "stdout",
     "output_type": "stream",
     "text": [
      "Epoch 1.000000      loss: 0.951434\n",
      "Test Error: \n",
      " Accuracy: 98.2%, Avg loss: 0.944101 \n",
      "\n"
     ]
    },
    {
     "name": "stderr",
     "output_type": "stream",
     "text": [
      "c:\\Users\\maria\\anaconda3\\envs\\fysstk3155\\Lib\\site-packages\\torch\\nn\\modules\\module.py:1736: UserWarning: Implicit dimension choice for softmax has been deprecated. Change the call to include dim=X as an argument.\n",
      "  return self._call_impl(*args, **kwargs)\n"
     ]
    },
    {
     "name": "stdout",
     "output_type": "stream",
     "text": [
      "Epoch 1.000000      loss: 0.942892\n",
      "Test Error: \n",
      " Accuracy: 98.2%, Avg loss: 0.940942 \n",
      "\n"
     ]
    },
    {
     "name": "stderr",
     "output_type": "stream",
     "text": [
      "c:\\Users\\maria\\anaconda3\\envs\\fysstk3155\\Lib\\site-packages\\torch\\nn\\modules\\module.py:1736: UserWarning: Implicit dimension choice for softmax has been deprecated. Change the call to include dim=X as an argument.\n",
      "  return self._call_impl(*args, **kwargs)\n"
     ]
    },
    {
     "name": "stdout",
     "output_type": "stream",
     "text": [
      "Epoch 1.000000      loss: 0.958246\n",
      "Test Error: \n",
      " Accuracy: 98.4%, Avg loss: 0.941508 \n",
      "\n"
     ]
    },
    {
     "name": "stderr",
     "output_type": "stream",
     "text": [
      "c:\\Users\\maria\\anaconda3\\envs\\fysstk3155\\Lib\\site-packages\\torch\\nn\\modules\\module.py:1736: UserWarning: Implicit dimension choice for softmax has been deprecated. Change the call to include dim=X as an argument.\n",
      "  return self._call_impl(*args, **kwargs)\n"
     ]
    },
    {
     "name": "stdout",
     "output_type": "stream",
     "text": [
      "Epoch 1.000000      loss: 0.948701\n",
      "Test Error: \n",
      " Accuracy: 98.2%, Avg loss: 0.940593 \n",
      "\n"
     ]
    },
    {
     "name": "stderr",
     "output_type": "stream",
     "text": [
      "c:\\Users\\maria\\anaconda3\\envs\\fysstk3155\\Lib\\site-packages\\torch\\nn\\modules\\module.py:1736: UserWarning: Implicit dimension choice for softmax has been deprecated. Change the call to include dim=X as an argument.\n",
      "  return self._call_impl(*args, **kwargs)\n"
     ]
    },
    {
     "name": "stdout",
     "output_type": "stream",
     "text": [
      "Epoch 1.000000      loss: 0.966406\n",
      "Test Error: \n",
      " Accuracy: 98.2%, Avg loss: 0.943445 \n",
      "\n"
     ]
    },
    {
     "name": "stderr",
     "output_type": "stream",
     "text": [
      "c:\\Users\\maria\\anaconda3\\envs\\fysstk3155\\Lib\\site-packages\\torch\\nn\\modules\\module.py:1736: UserWarning: Implicit dimension choice for softmax has been deprecated. Change the call to include dim=X as an argument.\n",
      "  return self._call_impl(*args, **kwargs)\n"
     ]
    },
    {
     "name": "stdout",
     "output_type": "stream",
     "text": [
      "Epoch 1.000000      loss: 0.951460\n",
      "Test Error: \n",
      " Accuracy: 98.3%, Avg loss: 0.940243 \n",
      "\n"
     ]
    }
   ],
   "source": [
    "learning_rate = 0.001\n",
    "loss_fn = nn.CrossEntropyLoss()\n",
    "batch_size = 64\n",
    "\n",
    "#num_comp = np.arange(6, 307, 3)\n",
    "accuracy = np.zeros(len(num_comp))\n",
    "\n",
    "for idx, n_comp in enumerate(num_comp):\n",
    "    X_train, X_test, y_train, y_test = train_test_split(X, y, test_size=0.2, stratify=y, random_state=3)\n",
    "\n",
    "    pca = PCA(n_components=n_comp)\n",
    "    X_train = pca.fit_transform(X_train)\n",
    "\n",
    "    y_train = torch.from_numpy(y_train).long()\n",
    "\n",
    "    dataset_train = TextDataset(torch.tensor(X_train), y_train)\n",
    "\n",
    "    torch.manual_seed(1)\n",
    "    dl_train = DataLoader(dataset_train, batch_size=batch_size, shuffle=True, drop_last=True)\n",
    "\n",
    "    # defining the model, optimizer and loss function\n",
    "    model = NeuralNet(input_dim=n_comp, output_dim=5)\n",
    "\n",
    "    optimizer = torch.optim.Adam(model.parameters(), lr=learning_rate)\n",
    "\n",
    "    training_model(dl_train, model, loss_fn, optimizer, num_epochs=1)\n",
    "\n",
    "    pred, label, acc =  test_loop(dl_train, model, loss_fn)\n",
    "\n",
    "    accuracy[idx] = acc"
   ]
  },
  {
   "cell_type": "code",
   "execution_count": 30,
   "metadata": {},
   "outputs": [
    {
     "data": {
      "text/plain": [
       "[<matplotlib.lines.Line2D at 0x22df36d0da0>]"
      ]
     },
     "execution_count": 30,
     "metadata": {},
     "output_type": "execute_result"
    },
    {
     "data": {
      "image/png": "[encoded data removed]",
      "text/plain": [
       "<Figure size 640x480 with 1 Axes>"
      ]
     },
     "metadata": {},
     "output_type": "display_data"
    }
   ],
   "source": [
    "plt.plot(num_comp, accuracy)"
   ]
  },
  {
   "cell_type": "code",
   "execution_count": 31,
   "metadata": {},
   "outputs": [
    {
     "data": {
      "text/plain": [
       "array([0.60984368, 0.96746937, 0.97169413, 0.97275032, 0.97444022,\n",
       "       0.97570765, 0.97634136, 0.97845374, 0.97739755, 0.97760879,\n",
       "       0.97739755, 0.97634136, 0.97782003, 0.97866498, 0.97760879,\n",
       "       0.97908745, 0.97803126, 0.97760879, 0.97782003, 0.97760879,\n",
       "       0.97697507, 0.9765526 , 0.9782425 , 0.97887621, 0.97782003,\n",
       "       0.98056612, 0.98056612, 0.98035488, 0.97908745, 0.97845374,\n",
       "       0.97972117, 0.98056612, 0.9782425 , 0.97972117, 0.97866498,\n",
       "       0.97972117, 0.97887621, 0.97887621, 0.97950993, 0.97887621,\n",
       "       0.98162231, 0.98077736, 0.98119983, 0.97950993, 0.9799324 ,\n",
       "       0.9782425 , 0.98141107, 0.9799324 , 0.98056612, 0.97950993,\n",
       "       0.98056612, 0.98119983, 0.98162231, 0.98183354, 0.98119983,\n",
       "       0.97908745, 0.98183354, 0.98077736, 0.98119983, 0.98183354,\n",
       "       0.98077736, 0.98077736, 0.98056612, 0.98119983, 0.97908745,\n",
       "       0.98098859, 0.98225602, 0.98056612, 0.98183354, 0.98119983,\n",
       "       0.98183354, 0.98204478, 0.98225602, 0.98098859, 0.98077736,\n",
       "       0.98077736, 0.98225602, 0.97950993, 0.98141107, 0.98225602,\n",
       "       0.98035488, 0.98288973, 0.98119983, 0.98056612, 0.98119983,\n",
       "       0.9826785 , 0.98246726, 0.98035488, 0.9826785 , 0.98119983,\n",
       "       0.98162231, 0.98119983, 0.98225602, 0.98183354, 0.98035488,\n",
       "       0.98246726, 0.98183354, 0.98246726, 0.98225602, 0.98183354,\n",
       "       0.98162231, 0.98056612, 0.98225602, 0.98183354, 0.98204478,\n",
       "       0.98098859, 0.98056612, 0.98204478, 0.98225602, 0.98183354,\n",
       "       0.98141107, 0.98119983, 0.98162231, 0.97950993, 0.98310097,\n",
       "       0.98331221, 0.98204478, 0.98141107, 0.98119983, 0.9826785 ,\n",
       "       0.9826785 , 0.98119983, 0.9826785 , 0.98162231, 0.98331221,\n",
       "       0.9826785 , 0.98225602, 0.9826785 , 0.98141107, 0.98331221,\n",
       "       0.98246726, 0.98119983, 0.98204478, 0.98225602, 0.98141107,\n",
       "       0.98162231, 0.98288973, 0.98183354, 0.9826785 , 0.98225602,\n",
       "       0.98225602, 0.98246726, 0.98183354, 0.98162231, 0.9826785 ,\n",
       "       0.98310097, 0.98288973, 0.98331221, 0.98246726, 0.98225602,\n",
       "       0.9826785 , 0.98310097, 0.98246726, 0.9826785 , 0.98288973,\n",
       "       0.98394592, 0.98310097, 0.9826785 , 0.98288973, 0.98331221,\n",
       "       0.98246726, 0.9826785 , 0.98331221, 0.98310097, 0.98310097,\n",
       "       0.98162231, 0.98162231, 0.98246726, 0.98352345, 0.98246726,\n",
       "       0.98162231, 0.98331221])"
      ]
     },
     "execution_count": 31,
     "metadata": {},
     "output_type": "execute_result"
    }
   ],
   "source": [
    "accuracy"
   ]
  },
  {
   "cell_type": "code",
   "execution_count": 38,
   "metadata": {},
   "outputs": [],
   "source": [
    "# splitting into train and test\n",
    "X_train, X_test, y_train, y_test = train_test_split(X, y, test_size=0.2, stratify=y, random_state=3)\n",
    "\n",
    "pca = PCA(n_components=10)\n",
    "X_train = pca.fit_transform(X_train)\n",
    "X_test = pca.transform(X_test)\n",
    "\n",
    "y_train = torch.from_numpy(y_train).long()\n",
    "y_test = torch.from_numpy(y_test).long()\n",
    "\n",
    "dataset_train = TextDataset(torch.tensor(X_train), y_train)\n",
    "dataset_test = TextDataset(torch.tensor(X_test), y_test)\n",
    "\n",
    "# splitting the data into batches\n",
    "batch_size = 64\n",
    "torch.manual_seed(1)\n",
    "dl_train = DataLoader(dataset_train, batch_size=batch_size, shuffle=True, drop_last=True)\n",
    "dl_test = DataLoader(dataset_test, batch_size=batch_size, shuffle=True, drop_last=True)\n",
    "\n",
    "# defining the model, optimizer and loss function\n",
    "model = NeuralNet(input_dim=10, output_dim=5)\n",
    "\n",
    "learning_rate = 0.001\n",
    "loss_fn = nn.CrossEntropyLoss()\n",
    "optimizer = torch.optim.Adam(model.parameters(), lr=learning_rate)"
   ]
  },
  {
   "cell_type": "code",
   "execution_count": 39,
   "metadata": {},
   "outputs": [
    {
     "name": "stderr",
     "output_type": "stream",
     "text": [
      "c:\\Users\\maria\\anaconda3\\envs\\fysstk3155\\Lib\\site-packages\\torch\\nn\\modules\\module.py:1736: UserWarning: Implicit dimension choice for softmax has been deprecated. Change the call to include dim=X as an argument.\n",
      "  return self._call_impl(*args, **kwargs)\n"
     ]
    },
    {
     "name": "stdout",
     "output_type": "stream",
     "text": [
      "Epoch 1.000000      loss: 0.951278\n",
      "Epoch 2.000000      loss: 0.939631\n",
      "Epoch 3.000000      loss: 0.919639\n",
      "Epoch 4.000000      loss: 0.939447\n",
      "Epoch 5.000000      loss: 0.939179\n",
      "Epoch 6.000000      loss: 0.927068\n",
      "Epoch 7.000000      loss: 0.911935\n",
      "Epoch 8.000000      loss: 0.918340\n",
      "Epoch 9.000000      loss: 0.907559\n",
      "Epoch 10.000000      loss: 0.916645\n"
     ]
    }
   ],
   "source": [
    "training_model(dl_train, model, loss_fn, optimizer, num_epochs=10)"
   ]
  },
  {
   "cell_type": "code",
   "execution_count": 40,
   "metadata": {},
   "outputs": [
    {
     "name": "stdout",
     "output_type": "stream",
     "text": [
      "Test Error: \n",
      " Accuracy: 96.5%, Avg loss: 0.916147 \n",
      "\n",
      "Confusion Matrix:\n",
      "[[156   0   0   1   0]\n",
      " [  2 261   0   2   0]\n",
      " [  0   0 211   0   0]\n",
      " [  1   2   0 255   1]\n",
      " [  0   0   0   1 259]]\n"
     ]
    }
   ],
   "source": [
    "predictions, labels, acc = test_loop(dl_test, model, loss_fn)\n",
    "\n",
    "# Compute and print confusion matrix\n",
    "cm = confusion_matrix(labels, predictions)\n",
    "print(\"Confusion Matrix:\")\n",
    "print(cm)"
   ]
  },
  {
   "cell_type": "code",
   "execution_count": 41,
   "metadata": {},
   "outputs": [
    {
     "data": {
      "image/png": "[encoded data removed]",
      "text/plain": [
       "<Figure size 640x480 with 2 Axes>"
      ]
     },
     "metadata": {},
     "output_type": "display_data"
    }
   ],
   "source": [
    "# plotting parameters\n",
    "sns.set_style('whitegrid')\n",
    "sns.set_palette('muted')\n",
    "plt.rc('xtick', labelsize=12)  # Set x-tick label size\n",
    "plt.rc('ytick', labelsize=12)  # Set y-tick label size\n",
    "\n",
    "# Plotting the confusion matrix\n",
    "ax = sns.heatmap(cm, \n",
    "            annot=True,\n",
    "            annot_kws={\"fontsize\":16},\n",
    "            fmt=\".0f\",\n",
    "            xticklabels=['Austen', 'Dostoyevsky', 'God', 'Cervantes', 'Sturluson'],\n",
    "            yticklabels=['Austen', 'Dostoyevsky', 'God', 'Cervantes', 'Sturluson'],\n",
    "            cmap='crest')\n",
    "plt.ylabel('True label', fontsize=15)\n",
    "ax.set(xlabel=\" \", ylabel=\"True label\")\n",
    "ax.xaxis.tick_top()\n",
    "ax.yaxis.tick_left()\n",
    "\n",
    "plt.gca().figure.text(0.45, 0.95, 'Predicted label', ha='center', fontsize=15)\n",
    "plt.show()"
   ]
  }
 ],
 "metadata": {
  "kernelspec": {
   "display_name": "FYS-STK3155",
   "language": "python",
   "name": "python3"
  },
  "language_info": {
   "codemirror_mode": {
    "name": "ipython",
    "version": 3
   },
   "file_extension": ".py",
   "mimetype": "text/x-python",
   "name": "python",
   "nbconvert_exporter": "python",
   "pygments_lexer": "ipython3",
   "version": "3.12.3"
  }
 },
 "nbformat": 4,
 "nbformat_minor": 2
}
