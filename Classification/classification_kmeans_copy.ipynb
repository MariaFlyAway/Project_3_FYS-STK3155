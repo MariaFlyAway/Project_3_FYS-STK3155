{
 "cells": [
  {
   "cell_type": "code",
   "execution_count": 32,
   "metadata": {},
   "outputs": [],
   "source": [
    "import seaborn as sns\n",
    "import numpy as np\n",
    "import pandas as pd\n",
    "import matplotlib.pyplot as plt\n",
    "\n",
    "from sklearn.decomposition import PCA\n",
    "from sklearn.cluster import KMeans\n",
    "from sklearn.model_selection import train_test_split, cross_val_score\n",
    "from sklearn.metrics import adjusted_rand_score, confusion_matrix\n",
    "\n",
    "import umap\n",
    "import hdbscan"
   ]
  },
  {
   "cell_type": "code",
   "execution_count": 22,
   "metadata": {},
   "outputs": [],
   "source": [
    "X = np.load('Data/text_data150.npy')\n",
    "y = np.load('Data/labels150.npy')\n",
    "\n",
    "X_train, X_test, y_train, y_test = train_test_split(X, y, test_size=0.2, stratify=y, random_state=3)"
   ]
  },
  {
   "cell_type": "code",
   "execution_count": null,
   "metadata": {},
   "outputs": [
    {
     "name": "stdout",
     "output_type": "stream",
     "text": [
      "Dimension: 2\n",
      "Dimension: 4\n",
      "Dimension: 8\n",
      "Dimension: 16\n",
      "Dimension: 32\n",
      "Dimension: 64\n",
      "Dimension: 128\n",
      "Dimension: 256\n",
      "Dimension: 512\n"
     ]
    },
    {
     "name": "stderr",
     "output_type": "stream",
     "text": [
      "c:\\Users\\maria\\anaconda3\\envs\\FYS-STK3155\\Lib\\site-packages\\umap\\spectral.py:519: RuntimeWarning: k >= N for N * N square matrix. Attempting to use scipy.linalg.eigh instead.\n",
      "  eigenvalues, eigenvectors = scipy.sparse.linalg.eigsh(\n"
     ]
    },
    {
     "ename": "TypeError",
     "evalue": "Cannot use scipy.linalg.eigh for sparse A with k >= N. Use scipy.linalg.eigh(A.toarray()) or reduce k.",
     "output_type": "error",
     "traceback": [
      "\u001b[1;31m---------------------------------------------------------------------------\u001b[0m",
      "\u001b[1;31mTypeError\u001b[0m                                 Traceback (most recent call last)",
      "Cell \u001b[1;32mIn[44], line 21\u001b[0m\n\u001b[0;32m     17\u001b[0m     embedding_train \u001b[38;5;241m=\u001b[39m X_train\n\u001b[0;32m     18\u001b[0m \u001b[38;5;28;01melse\u001b[39;00m:\n\u001b[0;32m     19\u001b[0m     mapper \u001b[38;5;241m=\u001b[39m \u001b[43mumap\u001b[49m\u001b[38;5;241;43m.\u001b[39;49m\u001b[43mUMAP\u001b[49m\u001b[43m(\u001b[49m\u001b[43mn_neighbors\u001b[49m\u001b[38;5;241;43m=\u001b[39;49m\u001b[38;5;241;43m30\u001b[39;49m\u001b[43m,\u001b[49m\n\u001b[0;32m     20\u001b[0m \u001b[43m                        \u001b[49m\u001b[43mmin_dist\u001b[49m\u001b[38;5;241;43m=\u001b[39;49m\u001b[38;5;241;43m0.0\u001b[39;49m\u001b[43m,\u001b[49m\n\u001b[1;32m---> 21\u001b[0m \u001b[43m                        \u001b[49m\u001b[43mn_components\u001b[49m\u001b[38;5;241;43m=\u001b[39;49m\u001b[43mdim\u001b[49m\u001b[43m)\u001b[49m\u001b[38;5;241;43m.\u001b[39;49m\u001b[43mfit\u001b[49m\u001b[43m(\u001b[49m\u001b[43mX_val\u001b[49m\u001b[43m,\u001b[49m\u001b[43m \u001b[49m\u001b[43my\u001b[49m\u001b[38;5;241;43m=\u001b[39;49m\u001b[43my_val\u001b[49m\u001b[43m)\u001b[49m\n\u001b[0;32m     22\u001b[0m     embedding_train \u001b[38;5;241m=\u001b[39m mapper\u001b[38;5;241m.\u001b[39mtransform(X_train)\n\u001b[0;32m     24\u001b[0m labels_hdb \u001b[38;5;241m=\u001b[39m hdbscan\u001b[38;5;241m.\u001b[39mHDBSCAN(\n\u001b[0;32m     25\u001b[0m     min_samples\u001b[38;5;241m=\u001b[39m\u001b[38;5;241m10\u001b[39m,\n\u001b[0;32m     26\u001b[0m     min_cluster_size\u001b[38;5;241m=\u001b[39m\u001b[38;5;241m500\u001b[39m,\n\u001b[0;32m     27\u001b[0m )\u001b[38;5;241m.\u001b[39mfit_predict(embedding_train)\n",
      "File \u001b[1;32mc:\\Users\\maria\\anaconda3\\envs\\FYS-STK3155\\Lib\\site-packages\\umap\\umap_.py:2817\u001b[0m, in \u001b[0;36mUMAP.fit\u001b[1;34m(self, X, y, force_all_finite, **kwargs)\u001b[0m\n\u001b[0;32m   2813\u001b[0m \u001b[38;5;28;01mif\u001b[39;00m \u001b[38;5;28mself\u001b[39m\u001b[38;5;241m.\u001b[39mtransform_mode \u001b[38;5;241m==\u001b[39m \u001b[38;5;124m\"\u001b[39m\u001b[38;5;124membedding\u001b[39m\u001b[38;5;124m\"\u001b[39m:\n\u001b[0;32m   2814\u001b[0m     epochs \u001b[38;5;241m=\u001b[39m (\n\u001b[0;32m   2815\u001b[0m         \u001b[38;5;28mself\u001b[39m\u001b[38;5;241m.\u001b[39mn_epochs_list \u001b[38;5;28;01mif\u001b[39;00m \u001b[38;5;28mself\u001b[39m\u001b[38;5;241m.\u001b[39mn_epochs_list \u001b[38;5;129;01mis\u001b[39;00m \u001b[38;5;129;01mnot\u001b[39;00m \u001b[38;5;28;01mNone\u001b[39;00m \u001b[38;5;28;01melse\u001b[39;00m \u001b[38;5;28mself\u001b[39m\u001b[38;5;241m.\u001b[39mn_epochs\n\u001b[0;32m   2816\u001b[0m     )\n\u001b[1;32m-> 2817\u001b[0m     \u001b[38;5;28mself\u001b[39m\u001b[38;5;241m.\u001b[39membedding_, aux_data \u001b[38;5;241m=\u001b[39m \u001b[38;5;28;43mself\u001b[39;49m\u001b[38;5;241;43m.\u001b[39;49m\u001b[43m_fit_embed_data\u001b[49m\u001b[43m(\u001b[49m\n\u001b[0;32m   2818\u001b[0m \u001b[43m        \u001b[49m\u001b[38;5;28;43mself\u001b[39;49m\u001b[38;5;241;43m.\u001b[39;49m\u001b[43m_raw_data\u001b[49m\u001b[43m[\u001b[49m\u001b[43mindex\u001b[49m\u001b[43m]\u001b[49m\u001b[43m,\u001b[49m\n\u001b[0;32m   2819\u001b[0m \u001b[43m        \u001b[49m\u001b[43mepochs\u001b[49m\u001b[43m,\u001b[49m\n\u001b[0;32m   2820\u001b[0m \u001b[43m        \u001b[49m\u001b[43minit\u001b[49m\u001b[43m,\u001b[49m\n\u001b[0;32m   2821\u001b[0m \u001b[43m        \u001b[49m\u001b[43mrandom_state\u001b[49m\u001b[43m,\u001b[49m\u001b[43m  \u001b[49m\u001b[38;5;66;43;03m# JH why raw data?\u001b[39;49;00m\n\u001b[0;32m   2822\u001b[0m \u001b[43m        \u001b[49m\u001b[38;5;241;43m*\u001b[39;49m\u001b[38;5;241;43m*\u001b[39;49m\u001b[43mkwargs\u001b[49m\u001b[43m,\u001b[49m\n\u001b[0;32m   2823\u001b[0m \u001b[43m    \u001b[49m\u001b[43m)\u001b[49m\n\u001b[0;32m   2825\u001b[0m     \u001b[38;5;28;01mif\u001b[39;00m \u001b[38;5;28mself\u001b[39m\u001b[38;5;241m.\u001b[39mn_epochs_list \u001b[38;5;129;01mis\u001b[39;00m \u001b[38;5;129;01mnot\u001b[39;00m \u001b[38;5;28;01mNone\u001b[39;00m:\n\u001b[0;32m   2826\u001b[0m         \u001b[38;5;28;01mif\u001b[39;00m \u001b[38;5;124m\"\u001b[39m\u001b[38;5;124membedding_list\u001b[39m\u001b[38;5;124m\"\u001b[39m \u001b[38;5;129;01mnot\u001b[39;00m \u001b[38;5;129;01min\u001b[39;00m aux_data:\n",
      "File \u001b[1;32mc:\\Users\\maria\\anaconda3\\envs\\FYS-STK3155\\Lib\\site-packages\\umap\\umap_.py:2865\u001b[0m, in \u001b[0;36mUMAP._fit_embed_data\u001b[1;34m(self, X, n_epochs, init, random_state, **kwargs)\u001b[0m\n\u001b[0;32m   2860\u001b[0m \u001b[38;5;28;01mdef\u001b[39;00m \u001b[38;5;21m_fit_embed_data\u001b[39m(\u001b[38;5;28mself\u001b[39m, X, n_epochs, init, random_state, \u001b[38;5;241m*\u001b[39m\u001b[38;5;241m*\u001b[39mkwargs):\n\u001b[0;32m   2861\u001b[0m \u001b[38;5;250m    \u001b[39m\u001b[38;5;124;03m\"\"\"A method wrapper for simplicial_set_embedding that can be\u001b[39;00m\n\u001b[0;32m   2862\u001b[0m \u001b[38;5;124;03m    replaced by subclasses. Arbitrary keyword arguments can be passed\u001b[39;00m\n\u001b[0;32m   2863\u001b[0m \u001b[38;5;124;03m    through .fit() and .fit_transform().\u001b[39;00m\n\u001b[0;32m   2864\u001b[0m \u001b[38;5;124;03m    \"\"\"\u001b[39;00m\n\u001b[1;32m-> 2865\u001b[0m     \u001b[38;5;28;01mreturn\u001b[39;00m \u001b[43msimplicial_set_embedding\u001b[49m\u001b[43m(\u001b[49m\n\u001b[0;32m   2866\u001b[0m \u001b[43m        \u001b[49m\u001b[43mX\u001b[49m\u001b[43m,\u001b[49m\n\u001b[0;32m   2867\u001b[0m \u001b[43m        \u001b[49m\u001b[38;5;28;43mself\u001b[39;49m\u001b[38;5;241;43m.\u001b[39;49m\u001b[43mgraph_\u001b[49m\u001b[43m,\u001b[49m\n\u001b[0;32m   2868\u001b[0m \u001b[43m        \u001b[49m\u001b[38;5;28;43mself\u001b[39;49m\u001b[38;5;241;43m.\u001b[39;49m\u001b[43mn_components\u001b[49m\u001b[43m,\u001b[49m\n\u001b[0;32m   2869\u001b[0m \u001b[43m        \u001b[49m\u001b[38;5;28;43mself\u001b[39;49m\u001b[38;5;241;43m.\u001b[39;49m\u001b[43m_initial_alpha\u001b[49m\u001b[43m,\u001b[49m\n\u001b[0;32m   2870\u001b[0m \u001b[43m        \u001b[49m\u001b[38;5;28;43mself\u001b[39;49m\u001b[38;5;241;43m.\u001b[39;49m\u001b[43m_a\u001b[49m\u001b[43m,\u001b[49m\n\u001b[0;32m   2871\u001b[0m \u001b[43m        \u001b[49m\u001b[38;5;28;43mself\u001b[39;49m\u001b[38;5;241;43m.\u001b[39;49m\u001b[43m_b\u001b[49m\u001b[43m,\u001b[49m\n\u001b[0;32m   2872\u001b[0m \u001b[43m        \u001b[49m\u001b[38;5;28;43mself\u001b[39;49m\u001b[38;5;241;43m.\u001b[39;49m\u001b[43mrepulsion_strength\u001b[49m\u001b[43m,\u001b[49m\n\u001b[0;32m   2873\u001b[0m \u001b[43m        \u001b[49m\u001b[38;5;28;43mself\u001b[39;49m\u001b[38;5;241;43m.\u001b[39;49m\u001b[43mnegative_sample_rate\u001b[49m\u001b[43m,\u001b[49m\n\u001b[0;32m   2874\u001b[0m \u001b[43m        \u001b[49m\u001b[43mn_epochs\u001b[49m\u001b[43m,\u001b[49m\n\u001b[0;32m   2875\u001b[0m \u001b[43m        \u001b[49m\u001b[43minit\u001b[49m\u001b[43m,\u001b[49m\n\u001b[0;32m   2876\u001b[0m \u001b[43m        \u001b[49m\u001b[43mrandom_state\u001b[49m\u001b[43m,\u001b[49m\n\u001b[0;32m   2877\u001b[0m \u001b[43m        \u001b[49m\u001b[38;5;28;43mself\u001b[39;49m\u001b[38;5;241;43m.\u001b[39;49m\u001b[43m_input_distance_func\u001b[49m\u001b[43m,\u001b[49m\n\u001b[0;32m   2878\u001b[0m \u001b[43m        \u001b[49m\u001b[38;5;28;43mself\u001b[39;49m\u001b[38;5;241;43m.\u001b[39;49m\u001b[43m_metric_kwds\u001b[49m\u001b[43m,\u001b[49m\n\u001b[0;32m   2879\u001b[0m \u001b[43m        \u001b[49m\u001b[38;5;28;43mself\u001b[39;49m\u001b[38;5;241;43m.\u001b[39;49m\u001b[43mdensmap\u001b[49m\u001b[43m,\u001b[49m\n\u001b[0;32m   2880\u001b[0m \u001b[43m        \u001b[49m\u001b[38;5;28;43mself\u001b[39;49m\u001b[38;5;241;43m.\u001b[39;49m\u001b[43m_densmap_kwds\u001b[49m\u001b[43m,\u001b[49m\n\u001b[0;32m   2881\u001b[0m \u001b[43m        \u001b[49m\u001b[38;5;28;43mself\u001b[39;49m\u001b[38;5;241;43m.\u001b[39;49m\u001b[43moutput_dens\u001b[49m\u001b[43m,\u001b[49m\n\u001b[0;32m   2882\u001b[0m \u001b[43m        \u001b[49m\u001b[38;5;28;43mself\u001b[39;49m\u001b[38;5;241;43m.\u001b[39;49m\u001b[43m_output_distance_func\u001b[49m\u001b[43m,\u001b[49m\n\u001b[0;32m   2883\u001b[0m \u001b[43m        \u001b[49m\u001b[38;5;28;43mself\u001b[39;49m\u001b[38;5;241;43m.\u001b[39;49m\u001b[43m_output_metric_kwds\u001b[49m\u001b[43m,\u001b[49m\n\u001b[0;32m   2884\u001b[0m \u001b[43m        \u001b[49m\u001b[38;5;28;43mself\u001b[39;49m\u001b[38;5;241;43m.\u001b[39;49m\u001b[43moutput_metric\u001b[49m\u001b[43m \u001b[49m\u001b[38;5;129;43;01min\u001b[39;49;00m\u001b[43m \u001b[49m\u001b[43m(\u001b[49m\u001b[38;5;124;43m\"\u001b[39;49m\u001b[38;5;124;43meuclidean\u001b[39;49m\u001b[38;5;124;43m\"\u001b[39;49m\u001b[43m,\u001b[49m\u001b[43m \u001b[49m\u001b[38;5;124;43m\"\u001b[39;49m\u001b[38;5;124;43ml2\u001b[39;49m\u001b[38;5;124;43m\"\u001b[39;49m\u001b[43m)\u001b[49m\u001b[43m,\u001b[49m\n\u001b[0;32m   2885\u001b[0m \u001b[43m        \u001b[49m\u001b[38;5;28;43mself\u001b[39;49m\u001b[38;5;241;43m.\u001b[39;49m\u001b[43mrandom_state\u001b[49m\u001b[43m \u001b[49m\u001b[38;5;129;43;01mis\u001b[39;49;00m\u001b[43m \u001b[49m\u001b[38;5;28;43;01mNone\u001b[39;49;00m\u001b[43m,\u001b[49m\n\u001b[0;32m   2886\u001b[0m \u001b[43m        \u001b[49m\u001b[38;5;28;43mself\u001b[39;49m\u001b[38;5;241;43m.\u001b[39;49m\u001b[43mverbose\u001b[49m\u001b[43m,\u001b[49m\n\u001b[0;32m   2887\u001b[0m \u001b[43m        \u001b[49m\u001b[43mtqdm_kwds\u001b[49m\u001b[38;5;241;43m=\u001b[39;49m\u001b[38;5;28;43mself\u001b[39;49m\u001b[38;5;241;43m.\u001b[39;49m\u001b[43mtqdm_kwds\u001b[49m\u001b[43m,\u001b[49m\n\u001b[0;32m   2888\u001b[0m \u001b[43m    \u001b[49m\u001b[43m)\u001b[49m\n",
      "File \u001b[1;32mc:\\Users\\maria\\anaconda3\\envs\\FYS-STK3155\\Lib\\site-packages\\umap\\umap_.py:1109\u001b[0m, in \u001b[0;36msimplicial_set_embedding\u001b[1;34m(data, graph, n_components, initial_alpha, a, b, gamma, negative_sample_rate, n_epochs, init, random_state, metric, metric_kwds, densmap, densmap_kwds, output_dens, output_metric, output_metric_kwds, euclidean_output, parallel, verbose, tqdm_kwds)\u001b[0m\n\u001b[0;32m   1105\u001b[0m     embedding \u001b[38;5;241m=\u001b[39m noisy_scale_coords(\n\u001b[0;32m   1106\u001b[0m         embedding, random_state, max_coord\u001b[38;5;241m=\u001b[39m\u001b[38;5;241m10\u001b[39m, noise\u001b[38;5;241m=\u001b[39m\u001b[38;5;241m0.0001\u001b[39m\n\u001b[0;32m   1107\u001b[0m     )\n\u001b[0;32m   1108\u001b[0m \u001b[38;5;28;01melif\u001b[39;00m \u001b[38;5;28misinstance\u001b[39m(init, \u001b[38;5;28mstr\u001b[39m) \u001b[38;5;129;01mand\u001b[39;00m init \u001b[38;5;241m==\u001b[39m \u001b[38;5;124m\"\u001b[39m\u001b[38;5;124mspectral\u001b[39m\u001b[38;5;124m\"\u001b[39m:\n\u001b[1;32m-> 1109\u001b[0m     embedding \u001b[38;5;241m=\u001b[39m \u001b[43mspectral_layout\u001b[49m\u001b[43m(\u001b[49m\n\u001b[0;32m   1110\u001b[0m \u001b[43m        \u001b[49m\u001b[43mdata\u001b[49m\u001b[43m,\u001b[49m\n\u001b[0;32m   1111\u001b[0m \u001b[43m        \u001b[49m\u001b[43mgraph\u001b[49m\u001b[43m,\u001b[49m\n\u001b[0;32m   1112\u001b[0m \u001b[43m        \u001b[49m\u001b[43mn_components\u001b[49m\u001b[43m,\u001b[49m\n\u001b[0;32m   1113\u001b[0m \u001b[43m        \u001b[49m\u001b[43mrandom_state\u001b[49m\u001b[43m,\u001b[49m\n\u001b[0;32m   1114\u001b[0m \u001b[43m        \u001b[49m\u001b[43mmetric\u001b[49m\u001b[38;5;241;43m=\u001b[39;49m\u001b[43mmetric\u001b[49m\u001b[43m,\u001b[49m\n\u001b[0;32m   1115\u001b[0m \u001b[43m        \u001b[49m\u001b[43mmetric_kwds\u001b[49m\u001b[38;5;241;43m=\u001b[39;49m\u001b[43mmetric_kwds\u001b[49m\u001b[43m,\u001b[49m\n\u001b[0;32m   1116\u001b[0m \u001b[43m    \u001b[49m\u001b[43m)\u001b[49m\n\u001b[0;32m   1117\u001b[0m     \u001b[38;5;66;03m# We add a little noise to avoid local minima for optimization to come\u001b[39;00m\n\u001b[0;32m   1118\u001b[0m     embedding \u001b[38;5;241m=\u001b[39m noisy_scale_coords(\n\u001b[0;32m   1119\u001b[0m         embedding, random_state, max_coord\u001b[38;5;241m=\u001b[39m\u001b[38;5;241m10\u001b[39m, noise\u001b[38;5;241m=\u001b[39m\u001b[38;5;241m0.0001\u001b[39m\n\u001b[0;32m   1120\u001b[0m     )\n",
      "File \u001b[1;32mc:\\Users\\maria\\anaconda3\\envs\\FYS-STK3155\\Lib\\site-packages\\umap\\spectral.py:304\u001b[0m, in \u001b[0;36mspectral_layout\u001b[1;34m(data, graph, dim, random_state, metric, metric_kwds, tol, maxiter)\u001b[0m\n\u001b[0;32m    263\u001b[0m \u001b[38;5;28;01mdef\u001b[39;00m \u001b[38;5;21mspectral_layout\u001b[39m(\n\u001b[0;32m    264\u001b[0m     data,\n\u001b[0;32m    265\u001b[0m     graph,\n\u001b[1;32m   (...)\u001b[0m\n\u001b[0;32m    271\u001b[0m     maxiter\u001b[38;5;241m=\u001b[39m\u001b[38;5;241m0\u001b[39m,\n\u001b[0;32m    272\u001b[0m ):\n\u001b[0;32m    273\u001b[0m \u001b[38;5;250m    \u001b[39m\u001b[38;5;124;03m\"\"\"\u001b[39;00m\n\u001b[0;32m    274\u001b[0m \u001b[38;5;124;03m    Given a graph compute the spectral embedding of the graph. This is\u001b[39;00m\n\u001b[0;32m    275\u001b[0m \u001b[38;5;124;03m    simply the eigenvectors of the laplacian of the graph. Here we use the\u001b[39;00m\n\u001b[1;32m   (...)\u001b[0m\n\u001b[0;32m    302\u001b[0m \u001b[38;5;124;03m        The spectral embedding of the graph.\u001b[39;00m\n\u001b[0;32m    303\u001b[0m \u001b[38;5;124;03m    \"\"\"\u001b[39;00m\n\u001b[1;32m--> 304\u001b[0m     \u001b[38;5;28;01mreturn\u001b[39;00m \u001b[43m_spectral_layout\u001b[49m\u001b[43m(\u001b[49m\n\u001b[0;32m    305\u001b[0m \u001b[43m        \u001b[49m\u001b[43mdata\u001b[49m\u001b[38;5;241;43m=\u001b[39;49m\u001b[43mdata\u001b[49m\u001b[43m,\u001b[49m\n\u001b[0;32m    306\u001b[0m \u001b[43m        \u001b[49m\u001b[43mgraph\u001b[49m\u001b[38;5;241;43m=\u001b[39;49m\u001b[43mgraph\u001b[49m\u001b[43m,\u001b[49m\n\u001b[0;32m    307\u001b[0m \u001b[43m        \u001b[49m\u001b[43mdim\u001b[49m\u001b[38;5;241;43m=\u001b[39;49m\u001b[43mdim\u001b[49m\u001b[43m,\u001b[49m\n\u001b[0;32m    308\u001b[0m \u001b[43m        \u001b[49m\u001b[43mrandom_state\u001b[49m\u001b[38;5;241;43m=\u001b[39;49m\u001b[43mrandom_state\u001b[49m\u001b[43m,\u001b[49m\n\u001b[0;32m    309\u001b[0m \u001b[43m        \u001b[49m\u001b[43mmetric\u001b[49m\u001b[38;5;241;43m=\u001b[39;49m\u001b[43mmetric\u001b[49m\u001b[43m,\u001b[49m\n\u001b[0;32m    310\u001b[0m \u001b[43m        \u001b[49m\u001b[43mmetric_kwds\u001b[49m\u001b[38;5;241;43m=\u001b[39;49m\u001b[43mmetric_kwds\u001b[49m\u001b[43m,\u001b[49m\n\u001b[0;32m    311\u001b[0m \u001b[43m        \u001b[49m\u001b[43minit\u001b[49m\u001b[38;5;241;43m=\u001b[39;49m\u001b[38;5;124;43m\"\u001b[39;49m\u001b[38;5;124;43mrandom\u001b[39;49m\u001b[38;5;124;43m\"\u001b[39;49m\u001b[43m,\u001b[49m\n\u001b[0;32m    312\u001b[0m \u001b[43m        \u001b[49m\u001b[43mtol\u001b[49m\u001b[38;5;241;43m=\u001b[39;49m\u001b[43mtol\u001b[49m\u001b[43m,\u001b[49m\n\u001b[0;32m    313\u001b[0m \u001b[43m        \u001b[49m\u001b[43mmaxiter\u001b[49m\u001b[38;5;241;43m=\u001b[39;49m\u001b[43mmaxiter\u001b[49m\u001b[43m,\u001b[49m\n\u001b[0;32m    314\u001b[0m \u001b[43m    \u001b[49m\u001b[43m)\u001b[49m\n",
      "File \u001b[1;32mc:\\Users\\maria\\anaconda3\\envs\\FYS-STK3155\\Lib\\site-packages\\umap\\spectral.py:519\u001b[0m, in \u001b[0;36m_spectral_layout\u001b[1;34m(data, graph, dim, random_state, metric, metric_kwds, init, method, tol, maxiter)\u001b[0m\n\u001b[0;32m    516\u001b[0m X[:, \u001b[38;5;241m0\u001b[39m] \u001b[38;5;241m=\u001b[39m sqrt_deg \u001b[38;5;241m/\u001b[39m np\u001b[38;5;241m.\u001b[39mlinalg\u001b[38;5;241m.\u001b[39mnorm(sqrt_deg)\n\u001b[0;32m    518\u001b[0m \u001b[38;5;28;01mif\u001b[39;00m method \u001b[38;5;241m==\u001b[39m \u001b[38;5;124m\"\u001b[39m\u001b[38;5;124meigsh\u001b[39m\u001b[38;5;124m\"\u001b[39m:\n\u001b[1;32m--> 519\u001b[0m     eigenvalues, eigenvectors \u001b[38;5;241m=\u001b[39m \u001b[43mscipy\u001b[49m\u001b[38;5;241;43m.\u001b[39;49m\u001b[43msparse\u001b[49m\u001b[38;5;241;43m.\u001b[39;49m\u001b[43mlinalg\u001b[49m\u001b[38;5;241;43m.\u001b[39;49m\u001b[43meigsh\u001b[49m\u001b[43m(\u001b[49m\n\u001b[0;32m    520\u001b[0m \u001b[43m        \u001b[49m\u001b[43mL\u001b[49m\u001b[43m,\u001b[49m\n\u001b[0;32m    521\u001b[0m \u001b[43m        \u001b[49m\u001b[43mk\u001b[49m\u001b[43m,\u001b[49m\n\u001b[0;32m    522\u001b[0m \u001b[43m        \u001b[49m\u001b[43mwhich\u001b[49m\u001b[38;5;241;43m=\u001b[39;49m\u001b[38;5;124;43m\"\u001b[39;49m\u001b[38;5;124;43mSM\u001b[39;49m\u001b[38;5;124;43m\"\u001b[39;49m\u001b[43m,\u001b[49m\n\u001b[0;32m    523\u001b[0m \u001b[43m        \u001b[49m\u001b[43mncv\u001b[49m\u001b[38;5;241;43m=\u001b[39;49m\u001b[43mnum_lanczos_vectors\u001b[49m\u001b[43m,\u001b[49m\n\u001b[0;32m    524\u001b[0m \u001b[43m        \u001b[49m\u001b[43mtol\u001b[49m\u001b[38;5;241;43m=\u001b[39;49m\u001b[43mtol\u001b[49m\u001b[43m \u001b[49m\u001b[38;5;129;43;01mor\u001b[39;49;00m\u001b[43m \u001b[49m\u001b[38;5;241;43m1e-4\u001b[39;49m\u001b[43m,\u001b[49m\n\u001b[0;32m    525\u001b[0m \u001b[43m        \u001b[49m\u001b[43mv0\u001b[49m\u001b[38;5;241;43m=\u001b[39;49m\u001b[43mnp\u001b[49m\u001b[38;5;241;43m.\u001b[39;49m\u001b[43mones\u001b[49m\u001b[43m(\u001b[49m\u001b[43mL\u001b[49m\u001b[38;5;241;43m.\u001b[39;49m\u001b[43mshape\u001b[49m\u001b[43m[\u001b[49m\u001b[38;5;241;43m0\u001b[39;49m\u001b[43m]\u001b[49m\u001b[43m)\u001b[49m\u001b[43m,\u001b[49m\n\u001b[0;32m    526\u001b[0m \u001b[43m        \u001b[49m\u001b[43mmaxiter\u001b[49m\u001b[38;5;241;43m=\u001b[39;49m\u001b[43mmaxiter\u001b[49m\u001b[43m \u001b[49m\u001b[38;5;129;43;01mor\u001b[39;49;00m\u001b[43m \u001b[49m\u001b[43mgraph\u001b[49m\u001b[38;5;241;43m.\u001b[39;49m\u001b[43mshape\u001b[49m\u001b[43m[\u001b[49m\u001b[38;5;241;43m0\u001b[39;49m\u001b[43m]\u001b[49m\u001b[43m \u001b[49m\u001b[38;5;241;43m*\u001b[39;49m\u001b[43m \u001b[49m\u001b[38;5;241;43m5\u001b[39;49m\u001b[43m,\u001b[49m\n\u001b[0;32m    527\u001b[0m \u001b[43m    \u001b[49m\u001b[43m)\u001b[49m\n\u001b[0;32m    528\u001b[0m \u001b[38;5;28;01melif\u001b[39;00m method \u001b[38;5;241m==\u001b[39m \u001b[38;5;124m\"\u001b[39m\u001b[38;5;124mlobpcg\u001b[39m\u001b[38;5;124m\"\u001b[39m:\n\u001b[0;32m    529\u001b[0m     \u001b[38;5;28;01mwith\u001b[39;00m warnings\u001b[38;5;241m.\u001b[39mcatch_warnings():\n",
      "File \u001b[1;32mc:\\Users\\maria\\anaconda3\\envs\\FYS-STK3155\\Lib\\site-packages\\scipy\\sparse\\linalg\\_eigen\\arpack\\arpack.py:1608\u001b[0m, in \u001b[0;36meigsh\u001b[1;34m(A, k, M, sigma, which, v0, ncv, maxiter, tol, return_eigenvectors, Minv, OPinv, mode)\u001b[0m\n\u001b[0;32m   1603\u001b[0m warnings\u001b[38;5;241m.\u001b[39mwarn(\u001b[38;5;124m\"\u001b[39m\u001b[38;5;124mk >= N for N * N square matrix. \u001b[39m\u001b[38;5;124m\"\u001b[39m\n\u001b[0;32m   1604\u001b[0m               \u001b[38;5;124m\"\u001b[39m\u001b[38;5;124mAttempting to use scipy.linalg.eigh instead.\u001b[39m\u001b[38;5;124m\"\u001b[39m,\n\u001b[0;32m   1605\u001b[0m               \u001b[38;5;167;01mRuntimeWarning\u001b[39;00m, stacklevel\u001b[38;5;241m=\u001b[39m\u001b[38;5;241m2\u001b[39m)\n\u001b[0;32m   1607\u001b[0m \u001b[38;5;28;01mif\u001b[39;00m issparse(A):\n\u001b[1;32m-> 1608\u001b[0m     \u001b[38;5;28;01mraise\u001b[39;00m \u001b[38;5;167;01mTypeError\u001b[39;00m(\u001b[38;5;124m\"\u001b[39m\u001b[38;5;124mCannot use scipy.linalg.eigh for sparse A with \u001b[39m\u001b[38;5;124m\"\u001b[39m\n\u001b[0;32m   1609\u001b[0m                     \u001b[38;5;124m\"\u001b[39m\u001b[38;5;124mk >= N. Use scipy.linalg.eigh(A.toarray()) or\u001b[39m\u001b[38;5;124m\"\u001b[39m\n\u001b[0;32m   1610\u001b[0m                     \u001b[38;5;124m\"\u001b[39m\u001b[38;5;124m reduce k.\u001b[39m\u001b[38;5;124m\"\u001b[39m)\n\u001b[0;32m   1611\u001b[0m \u001b[38;5;28;01mif\u001b[39;00m \u001b[38;5;28misinstance\u001b[39m(A, LinearOperator):\n\u001b[0;32m   1612\u001b[0m     \u001b[38;5;28;01mraise\u001b[39;00m \u001b[38;5;167;01mTypeError\u001b[39;00m(\u001b[38;5;124m\"\u001b[39m\u001b[38;5;124mCannot use scipy.linalg.eigh for LinearOperator \u001b[39m\u001b[38;5;124m\"\u001b[39m\n\u001b[0;32m   1613\u001b[0m                     \u001b[38;5;124m\"\u001b[39m\u001b[38;5;124mA with k >= N.\u001b[39m\u001b[38;5;124m\"\u001b[39m)\n",
      "\u001b[1;31mTypeError\u001b[0m: Cannot use scipy.linalg.eigh for sparse A with k >= N. Use scipy.linalg.eigh(A.toarray()) or reduce k."
     ]
    }
   ],
   "source": [
    "sizes = np.arange(1, 11)\n",
    "dimensions = 2 ** np.arange(1, 11)\n",
    "rand_scores_hdbscan = np.zeros((len(dimensions), len(sizes)))\n",
    "rand_scores_kmeans = np.zeros((len(dimensions), len(sizes)))\n",
    "all_labels_hdbscan = np.zeros((len(dimensions), len(sizes)), dtype=object)\n",
    "all_labels_kmeans = np.zeros((len(dimensions), len(sizes)), dtype=object)\n",
    "\n",
    "for idy, dim in enumerate(dimensions):\n",
    "    print(f'Dimension: {dim}')\n",
    "    for idx, size in enumerate(sizes):\n",
    "        if size == 10:\n",
    "            X_val, y_val = X_train, y_train\n",
    "        else:\n",
    "            X_t2, X_val, y_t2, y_val = train_test_split(X_train, y_train, test_size=size/10, stratify=y_train, random_state=3)\n",
    "\n",
    "        if dim == 1024:\n",
    "            embedding_train = X_train\n",
    "        else:\n",
    "            mapper = umap.UMAP(n_neighbors=30,\n",
    "                                min_dist=0.1,\n",
    "                                init='Spectral',\n",
    "                                metric='euclidean',\n",
    "                                n_components=dim).fit(X_val, y=y_val)\n",
    "            embedding_train = mapper.transform(X_train)\n",
    "\n",
    "        labels_hdb = hdbscan.HDBSCAN(\n",
    "            min_samples=10,\n",
    "            min_cluster_size=500,\n",
    "        ).fit_predict(embedding_train)\n",
    "\n",
    "        kmeans = KMeans(n_clusters=5, random_state=3)\n",
    "        kmeans.fit(embedding_train)\n",
    "        labels_kmeans = kmeans.labels_\n",
    "\n",
    "        rand_scores_hdbscan[idy,idx] = adjusted_rand_score(y_train, labels_hdb)\n",
    "        rand_scores_kmeans[idy, idx] = adjusted_rand_score(y_train, labels_kmeans)\n",
    "\n",
    "        all_labels_hdbscan[idy, idx] = labels_hdb\n",
    "        all_labels_kmeans[idy, idx] = labels_kmeans"
   ]
  },
  {
   "cell_type": "code",
   "execution_count": 45,
   "metadata": {},
   "outputs": [
    {
     "data": {
      "text/plain": [
       "array([[array([2, 1, 0, ..., 0, 2, 1], dtype=int64),\n",
       "        array([2, 3, 0, ..., 0, 2, 3], dtype=int64),\n",
       "        array([0, 3, 1, ..., 1, 0, 3], dtype=int64),\n",
       "        array([4, 3, 0, ..., 0, 4, 3], dtype=int64),\n",
       "        array([2, 3, 1, ..., 1, 2, 3], dtype=int64),\n",
       "        array([3, 4, 2, ..., 2, 3, 4], dtype=int64),\n",
       "        array([1, 4, 3, ..., 3, 1, 4], dtype=int64),\n",
       "        array([3, 2, 1, ..., 1, 3, 2], dtype=int64),\n",
       "        array([1, 2, 4, ..., 4, 1, 2], dtype=int64),\n",
       "        array([0, 4, 2, ..., 2, 0, 4], dtype=int64)],\n",
       "       [array([2, 4, 1, ..., 1, 2, 4], dtype=int64),\n",
       "        array([0, 3, 1, ..., 1, 0, 3], dtype=int64),\n",
       "        array([3, 1, 0, ..., 0, 3, 1], dtype=int64),\n",
       "        array([2, 4, 0, ..., 0, 2, 4], dtype=int64),\n",
       "        array([3, 2, 1, ..., 1, 3, 2], dtype=int64),\n",
       "        array([1, 2, 0, ..., 0, 1, 2], dtype=int64),\n",
       "        array([4, 2, 0, ..., 0, 4, 2], dtype=int64),\n",
       "        array([1, 3, 0, ..., 0, 1, 3], dtype=int64),\n",
       "        array([2, 3, 1, ..., 1, 2, 3], dtype=int64),\n",
       "        array([2, 4, 3, ..., 3, 2, 4], dtype=int64)],\n",
       "       [array([2, 3, 0, ..., 0, 2, 3], dtype=int64),\n",
       "        array([4, 2, 1, ..., 1, 4, 2], dtype=int64),\n",
       "        array([2, 3, 0, ..., 0, 2, 3], dtype=int64),\n",
       "        array([2, 3, 1, ..., 1, 2, 3], dtype=int64),\n",
       "        array([2, 3, 1, ..., 1, 2, 3], dtype=int64),\n",
       "        array([2, 4, 0, ..., 0, 2, 4], dtype=int64),\n",
       "        array([0, 3, 1, ..., 1, 0, 3], dtype=int64),\n",
       "        array([3, 2, 0, ..., 0, 3, 2], dtype=int64),\n",
       "        array([2, 4, 1, ..., 1, 2, 4], dtype=int64),\n",
       "        array([3, 4, 2, ..., 2, 3, 4], dtype=int64)],\n",
       "       [array([2, 4, 0, ..., 0, 2, 4], dtype=int64),\n",
       "        array([0, 3, 1, ..., 1, 0, 3], dtype=int64),\n",
       "        array([3, 2, 1, ..., 1, 3, 2], dtype=int64),\n",
       "        array([2, 3, 1, ..., 1, 2, 3], dtype=int64),\n",
       "        array([2, 4, 1, ..., 1, 2, 4], dtype=int64),\n",
       "        array([2, 3, 0, ..., 0, 2, 3], dtype=int64),\n",
       "        array([1, 3, 0, ..., 0, 1, 3], dtype=int64),\n",
       "        array([4, 3, 0, ..., 0, 4, 3], dtype=int64),\n",
       "        array([0, 4, 1, ..., 1, 0, 4], dtype=int64),\n",
       "        array([2, 1, 3, ..., 3, 2, 1], dtype=int64)],\n",
       "       [array([3, 0, 1, ..., 1, 3, 0], dtype=int64),\n",
       "        array([2, 4, 1, ..., 1, 2, 4], dtype=int64),\n",
       "        array([1, 3, 0, ..., 0, 1, 3], dtype=int64),\n",
       "        array([2, 4, 0, ..., 0, 2, 4], dtype=int64),\n",
       "        array([0, 3, 1, ..., 1, 0, 3], dtype=int64),\n",
       "        array([3, 1, 0, ..., 0, 3, 1], dtype=int64),\n",
       "        array([1, 4, 0, ..., 0, 1, 4], dtype=int64),\n",
       "        array([4, 2, 0, ..., 0, 4, 2], dtype=int64),\n",
       "        array([2, 4, 1, ..., 1, 2, 4], dtype=int64),\n",
       "        array([2, 1, 4, ..., 4, 2, 1], dtype=int64)],\n",
       "       [array([2, 4, 0, ..., 0, 2, 4], dtype=int64),\n",
       "        array([2, 3, 0, ..., 0, 2, 3], dtype=int64),\n",
       "        array([2, 4, 0, ..., 0, 2, 4], dtype=int64),\n",
       "        array([2, 4, 1, ..., 1, 2, 4], dtype=int64),\n",
       "        array([2, 4, 1, ..., 1, 2, 4], dtype=int64),\n",
       "        array([2, 4, 0, ..., 0, 2, 4], dtype=int64),\n",
       "        array([1, 4, 0, ..., 0, 1, 4], dtype=int64),\n",
       "        array([3, 2, 0, ..., 0, 3, 2], dtype=int64),\n",
       "        array([2, 3, 1, ..., 1, 2, 3], dtype=int64),\n",
       "        array([2, 1, 3, ..., 3, 2, 1], dtype=int64)],\n",
       "       [array([2, 4, 0, ..., 0, 2, 4], dtype=int64),\n",
       "        array([2, 3, 0, ..., 0, 2, 3], dtype=int64),\n",
       "        array([2, 4, 0, ..., 0, 2, 4], dtype=int64),\n",
       "        array([2, 4, 0, ..., 0, 2, 4], dtype=int64),\n",
       "        array([2, 3, 0, ..., 0, 2, 3], dtype=int64),\n",
       "        array([2, 4, 0, ..., 0, 2, 4], dtype=int64),\n",
       "        array([1, 4, 0, ..., 0, 1, 4], dtype=int64),\n",
       "        array([3, 4, 0, ..., 0, 3, 4], dtype=int64),\n",
       "        array([2, 3, 1, ..., 1, 2, 3], dtype=int64),\n",
       "        array([2, 1, 3, ..., 3, 2, 1], dtype=int64)],\n",
       "       [array([2, 4, 0, ..., 0, 2, 4], dtype=int64),\n",
       "        array([2, 3, 0, ..., 0, 2, 3], dtype=int64),\n",
       "        array([2, 4, 0, ..., 0, 2, 4], dtype=int64),\n",
       "        array([2, 4, 0, ..., 0, 2, 4], dtype=int64),\n",
       "        array([2, 3, 1, ..., 1, 2, 3], dtype=int64),\n",
       "        array([2, 4, 0, ..., 0, 2, 4], dtype=int64),\n",
       "        array([1, 4, 0, ..., 0, 1, 4], dtype=int64),\n",
       "        array([3, 2, 0, ..., 0, 3, 2], dtype=int64),\n",
       "        array([2, 3, 1, ..., 1, 2, 3], dtype=int64),\n",
       "        array([2, 1, 3, ..., 3, 2, 1], dtype=int64)],\n",
       "       [0, 0, 0, 0, 0, 0, 0, 0, 0, 0],\n",
       "       [0, 0, 0, 0, 0, 0, 0, 0, 0, 0]], dtype=object)"
      ]
     },
     "execution_count": 45,
     "metadata": {},
     "output_type": "execute_result"
    }
   ],
   "source": [
    "all_labels_hdbscan"
   ]
  },
  {
   "cell_type": "code",
   "execution_count": 33,
   "metadata": {},
   "outputs": [
    {
     "data": {
      "text/plain": [
       "array([[   0,    0,    0,    0,    0,    0],\n",
       "       [   9,    0,    0,  644,    0,    0],\n",
       "       [  29,    0,    0,    2,   20, 1029],\n",
       "       [   1,  866,    0,    0,    0,    0],\n",
       "       [  34,    1,    1,    0, 1023,    2],\n",
       "       [   9,    1, 1061,    0,    0,    2]], dtype=int64)"
      ]
     },
     "execution_count": 33,
     "metadata": {},
     "output_type": "execute_result"
    }
   ],
   "source": [
    "confusion_matrix(y_train, all_labels_hdbscan[0, 0])"
   ]
  },
  {
   "cell_type": "code",
   "execution_count": 22,
   "metadata": {},
   "outputs": [
    {
     "data": {
      "text/plain": [
       "array([0.97058958, 0.97301281, 0.97317593, 0.97419671, 0.97591529,\n",
       "       0.97694014, 0.98040987, 0.98184232, 0.98832843, 0.        ,\n",
       "       0.        ])"
      ]
     },
     "execution_count": 22,
     "metadata": {},
     "output_type": "execute_result"
    }
   ],
   "source": [
    "rand_scores_kmeans"
   ]
  },
  {
   "cell_type": "markdown",
   "metadata": {},
   "source": [
    "### Component reduction"
   ]
  },
  {
   "cell_type": "code",
   "execution_count": 2,
   "metadata": {},
   "outputs": [],
   "source": [
    "X = np.load('Data/text_data150.npy')\n",
    "y = np.load('Data/labels150.npy')\n",
    "\n",
    "X_train, X_test, y_train, y_test = train_test_split(X, y, test_size=0.2, stratify=y, random_state=3)"
   ]
  },
  {
   "cell_type": "code",
   "execution_count": 7,
   "metadata": {},
   "outputs": [
    {
     "name": "stderr",
     "output_type": "stream",
     "text": [
      "c:\\Users\\maria\\anaconda3\\envs\\FYS-STK3155\\Lib\\site-packages\\umap\\umap_.py:1952: UserWarning: n_jobs value 1 overridden to 1 by setting random_state. Use no seed for parallelism.\n",
      "  warn(\n",
      "c:\\Users\\maria\\anaconda3\\envs\\FYS-STK3155\\Lib\\site-packages\\umap\\umap_.py:1952: UserWarning: n_jobs value 1 overridden to 1 by setting random_state. Use no seed for parallelism.\n",
      "  warn(\n",
      "c:\\Users\\maria\\anaconda3\\envs\\FYS-STK3155\\Lib\\site-packages\\umap\\umap_.py:1952: UserWarning: n_jobs value 1 overridden to 1 by setting random_state. Use no seed for parallelism.\n",
      "  warn(\n",
      "c:\\Users\\maria\\anaconda3\\envs\\FYS-STK3155\\Lib\\site-packages\\umap\\umap_.py:1952: UserWarning: n_jobs value 1 overridden to 1 by setting random_state. Use no seed for parallelism.\n",
      "  warn(\n",
      "c:\\Users\\maria\\anaconda3\\envs\\FYS-STK3155\\Lib\\site-packages\\umap\\umap_.py:1952: UserWarning: n_jobs value 1 overridden to 1 by setting random_state. Use no seed for parallelism.\n",
      "  warn(\n",
      "c:\\Users\\maria\\anaconda3\\envs\\FYS-STK3155\\Lib\\site-packages\\umap\\umap_.py:1952: UserWarning: n_jobs value 1 overridden to 1 by setting random_state. Use no seed for parallelism.\n",
      "  warn(\n",
      "c:\\Users\\maria\\anaconda3\\envs\\FYS-STK3155\\Lib\\site-packages\\umap\\umap_.py:1952: UserWarning: n_jobs value 1 overridden to 1 by setting random_state. Use no seed for parallelism.\n",
      "  warn(\n",
      "c:\\Users\\maria\\anaconda3\\envs\\FYS-STK3155\\Lib\\site-packages\\umap\\umap_.py:1952: UserWarning: n_jobs value 1 overridden to 1 by setting random_state. Use no seed for parallelism.\n",
      "  warn(\n",
      "c:\\Users\\maria\\anaconda3\\envs\\FYS-STK3155\\Lib\\site-packages\\umap\\umap_.py:1952: UserWarning: n_jobs value 1 overridden to 1 by setting random_state. Use no seed for parallelism.\n",
      "  warn(\n",
      "c:\\Users\\maria\\anaconda3\\envs\\FYS-STK3155\\Lib\\site-packages\\umap\\umap_.py:1952: UserWarning: n_jobs value 1 overridden to 1 by setting random_state. Use no seed for parallelism.\n",
      "  warn(\n"
     ]
    }
   ],
   "source": [
    "size_reduction = [2, 4, 8, 16, 32, 64, 128, 256, 512, 1024]\n",
    "rand_scores_hdbscan = np.zeros((10, 2))\n",
    "rand_scores_kmeans = np.zeros((10, 2))\n",
    "\n",
    "for idx, size in enumerate(size_reduction):\n",
    "    mapper = umap.UMAP(n_neighbors=30,\n",
    "                        min_dist=0.0,\n",
    "                        n_components=size,\n",
    "                        random_state=3).fit(X_train)\n",
    "    embedding_train = mapper.transform(X_train)\n",
    "\n",
    "    pca = PCA(n_components=size)\n",
    "    pca_reduced = pca.fit_transform(X_train)\n",
    "\n",
    "    for idy, dim_red in enumerate([embedding_train, pca_reduced]):\n",
    "        labels_hdb = hdbscan.HDBSCAN(\n",
    "            min_samples=10,\n",
    "            min_cluster_size=500,\n",
    "        ).fit_predict(dim_red)\n",
    "\n",
    "        kmeans = KMeans(n_clusters=5, random_state=3)\n",
    "        kmeans.fit(dim_red)\n",
    "        labels_kmeans = kmeans.labels_\n",
    "\n",
    "        rand_scores_hdbscan[idx, idy] = adjusted_rand_score(y_train, labels_hdb)\n",
    "        rand_scores_kmeans[idx, idy] = adjusted_rand_score(y_train, labels_kmeans)"
   ]
  },
  {
   "cell_type": "code",
   "execution_count": 8,
   "metadata": {},
   "outputs": [
    {
     "data": {
      "text/plain": [
       "array([[0.97808185, 0.63946648],\n",
       "       [0.97849662, 0.92851325],\n",
       "       [0.97846158, 0.9441771 ],\n",
       "       [0.9802007 , 0.94995422],\n",
       "       [0.9773438 , 0.95175034],\n",
       "       [0.97732601, 0.95221702],\n",
       "       [0.97846158, 0.95302322],\n",
       "       [0.97963203, 0.95255901],\n",
       "       [0.97847828, 0.95255901],\n",
       "       [0.97906404, 0.95255901]])"
      ]
     },
     "execution_count": 8,
     "metadata": {},
     "output_type": "execute_result"
    }
   ],
   "source": [
    "rand_scores_kmeans"
   ]
  },
  {
   "cell_type": "code",
   "execution_count": 9,
   "metadata": {},
   "outputs": [
    {
     "data": {
      "image/png": "[encoded data removed]",
      "text/plain": [
       "<Figure size 640x480 with 1 Axes>"
      ]
     },
     "metadata": {},
     "output_type": "display_data"
    }
   ],
   "source": [
    "import matplotlib.pyplot as plt\n",
    "plt.scatter(embedding_train[:, 0], embedding_train[:, 1], c=y_train)\n",
    "plt.title(\"UMAP Embedding\")\n",
    "plt.show()"
   ]
  },
  {
   "cell_type": "markdown",
   "metadata": {},
   "source": [
    "### Component reduction Snetences"
   ]
  },
  {
   "cell_type": "code",
   "execution_count": 16,
   "metadata": {},
   "outputs": [],
   "source": [
    "X = np.load('Data/text_data_sentences.npy')\n",
    "y = np.load('Data/labels_sentences.npy')\n",
    "\n",
    "X_train, X_test, y_train, y_test = train_test_split(X, y, test_size=0.2, stratify=y, random_state=3)"
   ]
  },
  {
   "cell_type": "code",
   "execution_count": 11,
   "metadata": {},
   "outputs": [
    {
     "name": "stderr",
     "output_type": "stream",
     "text": [
      "c:\\Users\\maria\\anaconda3\\envs\\FYS-STK3155\\Lib\\site-packages\\umap\\umap_.py:1952: UserWarning: n_jobs value 1 overridden to 1 by setting random_state. Use no seed for parallelism.\n",
      "  warn(\n",
      "c:\\Users\\maria\\anaconda3\\envs\\FYS-STK3155\\Lib\\site-packages\\umap\\umap_.py:1952: UserWarning: n_jobs value 1 overridden to 1 by setting random_state. Use no seed for parallelism.\n",
      "  warn(\n",
      "c:\\Users\\maria\\anaconda3\\envs\\FYS-STK3155\\Lib\\site-packages\\umap\\umap_.py:1952: UserWarning: n_jobs value 1 overridden to 1 by setting random_state. Use no seed for parallelism.\n",
      "  warn(\n",
      "c:\\Users\\maria\\anaconda3\\envs\\FYS-STK3155\\Lib\\site-packages\\umap\\umap_.py:1952: UserWarning: n_jobs value 1 overridden to 1 by setting random_state. Use no seed for parallelism.\n",
      "  warn(\n",
      "c:\\Users\\maria\\anaconda3\\envs\\FYS-STK3155\\Lib\\site-packages\\umap\\umap_.py:1952: UserWarning: n_jobs value 1 overridden to 1 by setting random_state. Use no seed for parallelism.\n",
      "  warn(\n",
      "c:\\Users\\maria\\anaconda3\\envs\\FYS-STK3155\\Lib\\site-packages\\umap\\umap_.py:1952: UserWarning: n_jobs value 1 overridden to 1 by setting random_state. Use no seed for parallelism.\n",
      "  warn(\n",
      "c:\\Users\\maria\\anaconda3\\envs\\FYS-STK3155\\Lib\\site-packages\\umap\\umap_.py:1952: UserWarning: n_jobs value 1 overridden to 1 by setting random_state. Use no seed for parallelism.\n",
      "  warn(\n",
      "c:\\Users\\maria\\anaconda3\\envs\\FYS-STK3155\\Lib\\site-packages\\umap\\umap_.py:1952: UserWarning: n_jobs value 1 overridden to 1 by setting random_state. Use no seed for parallelism.\n",
      "  warn(\n",
      "c:\\Users\\maria\\anaconda3\\envs\\FYS-STK3155\\Lib\\site-packages\\umap\\umap_.py:1952: UserWarning: n_jobs value 1 overridden to 1 by setting random_state. Use no seed for parallelism.\n",
      "  warn(\n",
      "c:\\Users\\maria\\anaconda3\\envs\\FYS-STK3155\\Lib\\site-packages\\umap\\umap_.py:1952: UserWarning: n_jobs value 1 overridden to 1 by setting random_state. Use no seed for parallelism.\n",
      "  warn(\n"
     ]
    }
   ],
   "source": [
    "size_reduction = [2, 4, 8, 16, 32, 64, 128, 256, 512, 1024]\n",
    "rand_scores_hdbscan = np.zeros((10, 2))\n",
    "rand_scores_kmeans = np.zeros((10, 2))\n",
    "\n",
    "for idx, size in enumerate(size_reduction):\n",
    "    mapper = umap.UMAP(n_neighbors=30,\n",
    "                        min_dist=0.0,\n",
    "                        n_components=size,\n",
    "                        random_state=3).fit(X_train)\n",
    "    embedding_train = mapper.transform(X_train)\n",
    "\n",
    "    pca = PCA(n_components=size)\n",
    "    pca_reduced = pca.fit_transform(X_train)\n",
    "\n",
    "    for idy, dim_red in enumerate([embedding_train, pca_reduced]):\n",
    "        labels_hdb = hdbscan.HDBSCAN(\n",
    "            min_samples=10,\n",
    "            min_cluster_size=500,\n",
    "        ).fit_predict(dim_red)\n",
    "\n",
    "        kmeans = KMeans(n_clusters=5, random_state=3)\n",
    "        kmeans.fit(dim_red)\n",
    "        labels_kmeans = kmeans.labels_\n",
    "\n",
    "        rand_scores_hdbscan[idx, idy] = adjusted_rand_score(y_train, labels_hdb)\n",
    "        rand_scores_kmeans[idx, idy] = adjusted_rand_score(y_train, labels_kmeans)"
   ]
  },
  {
   "cell_type": "code",
   "execution_count": 13,
   "metadata": {},
   "outputs": [
    {
     "data": {
      "text/plain": [
       "array([[0.73068498, 0.45973438],\n",
       "       [0.73307141, 0.58215041],\n",
       "       [0.72853385, 0.5642931 ],\n",
       "       [0.73049169, 0.56587364],\n",
       "       [0.7296958 , 0.56177019],\n",
       "       [0.73264304, 0.55990323],\n",
       "       [0.72869972, 0.55849828],\n",
       "       [0.73132112, 0.55941463],\n",
       "       [0.73076477, 0.55964053],\n",
       "       [0.73042748, 0.56041615]])"
      ]
     },
     "execution_count": 13,
     "metadata": {},
     "output_type": "execute_result"
    }
   ],
   "source": [
    "rand_scores_kmeans"
   ]
  },
  {
   "cell_type": "code",
   "execution_count": 12,
   "metadata": {},
   "outputs": [
    {
     "data": {
      "text/plain": [
       "array([[0.43352324, 0.19526165],\n",
       "       [0.43400785, 0.2009893 ],\n",
       "       [0.43384648, 0.19793532],\n",
       "       [0.43373761, 0.20618447],\n",
       "       [0.43394928, 0.20322818],\n",
       "       [0.43400641, 0.17690155],\n",
       "       [0.43232947, 0.14633049],\n",
       "       [0.4341643 , 0.18040815],\n",
       "       [0.43305251, 0.12016146],\n",
       "       [0.43371736, 0.12023362]])"
      ]
     },
     "execution_count": 12,
     "metadata": {},
     "output_type": "execute_result"
    }
   ],
   "source": [
    "rand_scores_hdbscan"
   ]
  },
  {
   "cell_type": "code",
   "execution_count": 17,
   "metadata": {},
   "outputs": [],
   "source": [
    "X_train_init = X_train\n",
    "y_train_init = y_train"
   ]
  },
  {
   "cell_type": "code",
   "execution_count": 19,
   "metadata": {},
   "outputs": [
    {
     "data": {
      "text/plain": [
       "array([ 1,  2,  3,  4,  5,  6,  7,  8,  9, 10])"
      ]
     },
     "execution_count": 19,
     "metadata": {},
     "output_type": "execute_result"
    }
   ],
   "source": [
    "sizes = np.arange(1, 11)\n",
    "sizes"
   ]
  },
  {
   "cell_type": "code",
   "execution_count": 20,
   "metadata": {},
   "outputs": [
    {
     "name": "stderr",
     "output_type": "stream",
     "text": [
      "c:\\Users\\maria\\anaconda3\\envs\\FYS-STK3155\\Lib\\site-packages\\umap\\umap_.py:1952: UserWarning: n_jobs value 1 overridden to 1 by setting random_state. Use no seed for parallelism.\n",
      "  warn(\n",
      "c:\\Users\\maria\\anaconda3\\envs\\FYS-STK3155\\Lib\\site-packages\\umap\\umap_.py:1952: UserWarning: n_jobs value 1 overridden to 1 by setting random_state. Use no seed for parallelism.\n",
      "  warn(\n",
      "c:\\Users\\maria\\anaconda3\\envs\\FYS-STK3155\\Lib\\site-packages\\umap\\umap_.py:1952: UserWarning: n_jobs value 1 overridden to 1 by setting random_state. Use no seed for parallelism.\n",
      "  warn(\n",
      "c:\\Users\\maria\\anaconda3\\envs\\FYS-STK3155\\Lib\\site-packages\\umap\\umap_.py:1952: UserWarning: n_jobs value 1 overridden to 1 by setting random_state. Use no seed for parallelism.\n",
      "  warn(\n",
      "c:\\Users\\maria\\anaconda3\\envs\\FYS-STK3155\\Lib\\site-packages\\umap\\umap_.py:1952: UserWarning: n_jobs value 1 overridden to 1 by setting random_state. Use no seed for parallelism.\n",
      "  warn(\n",
      "c:\\Users\\maria\\anaconda3\\envs\\FYS-STK3155\\Lib\\site-packages\\umap\\umap_.py:1952: UserWarning: n_jobs value 1 overridden to 1 by setting random_state. Use no seed for parallelism.\n",
      "  warn(\n",
      "c:\\Users\\maria\\anaconda3\\envs\\FYS-STK3155\\Lib\\site-packages\\umap\\umap_.py:1952: UserWarning: n_jobs value 1 overridden to 1 by setting random_state. Use no seed for parallelism.\n",
      "  warn(\n",
      "c:\\Users\\maria\\anaconda3\\envs\\FYS-STK3155\\Lib\\site-packages\\umap\\umap_.py:1952: UserWarning: n_jobs value 1 overridden to 1 by setting random_state. Use no seed for parallelism.\n",
      "  warn(\n",
      "c:\\Users\\maria\\anaconda3\\envs\\FYS-STK3155\\Lib\\site-packages\\umap\\umap_.py:1952: UserWarning: n_jobs value 1 overridden to 1 by setting random_state. Use no seed for parallelism.\n",
      "  warn(\n",
      "c:\\Users\\maria\\anaconda3\\envs\\FYS-STK3155\\Lib\\site-packages\\sklearn\\cluster\\_kmeans.py:1429: UserWarning: KMeans is known to have a memory leak on Windows with MKL, when there are less chunks than available threads. You can avoid it by setting the environment variable OMP_NUM_THREADS=4.\n",
      "  warnings.warn(\n"
     ]
    }
   ],
   "source": [
    "sizes = np.arange(1, 10)\n",
    "rand_scores_hdbscan = np.zeros(9)\n",
    "rand_scores_kmeans = np.zeros(9)\n",
    "\n",
    "for idx, size in enumerate(sizes):\n",
    "    X_train, X_val, y_train, y_val = train_test_split(X_train_init, y_train_init, test_size=size/10, stratify=y_train_init, random_state=3)\n",
    "\n",
    "    mapper = umap.UMAP(n_neighbors=30,\n",
    "                        min_dist=0.0,\n",
    "                        n_components=256,\n",
    "                        random_state=3).fit(X_val, y=y_val)\n",
    "    embedding_train = mapper.transform(X_train)\n",
    "\n",
    "    labels_hdb = hdbscan.HDBSCAN(\n",
    "        min_samples=10,\n",
    "        min_cluster_size=500,\n",
    "    ).fit_predict(embedding_train)\n",
    "\n",
    "    kmeans = KMeans(n_clusters=5, random_state=3)\n",
    "    kmeans.fit(embedding_train)\n",
    "    labels_kmeans = kmeans.labels_\n",
    "\n",
    "    rand_scores_hdbscan[idx] = adjusted_rand_score(y_train, labels_hdb)\n",
    "    rand_scores_kmeans[idx] = adjusted_rand_score(y_train, labels_kmeans)"
   ]
  },
  {
   "cell_type": "code",
   "execution_count": 21,
   "metadata": {},
   "outputs": [
    {
     "data": {
      "text/plain": [
       "array([0.62677845, 0.68586126, 0.68647737, 0.71793824, 0.71785488,\n",
       "       0.65880033, 0.44606114, 0.        , 0.        ])"
      ]
     },
     "execution_count": 21,
     "metadata": {},
     "output_type": "execute_result"
    }
   ],
   "source": [
    "rand_scores_hdbscan"
   ]
  },
  {
   "cell_type": "code",
   "execution_count": 22,
   "metadata": {},
   "outputs": [
    {
     "data": {
      "text/plain": [
       "array([0.68117271, 0.72757966, 0.77684112, 0.78922113, 0.74113828,\n",
       "       0.70430439, 0.7150721 , 0.69123363, 0.78145788])"
      ]
     },
     "execution_count": 22,
     "metadata": {},
     "output_type": "execute_result"
    }
   ],
   "source": [
    "rand_scores_kmeans"
   ]
  }
 ],
 "metadata": {
  "kernelspec": {
   "display_name": "FYS-STK3155",
   "language": "python",
   "name": "python3"
  },
  "language_info": {
   "codemirror_mode": {
    "name": "ipython",
    "version": 3
   },
   "file_extension": ".py",
   "mimetype": "text/x-python",
   "name": "python",
   "nbconvert_exporter": "python",
   "pygments_lexer": "ipython3",
   "version": "3.12.3"
  }
 },
 "nbformat": 4,
 "nbformat_minor": 2
}
